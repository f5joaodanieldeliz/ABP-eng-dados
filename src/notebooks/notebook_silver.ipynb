{
 "cells": [
  {
   "cell_type": "markdown",
   "metadata": {
    "application/vnd.databricks.v1+cell": {
     "cellMetadata": {
      "byteLimit": 2048000,
      "rowLimit": 10000
     },
     "inputWidgets": {},
     "nuid": "bb012007-ab33-41c9-96fe-0d8d29fce69d",
     "showTitle": false,
     "tableResultSettingsMap": {},
     "title": ""
    }
   },
   "source": [
    "##Validando a SparkSession"
   ]
  },
  {
   "cell_type": "code",
   "execution_count": 0,
   "metadata": {
    "application/vnd.databricks.v1+cell": {
     "cellMetadata": {
      "byteLimit": 2048000,
      "rowLimit": 10000
     },
     "inputWidgets": {},
     "nuid": "9f47e85e-40ed-4af3-8f0a-62d799379710",
     "showTitle": false,
     "tableResultSettingsMap": {},
     "title": ""
    }
   },
   "outputs": [],
   "source": [
    "spark"
   ]
  },
  {
   "cell_type": "markdown",
   "metadata": {
    "application/vnd.databricks.v1+cell": {
     "cellMetadata": {
      "byteLimit": 2048000,
      "rowLimit": 10000
     },
     "inputWidgets": {},
     "nuid": "2b235b0d-5e6d-41fd-b9ed-fc9a2367efa6",
     "showTitle": false,
     "tableResultSettingsMap": {},
     "title": ""
    }
   },
   "source": [
    "##Conectando Azure ADLS Gen2 no Databricks"
   ]
  },
  {
   "cell_type": "markdown",
   "metadata": {
    "application/vnd.databricks.v1+cell": {
     "cellMetadata": {
      "byteLimit": 2048000,
      "rowLimit": 10000
     },
     "inputWidgets": {},
     "nuid": "61839b6f-63e3-4a67-ab56-3e2678ebe19c",
     "showTitle": false,
     "tableResultSettingsMap": {},
     "title": ""
    }
   },
   "source": [
    "###Mostrando os pontos de montagem no cluster Databricks"
   ]
  },
  {
   "cell_type": "code",
   "execution_count": 0,
   "metadata": {
    "application/vnd.databricks.v1+cell": {
     "cellMetadata": {
      "byteLimit": 2048000,
      "rowLimit": 10000
     },
     "inputWidgets": {},
     "nuid": "996be72e-0fb9-4953-bc2c-7b1b605cdf8e",
     "showTitle": false,
     "tableResultSettingsMap": {},
     "title": ""
    }
   },
   "outputs": [],
   "source": [
    "display(dbutils.fs.mounts())"
   ]
  },
  {
   "cell_type": "markdown",
   "metadata": {
    "application/vnd.databricks.v1+cell": {
     "cellMetadata": {
      "byteLimit": 2048000,
      "rowLimit": 10000
     },
     "inputWidgets": {},
     "nuid": "c5da882a-1966-4a71-bb6f-58863fa2e301",
     "showTitle": false,
     "tableResultSettingsMap": {},
     "title": ""
    }
   },
   "source": [
    "###Desmontando os pontos de montagem não utilizados"
   ]
  },
  {
   "cell_type": "code",
   "execution_count": 0,
   "metadata": {
    "application/vnd.databricks.v1+cell": {
     "cellMetadata": {
      "byteLimit": 2048000,
      "rowLimit": 10000
     },
     "inputWidgets": {},
     "nuid": "c2bea950-5918-46f5-a6a1-b0bcb0dfd338",
     "showTitle": false,
     "tableResultSettingsMap": {},
     "title": ""
    }
   },
   "outputs": [],
   "source": [
    "#dbutils.fs.unmount('/mnt/datalake6f2d8d16eba38233/bronze')\n",
    "#dbutils.fs.unmount('/mnt/datalakefc6082cb60bef06c/bronze')"
   ]
  },
  {
   "cell_type": "markdown",
   "metadata": {
    "application/vnd.databricks.v1+cell": {
     "cellMetadata": {
      "byteLimit": 2048000,
      "rowLimit": 10000
     },
     "inputWidgets": {},
     "nuid": "1e233d75-fd2d-442a-a085-bb59f3edf995",
     "showTitle": false,
     "tableResultSettingsMap": {},
     "title": ""
    }
   },
   "source": [
    "### Definindo uma função para montar um ADLS com um ponto de montagem com ADLS SAS "
   ]
  },
  {
   "cell_type": "code",
   "execution_count": 0,
   "metadata": {
    "application/vnd.databricks.v1+cell": {
     "cellMetadata": {
      "byteLimit": 2048000,
      "rowLimit": 10000
     },
     "inputWidgets": {},
     "nuid": "058a3cc4-370c-4abf-8c60-39a7f3f302d1",
     "showTitle": false,
     "tableResultSettingsMap": {},
     "title": ""
    }
   },
   "outputs": [],
   "source": [
    "storageAccountName = \"\"\n",
    "storageAccountAccessKey = \"\"\n",
    "sasToken= \"\"\n",
    "\n",
    "def mount_adls(blobContainerName):\n",
    "    try:\n",
    "      dbutils.fs.mount(\n",
    "        source = \"wasbs://{}@{}.blob.core.windows.net\".format(blobContainerName, storageAccountName),\n",
    "        mount_point = f\"/mnt/{storageAccountName}/{blobContainerName}\",\n",
    "        #extra_configs = {'fs.azure.account.key.' + storageAccountName + '.blob.core.windows.net': storageAccountAccessKey}\n",
    "        extra_configs = {'fs.azure.sas.' + blobContainerName + '.' + storageAccountName + '.blob.core.windows.net': sasToken}\n",
    "      )\n",
    "      print(\"OK!\")\n",
    "    except Exception as e:\n",
    "      print(\"Falha\", e)"
   ]
  },
  {
   "cell_type": "markdown",
   "metadata": {
    "application/vnd.databricks.v1+cell": {
     "cellMetadata": {
      "byteLimit": 2048000,
      "rowLimit": 10000
     },
     "inputWidgets": {},
     "nuid": "40a6dfa7-fb55-46c5-a3a8-44e9bee8f390",
     "showTitle": false,
     "tableResultSettingsMap": {},
     "title": ""
    }
   },
   "source": [
    "###Montando todos os containers"
   ]
  },
  {
   "cell_type": "code",
   "execution_count": 0,
   "metadata": {
    "application/vnd.databricks.v1+cell": {
     "cellMetadata": {
      "byteLimit": 2048000,
      "rowLimit": 10000
     },
     "inputWidgets": {},
     "nuid": "8d62fdfc-2dc8-4465-98fd-834ac8ae9404",
     "showTitle": false,
     "tableResultSettingsMap": {},
     "title": ""
    }
   },
   "outputs": [
    {
     "name": "stdout",
     "output_type": "stream",
     "text": [
      "OK!\n",
      "OK!\n",
      "OK!\n",
      "OK!\n"
     ]
    }
   ],
   "source": [
    "mount_adls('landing-zone')\n",
    "mount_adls('bronze')\n",
    "mount_adls('silver')\n",
    "mount_adls('gold')"
   ]
  },
  {
   "cell_type": "markdown",
   "metadata": {
    "application/vnd.databricks.v1+cell": {
     "cellMetadata": {
      "byteLimit": 2048000,
      "rowLimit": 10000
     },
     "inputWidgets": {},
     "nuid": "fced822b-8bab-437b-8a58-add8a4acd24a",
     "showTitle": false,
     "tableResultSettingsMap": {},
     "title": ""
    }
   },
   "source": [
    "###Mostrando os pontos de montagem no cluster Databricks"
   ]
  },
  {
   "cell_type": "code",
   "execution_count": 0,
   "metadata": {
    "application/vnd.databricks.v1+cell": {
     "cellMetadata": {
      "byteLimit": 2048000,
      "rowLimit": 10000
     },
     "inputWidgets": {},
     "nuid": "d53984ff-8536-4a33-9e43-acfe34489ab1",
     "showTitle": false,
     "tableResultSettingsMap": {},
     "title": ""
    }
   },
   "outputs": [
    {
     "data": {
      "text/html": [
       "<style scoped>\n",
       "  .table-result-container {\n",
       "    max-height: 300px;\n",
       "    overflow: auto;\n",
       "  }\n",
       "  table, th, td {\n",
       "    border: 1px solid black;\n",
       "    border-collapse: collapse;\n",
       "  }\n",
       "  th, td {\n",
       "    padding: 5px;\n",
       "  }\n",
       "  th {\n",
       "    text-align: left;\n",
       "  }\n",
       "</style><div class='table-result-container'><table class='table-result'><thead style='background-color: white'><tr><th>mountPoint</th><th>source</th><th>encryptionType</th></tr></thead><tbody><tr><td>/mnt/datalake4d021b08c5cc1ca4/bronze</td><td>wasbs://bronze@datalake4d021b08c5cc1ca4.blob.core.windows.net</td><td></td></tr><tr><td>/mnt/datalakec47b4098c7f22fbc/landing-zone</td><td>wasbs://landing-zone@datalakec47b4098c7f22fbc.blob.core.windows.net</td><td></td></tr><tr><td>/databricks-datasets</td><td>databricks-datasets</td><td></td></tr><tr><td>/databricks/mlflow-tracking</td><td>databricks/mlflow-tracking</td><td>sse-s3</td></tr><tr><td>/mnt/datalakef96a297a49066c08/silver</td><td>wasbs://silver@datalakef96a297a49066c08.blob.core.windows.net</td><td></td></tr><tr><td>/databricks-results</td><td>databricks-results</td><td>sse-s3</td></tr><tr><td>/mnt/datalakef96a297a49066c08/landing-zone</td><td>wasbs://landing-zone@datalakef96a297a49066c08.blob.core.windows.net</td><td></td></tr><tr><td>/mnt/datalakeb1f95aa108e33317/silver</td><td>wasbs://silver@datalakeb1f95aa108e33317.blob.core.windows.net</td><td></td></tr><tr><td>/mnt/datalakeb1f95aa108e33317/bronze</td><td>wasbs://bronze@datalakeb1f95aa108e33317.blob.core.windows.net</td><td></td></tr><tr><td>/mnt/datalake4d021b08c5cc1ca4/lading-zone</td><td>wasbs://lading-zone@datalake4d021b08c5cc1ca4.blob.core.windows.net</td><td></td></tr><tr><td>/mnt/datalake4d021b08c5cc1ca4/landing-zone</td><td>wasbs://landing-zone@datalake4d021b08c5cc1ca4.blob.core.windows.net</td><td></td></tr><tr><td>/mnt/datalakef96a297a49066c08/bronze</td><td>wasbs://bronze@datalakef96a297a49066c08.blob.core.windows.net</td><td></td></tr><tr><td>/mnt/datalakec47b4098c7f22fbc/bronze</td><td>wasbs://bronze@datalakec47b4098c7f22fbc.blob.core.windows.net</td><td></td></tr><tr><td>/databricks/mlflow-registry</td><td>databricks/mlflow-registry</td><td>sse-s3</td></tr><tr><td>/mnt/datalakeb1f95aa108e33317/gold</td><td>wasbs://gold@datalakeb1f95aa108e33317.blob.core.windows.net</td><td></td></tr><tr><td>/mnt/datalake4d021b08c5cc1ca4/gold</td><td>wasbs://gold@datalake4d021b08c5cc1ca4.blob.core.windows.net</td><td></td></tr><tr><td>/mnt/datalakeb1f95aa108e33317/landing-zone</td><td>wasbs://landing-zone@datalakeb1f95aa108e33317.blob.core.windows.net</td><td></td></tr><tr><td>/mnt/datalake64a7502f5a510cf5/landing-zone</td><td>wasbs://landing-zone@datalake64a7502f5a510cf5.blob.core.windows.net</td><td></td></tr><tr><td>/mnt/datalakef96a297a49066c08/gold</td><td>wasbs://gold@datalakef96a297a49066c08.blob.core.windows.net</td><td></td></tr><tr><td>/mnt/datalakec47b4098c7f22fbc/silver</td><td>wasbs://silver@datalakec47b4098c7f22fbc.blob.core.windows.net</td><td></td></tr><tr><td>/mnt/datalakec47b4098c7f22fbc/gold</td><td>wasbs://gold@datalakec47b4098c7f22fbc.blob.core.windows.net</td><td></td></tr><tr><td>/mnt/datalake4d021b08c5cc1ca4/silver</td><td>wasbs://silver@datalake4d021b08c5cc1ca4.blob.core.windows.net</td><td></td></tr><tr><td>/</td><td>DatabricksRoot</td><td>sse-s3</td></tr><tr><td>/mnt/datalakeb1f95aa108e33317/lading-zone</td><td>wasbs://lading-zone@datalakeb1f95aa108e33317.blob.core.windows.net</td><td></td></tr><tr><td>/mnt/datalake64a7502f5a510cf5/bronze</td><td>wasbs://bronze@datalake64a7502f5a510cf5.blob.core.windows.net</td><td></td></tr></tbody></table></div>"
      ]
     },
     "metadata": {
      "application/vnd.databricks.v1+output": {
       "addedWidgets": {},
       "aggData": [],
       "aggError": "",
       "aggOverflow": false,
       "aggSchema": [],
       "aggSeriesLimitReached": false,
       "aggType": "",
       "arguments": {},
       "columnCustomDisplayInfos": {},
       "data": [
        [
         "/mnt/datalake4d021b08c5cc1ca4/bronze",
         "wasbs://bronze@datalake4d021b08c5cc1ca4.blob.core.windows.net",
         ""
        ],
        [
         "/mnt/datalakec47b4098c7f22fbc/landing-zone",
         "wasbs://landing-zone@datalakec47b4098c7f22fbc.blob.core.windows.net",
         ""
        ],
        [
         "/databricks-datasets",
         "databricks-datasets",
         ""
        ],
        [
         "/databricks/mlflow-tracking",
         "databricks/mlflow-tracking",
         "sse-s3"
        ],
        [
         "/mnt/datalakef96a297a49066c08/silver",
         "wasbs://silver@datalakef96a297a49066c08.blob.core.windows.net",
         ""
        ],
        [
         "/databricks-results",
         "databricks-results",
         "sse-s3"
        ],
        [
         "/mnt/datalakef96a297a49066c08/landing-zone",
         "wasbs://landing-zone@datalakef96a297a49066c08.blob.core.windows.net",
         ""
        ],
        [
         "/mnt/datalakeb1f95aa108e33317/silver",
         "wasbs://silver@datalakeb1f95aa108e33317.blob.core.windows.net",
         ""
        ],
        [
         "/mnt/datalakeb1f95aa108e33317/bronze",
         "wasbs://bronze@datalakeb1f95aa108e33317.blob.core.windows.net",
         ""
        ],
        [
         "/mnt/datalake4d021b08c5cc1ca4/lading-zone",
         "wasbs://lading-zone@datalake4d021b08c5cc1ca4.blob.core.windows.net",
         ""
        ],
        [
         "/mnt/datalake4d021b08c5cc1ca4/landing-zone",
         "wasbs://landing-zone@datalake4d021b08c5cc1ca4.blob.core.windows.net",
         ""
        ],
        [
         "/mnt/datalakef96a297a49066c08/bronze",
         "wasbs://bronze@datalakef96a297a49066c08.blob.core.windows.net",
         ""
        ],
        [
         "/mnt/datalakec47b4098c7f22fbc/bronze",
         "wasbs://bronze@datalakec47b4098c7f22fbc.blob.core.windows.net",
         ""
        ],
        [
         "/databricks/mlflow-registry",
         "databricks/mlflow-registry",
         "sse-s3"
        ],
        [
         "/mnt/datalakeb1f95aa108e33317/gold",
         "wasbs://gold@datalakeb1f95aa108e33317.blob.core.windows.net",
         ""
        ],
        [
         "/mnt/datalake4d021b08c5cc1ca4/gold",
         "wasbs://gold@datalake4d021b08c5cc1ca4.blob.core.windows.net",
         ""
        ],
        [
         "/mnt/datalakeb1f95aa108e33317/landing-zone",
         "wasbs://landing-zone@datalakeb1f95aa108e33317.blob.core.windows.net",
         ""
        ],
        [
         "/mnt/datalake64a7502f5a510cf5/landing-zone",
         "wasbs://landing-zone@datalake64a7502f5a510cf5.blob.core.windows.net",
         ""
        ],
        [
         "/mnt/datalakef96a297a49066c08/gold",
         "wasbs://gold@datalakef96a297a49066c08.blob.core.windows.net",
         ""
        ],
        [
         "/mnt/datalakec47b4098c7f22fbc/silver",
         "wasbs://silver@datalakec47b4098c7f22fbc.blob.core.windows.net",
         ""
        ],
        [
         "/mnt/datalakec47b4098c7f22fbc/gold",
         "wasbs://gold@datalakec47b4098c7f22fbc.blob.core.windows.net",
         ""
        ],
        [
         "/mnt/datalake4d021b08c5cc1ca4/silver",
         "wasbs://silver@datalake4d021b08c5cc1ca4.blob.core.windows.net",
         ""
        ],
        [
         "/",
         "DatabricksRoot",
         "sse-s3"
        ],
        [
         "/mnt/datalakeb1f95aa108e33317/lading-zone",
         "wasbs://lading-zone@datalakeb1f95aa108e33317.blob.core.windows.net",
         ""
        ],
        [
         "/mnt/datalake64a7502f5a510cf5/bronze",
         "wasbs://bronze@datalake64a7502f5a510cf5.blob.core.windows.net",
         ""
        ]
       ],
       "datasetInfos": [],
       "dbfsResultPath": null,
       "isJsonSchema": true,
       "metadata": {},
       "overflow": false,
       "plotOptions": {
        "customPlotOptions": {},
        "displayType": "table",
        "pivotAggregation": null,
        "pivotColumns": null,
        "xColumns": null,
        "yColumns": null
       },
       "removedWidgets": [],
       "schema": [
        {
         "metadata": "{}",
         "name": "mountPoint",
         "type": "\"string\""
        },
        {
         "metadata": "{}",
         "name": "source",
         "type": "\"string\""
        },
        {
         "metadata": "{}",
         "name": "encryptionType",
         "type": "\"string\""
        }
       ],
       "type": "table"
      }
     },
     "output_type": "display_data"
    }
   ],
   "source": [
    "display(dbutils.fs.mounts())"
   ]
  },
  {
   "cell_type": "markdown",
   "metadata": {
    "application/vnd.databricks.v1+cell": {
     "cellMetadata": {
      "byteLimit": 2048000,
      "rowLimit": 10000
     },
     "inputWidgets": {},
     "nuid": "1f6ec630-db65-41cb-9fdf-a941cfafe400",
     "showTitle": false,
     "tableResultSettingsMap": {},
     "title": ""
    }
   },
   "source": [
    "### Mostrando todos os arquivos da camada bronze"
   ]
  },
  {
   "cell_type": "code",
   "execution_count": 0,
   "metadata": {
    "application/vnd.databricks.v1+cell": {
     "cellMetadata": {
      "byteLimit": 2048000,
      "rowLimit": 10000
     },
     "inputWidgets": {},
     "nuid": "295f6535-5ab1-43af-a1d3-fadec36b766b",
     "showTitle": false,
     "tableResultSettingsMap": {},
     "title": ""
    }
   },
   "outputs": [
    {
     "data": {
      "text/html": [
       "<style scoped>\n",
       "  .table-result-container {\n",
       "    max-height: 300px;\n",
       "    overflow: auto;\n",
       "  }\n",
       "  table, th, td {\n",
       "    border: 1px solid black;\n",
       "    border-collapse: collapse;\n",
       "  }\n",
       "  th, td {\n",
       "    padding: 5px;\n",
       "  }\n",
       "  th {\n",
       "    text-align: left;\n",
       "  }\n",
       "</style><div class='table-result-container'><table class='table-result'><thead style='background-color: white'><tr><th>path</th><th>name</th><th>size</th><th>modificationTime</th></tr></thead><tbody><tr><td>dbfs:/mnt/datalakec47b4098c7f22fbc/bronze/ecommerce/</td><td>ecommerce/</td><td>0</td><td>0</td></tr></tbody></table></div>"
      ]
     },
     "metadata": {
      "application/vnd.databricks.v1+output": {
       "addedWidgets": {},
       "aggData": [],
       "aggError": "",
       "aggOverflow": false,
       "aggSchema": [],
       "aggSeriesLimitReached": false,
       "aggType": "",
       "arguments": {},
       "columnCustomDisplayInfos": {},
       "data": [
        [
         "dbfs:/mnt/datalakec47b4098c7f22fbc/bronze/ecommerce/",
         "ecommerce/",
         0,
         0
        ]
       ],
       "datasetInfos": [],
       "dbfsResultPath": null,
       "isJsonSchema": true,
       "metadata": {},
       "overflow": false,
       "plotOptions": {
        "customPlotOptions": {},
        "displayType": "table",
        "pivotAggregation": null,
        "pivotColumns": null,
        "xColumns": null,
        "yColumns": null
       },
       "removedWidgets": [],
       "schema": [
        {
         "metadata": "{}",
         "name": "path",
         "type": "\"string\""
        },
        {
         "metadata": "{}",
         "name": "name",
         "type": "\"string\""
        },
        {
         "metadata": "{}",
         "name": "size",
         "type": "\"long\""
        },
        {
         "metadata": "{}",
         "name": "modificationTime",
         "type": "\"long\""
        }
       ],
       "type": "table"
      }
     },
     "output_type": "display_data"
    }
   ],
   "source": [
    "display(dbutils.fs.ls(f\"/mnt/{storageAccountName}/bronze\"))"
   ]
  },
  {
   "cell_type": "markdown",
   "metadata": {
    "application/vnd.databricks.v1+cell": {
     "cellMetadata": {
      "byteLimit": 2048000,
      "rowLimit": 10000
     },
     "inputWidgets": {},
     "nuid": "1ef3c883-3b0f-44cb-8917-49f1f1fd3819",
     "showTitle": false,
     "tableResultSettingsMap": {},
     "title": ""
    }
   },
   "source": [
    "###Gerando um dataframe dos delta lake no container bronze do Azure Data Lake Storage"
   ]
  },
  {
   "cell_type": "code",
   "execution_count": 0,
   "metadata": {
    "application/vnd.databricks.v1+cell": {
     "cellMetadata": {
      "byteLimit": 2048000,
      "rowLimit": 10000
     },
     "inputWidgets": {},
     "nuid": "37774595-e2cd-4ba0-92aa-4a6f239c0e7b",
     "showTitle": false,
     "tableResultSettingsMap": {},
     "title": ""
    }
   },
   "outputs": [],
   "source": [
    "df_avaliacoes          = spark.read.format('delta').load(f\"/mnt/{storageAccountName}/bronze/ecommerce/avaliacoes\")\n",
    "df_categorias          = spark.read.format('delta').load(f\"/mnt/{storageAccountName}/bronze/ecommerce/categorias\")\n",
    "df_clientes            = spark.read.format('delta').load(f\"/mnt/{storageAccountName}/bronze/ecommerce/clientes\")\n",
    "df_enderecos_cliente  = spark.read.format('delta').load(f\"/mnt/{storageAccountName}/bronze/ecommerce/enderecos_cliente\")\n",
    "df_entregas            = spark.read.format('delta').load(f\"/mnt/{storageAccountName}/bronze/ecommerce/entregas\")\n",
    "df_estoque             = spark.read.format('delta').load(f\"/mnt/{storageAccountName}/bronze/ecommerce/estoque\")\n",
    "df_formas_pagamento    = spark.read.format('delta').load(f\"/mnt/{storageAccountName}/bronze/ecommerce/formas_pagamento\")\n",
    "df_itens_pedidos       = spark.read.format('delta').load(f\"/mnt/{storageAccountName}/bronze/ecommerce/itens_pedido\")\n",
    "df_pagamentos          = spark.read.format('delta').load(f\"/mnt/{storageAccountName}/bronze/ecommerce/pagamentos\")\n",
    "df_pedidos             = spark.read.format('delta').load(f\"/mnt/{storageAccountName}/bronze/ecommerce/pedidos\")\n",
    "df_produtos            = spark.read.format('delta').load(f\"/mnt/{storageAccountName}/bronze/ecommerce/produtos\")\n",
    "df_transportadoras     = spark.read.format('delta').load(f\"/mnt/{storageAccountName}/bronze/ecommerce/transportadoras\")\n",
    "df_vendedores          = spark.read.format('delta').load(f\"/mnt/{storageAccountName}/bronze/ecommerce/vendedores\")"
   ]
  },
  {
   "cell_type": "markdown",
   "metadata": {
    "application/vnd.databricks.v1+cell": {
     "cellMetadata": {
      "byteLimit": 2048000,
      "rowLimit": 10000
     },
     "inputWidgets": {},
     "nuid": "e4ffc23f-8add-4747-b572-b470a7e5eb8f",
     "showTitle": false,
     "tableResultSettingsMap": {},
     "title": ""
    }
   },
   "source": [
    "### Adicionando metadados de data e hora de processamento e nome do arquivo de origem"
   ]
  },
  {
   "cell_type": "code",
   "execution_count": 0,
   "metadata": {
    "application/vnd.databricks.v1+cell": {
     "cellMetadata": {
      "byteLimit": 2048000,
      "rowLimit": 10000
     },
     "inputWidgets": {},
     "nuid": "f278962e-c91a-4900-ba19-27d9b9e08947",
     "showTitle": false,
     "tableResultSettingsMap": {},
     "title": ""
    }
   },
   "outputs": [],
   "source": [
    "from pyspark.sql.functions import current_timestamp, lit\n",
    "\n",
    "\n",
    "df_avaliacoes          = df_avaliacoes.withColumn(\"data_hora_silver\", current_timestamp()).withColumn(\"nome_arquivo\", lit(\"avaliacoes\"))\n",
    "df_categorias          = df_categorias.withColumn(\"data_hora_silver\", current_timestamp()).withColumn(\"nome_arquivo\", lit(\"categorias\"))\n",
    "df_clientes            = df_clientes.withColumn(\"data_hora_silver\", current_timestamp()).withColumn(\"nome_arquivo\", lit(\"clientes\"))\n",
    "df_enderecos_cliente   = df_enderecos_clientes.withColumn(\"data_hora_silver\", current_timestamp()).withColumn(\"nome_arquivo\", lit(\"enderecos_cliente\"))\n",
    "df_entregas            = df_entregas.withColumn(\"data_hora_silver\", current_timestamp()).withColumn(\"nome_arquivo\", lit(\"entregas\"))\n",
    "df_estoque             = df_estoque.withColumn(\"data_hora_silver\", current_timestamp()).withColumn(\"nome_arquivo\", lit(\"estoque\"))\n",
    "df_formas_pagamento    = df_formas_pagamento.withColumn(\"data_hora_silver\", current_timestamp()).withColumn(\"nome_arquivo\", lit(\"formas_pagamento\"))\n",
    "df_itens_pedidos       = df_itens_pedidos.withColumn(\"data_hora_silver\", current_timestamp()).withColumn(\"nome_arquivo\", lit(\"itens_pedidos\"))\n",
    "df_pagamentos          = df_pagamentos.withColumn(\"data_hora_silver\", current_timestamp()).withColumn(\"nome_arquivo\", lit(\"pagamentos\"))\n",
    "df_pedidos             = df_pedidos.withColumn(\"data_hora_silver\", current_timestamp()).withColumn(\"nome_arquivo\", lit(\"pedidos\"))\n",
    "df_produtos            = df_produtos.withColumn(\"data_hora_silver\", current_timestamp()).withColumn(\"nome_arquivo\", lit(\"produtos\"))\n",
    "df_transportadoras     = df_transportadoras.withColumn(\"data_hora_silver\", current_timestamp()).withColumn(\"nome_arquivo\", lit(\"transportadoras\"))\n",
    "df_vendedores          = df_vendedores.withColumn(\"data_hora_silver\", current_timestamp()).withColumn(\"nome_arquivo\", lit(\"vendedores\"))\n"
   ]
  },
  {
   "cell_type": "code",
   "execution_count": 0,
   "metadata": {
    "application/vnd.databricks.v1+cell": {
     "cellMetadata": {
      "byteLimit": 2048000,
      "rowLimit": 10000
     },
     "inputWidgets": {},
     "nuid": "a1fd697a-b470-4d9e-a5fe-116e518716cc",
     "showTitle": false,
     "tableResultSettingsMap": {},
     "title": ""
    }
   },
   "outputs": [
    {
     "name": "stdout",
     "output_type": "stream",
     "text": [
      "\n",
      "Tabela: avaliacoes\n",
      "Colunas em maiúsculas:\n",
      "ID\n",
      "CLIENTE_ID\n",
      "PRODUTO_ID\n",
      "NOTA\n",
      "COMENTARIO\n",
      "DATA_AVALIACAO\n",
      "DATA_HORA_BRONZE\n",
      "NOME_ARQUIVO\n",
      "DATA_HORA_SILVER\n",
      "\n",
      "Tabela: categorias\n",
      "Colunas em maiúsculas:\n",
      "ID\n",
      "NOME\n",
      "DESCRICAO\n",
      "DATA_HORA_BRONZE\n",
      "NOME_ARQUIVO\n",
      "DATA_HORA_SILVER\n",
      "\n",
      "Tabela: clientes\n",
      "Colunas em maiúsculas:\n",
      "ID\n",
      "NOME\n",
      "EMAIL\n",
      "TELEFONE\n",
      "DATA_CADASTRO\n",
      "DATA_HORA_BRONZE\n",
      "NOME_ARQUIVO\n",
      "DATA_HORA_SILVER\n",
      "\n",
      "Tabela: enderecos_cliente\n",
      "Colunas em maiúsculas:\n",
      "ID\n",
      "CLIENTE_ID\n",
      "LOGRADOURO\n",
      "NUMERO\n",
      "COMPLEMENTO\n",
      "BAIRRO\n",
      "CIDADE\n",
      "ESTADO\n",
      "CEP\n",
      "DATA_HORA_BRONZE\n",
      "NOME_ARQUIVO\n",
      "DATA_HORA_SILVER\n",
      "\n",
      "Tabela: entregas\n",
      "Colunas em maiúsculas:\n",
      "ID\n",
      "PEDIDO_ID\n",
      "TRANSPORTADORA_ID\n",
      "DATA_ENVIO\n",
      "DATA_ENTREGA\n",
      "STATUS\n",
      "DATA_HORA_BRONZE\n",
      "NOME_ARQUIVO\n",
      "DATA_HORA_SILVER\n",
      "\n",
      "Tabela: estoque\n",
      "Colunas em maiúsculas:\n",
      "ID\n",
      "PRODUTO_ID\n",
      "QUANTIDADE\n",
      "DATA_HORA_BRONZE\n",
      "NOME_ARQUIVO\n",
      "DATA_HORA_SILVER\n",
      "\n",
      "Tabela: formas_pagamento\n",
      "Colunas em maiúsculas:\n",
      "ID\n",
      "DESCRICAO\n",
      "DATA_HORA_BRONZE\n",
      "NOME_ARQUIVO\n",
      "DATA_HORA_SILVER\n",
      "\n",
      "Tabela: itens_pedidos\n",
      "Colunas em maiúsculas:\n",
      "ID\n",
      "PEDIDO_ID\n",
      "PRODUTO_ID\n",
      "QUANTIDADE\n",
      "PRECO_UNITARIO\n",
      "DATA_HORA_BRONZE\n",
      "NOME_ARQUIVO\n",
      "DATA_HORA_SILVER\n",
      "\n",
      "Tabela: pagamentos\n",
      "Colunas em maiúsculas:\n",
      "ID\n",
      "PEDIDO_ID\n",
      "FORMA_PAGAMENTO_ID\n",
      "VALOR_PAGO\n",
      "DATA_PAGAMENTO\n",
      "STATUS\n",
      "DATA_HORA_BRONZE\n",
      "NOME_ARQUIVO\n",
      "DATA_HORA_SILVER\n",
      "\n",
      "Tabela: pedidos\n",
      "Colunas em maiúsculas:\n",
      "ID\n",
      "CLIENTE_ID\n",
      "ENDERECO_ENTREGA_ID\n",
      "DATA_PEDIDO\n",
      "STATUS\n",
      "TOTAL\n",
      "DATA_HORA_BRONZE\n",
      "NOME_ARQUIVO\n",
      "DATA_HORA_SILVER\n",
      "\n",
      "Tabela: produtos\n",
      "Colunas em maiúsculas:\n",
      "ID\n",
      "VENDEDOR_ID\n",
      "CATEGORIA_ID\n",
      "NOME\n",
      "DESCRICAO\n",
      "PRECO\n",
      "DATA_CADASTRO\n",
      "DATA_HORA_BRONZE\n",
      "NOME_ARQUIVO\n",
      "DATA_HORA_SILVER\n",
      "\n",
      "Tabela: transportadoras\n",
      "Colunas em maiúsculas:\n",
      "ID\n",
      "NOME\n",
      "TELEFONE\n",
      "EMAIL\n",
      "DATA_HORA_BRONZE\n",
      "NOME_ARQUIVO\n",
      "DATA_HORA_SILVER\n",
      "\n",
      "Tabela: vendedores\n",
      "Colunas em maiúsculas:\n",
      "ID\n",
      "NOME\n",
      "EMAIL\n",
      "TELEFONE\n",
      "DATA_CADASTRO\n",
      "DATA_HORA_BRONZE\n",
      "NOME_ARQUIVO\n",
      "DATA_HORA_SILVER\n"
     ]
    }
   ],
   "source": [
    "# Dicionário com o nome da tabela como chave e o DataFrame como valor\n",
    "dfs = {\n",
    "    \"avaliacoes\": df_avaliacoes,\n",
    "    \"categorias\": df_categorias,\n",
    "    \"clientes\": df_clientes,\n",
    "    \"enderecos_cliente\": df_enderecos_cliente,\n",
    "    \"entregas\": df_entregas,\n",
    "    \"estoque\": df_estoque,\n",
    "    \"formas_pagamento\": df_formas_pagamento,\n",
    "    \"itens_pedidos\": df_itens_pedidos,\n",
    "    \"pagamentos\": df_pagamentos,\n",
    "    \"pedidos\": df_pedidos,\n",
    "    \"produtos\": df_produtos,\n",
    "    \"transportadoras\": df_transportadoras,\n",
    "    \"vendedores\": df_vendedores,\n",
    "}\n",
    "\n",
    "# Loop para imprimir as colunas de cada tabela em maiúsculas\n",
    "for nome, df in dfs.items():\n",
    "    colunas = df.columns\n",
    "    colunas_maiusculas = [coluna.upper() for coluna in colunas]\n",
    "\n",
    "    print(f\"\\nTabela: {nome}\")\n",
    "    print(\"Colunas em maiúsculas:\")\n",
    "    for coluna in colunas_maiusculas:\n",
    "        print(coluna)"
   ]
  },
  {
   "cell_type": "markdown",
   "metadata": {
    "application/vnd.databricks.v1+cell": {
     "cellMetadata": {
      "byteLimit": 2048000,
      "rowLimit": 10000
     },
     "inputWidgets": {},
     "nuid": "a0142014-ae9e-4f1e-a9a4-b77e08d01358",
     "showTitle": false,
     "tableResultSettingsMap": {},
     "title": ""
    }
   },
   "source": [
    "### Fazer as transformacoes de forma massiva"
   ]
  },
  {
   "cell_type": "code",
   "execution_count": 0,
   "metadata": {
    "application/vnd.databricks.v1+cell": {
     "cellMetadata": {
      "byteLimit": 2048000,
      "rowLimit": 10000
     },
     "inputWidgets": {},
     "nuid": "35ef7fda-3ad5-447a-892e-16429040fa37",
     "showTitle": false,
     "tableResultSettingsMap": {},
     "title": ""
    }
   },
   "outputs": [],
   "source": [
    "from pyspark.sql.functions import lit, current_timestamp\n",
    "\n",
    "def renomear_colunas(diretorio):\n",
    "    # Carrega o DataFrame a partir do Delta\n",
    "    df = spark.read.format('delta').load(diretorio)\n",
    "    tabela = diretorio.split('/')[-2]\n",
    "\n",
    "    # Lista para armazenar os novos nomes das colunas\n",
    "    novos_nomes = {}\n",
    "\n",
    "    for coluna in df.columns:\n",
    "        novo_nome = coluna.upper()\n",
    "\n",
    "        # Se terminar com _ID, renomeia para CODIGO_<prefixo>\n",
    "        if novo_nome.endswith(\"_ID\"):\n",
    "            prefixo = novo_nome[:-3]  # remove o _ID\n",
    "            novo_nome = f\"CODIGO_{prefixo}\"\n",
    "        # Caso contrário, aplica substituições específicas (opcional)\n",
    "        else:\n",
    "            novo_nome = novo_nome.replace(\"ID\", \"CODIGO\")  # se ainda quiser tratar outros usos de 'ID'\n",
    "\n",
    "        novos_nomes[coluna] = novo_nome\n",
    "\n",
    "    # Aplica as renomeações\n",
    "    for antigo, novo in novos_nomes.items():\n",
    "        df = df.withColumnRenamed(antigo, novo)\n",
    "\n",
    "    # Remove colunas desnecessárias (se existirem)\n",
    "    for col_drop in [\"DATA_HORA_BRONZE\", \"NOME_ARQUIVO\"]:\n",
    "        if col_drop in df.columns:\n",
    "            df = df.drop(col_drop)\n",
    "\n",
    "    # Adiciona colunas fixas\n",
    "    df = df.withColumn(\"NOME_ARQUIVO_BRONZE\", lit(tabela))\n",
    "    df = df.withColumn(\"DATA_ARQUIVO_SILVER\", current_timestamp())\n",
    "\n",
    "    # Salva o DataFrame modificado\n",
    "    df.write.format('delta').mode(\"overwrite\").save(f\"/mnt/{storageAccountName}/silver/ecommerce/{tabela}\")\n",
    "\n",
    "def renomear_arquivos_delta(diretorio):\n",
    "    arquivos = dbutils.fs.ls(diretorio)\n",
    "\n",
    "    for arquivo in arquivos:\n",
    "        nome_arquivo = arquivo.path\n",
    "        renomear_colunas(nome_arquivo)"
   ]
  },
  {
   "cell_type": "code",
   "execution_count": 0,
   "metadata": {
    "application/vnd.databricks.v1+cell": {
     "cellMetadata": {
      "byteLimit": 2048000,
      "rowLimit": 10000
     },
     "inputWidgets": {},
     "nuid": "9f1daab8-07de-459e-ac48-855cb49780a2",
     "showTitle": false,
     "tableResultSettingsMap": {},
     "title": ""
    }
   },
   "outputs": [],
   "source": [
    "# Executa a funcao para atualizar todos os dataframes\n",
    "diretorio = f'/mnt/{storageAccountName}/bronze/ecommerce'\n",
    "\n",
    "renomear_arquivos_delta(diretorio)"
   ]
  },
  {
   "cell_type": "code",
   "execution_count": 0,
   "metadata": {
    "application/vnd.databricks.v1+cell": {
     "cellMetadata": {
      "byteLimit": 2048000,
      "rowLimit": 10000
     },
     "inputWidgets": {},
     "nuid": "5c725b8e-a396-4a66-b98a-c380f9be8901",
     "showTitle": false,
     "tableResultSettingsMap": {},
     "title": ""
    }
   },
   "outputs": [
    {
     "data": {
      "text/html": [
       "<style scoped>\n",
       "  .table-result-container {\n",
       "    max-height: 300px;\n",
       "    overflow: auto;\n",
       "  }\n",
       "  table, th, td {\n",
       "    border: 1px solid black;\n",
       "    border-collapse: collapse;\n",
       "  }\n",
       "  th, td {\n",
       "    padding: 5px;\n",
       "  }\n",
       "  th {\n",
       "    text-align: left;\n",
       "  }\n",
       "</style><div class='table-result-container'><table class='table-result'><thead style='background-color: white'><tr><th>CODIGO</th><th>CODIGO_CLIENTE</th><th>CODIGO_PRODUTO</th><th>NOTA</th><th>COMENTARIO</th><th>DATA_AVALIACAO</th><th>NOME_ARQUIVO_BRONZE</th><th>DATA_ARQUIVO_SILVER</th></tr></thead><tbody><tr><td>0</td><td>9135</td><td>13790</td><td>5</td><td>Dolorem quae deserunt deleniti mollitia iste corrupti molestias similique nulla assumenda dignissimos at.</td><td>2022-06-22 13:46:56.0000000</td><td>avaliacoes</td><td>2025-06-12T22:45:32.263+0000</td></tr></tbody></table></div>"
      ]
     },
     "metadata": {
      "application/vnd.databricks.v1+output": {
       "addedWidgets": {},
       "aggData": [],
       "aggError": "",
       "aggOverflow": false,
       "aggSchema": [],
       "aggSeriesLimitReached": false,
       "aggType": "",
       "arguments": {},
       "columnCustomDisplayInfos": {},
       "data": [
        [
         "0",
         "9135",
         "13790",
         "5",
         "Dolorem quae deserunt deleniti mollitia iste corrupti molestias similique nulla assumenda dignissimos at.",
         "2022-06-22 13:46:56.0000000",
         "avaliacoes",
         "2025-06-12T22:45:32.263+0000"
        ]
       ],
       "datasetInfos": [],
       "dbfsResultPath": null,
       "isJsonSchema": true,
       "metadata": {},
       "overflow": false,
       "plotOptions": {
        "customPlotOptions": {},
        "displayType": "table",
        "pivotAggregation": null,
        "pivotColumns": null,
        "xColumns": null,
        "yColumns": null
       },
       "removedWidgets": [],
       "schema": [
        {
         "metadata": "{}",
         "name": "CODIGO",
         "type": "\"string\""
        },
        {
         "metadata": "{}",
         "name": "CODIGO_CLIENTE",
         "type": "\"string\""
        },
        {
         "metadata": "{}",
         "name": "CODIGO_PRODUTO",
         "type": "\"string\""
        },
        {
         "metadata": "{}",
         "name": "NOTA",
         "type": "\"string\""
        },
        {
         "metadata": "{}",
         "name": "COMENTARIO",
         "type": "\"string\""
        },
        {
         "metadata": "{}",
         "name": "DATA_AVALIACAO",
         "type": "\"string\""
        },
        {
         "metadata": "{}",
         "name": "NOME_ARQUIVO_BRONZE",
         "type": "\"string\""
        },
        {
         "metadata": "{}",
         "name": "DATA_ARQUIVO_SILVER",
         "type": "\"timestamp\""
        }
       ],
       "type": "table"
      }
     },
     "output_type": "display_data"
    },
    {
     "data": {
      "text/html": [
       "<style scoped>\n",
       "  .table-result-container {\n",
       "    max-height: 300px;\n",
       "    overflow: auto;\n",
       "  }\n",
       "  table, th, td {\n",
       "    border: 1px solid black;\n",
       "    border-collapse: collapse;\n",
       "  }\n",
       "  th, td {\n",
       "    padding: 5px;\n",
       "  }\n",
       "  th {\n",
       "    text-align: left;\n",
       "  }\n",
       "</style><div class='table-result-container'><table class='table-result'><thead style='background-color: white'><tr><th>CODIGO</th><th>NOME</th><th>DESCRICAO</th><th>NOME_ARQUIVO_BRONZE</th><th>DATA_ARQUIVO_SILVER</th></tr></thead><tbody><tr><td>1</td><td>Eletrônicos</td><td>Produtos eletrônicos e gadgets</td><td>categorias</td><td>2025-06-12T22:45:38.436+0000</td></tr></tbody></table></div>"
      ]
     },
     "metadata": {
      "application/vnd.databricks.v1+output": {
       "addedWidgets": {},
       "aggData": [],
       "aggError": "",
       "aggOverflow": false,
       "aggSchema": [],
       "aggSeriesLimitReached": false,
       "aggType": "",
       "arguments": {},
       "columnCustomDisplayInfos": {},
       "data": [
        [
         "1",
         "Eletrônicos",
         "Produtos eletrônicos e gadgets",
         "categorias",
         "2025-06-12T22:45:38.436+0000"
        ]
       ],
       "datasetInfos": [],
       "dbfsResultPath": null,
       "isJsonSchema": true,
       "metadata": {},
       "overflow": false,
       "plotOptions": {
        "customPlotOptions": {},
        "displayType": "table",
        "pivotAggregation": null,
        "pivotColumns": null,
        "xColumns": null,
        "yColumns": null
       },
       "removedWidgets": [],
       "schema": [
        {
         "metadata": "{}",
         "name": "CODIGO",
         "type": "\"string\""
        },
        {
         "metadata": "{}",
         "name": "NOME",
         "type": "\"string\""
        },
        {
         "metadata": "{}",
         "name": "DESCRICAO",
         "type": "\"string\""
        },
        {
         "metadata": "{}",
         "name": "NOME_ARQUIVO_BRONZE",
         "type": "\"string\""
        },
        {
         "metadata": "{}",
         "name": "DATA_ARQUIVO_SILVER",
         "type": "\"timestamp\""
        }
       ],
       "type": "table"
      }
     },
     "output_type": "display_data"
    },
    {
     "data": {
      "text/html": [
       "<style scoped>\n",
       "  .table-result-container {\n",
       "    max-height: 300px;\n",
       "    overflow: auto;\n",
       "  }\n",
       "  table, th, td {\n",
       "    border: 1px solid black;\n",
       "    border-collapse: collapse;\n",
       "  }\n",
       "  th, td {\n",
       "    padding: 5px;\n",
       "  }\n",
       "  th {\n",
       "    text-align: left;\n",
       "  }\n",
       "</style><div class='table-result-container'><table class='table-result'><thead style='background-color: white'><tr><th>CODIGO</th><th>NOME</th><th>EMAIL</th><th>TELEFONE</th><th>DATA_CADASTRO</th><th>NOME_ARQUIVO_BRONZE</th><th>DATA_ARQUIVO_SILVER</th></tr></thead><tbody><tr><td>1</td><td>Brenda Alves</td><td>samuel32@example.net</td><td>+55 51 8196 0013</td><td>2023-05-28 15:43:33.0000000</td><td>clientes</td><td>2025-06-12T22:45:42.664+0000</td></tr></tbody></table></div>"
      ]
     },
     "metadata": {
      "application/vnd.databricks.v1+output": {
       "addedWidgets": {},
       "aggData": [],
       "aggError": "",
       "aggOverflow": false,
       "aggSchema": [],
       "aggSeriesLimitReached": false,
       "aggType": "",
       "arguments": {},
       "columnCustomDisplayInfos": {},
       "data": [
        [
         "1",
         "Brenda Alves",
         "samuel32@example.net",
         "+55 51 8196 0013",
         "2023-05-28 15:43:33.0000000",
         "clientes",
         "2025-06-12T22:45:42.664+0000"
        ]
       ],
       "datasetInfos": [],
       "dbfsResultPath": null,
       "isJsonSchema": true,
       "metadata": {},
       "overflow": false,
       "plotOptions": {
        "customPlotOptions": {},
        "displayType": "table",
        "pivotAggregation": null,
        "pivotColumns": null,
        "xColumns": null,
        "yColumns": null
       },
       "removedWidgets": [],
       "schema": [
        {
         "metadata": "{}",
         "name": "CODIGO",
         "type": "\"string\""
        },
        {
         "metadata": "{}",
         "name": "NOME",
         "type": "\"string\""
        },
        {
         "metadata": "{}",
         "name": "EMAIL",
         "type": "\"string\""
        },
        {
         "metadata": "{}",
         "name": "TELEFONE",
         "type": "\"string\""
        },
        {
         "metadata": "{}",
         "name": "DATA_CADASTRO",
         "type": "\"string\""
        },
        {
         "metadata": "{}",
         "name": "NOME_ARQUIVO_BRONZE",
         "type": "\"string\""
        },
        {
         "metadata": "{}",
         "name": "DATA_ARQUIVO_SILVER",
         "type": "\"timestamp\""
        }
       ],
       "type": "table"
      }
     },
     "output_type": "display_data"
    },
    {
     "data": {
      "text/html": [
       "<style scoped>\n",
       "  .table-result-container {\n",
       "    max-height: 300px;\n",
       "    overflow: auto;\n",
       "  }\n",
       "  table, th, td {\n",
       "    border: 1px solid black;\n",
       "    border-collapse: collapse;\n",
       "  }\n",
       "  th, td {\n",
       "    padding: 5px;\n",
       "  }\n",
       "  th {\n",
       "    text-align: left;\n",
       "  }\n",
       "</style><div class='table-result-container'><table class='table-result'><thead style='background-color: white'><tr><th>CODIGO</th><th>CODIGO_CLIENTE</th><th>LOGRADOURO</th><th>NUMERO</th><th>COMPLEMENTO</th><th>BAIRRO</th><th>CCODIGOADE</th><th>ESTADO</th><th>CEP</th><th>NOME_ARQUIVO_BRONZE</th><th>DATA_ARQUIVO_SILVER</th></tr></thead><tbody><tr><td>1</td><td>4299</td><td>Alameda Azevedo</td><td>78</td><td>null</td><td>da Mata</td><td>Gomes da Serra</td><td>RN</td><td>19007-721</td><td>enderecos_cliente</td><td>2025-06-12T22:45:47.352+0000</td></tr></tbody></table></div>"
      ]
     },
     "metadata": {
      "application/vnd.databricks.v1+output": {
       "addedWidgets": {},
       "aggData": [],
       "aggError": "",
       "aggOverflow": false,
       "aggSchema": [],
       "aggSeriesLimitReached": false,
       "aggType": "",
       "arguments": {},
       "columnCustomDisplayInfos": {},
       "data": [
        [
         "1",
         "4299",
         "Alameda Azevedo",
         "78",
         null,
         "da Mata",
         "Gomes da Serra",
         "RN",
         "19007-721",
         "enderecos_cliente",
         "2025-06-12T22:45:47.352+0000"
        ]
       ],
       "datasetInfos": [],
       "dbfsResultPath": null,
       "isJsonSchema": true,
       "metadata": {},
       "overflow": false,
       "plotOptions": {
        "customPlotOptions": {},
        "displayType": "table",
        "pivotAggregation": null,
        "pivotColumns": null,
        "xColumns": null,
        "yColumns": null
       },
       "removedWidgets": [],
       "schema": [
        {
         "metadata": "{}",
         "name": "CODIGO",
         "type": "\"string\""
        },
        {
         "metadata": "{}",
         "name": "CODIGO_CLIENTE",
         "type": "\"string\""
        },
        {
         "metadata": "{}",
         "name": "LOGRADOURO",
         "type": "\"string\""
        },
        {
         "metadata": "{}",
         "name": "NUMERO",
         "type": "\"string\""
        },
        {
         "metadata": "{}",
         "name": "COMPLEMENTO",
         "type": "\"string\""
        },
        {
         "metadata": "{}",
         "name": "BAIRRO",
         "type": "\"string\""
        },
        {
         "metadata": "{}",
         "name": "CCODIGOADE",
         "type": "\"string\""
        },
        {
         "metadata": "{}",
         "name": "ESTADO",
         "type": "\"string\""
        },
        {
         "metadata": "{}",
         "name": "CEP",
         "type": "\"string\""
        },
        {
         "metadata": "{}",
         "name": "NOME_ARQUIVO_BRONZE",
         "type": "\"string\""
        },
        {
         "metadata": "{}",
         "name": "DATA_ARQUIVO_SILVER",
         "type": "\"timestamp\""
        }
       ],
       "type": "table"
      }
     },
     "output_type": "display_data"
    },
    {
     "data": {
      "text/html": [
       "<style scoped>\n",
       "  .table-result-container {\n",
       "    max-height: 300px;\n",
       "    overflow: auto;\n",
       "  }\n",
       "  table, th, td {\n",
       "    border: 1px solid black;\n",
       "    border-collapse: collapse;\n",
       "  }\n",
       "  th, td {\n",
       "    padding: 5px;\n",
       "  }\n",
       "  th {\n",
       "    text-align: left;\n",
       "  }\n",
       "</style><div class='table-result-container'><table class='table-result'><thead style='background-color: white'><tr><th>CODIGO</th><th>CODIGO_PEDIDO</th><th>CODIGO_TRANSPORTADORA</th><th>DATA_ENVIO</th><th>DATA_ENTREGA</th><th>STATUS</th><th>NOME_ARQUIVO_BRONZE</th><th>DATA_ARQUIVO_SILVER</th></tr></thead><tbody><tr><td>1</td><td>12582</td><td>53</td><td>2025-05-22 00:00:00.0000000</td><td>2025-06-03 00:00:00.0000000</td><td>Enviado</td><td>entregas</td><td>2025-06-12T22:45:52.674+0000</td></tr></tbody></table></div>"
      ]
     },
     "metadata": {
      "application/vnd.databricks.v1+output": {
       "addedWidgets": {},
       "aggData": [],
       "aggError": "",
       "aggOverflow": false,
       "aggSchema": [],
       "aggSeriesLimitReached": false,
       "aggType": "",
       "arguments": {},
       "columnCustomDisplayInfos": {},
       "data": [
        [
         "1",
         "12582",
         "53",
         "2025-05-22 00:00:00.0000000",
         "2025-06-03 00:00:00.0000000",
         "Enviado",
         "entregas",
         "2025-06-12T22:45:52.674+0000"
        ]
       ],
       "datasetInfos": [],
       "dbfsResultPath": null,
       "isJsonSchema": true,
       "metadata": {},
       "overflow": false,
       "plotOptions": {
        "customPlotOptions": {},
        "displayType": "table",
        "pivotAggregation": null,
        "pivotColumns": null,
        "xColumns": null,
        "yColumns": null
       },
       "removedWidgets": [],
       "schema": [
        {
         "metadata": "{}",
         "name": "CODIGO",
         "type": "\"string\""
        },
        {
         "metadata": "{}",
         "name": "CODIGO_PEDIDO",
         "type": "\"string\""
        },
        {
         "metadata": "{}",
         "name": "CODIGO_TRANSPORTADORA",
         "type": "\"string\""
        },
        {
         "metadata": "{}",
         "name": "DATA_ENVIO",
         "type": "\"string\""
        },
        {
         "metadata": "{}",
         "name": "DATA_ENTREGA",
         "type": "\"string\""
        },
        {
         "metadata": "{}",
         "name": "STATUS",
         "type": "\"string\""
        },
        {
         "metadata": "{}",
         "name": "NOME_ARQUIVO_BRONZE",
         "type": "\"string\""
        },
        {
         "metadata": "{}",
         "name": "DATA_ARQUIVO_SILVER",
         "type": "\"timestamp\""
        }
       ],
       "type": "table"
      }
     },
     "output_type": "display_data"
    },
    {
     "data": {
      "text/html": [
       "<style scoped>\n",
       "  .table-result-container {\n",
       "    max-height: 300px;\n",
       "    overflow: auto;\n",
       "  }\n",
       "  table, th, td {\n",
       "    border: 1px solid black;\n",
       "    border-collapse: collapse;\n",
       "  }\n",
       "  th, td {\n",
       "    padding: 5px;\n",
       "  }\n",
       "  th {\n",
       "    text-align: left;\n",
       "  }\n",
       "</style><div class='table-result-container'><table class='table-result'><thead style='background-color: white'><tr><th>CODIGO</th><th>CODIGO_PRODUTO</th><th>QUANTCODIGOADE</th><th>NOME_ARQUIVO_BRONZE</th><th>DATA_ARQUIVO_SILVER</th></tr></thead><tbody><tr><td>1</td><td>1</td><td>259</td><td>estoque</td><td>2025-06-12T22:45:57.252+0000</td></tr></tbody></table></div>"
      ]
     },
     "metadata": {
      "application/vnd.databricks.v1+output": {
       "addedWidgets": {},
       "aggData": [],
       "aggError": "",
       "aggOverflow": false,
       "aggSchema": [],
       "aggSeriesLimitReached": false,
       "aggType": "",
       "arguments": {},
       "columnCustomDisplayInfos": {},
       "data": [
        [
         "1",
         "1",
         "259",
         "estoque",
         "2025-06-12T22:45:57.252+0000"
        ]
       ],
       "datasetInfos": [],
       "dbfsResultPath": null,
       "isJsonSchema": true,
       "metadata": {},
       "overflow": false,
       "plotOptions": {
        "customPlotOptions": {},
        "displayType": "table",
        "pivotAggregation": null,
        "pivotColumns": null,
        "xColumns": null,
        "yColumns": null
       },
       "removedWidgets": [],
       "schema": [
        {
         "metadata": "{}",
         "name": "CODIGO",
         "type": "\"string\""
        },
        {
         "metadata": "{}",
         "name": "CODIGO_PRODUTO",
         "type": "\"string\""
        },
        {
         "metadata": "{}",
         "name": "QUANTCODIGOADE",
         "type": "\"string\""
        },
        {
         "metadata": "{}",
         "name": "NOME_ARQUIVO_BRONZE",
         "type": "\"string\""
        },
        {
         "metadata": "{}",
         "name": "DATA_ARQUIVO_SILVER",
         "type": "\"timestamp\""
        }
       ],
       "type": "table"
      }
     },
     "output_type": "display_data"
    },
    {
     "data": {
      "text/html": [
       "<style scoped>\n",
       "  .table-result-container {\n",
       "    max-height: 300px;\n",
       "    overflow: auto;\n",
       "  }\n",
       "  table, th, td {\n",
       "    border: 1px solid black;\n",
       "    border-collapse: collapse;\n",
       "  }\n",
       "  th, td {\n",
       "    padding: 5px;\n",
       "  }\n",
       "  th {\n",
       "    text-align: left;\n",
       "  }\n",
       "</style><div class='table-result-container'><table class='table-result'><thead style='background-color: white'><tr><th>CODIGO</th><th>DESCRICAO</th><th>NOME_ARQUIVO_BRONZE</th><th>DATA_ARQUIVO_SILVER</th></tr></thead><tbody><tr><td>1</td><td>Cartão de Crédito</td><td>formas_pagamento</td><td>2025-06-12T22:46:01.935+0000</td></tr></tbody></table></div>"
      ]
     },
     "metadata": {
      "application/vnd.databricks.v1+output": {
       "addedWidgets": {},
       "aggData": [],
       "aggError": "",
       "aggOverflow": false,
       "aggSchema": [],
       "aggSeriesLimitReached": false,
       "aggType": "",
       "arguments": {},
       "columnCustomDisplayInfos": {},
       "data": [
        [
         "1",
         "Cartão de Crédito",
         "formas_pagamento",
         "2025-06-12T22:46:01.935+0000"
        ]
       ],
       "datasetInfos": [],
       "dbfsResultPath": null,
       "isJsonSchema": true,
       "metadata": {},
       "overflow": false,
       "plotOptions": {
        "customPlotOptions": {},
        "displayType": "table",
        "pivotAggregation": null,
        "pivotColumns": null,
        "xColumns": null,
        "yColumns": null
       },
       "removedWidgets": [],
       "schema": [
        {
         "metadata": "{}",
         "name": "CODIGO",
         "type": "\"string\""
        },
        {
         "metadata": "{}",
         "name": "DESCRICAO",
         "type": "\"string\""
        },
        {
         "metadata": "{}",
         "name": "NOME_ARQUIVO_BRONZE",
         "type": "\"string\""
        },
        {
         "metadata": "{}",
         "name": "DATA_ARQUIVO_SILVER",
         "type": "\"timestamp\""
        }
       ],
       "type": "table"
      }
     },
     "output_type": "display_data"
    },
    {
     "data": {
      "text/html": [
       "<style scoped>\n",
       "  .table-result-container {\n",
       "    max-height: 300px;\n",
       "    overflow: auto;\n",
       "  }\n",
       "  table, th, td {\n",
       "    border: 1px solid black;\n",
       "    border-collapse: collapse;\n",
       "  }\n",
       "  th, td {\n",
       "    padding: 5px;\n",
       "  }\n",
       "  th {\n",
       "    text-align: left;\n",
       "  }\n",
       "</style><div class='table-result-container'><table class='table-result'><thead style='background-color: white'><tr><th>CODIGO</th><th>CODIGO_PEDIDO</th><th>CODIGO_PRODUTO</th><th>QUANTCODIGOADE</th><th>PRECO_UNITARIO</th><th>NOME_ARQUIVO_BRONZE</th><th>DATA_ARQUIVO_SILVER</th></tr></thead><tbody><tr><td>1</td><td>1819</td><td>24342</td><td>3</td><td>285.62</td><td>itens_pedido</td><td>2025-06-12T22:46:06.790+0000</td></tr></tbody></table></div>"
      ]
     },
     "metadata": {
      "application/vnd.databricks.v1+output": {
       "addedWidgets": {},
       "aggData": [],
       "aggError": "",
       "aggOverflow": false,
       "aggSchema": [],
       "aggSeriesLimitReached": false,
       "aggType": "",
       "arguments": {},
       "columnCustomDisplayInfos": {},
       "data": [
        [
         "1",
         "1819",
         "24342",
         "3",
         "285.62",
         "itens_pedido",
         "2025-06-12T22:46:06.790+0000"
        ]
       ],
       "datasetInfos": [],
       "dbfsResultPath": null,
       "isJsonSchema": true,
       "metadata": {},
       "overflow": false,
       "plotOptions": {
        "customPlotOptions": {},
        "displayType": "table",
        "pivotAggregation": null,
        "pivotColumns": null,
        "xColumns": null,
        "yColumns": null
       },
       "removedWidgets": [],
       "schema": [
        {
         "metadata": "{}",
         "name": "CODIGO",
         "type": "\"string\""
        },
        {
         "metadata": "{}",
         "name": "CODIGO_PEDIDO",
         "type": "\"string\""
        },
        {
         "metadata": "{}",
         "name": "CODIGO_PRODUTO",
         "type": "\"string\""
        },
        {
         "metadata": "{}",
         "name": "QUANTCODIGOADE",
         "type": "\"string\""
        },
        {
         "metadata": "{}",
         "name": "PRECO_UNITARIO",
         "type": "\"string\""
        },
        {
         "metadata": "{}",
         "name": "NOME_ARQUIVO_BRONZE",
         "type": "\"string\""
        },
        {
         "metadata": "{}",
         "name": "DATA_ARQUIVO_SILVER",
         "type": "\"timestamp\""
        }
       ],
       "type": "table"
      }
     },
     "output_type": "display_data"
    },
    {
     "data": {
      "text/html": [
       "<style scoped>\n",
       "  .table-result-container {\n",
       "    max-height: 300px;\n",
       "    overflow: auto;\n",
       "  }\n",
       "  table, th, td {\n",
       "    border: 1px solid black;\n",
       "    border-collapse: collapse;\n",
       "  }\n",
       "  th, td {\n",
       "    padding: 5px;\n",
       "  }\n",
       "  th {\n",
       "    text-align: left;\n",
       "  }\n",
       "</style><div class='table-result-container'><table class='table-result'><thead style='background-color: white'><tr><th>CODIGO</th><th>CODIGO_PEDIDO</th><th>CODIGO_FORMA_PAGAMENTO</th><th>VALOR_PAGO</th><th>DATA_PAGAMENTO</th><th>STATUS</th><th>NOME_ARQUIVO_BRONZE</th><th>DATA_ARQUIVO_SILVER</th></tr></thead><tbody><tr><td>1</td><td>13020</td><td>1</td><td>2683.94</td><td>2024-07-01 13:41:43.0000000</td><td>falha</td><td>pagamentos</td><td>2025-06-12T22:46:11.457+0000</td></tr></tbody></table></div>"
      ]
     },
     "metadata": {
      "application/vnd.databricks.v1+output": {
       "addedWidgets": {},
       "aggData": [],
       "aggError": "",
       "aggOverflow": false,
       "aggSchema": [],
       "aggSeriesLimitReached": false,
       "aggType": "",
       "arguments": {},
       "columnCustomDisplayInfos": {},
       "data": [
        [
         "1",
         "13020",
         "1",
         "2683.94",
         "2024-07-01 13:41:43.0000000",
         "falha",
         "pagamentos",
         "2025-06-12T22:46:11.457+0000"
        ]
       ],
       "datasetInfos": [],
       "dbfsResultPath": null,
       "isJsonSchema": true,
       "metadata": {},
       "overflow": false,
       "plotOptions": {
        "customPlotOptions": {},
        "displayType": "table",
        "pivotAggregation": null,
        "pivotColumns": null,
        "xColumns": null,
        "yColumns": null
       },
       "removedWidgets": [],
       "schema": [
        {
         "metadata": "{}",
         "name": "CODIGO",
         "type": "\"string\""
        },
        {
         "metadata": "{}",
         "name": "CODIGO_PEDIDO",
         "type": "\"string\""
        },
        {
         "metadata": "{}",
         "name": "CODIGO_FORMA_PAGAMENTO",
         "type": "\"string\""
        },
        {
         "metadata": "{}",
         "name": "VALOR_PAGO",
         "type": "\"string\""
        },
        {
         "metadata": "{}",
         "name": "DATA_PAGAMENTO",
         "type": "\"string\""
        },
        {
         "metadata": "{}",
         "name": "STATUS",
         "type": "\"string\""
        },
        {
         "metadata": "{}",
         "name": "NOME_ARQUIVO_BRONZE",
         "type": "\"string\""
        },
        {
         "metadata": "{}",
         "name": "DATA_ARQUIVO_SILVER",
         "type": "\"timestamp\""
        }
       ],
       "type": "table"
      }
     },
     "output_type": "display_data"
    },
    {
     "data": {
      "text/html": [
       "<style scoped>\n",
       "  .table-result-container {\n",
       "    max-height: 300px;\n",
       "    overflow: auto;\n",
       "  }\n",
       "  table, th, td {\n",
       "    border: 1px solid black;\n",
       "    border-collapse: collapse;\n",
       "  }\n",
       "  th, td {\n",
       "    padding: 5px;\n",
       "  }\n",
       "  th {\n",
       "    text-align: left;\n",
       "  }\n",
       "</style><div class='table-result-container'><table class='table-result'><thead style='background-color: white'><tr><th>CODIGO</th><th>CODIGO_CLIENTE</th><th>CODIGO_ENDERECO_ENTREGA</th><th>DATA_PEDCODIGOO</th><th>STATUS</th><th>TOTAL</th><th>NOME_ARQUIVO_BRONZE</th><th>DATA_ARQUIVO_SILVER</th></tr></thead><tbody><tr><td>1</td><td>4290</td><td>1210</td><td>2023-12-21 21:25:52.0000000</td><td>cancelado</td><td>1522.51</td><td>pedidos</td><td>2025-06-12T22:46:16.472+0000</td></tr></tbody></table></div>"
      ]
     },
     "metadata": {
      "application/vnd.databricks.v1+output": {
       "addedWidgets": {},
       "aggData": [],
       "aggError": "",
       "aggOverflow": false,
       "aggSchema": [],
       "aggSeriesLimitReached": false,
       "aggType": "",
       "arguments": {},
       "columnCustomDisplayInfos": {},
       "data": [
        [
         "1",
         "4290",
         "1210",
         "2023-12-21 21:25:52.0000000",
         "cancelado",
         "1522.51",
         "pedidos",
         "2025-06-12T22:46:16.472+0000"
        ]
       ],
       "datasetInfos": [],
       "dbfsResultPath": null,
       "isJsonSchema": true,
       "metadata": {},
       "overflow": false,
       "plotOptions": {
        "customPlotOptions": {},
        "displayType": "table",
        "pivotAggregation": null,
        "pivotColumns": null,
        "xColumns": null,
        "yColumns": null
       },
       "removedWidgets": [],
       "schema": [
        {
         "metadata": "{}",
         "name": "CODIGO",
         "type": "\"string\""
        },
        {
         "metadata": "{}",
         "name": "CODIGO_CLIENTE",
         "type": "\"string\""
        },
        {
         "metadata": "{}",
         "name": "CODIGO_ENDERECO_ENTREGA",
         "type": "\"string\""
        },
        {
         "metadata": "{}",
         "name": "DATA_PEDCODIGOO",
         "type": "\"string\""
        },
        {
         "metadata": "{}",
         "name": "STATUS",
         "type": "\"string\""
        },
        {
         "metadata": "{}",
         "name": "TOTAL",
         "type": "\"string\""
        },
        {
         "metadata": "{}",
         "name": "NOME_ARQUIVO_BRONZE",
         "type": "\"string\""
        },
        {
         "metadata": "{}",
         "name": "DATA_ARQUIVO_SILVER",
         "type": "\"timestamp\""
        }
       ],
       "type": "table"
      }
     },
     "output_type": "display_data"
    },
    {
     "data": {
      "text/html": [
       "<style scoped>\n",
       "  .table-result-container {\n",
       "    max-height: 300px;\n",
       "    overflow: auto;\n",
       "  }\n",
       "  table, th, td {\n",
       "    border: 1px solid black;\n",
       "    border-collapse: collapse;\n",
       "  }\n",
       "  th, td {\n",
       "    padding: 5px;\n",
       "  }\n",
       "  th {\n",
       "    text-align: left;\n",
       "  }\n",
       "</style><div class='table-result-container'><table class='table-result'><thead style='background-color: white'><tr><th>CODIGO</th><th>CODIGO_VENDEDOR</th><th>CODIGO_CATEGORIA</th><th>NOME</th><th>DESCRICAO</th><th>PRECO</th><th>DATA_CADASTRO</th><th>NOME_ARQUIVO_BRONZE</th><th>DATA_ARQUIVO_SILVER</th></tr></thead><tbody><tr><td>1</td><td>655</td><td>8</td><td>Optio</td><td>Sint eos ad natus et odio nisi harum.</td><td>34.76</td><td>2022-11-23 21:12:31.0000000</td><td>produtos</td><td>2025-06-12T22:46:21.477+0000</td></tr></tbody></table></div>"
      ]
     },
     "metadata": {
      "application/vnd.databricks.v1+output": {
       "addedWidgets": {},
       "aggData": [],
       "aggError": "",
       "aggOverflow": false,
       "aggSchema": [],
       "aggSeriesLimitReached": false,
       "aggType": "",
       "arguments": {},
       "columnCustomDisplayInfos": {},
       "data": [
        [
         "1",
         "655",
         "8",
         "Optio",
         "Sint eos ad natus et odio nisi harum.",
         "34.76",
         "2022-11-23 21:12:31.0000000",
         "produtos",
         "2025-06-12T22:46:21.477+0000"
        ]
       ],
       "datasetInfos": [],
       "dbfsResultPath": null,
       "isJsonSchema": true,
       "metadata": {},
       "overflow": false,
       "plotOptions": {
        "customPlotOptions": {},
        "displayType": "table",
        "pivotAggregation": null,
        "pivotColumns": null,
        "xColumns": null,
        "yColumns": null
       },
       "removedWidgets": [],
       "schema": [
        {
         "metadata": "{}",
         "name": "CODIGO",
         "type": "\"string\""
        },
        {
         "metadata": "{}",
         "name": "CODIGO_VENDEDOR",
         "type": "\"string\""
        },
        {
         "metadata": "{}",
         "name": "CODIGO_CATEGORIA",
         "type": "\"string\""
        },
        {
         "metadata": "{}",
         "name": "NOME",
         "type": "\"string\""
        },
        {
         "metadata": "{}",
         "name": "DESCRICAO",
         "type": "\"string\""
        },
        {
         "metadata": "{}",
         "name": "PRECO",
         "type": "\"string\""
        },
        {
         "metadata": "{}",
         "name": "DATA_CADASTRO",
         "type": "\"string\""
        },
        {
         "metadata": "{}",
         "name": "NOME_ARQUIVO_BRONZE",
         "type": "\"string\""
        },
        {
         "metadata": "{}",
         "name": "DATA_ARQUIVO_SILVER",
         "type": "\"timestamp\""
        }
       ],
       "type": "table"
      }
     },
     "output_type": "display_data"
    },
    {
     "data": {
      "text/html": [
       "<style scoped>\n",
       "  .table-result-container {\n",
       "    max-height: 300px;\n",
       "    overflow: auto;\n",
       "  }\n",
       "  table, th, td {\n",
       "    border: 1px solid black;\n",
       "    border-collapse: collapse;\n",
       "  }\n",
       "  th, td {\n",
       "    padding: 5px;\n",
       "  }\n",
       "  th {\n",
       "    text-align: left;\n",
       "  }\n",
       "</style><div class='table-result-container'><table class='table-result'><thead style='background-color: white'><tr><th>CODIGO</th><th>NOME</th><th>TELEFONE</th><th>EMAIL</th><th>NOME_ARQUIVO_BRONZE</th><th>DATA_ARQUIVO_SILVER</th></tr></thead><tbody><tr><td>1</td><td>da Mata</td><td>+55 (081) 5646 9105</td><td>barbaramartins@example.org</td><td>transportadoras</td><td>2025-06-12T22:46:26.528+0000</td></tr></tbody></table></div>"
      ]
     },
     "metadata": {
      "application/vnd.databricks.v1+output": {
       "addedWidgets": {},
       "aggData": [],
       "aggError": "",
       "aggOverflow": false,
       "aggSchema": [],
       "aggSeriesLimitReached": false,
       "aggType": "",
       "arguments": {},
       "columnCustomDisplayInfos": {},
       "data": [
        [
         "1",
         "da Mata",
         "+55 (081) 5646 9105",
         "barbaramartins@example.org",
         "transportadoras",
         "2025-06-12T22:46:26.528+0000"
        ]
       ],
       "datasetInfos": [],
       "dbfsResultPath": null,
       "isJsonSchema": true,
       "metadata": {},
       "overflow": false,
       "plotOptions": {
        "customPlotOptions": {},
        "displayType": "table",
        "pivotAggregation": null,
        "pivotColumns": null,
        "xColumns": null,
        "yColumns": null
       },
       "removedWidgets": [],
       "schema": [
        {
         "metadata": "{}",
         "name": "CODIGO",
         "type": "\"string\""
        },
        {
         "metadata": "{}",
         "name": "NOME",
         "type": "\"string\""
        },
        {
         "metadata": "{}",
         "name": "TELEFONE",
         "type": "\"string\""
        },
        {
         "metadata": "{}",
         "name": "EMAIL",
         "type": "\"string\""
        },
        {
         "metadata": "{}",
         "name": "NOME_ARQUIVO_BRONZE",
         "type": "\"string\""
        },
        {
         "metadata": "{}",
         "name": "DATA_ARQUIVO_SILVER",
         "type": "\"timestamp\""
        }
       ],
       "type": "table"
      }
     },
     "output_type": "display_data"
    },
    {
     "data": {
      "text/html": [
       "<style scoped>\n",
       "  .table-result-container {\n",
       "    max-height: 300px;\n",
       "    overflow: auto;\n",
       "  }\n",
       "  table, th, td {\n",
       "    border: 1px solid black;\n",
       "    border-collapse: collapse;\n",
       "  }\n",
       "  th, td {\n",
       "    padding: 5px;\n",
       "  }\n",
       "  th {\n",
       "    text-align: left;\n",
       "  }\n",
       "</style><div class='table-result-container'><table class='table-result'><thead style='background-color: white'><tr><th>CODIGO</th><th>NOME</th><th>EMAIL</th><th>TELEFONE</th><th>DATA_CADASTRO</th><th>NOME_ARQUIVO_BRONZE</th><th>DATA_ARQUIVO_SILVER</th></tr></thead><tbody><tr><td>1</td><td>Sr. Daniel Alves</td><td>pintoana-livia@example.com</td><td>71 2133 9437</td><td>2024-07-06 12:45:55.0000000</td><td>vendedores</td><td>2025-06-12T22:46:31.063+0000</td></tr></tbody></table></div>"
      ]
     },
     "metadata": {
      "application/vnd.databricks.v1+output": {
       "addedWidgets": {},
       "aggData": [],
       "aggError": "",
       "aggOverflow": false,
       "aggSchema": [],
       "aggSeriesLimitReached": false,
       "aggType": "",
       "arguments": {},
       "columnCustomDisplayInfos": {},
       "data": [
        [
         "1",
         "Sr. Daniel Alves",
         "pintoana-livia@example.com",
         "71 2133 9437",
         "2024-07-06 12:45:55.0000000",
         "vendedores",
         "2025-06-12T22:46:31.063+0000"
        ]
       ],
       "datasetInfos": [],
       "dbfsResultPath": null,
       "isJsonSchema": true,
       "metadata": {},
       "overflow": false,
       "plotOptions": {
        "customPlotOptions": {},
        "displayType": "table",
        "pivotAggregation": null,
        "pivotColumns": null,
        "xColumns": null,
        "yColumns": null
       },
       "removedWidgets": [],
       "schema": [
        {
         "metadata": "{}",
         "name": "CODIGO",
         "type": "\"string\""
        },
        {
         "metadata": "{}",
         "name": "NOME",
         "type": "\"string\""
        },
        {
         "metadata": "{}",
         "name": "EMAIL",
         "type": "\"string\""
        },
        {
         "metadata": "{}",
         "name": "TELEFONE",
         "type": "\"string\""
        },
        {
         "metadata": "{}",
         "name": "DATA_CADASTRO",
         "type": "\"string\""
        },
        {
         "metadata": "{}",
         "name": "NOME_ARQUIVO_BRONZE",
         "type": "\"string\""
        },
        {
         "metadata": "{}",
         "name": "DATA_ARQUIVO_SILVER",
         "type": "\"timestamp\""
        }
       ],
       "type": "table"
      }
     },
     "output_type": "display_data"
    }
   ],
   "source": [
    "spark.read.format('delta').load(f'/mnt/{storageAccountName}/silver/ecommerce/avaliacoes').limit(1).display()\n",
    "spark.read.format('delta').load(f'/mnt/{storageAccountName}/silver/ecommerce/categorias').limit(1).display()\n",
    "spark.read.format('delta').load(f'/mnt/{storageAccountName}/silver/ecommerce/clientes').limit(1).display()\n",
    "spark.read.format('delta').load(f'/mnt/{storageAccountName}/silver/ecommerce/enderecos_cliente').limit(1).display()\n",
    "spark.read.format('delta').load(f'/mnt/{storageAccountName}/silver/ecommerce/entregas').limit(1).display()\n",
    "spark.read.format('delta').load(f'/mnt/{storageAccountName}/silver/ecommerce/estoque').limit(1).display()\n",
    "spark.read.format('delta').load(f'/mnt/{storageAccountName}/silver/ecommerce/formas_pagamento').limit(1).display()\n",
    "spark.read.format('delta').load(f'/mnt/{storageAccountName}/silver/ecommerce/itens_pedido').limit(1).display()\n",
    "spark.read.format('delta').load(f'/mnt/{storageAccountName}/silver/ecommerce/pagamentos').limit(1).display()\n",
    "spark.read.format('delta').load(f'/mnt/{storageAccountName}/silver/ecommerce/pedidos').limit(1).display()\n",
    "spark.read.format('delta').load(f'/mnt/{storageAccountName}/silver/ecommerce/produtos').limit(1).display()\n",
    "spark.read.format('delta').load(f'/mnt/{storageAccountName}/silver/ecommerce/transportadoras').limit(1).display()\n",
    "spark.read.format('delta').load(f'/mnt/{storageAccountName}/silver/ecommerce/vendedores').limit(1).display()"
   ]
  }
 ],
 "metadata": {
  "application/vnd.databricks.v1+notebook": {
   "computePreferences": null,
   "dashboards": [],
   "environmentMetadata": null,
   "inputWidgetPreferences": null,
   "language": "python",
   "notebookMetadata": {
    "mostRecentlyExecutedCommandWithImplicitDF": {
     "commandId": 3210653005600686,
     "dataframes": [
      "_sqldf"
     ]
    },
    "pythonIndentUnit": 4
   },
   "notebookName": "notebook_silver",
   "widgets": {}
  },
  "language_info": {
   "name": "python"
  }
 },
 "nbformat": 4,
 "nbformat_minor": 0
}
