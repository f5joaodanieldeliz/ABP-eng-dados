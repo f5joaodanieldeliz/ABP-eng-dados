{
 "cells": [
  {
   "cell_type": "markdown",
   "metadata": {
    "application/vnd.databricks.v1+cell": {
     "cellMetadata": {},
     "inputWidgets": {},
     "nuid": "1e233d75-fd2d-442a-a085-bb59f3edf995",
     "showTitle": false,
     "tableResultSettingsMap": {},
     "title": ""
    }
   },
   "source": [
    "### Definindo uma função para montar um ADLS com um ponto de montagem com ADLS SAS "
   ]
  },
  {
   "cell_type": "code",
   "execution_count": 0,
   "metadata": {
    "application/vnd.databricks.v1+cell": {
     "cellMetadata": {
      "byteLimit": 2048000,
      "rowLimit": 10000
     },
     "inputWidgets": {},
     "nuid": "058a3cc4-370c-4abf-8c60-39a7f3f302d1",
     "showTitle": false,
     "tableResultSettingsMap": {},
     "title": ""
    }
   },
   "outputs": [
    {
     "output_type": "display_data",
     "data": {
      "text/html": [
       "<style scoped>\n",
       "  .ansiout {\n",
       "    display: block;\n",
       "    unicode-bidi: embed;\n",
       "    white-space: pre-wrap;\n",
       "    word-wrap: break-word;\n",
       "    word-break: break-all;\n",
       "    font-family: \"Menlo\", \"Monaco\", \"Consolas\", \"Ubuntu Mono\", \"Source Code Pro\", monospace;\n",
       "    font-size: 13px;\n",
       "    color: #555;\n",
       "    margin-left: 4px;\n",
       "    line-height: 19px;\n",
       "  }\n",
       "</style>\n",
       "<div class=\"ansiout\"></div>"
      ]
     },
     "metadata": {
      "application/vnd.databricks.v1+output": {
       "addedWidgets": {},
       "arguments": {},
       "data": "<div class=\"ansiout\"></div>",
       "datasetInfos": [],
       "metadata": {},
       "removedWidgets": [],
       "type": "html"
      }
     },
     "output_type": "display_data"
    }
   ],
   "source": [
    "storageAccountName = \"datalake922b9abd80170b5b\"\n",
    "storageAccountAccessKey = \"\"\n",
    "sasToken= \"sv=2024-11-04&ss=bfqt&srt=sco&sp=rwdlacupyx&se=2025-06-30T08:33:56Z&st=2025-06-18T00:33:56Z&spr=https&sig=MJQBJIyhWinObTmsfSK5xjUc7F5GVJQ9dQnz8o7TfF4%3D\"\n",
    "\n",
    "def mount_adls(blobContainerName):\n",
    "    try:\n",
    "      dbutils.fs.mount(\n",
    "        source = \"wasbs://{}@{}.blob.core.windows.net\".format(blobContainerName, storageAccountName),\n",
    "        mount_point = f\"/mnt/{storageAccountName}/{blobContainerName}\",\n",
    "        #extra_configs = {'fs.azure.account.key.' + storageAccountName + '.blob.core.windows.net': storageAccountAccessKey}\n",
    "        extra_configs = {'fs.azure.sas.' + blobContainerName + '.' + storageAccountName + '.blob.core.windows.net': sasToken}\n",
    "      )\n",
    "      print(\"OK!\")\n",
    "    except Exception as e:\n",
    "      print(\"Falha\", e)"
   ]
  },
  {
   "cell_type": "markdown",
   "metadata": {
    "application/vnd.databricks.v1+cell": {
     "cellMetadata": {},
     "inputWidgets": {},
     "nuid": "40a6dfa7-fb55-46c5-a3a8-44e9bee8f390",
     "showTitle": false,
     "tableResultSettingsMap": {},
     "title": ""
    }
   },
   "source": [
    "###Montando todos os containers"
   ]
  },
  {
   "cell_type": "code",
   "execution_count": 0,
   "metadata": {
    "application/vnd.databricks.v1+cell": {
     "cellMetadata": {},
     "inputWidgets": {},
     "nuid": "3ea9cb2c-bb83-45aa-b22d-13cb660c39e7",
     "showTitle": false,
     "tableResultSettingsMap": {},
     "title": ""
    }
   },
   "outputs": [],
   "source": []
  },
  {
   "cell_type": "code",
   "execution_count": 0,
   "metadata": {
    "application/vnd.databricks.v1+cell": {
     "cellMetadata": {
      "byteLimit": 2048000,
      "rowLimit": 10000
     },
     "inputWidgets": {},
     "nuid": "38ad1b69-6d67-455d-81bc-1e4aadbe3876",
     "showTitle": false,
     "tableResultSettingsMap": {},
     "title": ""
    }
   },
   "outputs": [
    {
     "output_type": "display_data",
     "data": {
      "text/html": [
       "<style scoped>\n",
       "  .ansiout {\n",
       "    display: block;\n",
       "    unicode-bidi: embed;\n",
       "    white-space: pre-wrap;\n",
       "    word-wrap: break-word;\n",
       "    word-break: break-all;\n",
       "    font-family: \"Menlo\", \"Monaco\", \"Consolas\", \"Ubuntu Mono\", \"Source Code Pro\", monospace;\n",
       "    font-size: 13px;\n",
       "    color: #555;\n",
       "    margin-left: 4px;\n",
       "    line-height: 19px;\n",
       "  }\n",
       "</style>\n",
       "<div class=\"ansiout\">/mnt/datalake922b9abd80170b5b/landing-zone has been unmounted.\n",
       "/mnt/datalake922b9abd80170b5b/bronze has been unmounted.\n",
       "/mnt/datalake922b9abd80170b5b/silver has been unmounted.\n",
       "/mnt/datalake922b9abd80170b5b/gold has been unmounted.\n",
       "Out[7]: True</div>"
      ]
     },
     "metadata": {
      "application/vnd.databricks.v1+output": {
       "addedWidgets": {},
       "arguments": {},
       "data": "<div class=\"ansiout\">/mnt/datalake922b9abd80170b5b/landing-zone has been unmounted.\n/mnt/datalake922b9abd80170b5b/bronze has been unmounted.\n/mnt/datalake922b9abd80170b5b/silver has been unmounted.\n/mnt/datalake922b9abd80170b5b/gold has been unmounted.\nOut[7]: True</div>",
       "datasetInfos": [],
       "metadata": {},
       "removedWidgets": [],
       "type": "html"
      }
     },
     "output_type": "display_data"
    }
   ],
   "source": [
    "#dbutils.fs.unmount('/mnt/datalake922b9abd80170b5b/landing-zone')\n",
    "#dbutils.fs.unmount('/mnt/datalake922b9abd80170b5b/bronze')\n",
    "#dbutils.fs.unmount('/mnt/datalake922b9abd80170b5b/silver')\n",
    "#dbutils.fs.unmount('/mnt/datalake922b9abd80170b5b/gold')"
   ]
  },
  {
   "cell_type": "code",
   "execution_count": 0,
   "metadata": {
    "application/vnd.databricks.v1+cell": {
     "cellMetadata": {
      "byteLimit": 2048000,
      "rowLimit": 10000
     },
     "inputWidgets": {},
     "nuid": "8d62fdfc-2dc8-4465-98fd-834ac8ae9404",
     "showTitle": false,
     "tableResultSettingsMap": {},
     "title": ""
    }
   },
   "outputs": [
    {
     "output_type": "display_data",
     "data": {
      "text/html": [
       "<style scoped>\n",
       "  .ansiout {\n",
       "    display: block;\n",
       "    unicode-bidi: embed;\n",
       "    white-space: pre-wrap;\n",
       "    word-wrap: break-word;\n",
       "    word-break: break-all;\n",
       "    font-family: \"Menlo\", \"Monaco\", \"Consolas\", \"Ubuntu Mono\", \"Source Code Pro\", monospace;\n",
       "    font-size: 13px;\n",
       "    color: #555;\n",
       "    margin-left: 4px;\n",
       "    line-height: 19px;\n",
       "  }\n",
       "</style>\n",
       "<div class=\"ansiout\">Falha An error occurred while calling o1858.mount.\n",
       ": java.rmi.RemoteException: java.lang.IllegalArgumentException: requirement failed: Directory already mounted: /mnt/datalake922b9abd80170b5b/lading-zone; nested exception is: \n",
       "\tjava.lang.IllegalArgumentException: requirement failed: Directory already mounted: /mnt/datalake922b9abd80170b5b/lading-zone\n",
       "\tat com.databricks.backend.daemon.data.client.DbfsClient.send0(DbfsClient.scala:128)\n",
       "\tat com.databricks.backend.daemon.data.client.DbfsClient.sendIdempotent(DbfsClient.scala:68)\n",
       "\tat com.databricks.backend.daemon.dbutils.DBUtilsCore.createOrUpdateMount(DBUtilsCore.scala:756)\n",
       "\tat com.databricks.backend.daemon.dbutils.DBUtilsCore.mount(DBUtilsCore.scala:776)\n",
       "\tat sun.reflect.NativeMethodAccessorImpl.invoke0(Native Method)\n",
       "\tat sun.reflect.NativeMethodAccessorImpl.invoke(NativeMethodAccessorImpl.java:62)\n",
       "\tat sun.reflect.DelegatingMethodAccessorImpl.invoke(DelegatingMethodAccessorImpl.java:43)\n",
       "\tat java.lang.reflect.Method.invoke(Method.java:498)\n",
       "\tat py4j.reflection.MethodInvoker.invoke(MethodInvoker.java:244)\n",
       "\tat py4j.reflection.ReflectionEngine.invoke(ReflectionEngine.java:380)\n",
       "\tat py4j.Gateway.invoke(Gateway.java:295)\n",
       "\tat py4j.commands.AbstractCommand.invokeMethod(AbstractCommand.java:132)\n",
       "\tat py4j.commands.CallCommand.execute(CallCommand.java:79)\n",
       "\tat py4j.GatewayConnection.run(GatewayConnection.java:251)\n",
       "\tat java.lang.Thread.run(Thread.java:750)\n",
       "Caused by: java.lang.IllegalArgumentException: requirement failed: Directory already mounted: /mnt/datalake922b9abd80170b5b/lading-zone\n",
       "\tat scala.Predef$.require(Predef.scala:281)\n",
       "\tat com.databricks.backend.daemon.data.server.DefaultMetadataManager.$anonfun$insertMount$1(MetadataManager.scala:860)\n",
       "\tat com.databricks.backend.daemon.data.server.DefaultMetadataManager.$anonfun$modifyAndVerify$2(MetadataManager.scala:1242)\n",
       "\tat scala.runtime.java8.JFunction0$mcV$sp.apply(JFunction0$mcV$sp.java:23)\n",
       "\tat com.databricks.backend.daemon.data.server.DefaultMetadataManager.withRetries(MetadataManager.scala:1015)\n",
       "\tat com.databricks.backend.daemon.data.server.DefaultMetadataManager.modifyAndVerify(MetadataManager.scala:1231)\n",
       "\tat com.databricks.backend.daemon.data.server.DefaultMetadataManager.insertMount(MetadataManager.scala:868)\n",
       "\tat com.databricks.backend.daemon.data.server.handler.MountHandler.receive(MountHandler.scala:131)\n",
       "\tat com.databricks.backend.daemon.data.server.handler.DbfsRequestHandler.receive(DbfsRequestHandler.scala:16)\n",
       "\tat com.databricks.backend.daemon.data.server.handler.DbfsRequestHandler.receive$(DbfsRequestHandler.scala:15)\n",
       "\tat com.databricks.backend.daemon.data.server.handler.MountHandler.receive(MountHandler.scala:39)\n",
       "\tat com.databricks.backend.daemon.data.server.session.SessionContext.$anonfun$queryHandlers$1(SessionContext.scala:54)\n",
       "\tat com.databricks.backend.daemon.data.server.session.SessionContext.$anonfun$queryHandlers$1$adapted(SessionContext.scala:53)\n",
       "\tat scala.collection.immutable.List.foreach(List.scala:431)\n",
       "\tat com.databricks.backend.daemon.data.server.session.SessionContext.queryHandlers(SessionContext.scala:53)\n",
       "\tat com.databricks.backend.daemon.data.server.DbfsServerBackend.$anonfun$handleOtherRpc$2(DbfsServerBackend.scala:599)\n",
       "\tat com.databricks.logging.AttributionContextTracing.$anonfun$withAttributionContext$1(AttributionContextTracing.scala:49)\n",
       "\tat com.databricks.logging.AttributionContext$.$anonfun$withValue$1(AttributionContext.scala:290)\n",
       "\tat scala.util.DynamicVariable.withValue(DynamicVariable.scala:62)\n",
       "\tat com.databricks.logging.AttributionContext$.withValue(AttributionContext.scala:286)\n",
       "\tat com.databricks.logging.AttributionContextTracing.withAttributionContext(AttributionContextTracing.scala:47)\n",
       "\tat com.databricks.logging.AttributionContextTracing.withAttributionContext$(AttributionContextTracing.scala:44)\n",
       "\tat com.databricks.rpc.ServerBackend.withAttributionContext(ServerBackend.scala:22)\n",
       "\tat com.databricks.logging.AttributionContextTracing.withAttributionTags(AttributionContextTracing.scala:96)\n",
       "\tat com.databricks.logging.AttributionContextTracing.withAttributionTags$(AttributionContextTracing.scala:77)\n",
       "\tat com.databricks.rpc.ServerBackend.withAttributionTags(ServerBackend.scala:22)\n",
       "\tat com.databricks.backend.daemon.data.server.DbfsServerBackend.com$databricks$backend$daemon$data$server$DbfsServerBackend$$handleOtherRpc(DbfsServerBackend.scala:599)\n",
       "\tat com.databricks.backend.daemon.data.server.DbfsServerBackend$$anonfun$receive$1.applyOrElse(DbfsServerBackend.scala:524)\n",
       "\tat com.databricks.backend.daemon.data.server.DbfsServerBackend$$anonfun$receive$1.applyOrElse(DbfsServerBackend.scala:431)\n",
       "\tat com.databricks.rpc.ServerBackend.$anonfun$internalReceive0$2(ServerBackend.scala:174)\n",
       "\tat com.databricks.rpc.ServerBackend$$anonfun$commonReceive$1.applyOrElse(ServerBackend.scala:200)\n",
       "\tat com.databricks.rpc.ServerBackend$$anonfun$commonReceive$1.applyOrElse(ServerBackend.scala:200)\n",
       "\tat com.databricks.rpc.ServerBackend.internalReceive0(ServerBackend.scala:171)\n",
       "\tat com.databricks.rpc.ServerBackend.$anonfun$internalReceive$1(ServerBackend.scala:147)\n",
       "\tat com.databricks.logging.UsageLogging.$anonfun$recordOperation$1(UsageLogging.scala:510)\n",
       "\tat com.databricks.logging.UsageLogging.executeThunkAndCaptureResultTags$1(UsageLogging.scala:616)\n",
       "\tat com.databricks.logging.UsageLogging.$anonfun$recordOperationWithResultTags$4(UsageLogging.scala:643)\n",
       "\tat com.databricks.logging.AttributionContextTracing.$anonfun$withAttributionContext$1(AttributionContextTracing.scala:49)\n",
       "\tat com.databricks.logging.AttributionContext$.$anonfun$withValue$1(AttributionContext.scala:290)\n",
       "\tat scala.util.DynamicVariable.withValue(DynamicVariable.scala:62)\n",
       "\tat com.databricks.logging.AttributionContext$.withValue(AttributionContext.scala:286)\n",
       "\tat com.databricks.logging.AttributionContextTracing.withAttributionContext(AttributionContextTracing.scala:47)\n",
       "\tat com.databricks.logging.AttributionContextTracing.withAttributionContext$(AttributionContextTracing.scala:44)\n",
       "\tat com.databricks.rpc.ServerBackend.withAttributionContext(ServerBackend.scala:22)\n",
       "\tat com.databricks.logging.AttributionContextTracing.withAttributionTags(AttributionContextTracing.scala:96)\n",
       "\tat com.databricks.logging.AttributionContextTracing.withAttributionTags$(AttributionContextTracing.scala:77)\n",
       "\tat com.databricks.rpc.ServerBackend.withAttributionTags(ServerBackend.scala:22)\n",
       "\tat com.databricks.logging.UsageLogging.recordOperationWithResultTags(UsageLogging.scala:611)\n",
       "\tat com.databricks.logging.UsageLogging.recordOperationWithResultTags$(UsageLogging.scala:519)\n",
       "\tat com.databricks.rpc.ServerBackend.recordOperationWithResultTags(ServerBackend.scala:22)\n",
       "\tat com.databricks.logging.UsageLogging.recordOperation(UsageLogging.scala:511)\n",
       "\tat com.databricks.logging.UsageLogging.recordOperation$(UsageLogging.scala:475)\n",
       "\tat com.databricks.rpc.ServerBackend.recordOperation(ServerBackend.scala:22)\n",
       "\tat com.databricks.rpc.ServerBackend.internalReceive(ServerBackend.scala:146)\n",
       "\tat com.databricks.rpc.JettyServer$RequestManager.handleRPC(JettyServer.scala:1033)\n",
       "\tat com.databricks.rpc.JettyServer$RequestManager.handleRequestAndRespond(JettyServer.scala:953)\n",
       "\tat com.databricks.rpc.JettyServer$RequestManager.$anonfun$handleHttp$5(JettyServer.scala:548)\n",
       "\tat com.databricks.rpc.JettyServer$RequestManager.$anonfun$handleHttp$5$adapted(JettyServer.scala:513)\n",
       "\tat com.databricks.logging.activity.ActivityContextFactory$.$anonfun$withActivityInternal$12(ActivityContextFactory.scala:860)\n",
       "\tat com.databricks.logging.AttributionContextTracing.$anonfun$withAttributionContext$1(AttributionContextTracing.scala:49)\n",
       "\tat com.databricks.logging.AttributionContext$.$anonfun$withValue$1(AttributionContext.scala:290)\n",
       "\tat scala.util.DynamicVariable.withValue(DynamicVariable.scala:62)\n",
       "\tat com.databricks.logging.AttributionContext$.withValue(AttributionContext.scala:286)\n",
       "\tat com.databricks.logging.AttributionContextTracing.withAttributionContext(AttributionContextTracing.scala:47)\n",
       "\tat com.databricks.logging.AttributionContextTracing.withAttributionContext$(AttributionContextTracing.scala:44)\n",
       "\tat com.databricks.logging.activity.ActivityContextFactory$.withAttributionContext(ActivityContextFactory.scala:53)\n",
       "\tat com.databricks.logging.activity.ActivityContextFactory$.$anonfun$withActivityInternal$2(ActivityContextFactory.scala:860)\n",
       "\tat com.databricks.context.integrity.IntegrityCheckContext$ThreadLocalStorage$.withValue(IntegrityCheckContext.scala:73)\n",
       "\tat com.databricks.logging.activity.ActivityContextFactory$.withActivityInternal(ActivityContextFactory.scala:823)\n",
       "\tat com.databricks.logging.activity.ActivityContextFactory$.withActivityInternal(ActivityContextFactory.scala:805)\n",
       "\tat com.databricks.logging.activity.ActivityContextFactory$.$anonfun$withServiceRequestActivity$15(ActivityContextFactory.scala:291)\n",
       "\tat com.databricks.logging.AttributionContextTracing.$anonfun$withAttributionContext$1(AttributionContextTracing.scala:49)\n",
       "\tat com.databricks.logging.AttributionContext$.$anonfun$withValue$1(AttributionContext.scala:290)\n",
       "\tat scala.util.DynamicVariable.withValue(DynamicVariable.scala:62)\n",
       "\tat com.databricks.logging.AttributionContext$.withValue(AttributionContext.scala:286)\n",
       "\tat com.databricks.logging.AttributionContextTracing.withAttributionContext(AttributionContextTracing.scala:47)\n",
       "\tat com.databricks.logging.AttributionContextTracing.withAttributionContext$(AttributionContextTracing.scala:44)\n",
       "\tat com.databricks.logging.activity.ActivityContextFactory$.withAttributionContext(ActivityContextFactory.scala:53)\n",
       "\tat com.databricks.logging.activity.ActivityContextFactory$.withServiceRequestActivity(ActivityContextFactory.scala:291)\n",
       "\tat com.databricks.rpc.JettyServer$RequestManager.handleHttp(JettyServer.scala:513)\n",
       "\tat com.databricks.rpc.JettyServer$RequestManager.doPost(JettyServer.scala:408)\n",
       "\tat javax.servlet.http.HttpServlet.service(HttpServlet.java:665)\n",
       "\tat com.databricks.rpc.HttpServletWithPatch.service(HttpServletWithPatch.scala:33)\n",
       "\tat javax.servlet.http.HttpServlet.service(HttpServlet.java:750)\n",
       "\tat org.eclipse.jetty.servlet.ServletHolder.handle(ServletHolder.java:799)\n",
       "\tat org.eclipse.jetty.servlet.ServletHandler.doHandle(ServletHandler.java:554)\n",
       "\tat org.eclipse.jetty.server.handler.ScopedHandler.nextScope(ScopedHandler.java:190)\n",
       "\tat org.eclipse.jetty.servlet.ServletHandler.doScope(ServletHandler.java:505)\n",
       "\tat org.eclipse.jetty.server.handler.ScopedHandler.handle(ScopedHandler.java:141)\n",
       "\tat org.eclipse.jetty.server.handler.HandlerWrapper.handle(HandlerWrapper.java:127)\n",
       "\tat org.eclipse.jetty.server.Server.handle(Server.java:516)\n",
       "\tat org.eclipse.jetty.server.HttpChannel.lambda$handle$1(HttpChannel.java:487)\n",
       "\tat org.eclipse.jetty.server.HttpChannel.dispatch(HttpChannel.java:732)\n",
       "\tat org.eclipse.jetty.server.HttpChannel.handle(HttpChannel.java:479)\n",
       "\tat org.eclipse.jetty.server.HttpConnection.onFillable(HttpConnection.java:277)\n",
       "\tat org.eclipse.jetty.io.AbstractConnection$ReadCallback.succeeded(AbstractConnection.java:311)\n",
       "\tat org.eclipse.jetty.io.FillInterest.fillable(FillInterest.java:105)\n",
       "\tat org.eclipse.jetty.io.ChannelEndPoint$1.run(ChannelEndPoint.java:104)\n",
       "\tat org.eclipse.jetty.util.thread.strategy.EatWhatYouKill.runTask(EatWhatYouKill.java:338)\n",
       "\tat org.eclipse.jetty.util.thread.strategy.EatWhatYouKill.doProduce(EatWhatYouKill.java:315)\n",
       "\tat org.eclipse.jetty.util.thread.strategy.EatWhatYouKill.tryProduce(EatWhatYouKill.java:173)\n",
       "\tat org.eclipse.jetty.util.thread.strategy.EatWhatYouKill.run(EatWhatYouKill.java:131)\n",
       "\tat org.eclipse.jetty.util.thread.ReservedThreadExecutor$ReservedThread.run(ReservedThreadExecutor.java:409)\n",
       "\tat com.databricks.rpc.InstrumentedQueuedThreadPool$$anon$1.$anonfun$run$2(InstrumentedQueuedThreadPool.scala:110)\n",
       "\tat scala.runtime.java8.JFunction0$mcV$sp.apply(JFunction0$mcV$sp.java:23)\n",
       "\tat com.databricks.logging.AttributionContextTracing.$anonfun$withAttributionContext$1(AttributionContextTracing.scala:49)\n",
       "\tat com.databricks.logging.AttributionContext$.$anonfun$withValue$1(AttributionContext.scala:290)\n",
       "\tat scala.util.DynamicVariable.withValue(DynamicVariable.scala:62)\n",
       "\tat com.databricks.logging.AttributionContext$.withValue(AttributionContext.scala:286)\n",
       "\tat com.databricks.logging.AttributionContextTracing.withAttributionContext(AttributionContextTracing.scala:47)\n",
       "\tat com.databricks.logging.AttributionContextTracing.withAttributionContext$(AttributionContextTracing.scala:44)\n",
       "\tat com.databricks.rpc.InstrumentedQueuedThreadPool.withAttributionContext(InstrumentedQueuedThreadPool.scala:45)\n",
       "\tat com.databricks.rpc.InstrumentedQueuedThreadPool$$anon$1.$anonfun$run$1(InstrumentedQueuedThreadPool.scala:110)\n",
       "\tat scala.runtime.java8.JFunction0$mcV$sp.apply(JFunction0$mcV$sp.java:23)\n",
       "\tat com.databricks.instrumentation.QueuedThreadPoolInstrumenter.trackActiveThreads(QueuedThreadPoolInstrumenter.scala:132)\n",
       "\tat com.databricks.instrumentation.QueuedThreadPoolInstrumenter.trackActiveThreads$(QueuedThreadPoolInstrumenter.scala:129)\n",
       "\tat com.databricks.rpc.InstrumentedQueuedThreadPool.trackActiveThreads(InstrumentedQueuedThreadPool.scala:45)\n",
       "\tat com.databricks.rpc.InstrumentedQueuedThreadPool$$anon$1.run(InstrumentedQueuedThreadPool.scala:92)\n",
       "\tat org.eclipse.jetty.util.thread.QueuedThreadPool.runJob(QueuedThreadPool.java:883)\n",
       "\tat org.eclipse.jetty.util.thread.QueuedThreadPool$Runner.run(QueuedThreadPool.java:1034)\n",
       "\tat java.lang.Thread.run(Thread.java:840)\n",
       "\n",
       "OK!\n",
       "OK!\n",
       "OK!\n",
       "</div>"
      ]
     },
     "metadata": {
      "application/vnd.databricks.v1+output": {
       "addedWidgets": {},
       "arguments": {},
       "data": "<div class=\"ansiout\">Falha An error occurred while calling o1858.mount.\n: java.rmi.RemoteException: java.lang.IllegalArgumentException: requirement failed: Directory already mounted: /mnt/datalake922b9abd80170b5b/lading-zone; nested exception is: \n\tjava.lang.IllegalArgumentException: requirement failed: Directory already mounted: /mnt/datalake922b9abd80170b5b/lading-zone\n\tat com.databricks.backend.daemon.data.client.DbfsClient.send0(DbfsClient.scala:128)\n\tat com.databricks.backend.daemon.data.client.DbfsClient.sendIdempotent(DbfsClient.scala:68)\n\tat com.databricks.backend.daemon.dbutils.DBUtilsCore.createOrUpdateMount(DBUtilsCore.scala:756)\n\tat com.databricks.backend.daemon.dbutils.DBUtilsCore.mount(DBUtilsCore.scala:776)\n\tat sun.reflect.NativeMethodAccessorImpl.invoke0(Native Method)\n\tat sun.reflect.NativeMethodAccessorImpl.invoke(NativeMethodAccessorImpl.java:62)\n\tat sun.reflect.DelegatingMethodAccessorImpl.invoke(DelegatingMethodAccessorImpl.java:43)\n\tat java.lang.reflect.Method.invoke(Method.java:498)\n\tat py4j.reflection.MethodInvoker.invoke(MethodInvoker.java:244)\n\tat py4j.reflection.ReflectionEngine.invoke(ReflectionEngine.java:380)\n\tat py4j.Gateway.invoke(Gateway.java:295)\n\tat py4j.commands.AbstractCommand.invokeMethod(AbstractCommand.java:132)\n\tat py4j.commands.CallCommand.execute(CallCommand.java:79)\n\tat py4j.GatewayConnection.run(GatewayConnection.java:251)\n\tat java.lang.Thread.run(Thread.java:750)\nCaused by: java.lang.IllegalArgumentException: requirement failed: Directory already mounted: /mnt/datalake922b9abd80170b5b/lading-zone\n\tat scala.Predef$.require(Predef.scala:281)\n\tat com.databricks.backend.daemon.data.server.DefaultMetadataManager.$anonfun$insertMount$1(MetadataManager.scala:860)\n\tat com.databricks.backend.daemon.data.server.DefaultMetadataManager.$anonfun$modifyAndVerify$2(MetadataManager.scala:1242)\n\tat scala.runtime.java8.JFunction0$mcV$sp.apply(JFunction0$mcV$sp.java:23)\n\tat com.databricks.backend.daemon.data.server.DefaultMetadataManager.withRetries(MetadataManager.scala:1015)\n\tat com.databricks.backend.daemon.data.server.DefaultMetadataManager.modifyAndVerify(MetadataManager.scala:1231)\n\tat com.databricks.backend.daemon.data.server.DefaultMetadataManager.insertMount(MetadataManager.scala:868)\n\tat com.databricks.backend.daemon.data.server.handler.MountHandler.receive(MountHandler.scala:131)\n\tat com.databricks.backend.daemon.data.server.handler.DbfsRequestHandler.receive(DbfsRequestHandler.scala:16)\n\tat com.databricks.backend.daemon.data.server.handler.DbfsRequestHandler.receive$(DbfsRequestHandler.scala:15)\n\tat com.databricks.backend.daemon.data.server.handler.MountHandler.receive(MountHandler.scala:39)\n\tat com.databricks.backend.daemon.data.server.session.SessionContext.$anonfun$queryHandlers$1(SessionContext.scala:54)\n\tat com.databricks.backend.daemon.data.server.session.SessionContext.$anonfun$queryHandlers$1$adapted(SessionContext.scala:53)\n\tat scala.collection.immutable.List.foreach(List.scala:431)\n\tat com.databricks.backend.daemon.data.server.session.SessionContext.queryHandlers(SessionContext.scala:53)\n\tat com.databricks.backend.daemon.data.server.DbfsServerBackend.$anonfun$handleOtherRpc$2(DbfsServerBackend.scala:599)\n\tat com.databricks.logging.AttributionContextTracing.$anonfun$withAttributionContext$1(AttributionContextTracing.scala:49)\n\tat com.databricks.logging.AttributionContext$.$anonfun$withValue$1(AttributionContext.scala:290)\n\tat scala.util.DynamicVariable.withValue(DynamicVariable.scala:62)\n\tat com.databricks.logging.AttributionContext$.withValue(AttributionContext.scala:286)\n\tat com.databricks.logging.AttributionContextTracing.withAttributionContext(AttributionContextTracing.scala:47)\n\tat com.databricks.logging.AttributionContextTracing.withAttributionContext$(AttributionContextTracing.scala:44)\n\tat com.databricks.rpc.ServerBackend.withAttributionContext(ServerBackend.scala:22)\n\tat com.databricks.logging.AttributionContextTracing.withAttributionTags(AttributionContextTracing.scala:96)\n\tat com.databricks.logging.AttributionContextTracing.withAttributionTags$(AttributionContextTracing.scala:77)\n\tat com.databricks.rpc.ServerBackend.withAttributionTags(ServerBackend.scala:22)\n\tat com.databricks.backend.daemon.data.server.DbfsServerBackend.com$databricks$backend$daemon$data$server$DbfsServerBackend$$handleOtherRpc(DbfsServerBackend.scala:599)\n\tat com.databricks.backend.daemon.data.server.DbfsServerBackend$$anonfun$receive$1.applyOrElse(DbfsServerBackend.scala:524)\n\tat com.databricks.backend.daemon.data.server.DbfsServerBackend$$anonfun$receive$1.applyOrElse(DbfsServerBackend.scala:431)\n\tat com.databricks.rpc.ServerBackend.$anonfun$internalReceive0$2(ServerBackend.scala:174)\n\tat com.databricks.rpc.ServerBackend$$anonfun$commonReceive$1.applyOrElse(ServerBackend.scala:200)\n\tat com.databricks.rpc.ServerBackend$$anonfun$commonReceive$1.applyOrElse(ServerBackend.scala:200)\n\tat com.databricks.rpc.ServerBackend.internalReceive0(ServerBackend.scala:171)\n\tat com.databricks.rpc.ServerBackend.$anonfun$internalReceive$1(ServerBackend.scala:147)\n\tat com.databricks.logging.UsageLogging.$anonfun$recordOperation$1(UsageLogging.scala:510)\n\tat com.databricks.logging.UsageLogging.executeThunkAndCaptureResultTags$1(UsageLogging.scala:616)\n\tat com.databricks.logging.UsageLogging.$anonfun$recordOperationWithResultTags$4(UsageLogging.scala:643)\n\tat com.databricks.logging.AttributionContextTracing.$anonfun$withAttributionContext$1(AttributionContextTracing.scala:49)\n\tat com.databricks.logging.AttributionContext$.$anonfun$withValue$1(AttributionContext.scala:290)\n\tat scala.util.DynamicVariable.withValue(DynamicVariable.scala:62)\n\tat com.databricks.logging.AttributionContext$.withValue(AttributionContext.scala:286)\n\tat com.databricks.logging.AttributionContextTracing.withAttributionContext(AttributionContextTracing.scala:47)\n\tat com.databricks.logging.AttributionContextTracing.withAttributionContext$(AttributionContextTracing.scala:44)\n\tat com.databricks.rpc.ServerBackend.withAttributionContext(ServerBackend.scala:22)\n\tat com.databricks.logging.AttributionContextTracing.withAttributionTags(AttributionContextTracing.scala:96)\n\tat com.databricks.logging.AttributionContextTracing.withAttributionTags$(AttributionContextTracing.scala:77)\n\tat com.databricks.rpc.ServerBackend.withAttributionTags(ServerBackend.scala:22)\n\tat com.databricks.logging.UsageLogging.recordOperationWithResultTags(UsageLogging.scala:611)\n\tat com.databricks.logging.UsageLogging.recordOperationWithResultTags$(UsageLogging.scala:519)\n\tat com.databricks.rpc.ServerBackend.recordOperationWithResultTags(ServerBackend.scala:22)\n\tat com.databricks.logging.UsageLogging.recordOperation(UsageLogging.scala:511)\n\tat com.databricks.logging.UsageLogging.recordOperation$(UsageLogging.scala:475)\n\tat com.databricks.rpc.ServerBackend.recordOperation(ServerBackend.scala:22)\n\tat com.databricks.rpc.ServerBackend.internalReceive(ServerBackend.scala:146)\n\tat com.databricks.rpc.JettyServer$RequestManager.handleRPC(JettyServer.scala:1033)\n\tat com.databricks.rpc.JettyServer$RequestManager.handleRequestAndRespond(JettyServer.scala:953)\n\tat com.databricks.rpc.JettyServer$RequestManager.$anonfun$handleHttp$5(JettyServer.scala:548)\n\tat com.databricks.rpc.JettyServer$RequestManager.$anonfun$handleHttp$5$adapted(JettyServer.scala:513)\n\tat com.databricks.logging.activity.ActivityContextFactory$.$anonfun$withActivityInternal$12(ActivityContextFactory.scala:860)\n\tat com.databricks.logging.AttributionContextTracing.$anonfun$withAttributionContext$1(AttributionContextTracing.scala:49)\n\tat com.databricks.logging.AttributionContext$.$anonfun$withValue$1(AttributionContext.scala:290)\n\tat scala.util.DynamicVariable.withValue(DynamicVariable.scala:62)\n\tat com.databricks.logging.AttributionContext$.withValue(AttributionContext.scala:286)\n\tat com.databricks.logging.AttributionContextTracing.withAttributionContext(AttributionContextTracing.scala:47)\n\tat com.databricks.logging.AttributionContextTracing.withAttributionContext$(AttributionContextTracing.scala:44)\n\tat com.databricks.logging.activity.ActivityContextFactory$.withAttributionContext(ActivityContextFactory.scala:53)\n\tat com.databricks.logging.activity.ActivityContextFactory$.$anonfun$withActivityInternal$2(ActivityContextFactory.scala:860)\n\tat com.databricks.context.integrity.IntegrityCheckContext$ThreadLocalStorage$.withValue(IntegrityCheckContext.scala:73)\n\tat com.databricks.logging.activity.ActivityContextFactory$.withActivityInternal(ActivityContextFactory.scala:823)\n\tat com.databricks.logging.activity.ActivityContextFactory$.withActivityInternal(ActivityContextFactory.scala:805)\n\tat com.databricks.logging.activity.ActivityContextFactory$.$anonfun$withServiceRequestActivity$15(ActivityContextFactory.scala:291)\n\tat com.databricks.logging.AttributionContextTracing.$anonfun$withAttributionContext$1(AttributionContextTracing.scala:49)\n\tat com.databricks.logging.AttributionContext$.$anonfun$withValue$1(AttributionContext.scala:290)\n\tat scala.util.DynamicVariable.withValue(DynamicVariable.scala:62)\n\tat com.databricks.logging.AttributionContext$.withValue(AttributionContext.scala:286)\n\tat com.databricks.logging.AttributionContextTracing.withAttributionContext(AttributionContextTracing.scala:47)\n\tat com.databricks.logging.AttributionContextTracing.withAttributionContext$(AttributionContextTracing.scala:44)\n\tat com.databricks.logging.activity.ActivityContextFactory$.withAttributionContext(ActivityContextFactory.scala:53)\n\tat com.databricks.logging.activity.ActivityContextFactory$.withServiceRequestActivity(ActivityContextFactory.scala:291)\n\tat com.databricks.rpc.JettyServer$RequestManager.handleHttp(JettyServer.scala:513)\n\tat com.databricks.rpc.JettyServer$RequestManager.doPost(JettyServer.scala:408)\n\tat javax.servlet.http.HttpServlet.service(HttpServlet.java:665)\n\tat com.databricks.rpc.HttpServletWithPatch.service(HttpServletWithPatch.scala:33)\n\tat javax.servlet.http.HttpServlet.service(HttpServlet.java:750)\n\tat org.eclipse.jetty.servlet.ServletHolder.handle(ServletHolder.java:799)\n\tat org.eclipse.jetty.servlet.ServletHandler.doHandle(ServletHandler.java:554)\n\tat org.eclipse.jetty.server.handler.ScopedHandler.nextScope(ScopedHandler.java:190)\n\tat org.eclipse.jetty.servlet.ServletHandler.doScope(ServletHandler.java:505)\n\tat org.eclipse.jetty.server.handler.ScopedHandler.handle(ScopedHandler.java:141)\n\tat org.eclipse.jetty.server.handler.HandlerWrapper.handle(HandlerWrapper.java:127)\n\tat org.eclipse.jetty.server.Server.handle(Server.java:516)\n\tat org.eclipse.jetty.server.HttpChannel.lambda$handle$1(HttpChannel.java:487)\n\tat org.eclipse.jetty.server.HttpChannel.dispatch(HttpChannel.java:732)\n\tat org.eclipse.jetty.server.HttpChannel.handle(HttpChannel.java:479)\n\tat org.eclipse.jetty.server.HttpConnection.onFillable(HttpConnection.java:277)\n\tat org.eclipse.jetty.io.AbstractConnection$ReadCallback.succeeded(AbstractConnection.java:311)\n\tat org.eclipse.jetty.io.FillInterest.fillable(FillInterest.java:105)\n\tat org.eclipse.jetty.io.ChannelEndPoint$1.run(ChannelEndPoint.java:104)\n\tat org.eclipse.jetty.util.thread.strategy.EatWhatYouKill.runTask(EatWhatYouKill.java:338)\n\tat org.eclipse.jetty.util.thread.strategy.EatWhatYouKill.doProduce(EatWhatYouKill.java:315)\n\tat org.eclipse.jetty.util.thread.strategy.EatWhatYouKill.tryProduce(EatWhatYouKill.java:173)\n\tat org.eclipse.jetty.util.thread.strategy.EatWhatYouKill.run(EatWhatYouKill.java:131)\n\tat org.eclipse.jetty.util.thread.ReservedThreadExecutor$ReservedThread.run(ReservedThreadExecutor.java:409)\n\tat com.databricks.rpc.InstrumentedQueuedThreadPool$$anon$1.$anonfun$run$2(InstrumentedQueuedThreadPool.scala:110)\n\tat scala.runtime.java8.JFunction0$mcV$sp.apply(JFunction0$mcV$sp.java:23)\n\tat com.databricks.logging.AttributionContextTracing.$anonfun$withAttributionContext$1(AttributionContextTracing.scala:49)\n\tat com.databricks.logging.AttributionContext$.$anonfun$withValue$1(AttributionContext.scala:290)\n\tat scala.util.DynamicVariable.withValue(DynamicVariable.scala:62)\n\tat com.databricks.logging.AttributionContext$.withValue(AttributionContext.scala:286)\n\tat com.databricks.logging.AttributionContextTracing.withAttributionContext(AttributionContextTracing.scala:47)\n\tat com.databricks.logging.AttributionContextTracing.withAttributionContext$(AttributionContextTracing.scala:44)\n\tat com.databricks.rpc.InstrumentedQueuedThreadPool.withAttributionContext(InstrumentedQueuedThreadPool.scala:45)\n\tat com.databricks.rpc.InstrumentedQueuedThreadPool$$anon$1.$anonfun$run$1(InstrumentedQueuedThreadPool.scala:110)\n\tat scala.runtime.java8.JFunction0$mcV$sp.apply(JFunction0$mcV$sp.java:23)\n\tat com.databricks.instrumentation.QueuedThreadPoolInstrumenter.trackActiveThreads(QueuedThreadPoolInstrumenter.scala:132)\n\tat com.databricks.instrumentation.QueuedThreadPoolInstrumenter.trackActiveThreads$(QueuedThreadPoolInstrumenter.scala:129)\n\tat com.databricks.rpc.InstrumentedQueuedThreadPool.trackActiveThreads(InstrumentedQueuedThreadPool.scala:45)\n\tat com.databricks.rpc.InstrumentedQueuedThreadPool$$anon$1.run(InstrumentedQueuedThreadPool.scala:92)\n\tat org.eclipse.jetty.util.thread.QueuedThreadPool.runJob(QueuedThreadPool.java:883)\n\tat org.eclipse.jetty.util.thread.QueuedThreadPool$Runner.run(QueuedThreadPool.java:1034)\n\tat java.lang.Thread.run(Thread.java:840)\n\nOK!\nOK!\nOK!\n</div>",
       "datasetInfos": [],
       "metadata": {},
       "removedWidgets": [],
       "type": "html"
      }
     },
     "output_type": "display_data"
    }
   ],
   "source": [
    "#mount_adls('lading-zone')\n",
    "#mount_adls('bronze')\n",
    "#mount_adls('silver')\n",
    "#mount_adls('gold')"
   ]
  },
  {
   "cell_type": "markdown",
   "metadata": {
    "application/vnd.databricks.v1+cell": {
     "cellMetadata": {},
     "inputWidgets": {},
     "nuid": "fced822b-8bab-437b-8a58-add8a4acd24a",
     "showTitle": false,
     "tableResultSettingsMap": {},
     "title": ""
    }
   },
   "source": [
    "###Mostrando os pontos de montagem no cluster Databricks"
   ]
  },
  {
   "cell_type": "markdown",
   "metadata": {
    "application/vnd.databricks.v1+cell": {
     "cellMetadata": {},
     "inputWidgets": {},
     "nuid": "1ef3c883-3b0f-44cb-8917-49f1f1fd3819",
     "showTitle": false,
     "tableResultSettingsMap": {},
     "title": ""
    }
   },
   "source": [
    "###Gerando um dataframe dos delta lake no container gold do Azure Data Lake Storage"
   ]
  },
  {
   "cell_type": "code",
   "execution_count": 0,
   "metadata": {
    "application/vnd.databricks.v1+cell": {
     "cellMetadata": {
      "byteLimit": 2048000,
      "rowLimit": 10000
     },
     "inputWidgets": {},
     "nuid": "37774595-e2cd-4ba0-92aa-4a6f239c0e7b",
     "showTitle": false,
     "tableResultSettingsMap": {},
     "title": ""
    }
   },
   "outputs": [
    {
     "output_type": "display_data",
     "data": {
      "text/html": [
       "<style scoped>\n",
       "  .ansiout {\n",
       "    display: block;\n",
       "    unicode-bidi: embed;\n",
       "    white-space: pre-wrap;\n",
       "    word-wrap: break-word;\n",
       "    word-break: break-all;\n",
       "    font-family: \"Menlo\", \"Monaco\", \"Consolas\", \"Ubuntu Mono\", \"Source Code Pro\", monospace;\n",
       "    font-size: 13px;\n",
       "    color: #555;\n",
       "    margin-left: 4px;\n",
       "    line-height: 19px;\n",
       "  }\n",
       "</style>\n",
       "<div class=\"ansiout\"></div>"
      ]
     },
     "metadata": {
      "application/vnd.databricks.v1+output": {
       "addedWidgets": {},
       "arguments": {},
       "data": "<div class=\"ansiout\"></div>",
       "datasetInfos": [],
       "metadata": {},
       "removedWidgets": [],
       "type": "html"
      }
     },
     "output_type": "display_data"
    }
   ],
   "source": [
    "df_avaliacoes          = spark.read.format('delta').load(f\"/mnt/{storageAccountName}/silver/ecommerce/avaliacoes\")\n",
    "df_categorias          = spark.read.format('delta').load(f\"/mnt/{storageAccountName}/silver/ecommerce/categorias\")\n",
    "df_clientes            = spark.read.format('delta').load(f\"/mnt/{storageAccountName}/silver/ecommerce/clientes\")\n",
    "df_enderecos_cliente  = spark.read.format('delta').load(f\"/mnt/{storageAccountName}/silver/ecommerce/enderecos_cliente\")\n",
    "df_entregas            = spark.read.format('delta').load(f\"/mnt/{storageAccountName}/silver/ecommerce/entregas\")\n",
    "df_estoque             = spark.read.format('delta').load(f\"/mnt/{storageAccountName}/silver/ecommerce/estoque\")\n",
    "df_formas_pagamento    = spark.read.format('delta').load(f\"/mnt/{storageAccountName}/silver/ecommerce/formas_pagamento\")\n",
    "df_itens_pedidos       = spark.read.format('delta').load(f\"/mnt/{storageAccountName}/silver/ecommerce/itens_pedido\")\n",
    "df_pagamentos          = spark.read.format('delta').load(f\"/mnt/{storageAccountName}/silver/ecommerce/pagamentos\")\n",
    "df_pedidos             = spark.read.format('delta').load(f\"/mnt/{storageAccountName}/silver/ecommerce/pedidos\")\n",
    "df_produtos            = spark.read.format('delta').load(f\"/mnt/{storageAccountName}/silver/ecommerce/produtos\")\n",
    "df_transportadoras     = spark.read.format('delta').load(f\"/mnt/{storageAccountName}/silver/ecommerce/transportadoras\")\n",
    "df_vendedores          = spark.read.format('delta').load(f\"/mnt/{storageAccountName}/silver/ecommerce/vendedores\")"
   ]
  },
  {
   "cell_type": "markdown",
   "metadata": {
    "application/vnd.databricks.v1+cell": {
     "cellMetadata": {},
     "inputWidgets": {},
     "nuid": "e4ffc23f-8add-4747-b572-b470a7e5eb8f",
     "showTitle": false,
     "tableResultSettingsMap": {},
     "title": ""
    }
   },
   "source": [
    "### Adicionando metadados de data e hora de processamento e nome do arquivo de origem"
   ]
  },
  {
   "cell_type": "code",
   "execution_count": 0,
   "metadata": {
    "application/vnd.databricks.v1+cell": {
     "cellMetadata": {
      "byteLimit": 2048000,
      "implicitDf": true,
      "rowLimit": 10000
     },
     "inputWidgets": {},
     "nuid": "0fa2081d-bfb4-46df-9c28-be8568da4856",
     "showTitle": false,
     "tableResultSettingsMap": {},
     "title": ""
    }
   },
   "outputs": [
    {
     "output_type": "display_data",
     "data": {
      "text/html": [
       "<style scoped>\n",
       "  .ansiout {\n",
       "    display: block;\n",
       "    unicode-bidi: embed;\n",
       "    white-space: pre-wrap;\n",
       "    word-wrap: break-word;\n",
       "    word-break: break-all;\n",
       "    font-family: \"Menlo\", \"Monaco\", \"Consolas\", \"Ubuntu Mono\", \"Source Code Pro\", monospace;\n",
       "    font-size: 13px;\n",
       "    color: #555;\n",
       "    margin-left: 4px;\n",
       "    line-height: 19px;\n",
       "  }\n",
       "</style>\n",
       "<div class=\"ansiout\"></div>"
      ]
     },
     "metadata": {
      "application/vnd.databricks.v1+output": {
       "addedWidgets": {},
       "arguments": {},
       "data": "<div class=\"ansiout\"></div>",
       "datasetInfos": [],
       "metadata": {},
       "removedWidgets": [],
       "type": "html"
      }
     },
     "output_type": "display_data"
    }
   ],
   "source": [
    "from pyspark.sql.functions import current_timestamp, lit\n",
    "\n",
    "\n",
    "df_avaliacoes          = df_avaliacoes.withColumn(\"data_hora_gold\", current_timestamp()).withColumn(\"nome_arquivo\", lit(\"avaliacoes\"))\n",
    "df_categorias          = df_categorias.withColumn(\"data_hora_gold\", current_timestamp()).withColumn(\"nome_arquivo\", lit(\"categorias\"))\n",
    "df_clientes            = df_clientes.withColumn(\"data_hora_gold\", current_timestamp()).withColumn(\"nome_arquivo\", lit(\"clientes\"))\n",
    "df_entregas            = df_entregas.withColumn(\"data_hora_gold\", current_timestamp()).withColumn(\"nome_arquivo\", lit(\"entregas\"))\n",
    "df_estoque             = df_estoque.withColumn(\"data_hora_gold\", current_timestamp()).withColumn(\"nome_arquivo\", lit(\"estoque\"))\n",
    "df_formas_pagamento    = df_formas_pagamento.withColumn(\"data_hora_gold\", current_timestamp()).withColumn(\"nome_arquivo\", lit(\"formas_pagamento\"))\n",
    "df_itens_pedidos       = df_itens_pedidos.withColumn(\"data_hora_gold\", current_timestamp()).withColumn(\"nome_arquivo\", lit(\"itens_pedidos\"))\n",
    "df_pagamentos          = df_pagamentos.withColumn(\"data_hora_gold\", current_timestamp()).withColumn(\"nome_arquivo\", lit(\"pagamentos\"))\n",
    "df_pedidos             = df_pedidos.withColumn(\"data_hora_gold\", current_timestamp()).withColumn(\"nome_arquivo\", lit(\"pedidos\"))\n",
    "df_produtos            = df_produtos.withColumn(\"data_hora_gold\", current_timestamp()).withColumn(\"nome_arquivo\", lit(\"produtos\"))\n",
    "df_transportadoras     = df_transportadoras.withColumn(\"data_hora_gold\", current_timestamp()).withColumn(\"nome_arquivo\", lit(\"transportadoras\"))\n",
    "df_vendedores          = df_vendedores.withColumn(\"data_hora_gold\", current_timestamp()).withColumn(\"nome_arquivo\", lit(\"vendedores\"))"
   ]
  },
  {
   "cell_type": "code",
   "execution_count": 0,
   "metadata": {
    "application/vnd.databricks.v1+cell": {
     "cellMetadata": {
      "byteLimit": 2048000,
      "rowLimit": 10000
     },
     "inputWidgets": {},
     "nuid": "adec6215-e3ca-44aa-83ec-e1d556641758",
     "showTitle": false,
     "tableResultSettingsMap": {},
     "title": ""
    }
   },
   "outputs": [
    {
     "output_type": "display_data",
     "data": {
      "text/html": [
       "<style scoped>\n",
       "  .ansiout {\n",
       "    display: block;\n",
       "    unicode-bidi: embed;\n",
       "    white-space: pre-wrap;\n",
       "    word-wrap: break-word;\n",
       "    word-break: break-all;\n",
       "    font-family: \"Menlo\", \"Monaco\", \"Consolas\", \"Ubuntu Mono\", \"Source Code Pro\", monospace;\n",
       "    font-size: 13px;\n",
       "    color: #555;\n",
       "    margin-left: 4px;\n",
       "    line-height: 19px;\n",
       "  }\n",
       "</style>\n",
       "<div class=\"ansiout\"></div>"
      ]
     },
     "metadata": {
      "application/vnd.databricks.v1+output": {
       "addedWidgets": {},
       "arguments": {},
       "data": "<div class=\"ansiout\"></div>",
       "datasetInfos": [],
       "metadata": {},
       "removedWidgets": [],
       "type": "html"
      }
     },
     "output_type": "display_data"
    }
   ],
   "source": [
    "from pyspark.sql.functions import current_timestamp, lit\n",
    "\n",
    "df_enderecos_cliente = (\n",
    "    df_enderecos_cliente\n",
    "    .withColumnRenamed(\"CCODIGOADE\", \"CIDADE\")  # renomeia a coluna errada para a correta\n",
    "    .withColumn(\"data_hora_gold\", current_timestamp())\n",
    "    .withColumn(\"nome_arquivo\", lit(\"enderecos_cliente\"))\n",
    ")\n",
    "\n",
    "df_itens_pedidos = (\n",
    "    df_itens_pedidos\n",
    "    .withColumnRenamed(\"QUANTCODIGOADE\", \"QUANTIDADE\")  # renomeia a coluna errada para a correta\n",
    "    .withColumn(\"data_hora_gold\", current_timestamp())\n",
    "    .withColumn(\"nome_arquivo\", lit(\"enderecos_cliente\"))\n",
    ")\n",
    "\n",
    "\n"
   ]
  },
  {
   "cell_type": "code",
   "execution_count": 0,
   "metadata": {
    "application/vnd.databricks.v1+cell": {
     "cellMetadata": {
      "byteLimit": 2048000,
      "implicitDf": true,
      "rowLimit": 10000
     },
     "inputWidgets": {},
     "nuid": "cbebe619-0b7d-4dfb-a92c-b894bc4c5df2",
     "showTitle": false,
     "tableResultSettingsMap": {},
     "title": ""
    }
   },
   "outputs": [
    {
     "output_type": "display_data",
     "data": {
      "text/html": [
       "<style scoped>\n",
       "  .table-result-container {\n",
       "    max-height: 300px;\n",
       "    overflow: auto;\n",
       "  }\n",
       "  table, th, td {\n",
       "    border: 1px solid black;\n",
       "    border-collapse: collapse;\n",
       "  }\n",
       "  th, td {\n",
       "    padding: 5px;\n",
       "  }\n",
       "  th {\n",
       "    text-align: left;\n",
       "  }\n",
       "</style><div class='table-result-container'><table class='table-result'><thead style='background-color: white'><tr></tr></thead><tbody></tbody></table></div>"
      ]
     },
     "metadata": {
      "application/vnd.databricks.v1+output": {
       "addedWidgets": {},
       "aggData": [],
       "aggError": "",
       "aggOverflow": false,
       "aggSchema": [],
       "aggSeriesLimitReached": false,
       "aggType": "",
       "arguments": {},
       "columnCustomDisplayInfos": {},
       "data": [],
       "datasetInfos": [],
       "dbfsResultPath": null,
       "isJsonSchema": true,
       "metadata": {},
       "overflow": false,
       "plotOptions": {
        "customPlotOptions": {},
        "displayType": "table",
        "pivotAggregation": null,
        "pivotColumns": null,
        "xColumns": null,
        "yColumns": null
       },
       "removedWidgets": [],
       "schema": [],
       "type": "table"
      }
     },
     "output_type": "display_data"
    }
   ],
   "source": [
    "%sql\n",
    "drop table if exists dim_clientes"
   ]
  },
  {
   "cell_type": "code",
   "execution_count": 0,
   "metadata": {
    "application/vnd.databricks.v1+cell": {
     "cellMetadata": {
      "byteLimit": 2048000,
      "implicitDf": true,
      "rowLimit": 10000
     },
     "inputWidgets": {},
     "nuid": "dd47b378-23e5-46a7-a90e-043ade6c47ab",
     "showTitle": false,
     "tableResultSettingsMap": {},
     "title": ""
    }
   },
   "outputs": [
    {
     "output_type": "display_data",
     "data": {
      "text/html": [
       "<style scoped>\n",
       "  .table-result-container {\n",
       "    max-height: 300px;\n",
       "    overflow: auto;\n",
       "  }\n",
       "  table, th, td {\n",
       "    border: 1px solid black;\n",
       "    border-collapse: collapse;\n",
       "  }\n",
       "  th, td {\n",
       "    padding: 5px;\n",
       "  }\n",
       "  th {\n",
       "    text-align: left;\n",
       "  }\n",
       "</style><div class='table-result-container'><table class='table-result'><thead style='background-color: white'><tr></tr></thead><tbody></tbody></table></div>"
      ]
     },
     "metadata": {
      "application/vnd.databricks.v1+output": {
       "addedWidgets": {},
       "aggData": [],
       "aggError": "",
       "aggOverflow": false,
       "aggSchema": [],
       "aggSeriesLimitReached": false,
       "aggType": "",
       "arguments": {},
       "columnCustomDisplayInfos": {},
       "data": [],
       "datasetInfos": [],
       "dbfsResultPath": null,
       "isJsonSchema": true,
       "metadata": {},
       "overflow": false,
       "plotOptions": {
        "customPlotOptions": {},
        "displayType": "table",
        "pivotAggregation": null,
        "pivotColumns": null,
        "xColumns": null,
        "yColumns": null
       },
       "removedWidgets": [],
       "schema": [],
       "type": "table"
      }
     },
     "output_type": "display_data"
    }
   ],
   "source": [
    "%sql\n",
    "CREATE TABLE IF NOT EXISTS dim_clientes (\n",
    "  ID BIGINT GENERATED ALWAYS AS IDENTITY,\n",
    "  CODIGO_CLIENTE INT,\n",
    "  NOME STRING,\n",
    "  EMAIL STRING,\n",
    "  TELEFONE STRING,\n",
    "  CIDADE STRING,\n",
    "  ESTADO STRING,\n",
    "  DATA_CADASTRO TIMESTAMP\n",
    ")\n",
    "USING delta\n",
    "LOCATION '/mnt/datalake922b9abd80170b5b/gold/ecommerce/dim_clientes';\n"
   ]
  },
  {
   "cell_type": "code",
   "execution_count": 0,
   "metadata": {
    "application/vnd.databricks.v1+cell": {
     "cellMetadata": {
      "byteLimit": 2048000,
      "rowLimit": 10000
     },
     "inputWidgets": {},
     "nuid": "99ab6a78-3746-4224-9366-a1cc6848dc71",
     "showTitle": false,
     "tableResultSettingsMap": {},
     "title": ""
    }
   },
   "outputs": [
    {
     "output_type": "display_data",
     "data": {
      "text/html": [
       "<style scoped>\n",
       "  .ansiout {\n",
       "    display: block;\n",
       "    unicode-bidi: embed;\n",
       "    white-space: pre-wrap;\n",
       "    word-wrap: break-word;\n",
       "    word-break: break-all;\n",
       "    font-family: \"Menlo\", \"Monaco\", \"Consolas\", \"Ubuntu Mono\", \"Source Code Pro\", monospace;\n",
       "    font-size: 13px;\n",
       "    color: #555;\n",
       "    margin-left: 4px;\n",
       "    line-height: 19px;\n",
       "  }\n",
       "</style>\n",
       "<div class=\"ansiout\"></div>"
      ]
     },
     "metadata": {
      "application/vnd.databricks.v1+output": {
       "addedWidgets": {},
       "arguments": {},
       "data": "<div class=\"ansiout\"></div>",
       "datasetInfos": [],
       "metadata": {},
       "removedWidgets": [],
       "type": "html"
      }
     },
     "output_type": "display_data"
    }
   ],
   "source": [
    "df_clientes.createOrReplaceTempView(\"silver_clientes\")\n",
    "df_enderecos_cliente.createOrReplaceTempView(\"silver_enderecos_cliente\")\n"
   ]
  },
  {
   "cell_type": "code",
   "execution_count": 0,
   "metadata": {
    "application/vnd.databricks.v1+cell": {
     "cellMetadata": {
      "byteLimit": 2048000,
      "implicitDf": true,
      "rowLimit": 10000
     },
     "inputWidgets": {},
     "nuid": "ec9854b4-a7bb-4942-b5d2-e00316f9df84",
     "showTitle": false,
     "tableResultSettingsMap": {},
     "title": ""
    }
   },
   "outputs": [
    {
     "output_type": "display_data",
     "data": {
      "text/html": [
       "<style scoped>\n",
       "  .table-result-container {\n",
       "    max-height: 300px;\n",
       "    overflow: auto;\n",
       "  }\n",
       "  table, th, td {\n",
       "    border: 1px solid black;\n",
       "    border-collapse: collapse;\n",
       "  }\n",
       "  th, td {\n",
       "    padding: 5px;\n",
       "  }\n",
       "  th {\n",
       "    text-align: left;\n",
       "  }\n",
       "</style><div class='table-result-container'><table class='table-result'><thead style='background-color: white'><tr><th>num_affected_rows</th><th>num_updated_rows</th><th>num_deleted_rows</th><th>num_inserted_rows</th></tr></thead><tbody><tr><td>13710</td><td>0</td><td>0</td><td>13710</td></tr></tbody></table></div>"
      ]
     },
     "metadata": {
      "application/vnd.databricks.v1+output": {
       "addedWidgets": {},
       "aggData": [],
       "aggError": "",
       "aggOverflow": false,
       "aggSchema": [],
       "aggSeriesLimitReached": false,
       "aggType": "",
       "arguments": {},
       "columnCustomDisplayInfos": {},
       "data": [
        [
         13710,
         0,
         0,
         13710
        ]
       ],
       "datasetInfos": [],
       "dbfsResultPath": null,
       "isJsonSchema": true,
       "metadata": {},
       "overflow": false,
       "plotOptions": {
        "customPlotOptions": {},
        "displayType": "table",
        "pivotAggregation": null,
        "pivotColumns": null,
        "xColumns": null,
        "yColumns": null
       },
       "removedWidgets": [],
       "schema": [
        {
         "metadata": "{}",
         "name": "num_affected_rows",
         "type": "\"long\""
        },
        {
         "metadata": "{}",
         "name": "num_updated_rows",
         "type": "\"long\""
        },
        {
         "metadata": "{}",
         "name": "num_deleted_rows",
         "type": "\"long\""
        },
        {
         "metadata": "{}",
         "name": "num_inserted_rows",
         "type": "\"long\""
        }
       ],
       "type": "table"
      }
     },
     "output_type": "display_data"
    }
   ],
   "source": [
    "%sql\n",
    "-- Criar TEMP VIEW com os dados de origem\n",
    "CREATE OR REPLACE TEMP VIEW dim_clientes_temp AS\n",
    "SELECT\n",
    "    c.CODIGO AS CODIGO_CLIENTE,\n",
    "    c.NOME,\n",
    "    c.EMAIL,\n",
    "    c.TELEFONE,\n",
    "    ec.CIDADE,\n",
    "    ec.ESTADO,\n",
    "    c.DATA_CADASTRO\n",
    "FROM silver_clientes c\n",
    "LEFT JOIN silver_enderecos_cliente ec ON c.CODIGO = ec.CODIGO_CLIENTE;\n",
    "\n",
    "-- MERGE na tabela de dimensão usando a chave natural\n",
    "MERGE INTO dim_clientes AS target\n",
    "USING dim_clientes_temp AS source\n",
    "ON target.CODIGO_CLIENTE = source.CODIGO_CLIENTE\n",
    "WHEN MATCHED THEN\n",
    "  UPDATE SET\n",
    "    target.NOME = source.NOME,\n",
    "    target.EMAIL = source.EMAIL,\n",
    "    target.TELEFONE = source.TELEFONE,\n",
    "    target.CIDADE = source.CIDADE,\n",
    "    target.ESTADO = source.ESTADO,\n",
    "    target.DATA_CADASTRO = source.DATA_CADASTRO\n",
    "WHEN NOT MATCHED THEN\n",
    "  INSERT (CODIGO_CLIENTE, NOME, EMAIL, TELEFONE, CIDADE, ESTADO, DATA_CADASTRO)\n",
    "  VALUES (source.CODIGO_CLIENTE, source.NOME, source.EMAIL, source.TELEFONE, source.CIDADE, source.ESTADO, source.DATA_CADASTRO);\n"
   ]
  },
  {
   "cell_type": "code",
   "execution_count": 0,
   "metadata": {
    "application/vnd.databricks.v1+cell": {
     "cellMetadata": {
      "byteLimit": 2048000,
      "implicitDf": true,
      "rowLimit": 10000
     },
     "inputWidgets": {},
     "nuid": "ae1f215d-de53-4bd2-8a42-70f5d839eed2",
     "showTitle": false,
     "tableResultSettingsMap": {},
     "title": ""
    }
   },
   "outputs": [
    {
     "output_type": "display_data",
     "data": {
      "text/html": [
       "<style scoped>\n",
       "  .table-result-container {\n",
       "    max-height: 300px;\n",
       "    overflow: auto;\n",
       "  }\n",
       "  table, th, td {\n",
       "    border: 1px solid black;\n",
       "    border-collapse: collapse;\n",
       "  }\n",
       "  th, td {\n",
       "    padding: 5px;\n",
       "  }\n",
       "  th {\n",
       "    text-align: left;\n",
       "  }\n",
       "</style><div class='table-result-container'><table class='table-result'><thead style='background-color: white'><tr></tr></thead><tbody></tbody></table></div>"
      ]
     },
     "metadata": {
      "application/vnd.databricks.v1+output": {
       "addedWidgets": {},
       "aggData": [],
       "aggError": "",
       "aggOverflow": false,
       "aggSchema": [],
       "aggSeriesLimitReached": false,
       "aggType": "",
       "arguments": {},
       "columnCustomDisplayInfos": {},
       "data": [],
       "datasetInfos": [],
       "dbfsResultPath": null,
       "isJsonSchema": true,
       "metadata": {},
       "overflow": false,
       "plotOptions": {
        "customPlotOptions": {},
        "displayType": "table",
        "pivotAggregation": null,
        "pivotColumns": null,
        "xColumns": null,
        "yColumns": null
       },
       "removedWidgets": [],
       "schema": [],
       "type": "table"
      }
     },
     "output_type": "display_data"
    }
   ],
   "source": [
    "%sql\n",
    "drop table if exists dim_produtos"
   ]
  },
  {
   "cell_type": "code",
   "execution_count": 0,
   "metadata": {
    "application/vnd.databricks.v1+cell": {
     "cellMetadata": {
      "byteLimit": 2048000,
      "implicitDf": true,
      "rowLimit": 10000
     },
     "inputWidgets": {},
     "nuid": "b5b3f5ec-8df9-4a04-9407-47606d8f1605",
     "showTitle": false,
     "tableResultSettingsMap": {},
     "title": ""
    }
   },
   "outputs": [
    {
     "output_type": "display_data",
     "data": {
      "text/html": [
       "<style scoped>\n",
       "  .table-result-container {\n",
       "    max-height: 300px;\n",
       "    overflow: auto;\n",
       "  }\n",
       "  table, th, td {\n",
       "    border: 1px solid black;\n",
       "    border-collapse: collapse;\n",
       "  }\n",
       "  th, td {\n",
       "    padding: 5px;\n",
       "  }\n",
       "  th {\n",
       "    text-align: left;\n",
       "  }\n",
       "</style><div class='table-result-container'><table class='table-result'><thead style='background-color: white'><tr></tr></thead><tbody></tbody></table></div>"
      ]
     },
     "metadata": {
      "application/vnd.databricks.v1+output": {
       "addedWidgets": {},
       "aggData": [],
       "aggError": "",
       "aggOverflow": false,
       "aggSchema": [],
       "aggSeriesLimitReached": false,
       "aggType": "",
       "arguments": {},
       "columnCustomDisplayInfos": {},
       "data": [],
       "datasetInfos": [],
       "dbfsResultPath": null,
       "isJsonSchema": true,
       "metadata": {},
       "overflow": false,
       "plotOptions": {
        "customPlotOptions": {},
        "displayType": "table",
        "pivotAggregation": null,
        "pivotColumns": null,
        "xColumns": null,
        "yColumns": null
       },
       "removedWidgets": [],
       "schema": [],
       "type": "table"
      }
     },
     "output_type": "display_data"
    }
   ],
   "source": [
    "%sql\n",
    "CREATE TABLE IF NOT EXISTS dim_produtos (\n",
    "  ID BIGINT GENERATED ALWAYS AS IDENTITY,  -- Chave substituta (SK)\n",
    "  CODIGO_PRODUTO INT,                      -- Chave natural do sistema transacional\n",
    "  NOME STRING,\n",
    "  DESCRICAO STRING,\n",
    "  PRECO DECIMAL(10,2),\n",
    "  CATEGORIA STRING,\n",
    "  DATA_CADASTRO TIMESTAMP\n",
    ")\n",
    "USING delta\n",
    "LOCATION '/mnt/datalake922b9abd80170b5b/gold/ecommerce/dim_produtos';\n"
   ]
  },
  {
   "cell_type": "code",
   "execution_count": 0,
   "metadata": {
    "application/vnd.databricks.v1+cell": {
     "cellMetadata": {
      "byteLimit": 2048000,
      "rowLimit": 10000
     },
     "inputWidgets": {},
     "nuid": "dee5f5a6-16c4-4070-9aa1-c3509dc2a7d0",
     "showTitle": false,
     "tableResultSettingsMap": {},
     "title": ""
    }
   },
   "outputs": [
    {
     "output_type": "display_data",
     "data": {
      "text/html": [
       "<style scoped>\n",
       "  .ansiout {\n",
       "    display: block;\n",
       "    unicode-bidi: embed;\n",
       "    white-space: pre-wrap;\n",
       "    word-wrap: break-word;\n",
       "    word-break: break-all;\n",
       "    font-family: \"Menlo\", \"Monaco\", \"Consolas\", \"Ubuntu Mono\", \"Source Code Pro\", monospace;\n",
       "    font-size: 13px;\n",
       "    color: #555;\n",
       "    margin-left: 4px;\n",
       "    line-height: 19px;\n",
       "  }\n",
       "</style>\n",
       "<div class=\"ansiout\"></div>"
      ]
     },
     "metadata": {
      "application/vnd.databricks.v1+output": {
       "addedWidgets": {},
       "arguments": {},
       "data": "<div class=\"ansiout\"></div>",
       "datasetInfos": [],
       "metadata": {},
       "removedWidgets": [],
       "type": "html"
      }
     },
     "output_type": "display_data"
    }
   ],
   "source": [
    "df_produtos.createOrReplaceTempView(\"silver_produtos\")\n",
    "df_categorias.createOrReplaceTempView(\"silver_categorias\")\n"
   ]
  },
  {
   "cell_type": "code",
   "execution_count": 0,
   "metadata": {
    "application/vnd.databricks.v1+cell": {
     "cellMetadata": {
      "byteLimit": 2048000,
      "implicitDf": true,
      "rowLimit": 10000
     },
     "inputWidgets": {},
     "nuid": "a85fab92-e2d4-4be7-b1e6-bdb9cbf762e4",
     "showTitle": false,
     "tableResultSettingsMap": {},
     "title": ""
    }
   },
   "outputs": [
    {
     "output_type": "display_data",
     "data": {
      "text/html": [
       "<style scoped>\n",
       "  .table-result-container {\n",
       "    max-height: 300px;\n",
       "    overflow: auto;\n",
       "  }\n",
       "  table, th, td {\n",
       "    border: 1px solid black;\n",
       "    border-collapse: collapse;\n",
       "  }\n",
       "  th, td {\n",
       "    padding: 5px;\n",
       "  }\n",
       "  th {\n",
       "    text-align: left;\n",
       "  }\n",
       "</style><div class='table-result-container'><table class='table-result'><thead style='background-color: white'><tr><th>num_affected_rows</th><th>num_updated_rows</th><th>num_deleted_rows</th><th>num_inserted_rows</th></tr></thead><tbody><tr><td>30001</td><td>0</td><td>0</td><td>30001</td></tr></tbody></table></div>"
      ]
     },
     "metadata": {
      "application/vnd.databricks.v1+output": {
       "addedWidgets": {},
       "aggData": [],
       "aggError": "",
       "aggOverflow": false,
       "aggSchema": [],
       "aggSeriesLimitReached": false,
       "aggType": "",
       "arguments": {},
       "columnCustomDisplayInfos": {},
       "data": [
        [
         30001,
         0,
         0,
         30001
        ]
       ],
       "datasetInfos": [],
       "dbfsResultPath": null,
       "isJsonSchema": true,
       "metadata": {},
       "overflow": false,
       "plotOptions": {
        "customPlotOptions": {},
        "displayType": "table",
        "pivotAggregation": null,
        "pivotColumns": null,
        "xColumns": null,
        "yColumns": null
       },
       "removedWidgets": [],
       "schema": [
        {
         "metadata": "{}",
         "name": "num_affected_rows",
         "type": "\"long\""
        },
        {
         "metadata": "{}",
         "name": "num_updated_rows",
         "type": "\"long\""
        },
        {
         "metadata": "{}",
         "name": "num_deleted_rows",
         "type": "\"long\""
        },
        {
         "metadata": "{}",
         "name": "num_inserted_rows",
         "type": "\"long\""
        }
       ],
       "type": "table"
      }
     },
     "output_type": "display_data"
    }
   ],
   "source": [
    "%sql\n",
    "-- Criar ou substituir a TEMP VIEW com os dados transformados\n",
    "CREATE OR REPLACE TEMP VIEW dim_produtos_temp AS\n",
    "SELECT\n",
    "    p.CODIGO AS CODIGO_PRODUTO,\n",
    "    p.NOME,\n",
    "    p.DESCRICAO,\n",
    "    p.PRECO,\n",
    "    c.NOME AS CATEGORIA,\n",
    "    p.DATA_CADASTRO\n",
    "FROM silver_produtos p\n",
    "LEFT JOIN silver_categorias c ON p.CODIGO_CATEGORIA = c.CODIGO;\n",
    "\n",
    "-- Realizar o MERGE na tabela de dimensão\n",
    "MERGE INTO dim_produtos AS target\n",
    "USING dim_produtos_temp AS source\n",
    "ON target.CODIGO_PRODUTO = source.CODIGO_PRODUTO\n",
    "WHEN MATCHED THEN\n",
    "  UPDATE SET\n",
    "    target.NOME = source.NOME,\n",
    "    target.DESCRICAO = source.DESCRICAO,\n",
    "    target.PRECO = source.PRECO,\n",
    "    target.CATEGORIA = source.CATEGORIA,\n",
    "    target.DATA_CADASTRO = source.DATA_CADASTRO\n",
    "WHEN NOT MATCHED THEN\n",
    "  INSERT (CODIGO_PRODUTO, NOME, DESCRICAO, PRECO, CATEGORIA, DATA_CADASTRO)\n",
    "  VALUES (source.CODIGO_PRODUTO, source.NOME, source.DESCRICAO, source.PRECO, source.CATEGORIA, source.DATA_CADASTRO);\n"
   ]
  },
  {
   "cell_type": "code",
   "execution_count": 0,
   "metadata": {
    "application/vnd.databricks.v1+cell": {
     "cellMetadata": {
      "byteLimit": 2048000,
      "implicitDf": true,
      "rowLimit": 10000
     },
     "inputWidgets": {},
     "nuid": "21da4b2c-2605-4e10-9143-62874ab3bd33",
     "showTitle": false,
     "tableResultSettingsMap": {},
     "title": ""
    }
   },
   "outputs": [
    {
     "output_type": "display_data",
     "data": {
      "text/html": [
       "<style scoped>\n",
       "  .table-result-container {\n",
       "    max-height: 300px;\n",
       "    overflow: auto;\n",
       "  }\n",
       "  table, th, td {\n",
       "    border: 1px solid black;\n",
       "    border-collapse: collapse;\n",
       "  }\n",
       "  th, td {\n",
       "    padding: 5px;\n",
       "  }\n",
       "  th {\n",
       "    text-align: left;\n",
       "  }\n",
       "</style><div class='table-result-container'><table class='table-result'><thead style='background-color: white'><tr></tr></thead><tbody></tbody></table></div>"
      ]
     },
     "metadata": {
      "application/vnd.databricks.v1+output": {
       "addedWidgets": {},
       "aggData": [],
       "aggError": "",
       "aggOverflow": false,
       "aggSchema": [],
       "aggSeriesLimitReached": false,
       "aggType": "",
       "arguments": {},
       "columnCustomDisplayInfos": {},
       "data": [],
       "datasetInfos": [],
       "dbfsResultPath": null,
       "isJsonSchema": true,
       "metadata": {},
       "overflow": false,
       "plotOptions": {
        "customPlotOptions": {},
        "displayType": "table",
        "pivotAggregation": null,
        "pivotColumns": null,
        "xColumns": null,
        "yColumns": null
       },
       "removedWidgets": [],
       "schema": [],
       "type": "table"
      }
     },
     "output_type": "display_data"
    }
   ],
   "source": [
    "%sql\n",
    "drop table if exists dim_vendedores"
   ]
  },
  {
   "cell_type": "code",
   "execution_count": 0,
   "metadata": {
    "application/vnd.databricks.v1+cell": {
     "cellMetadata": {
      "byteLimit": 2048000,
      "implicitDf": true,
      "rowLimit": 10000
     },
     "inputWidgets": {},
     "nuid": "11144097-7d89-4c00-a7a7-862e825efe78",
     "showTitle": false,
     "tableResultSettingsMap": {},
     "title": ""
    }
   },
   "outputs": [
    {
     "output_type": "display_data",
     "data": {
      "text/html": [
       "<style scoped>\n",
       "  .table-result-container {\n",
       "    max-height: 300px;\n",
       "    overflow: auto;\n",
       "  }\n",
       "  table, th, td {\n",
       "    border: 1px solid black;\n",
       "    border-collapse: collapse;\n",
       "  }\n",
       "  th, td {\n",
       "    padding: 5px;\n",
       "  }\n",
       "  th {\n",
       "    text-align: left;\n",
       "  }\n",
       "</style><div class='table-result-container'><table class='table-result'><thead style='background-color: white'><tr></tr></thead><tbody></tbody></table></div>"
      ]
     },
     "metadata": {
      "application/vnd.databricks.v1+output": {
       "addedWidgets": {},
       "aggData": [],
       "aggError": "",
       "aggOverflow": false,
       "aggSchema": [],
       "aggSeriesLimitReached": false,
       "aggType": "",
       "arguments": {},
       "columnCustomDisplayInfos": {},
       "data": [],
       "datasetInfos": [],
       "dbfsResultPath": null,
       "isJsonSchema": true,
       "metadata": {},
       "overflow": false,
       "plotOptions": {
        "customPlotOptions": {},
        "displayType": "table",
        "pivotAggregation": null,
        "pivotColumns": null,
        "xColumns": null,
        "yColumns": null
       },
       "removedWidgets": [],
       "schema": [],
       "type": "table"
      }
     },
     "output_type": "display_data"
    }
   ],
   "source": [
    "%sql\n",
    "CREATE TABLE IF NOT EXISTS dim_vendedores (\n",
    "  ID BIGINT GENERATED ALWAYS AS IDENTITY,   -- Chave substituta (SK)\n",
    "  CODIGO_VENDEDOR INT,                      -- Chave natural do sistema de origem\n",
    "  NOME STRING,\n",
    "  EMAIL STRING,\n",
    "  TELEFONE STRING,\n",
    "  DATA_CADASTRO TIMESTAMP\n",
    ")\n",
    "USING delta\n",
    "LOCATION '/mnt/datalake922b9abd80170b5b/gold/ecommerce/dim_vendedores';\n"
   ]
  },
  {
   "cell_type": "code",
   "execution_count": 0,
   "metadata": {
    "application/vnd.databricks.v1+cell": {
     "cellMetadata": {
      "byteLimit": 2048000,
      "rowLimit": 10000
     },
     "inputWidgets": {},
     "nuid": "da3bd224-f639-45a6-8e6c-b9e2fe8af100",
     "showTitle": false,
     "tableResultSettingsMap": {},
     "title": ""
    }
   },
   "outputs": [
    {
     "output_type": "display_data",
     "data": {
      "text/html": [
       "<style scoped>\n",
       "  .ansiout {\n",
       "    display: block;\n",
       "    unicode-bidi: embed;\n",
       "    white-space: pre-wrap;\n",
       "    word-wrap: break-word;\n",
       "    word-break: break-all;\n",
       "    font-family: \"Menlo\", \"Monaco\", \"Consolas\", \"Ubuntu Mono\", \"Source Code Pro\", monospace;\n",
       "    font-size: 13px;\n",
       "    color: #555;\n",
       "    margin-left: 4px;\n",
       "    line-height: 19px;\n",
       "  }\n",
       "</style>\n",
       "<div class=\"ansiout\"></div>"
      ]
     },
     "metadata": {
      "application/vnd.databricks.v1+output": {
       "addedWidgets": {},
       "arguments": {},
       "data": "<div class=\"ansiout\"></div>",
       "datasetInfos": [],
       "metadata": {},
       "removedWidgets": [],
       "type": "html"
      }
     },
     "output_type": "display_data"
    }
   ],
   "source": [
    "df_vendedores.createOrReplaceTempView(\"silver_vendedores\")\n"
   ]
  },
  {
   "cell_type": "code",
   "execution_count": 0,
   "metadata": {
    "application/vnd.databricks.v1+cell": {
     "cellMetadata": {
      "byteLimit": 2048000,
      "implicitDf": true,
      "rowLimit": 10000
     },
     "inputWidgets": {},
     "nuid": "72426df3-9bd6-4405-bb4a-2a1eef7619dc",
     "showTitle": false,
     "tableResultSettingsMap": {},
     "title": ""
    }
   },
   "outputs": [
    {
     "output_type": "display_data",
     "data": {
      "text/html": [
       "<style scoped>\n",
       "  .table-result-container {\n",
       "    max-height: 300px;\n",
       "    overflow: auto;\n",
       "  }\n",
       "  table, th, td {\n",
       "    border: 1px solid black;\n",
       "    border-collapse: collapse;\n",
       "  }\n",
       "  th, td {\n",
       "    padding: 5px;\n",
       "  }\n",
       "  th {\n",
       "    text-align: left;\n",
       "  }\n",
       "</style><div class='table-result-container'><table class='table-result'><thead style='background-color: white'><tr><th>num_affected_rows</th><th>num_updated_rows</th><th>num_deleted_rows</th><th>num_inserted_rows</th></tr></thead><tbody><tr><td>1001</td><td>0</td><td>0</td><td>1001</td></tr></tbody></table></div>"
      ]
     },
     "metadata": {
      "application/vnd.databricks.v1+output": {
       "addedWidgets": {},
       "aggData": [],
       "aggError": "",
       "aggOverflow": false,
       "aggSchema": [],
       "aggSeriesLimitReached": false,
       "aggType": "",
       "arguments": {},
       "columnCustomDisplayInfos": {},
       "data": [
        [
         1001,
         0,
         0,
         1001
        ]
       ],
       "datasetInfos": [],
       "dbfsResultPath": null,
       "isJsonSchema": true,
       "metadata": {},
       "overflow": false,
       "plotOptions": {
        "customPlotOptions": {},
        "displayType": "table",
        "pivotAggregation": null,
        "pivotColumns": null,
        "xColumns": null,
        "yColumns": null
       },
       "removedWidgets": [],
       "schema": [
        {
         "metadata": "{}",
         "name": "num_affected_rows",
         "type": "\"long\""
        },
        {
         "metadata": "{}",
         "name": "num_updated_rows",
         "type": "\"long\""
        },
        {
         "metadata": "{}",
         "name": "num_deleted_rows",
         "type": "\"long\""
        },
        {
         "metadata": "{}",
         "name": "num_inserted_rows",
         "type": "\"long\""
        }
       ],
       "type": "table"
      }
     },
     "output_type": "display_data"
    }
   ],
   "source": [
    "%sql\n",
    "-- Criar ou substituir a TEMP VIEW com os dados transformados\n",
    "CREATE OR REPLACE TEMP VIEW dim_vendedores_temp AS\n",
    "SELECT\n",
    "    CODIGO AS CODIGO_VENDEDOR,\n",
    "    NOME,\n",
    "    EMAIL,\n",
    "    TELEFONE,\n",
    "    DATA_CADASTRO\n",
    "FROM silver_vendedores;\n",
    "\n",
    "-- Realizar o MERGE na tabela de dimensão\n",
    "MERGE INTO dim_vendedores AS target\n",
    "USING dim_vendedores_temp AS source\n",
    "ON target.CODIGO_VENDEDOR = source.CODIGO_VENDEDOR\n",
    "WHEN MATCHED THEN\n",
    "  UPDATE SET\n",
    "    target.NOME = source.NOME,\n",
    "    target.EMAIL = source.EMAIL,\n",
    "    target.TELEFONE = source.TELEFONE,\n",
    "    target.DATA_CADASTRO = source.DATA_CADASTRO\n",
    "WHEN NOT MATCHED THEN\n",
    "  INSERT (CODIGO_VENDEDOR, NOME, EMAIL, TELEFONE, DATA_CADASTRO)\n",
    "  VALUES (source.CODIGO_VENDEDOR, source.NOME, source.EMAIL, source.TELEFONE, source.DATA_CADASTRO);\n"
   ]
  },
  {
   "cell_type": "code",
   "execution_count": 0,
   "metadata": {
    "application/vnd.databricks.v1+cell": {
     "cellMetadata": {
      "byteLimit": 2048000,
      "implicitDf": true,
      "rowLimit": 10000
     },
     "inputWidgets": {},
     "nuid": "a0619578-4ba4-4f15-b941-874c78e455cf",
     "showTitle": false,
     "tableResultSettingsMap": {},
     "title": ""
    }
   },
   "outputs": [
    {
     "output_type": "display_data",
     "data": {
      "text/html": [
       "<style scoped>\n",
       "  .table-result-container {\n",
       "    max-height: 300px;\n",
       "    overflow: auto;\n",
       "  }\n",
       "  table, th, td {\n",
       "    border: 1px solid black;\n",
       "    border-collapse: collapse;\n",
       "  }\n",
       "  th, td {\n",
       "    padding: 5px;\n",
       "  }\n",
       "  th {\n",
       "    text-align: left;\n",
       "  }\n",
       "</style><div class='table-result-container'><table class='table-result'><thead style='background-color: white'><tr></tr></thead><tbody></tbody></table></div>"
      ]
     },
     "metadata": {
      "application/vnd.databricks.v1+output": {
       "addedWidgets": {},
       "aggData": [],
       "aggError": "",
       "aggOverflow": false,
       "aggSchema": [],
       "aggSeriesLimitReached": false,
       "aggType": "",
       "arguments": {},
       "columnCustomDisplayInfos": {},
       "data": [],
       "datasetInfos": [],
       "dbfsResultPath": null,
       "isJsonSchema": true,
       "metadata": {},
       "overflow": false,
       "plotOptions": {
        "customPlotOptions": {},
        "displayType": "table",
        "pivotAggregation": null,
        "pivotColumns": null,
        "xColumns": null,
        "yColumns": null
       },
       "removedWidgets": [],
       "schema": [],
       "type": "table"
      }
     },
     "output_type": "display_data"
    }
   ],
   "source": [
    "%sql\n",
    "drop table if exists dim_formas_pagamento"
   ]
  },
  {
   "cell_type": "code",
   "execution_count": 0,
   "metadata": {
    "application/vnd.databricks.v1+cell": {
     "cellMetadata": {
      "byteLimit": 2048000,
      "implicitDf": true,
      "rowLimit": 10000
     },
     "inputWidgets": {},
     "nuid": "493808b4-1d9a-4770-bd29-96e6449c894c",
     "showTitle": false,
     "tableResultSettingsMap": {},
     "title": ""
    }
   },
   "outputs": [
    {
     "output_type": "display_data",
     "data": {
      "text/html": [
       "<style scoped>\n",
       "  .table-result-container {\n",
       "    max-height: 300px;\n",
       "    overflow: auto;\n",
       "  }\n",
       "  table, th, td {\n",
       "    border: 1px solid black;\n",
       "    border-collapse: collapse;\n",
       "  }\n",
       "  th, td {\n",
       "    padding: 5px;\n",
       "  }\n",
       "  th {\n",
       "    text-align: left;\n",
       "  }\n",
       "</style><div class='table-result-container'><table class='table-result'><thead style='background-color: white'><tr></tr></thead><tbody></tbody></table></div>"
      ]
     },
     "metadata": {
      "application/vnd.databricks.v1+output": {
       "addedWidgets": {},
       "aggData": [],
       "aggError": "",
       "aggOverflow": false,
       "aggSchema": [],
       "aggSeriesLimitReached": false,
       "aggType": "",
       "arguments": {},
       "columnCustomDisplayInfos": {},
       "data": [],
       "datasetInfos": [],
       "dbfsResultPath": null,
       "isJsonSchema": true,
       "metadata": {},
       "overflow": false,
       "plotOptions": {
        "customPlotOptions": {},
        "displayType": "table",
        "pivotAggregation": null,
        "pivotColumns": null,
        "xColumns": null,
        "yColumns": null
       },
       "removedWidgets": [],
       "schema": [],
       "type": "table"
      }
     },
     "output_type": "display_data"
    }
   ],
   "source": [
    "%sql\n",
    "CREATE TABLE IF NOT EXISTS dim_formas_pagamento (\n",
    "  ID BIGINT GENERATED ALWAYS AS IDENTITY,  -- Chave substituta (SK)\n",
    "  CODIGO_FORMA INT,                        -- Chave natural (caso exista)\n",
    "  DESCRICAO STRING\n",
    ")\n",
    "USING delta\n",
    "LOCATION '/mnt/datalake922b9abd80170b5b/gold/ecommerce/dim_formas_pagamento';\n"
   ]
  },
  {
   "cell_type": "code",
   "execution_count": 0,
   "metadata": {
    "application/vnd.databricks.v1+cell": {
     "cellMetadata": {
      "byteLimit": 2048000,
      "rowLimit": 10000
     },
     "inputWidgets": {},
     "nuid": "86b438a3-ac08-4b3d-a535-178ddd127d22",
     "showTitle": false,
     "tableResultSettingsMap": {},
     "title": ""
    }
   },
   "outputs": [
    {
     "output_type": "display_data",
     "data": {
      "text/html": [
       "<style scoped>\n",
       "  .ansiout {\n",
       "    display: block;\n",
       "    unicode-bidi: embed;\n",
       "    white-space: pre-wrap;\n",
       "    word-wrap: break-word;\n",
       "    word-break: break-all;\n",
       "    font-family: \"Menlo\", \"Monaco\", \"Consolas\", \"Ubuntu Mono\", \"Source Code Pro\", monospace;\n",
       "    font-size: 13px;\n",
       "    color: #555;\n",
       "    margin-left: 4px;\n",
       "    line-height: 19px;\n",
       "  }\n",
       "</style>\n",
       "<div class=\"ansiout\"></div>"
      ]
     },
     "metadata": {
      "application/vnd.databricks.v1+output": {
       "addedWidgets": {},
       "arguments": {},
       "data": "<div class=\"ansiout\"></div>",
       "datasetInfos": [],
       "metadata": {},
       "removedWidgets": [],
       "type": "html"
      }
     },
     "output_type": "display_data"
    }
   ],
   "source": [
    "df_formas_pagamento.createOrReplaceTempView(\"silver_formas_pagamento\")\n"
   ]
  },
  {
   "cell_type": "code",
   "execution_count": 0,
   "metadata": {
    "application/vnd.databricks.v1+cell": {
     "cellMetadata": {
      "byteLimit": 2048000,
      "implicitDf": true,
      "rowLimit": 10000
     },
     "inputWidgets": {},
     "nuid": "5053f5b7-846f-45aa-abfe-0f4621829f91",
     "showTitle": false,
     "tableResultSettingsMap": {},
     "title": ""
    }
   },
   "outputs": [
    {
     "output_type": "display_data",
     "data": {
      "text/html": [
       "<style scoped>\n",
       "  .table-result-container {\n",
       "    max-height: 300px;\n",
       "    overflow: auto;\n",
       "  }\n",
       "  table, th, td {\n",
       "    border: 1px solid black;\n",
       "    border-collapse: collapse;\n",
       "  }\n",
       "  th, td {\n",
       "    padding: 5px;\n",
       "  }\n",
       "  th {\n",
       "    text-align: left;\n",
       "  }\n",
       "</style><div class='table-result-container'><table class='table-result'><thead style='background-color: white'><tr><th>num_affected_rows</th><th>num_updated_rows</th><th>num_deleted_rows</th><th>num_inserted_rows</th></tr></thead><tbody><tr><td>11</td><td>0</td><td>0</td><td>11</td></tr></tbody></table></div>"
      ]
     },
     "metadata": {
      "application/vnd.databricks.v1+output": {
       "addedWidgets": {},
       "aggData": [],
       "aggError": "",
       "aggOverflow": false,
       "aggSchema": [],
       "aggSeriesLimitReached": false,
       "aggType": "",
       "arguments": {},
       "columnCustomDisplayInfos": {},
       "data": [
        [
         11,
         0,
         0,
         11
        ]
       ],
       "datasetInfos": [],
       "dbfsResultPath": null,
       "isJsonSchema": true,
       "metadata": {},
       "overflow": false,
       "plotOptions": {
        "customPlotOptions": {},
        "displayType": "table",
        "pivotAggregation": null,
        "pivotColumns": null,
        "xColumns": null,
        "yColumns": null
       },
       "removedWidgets": [],
       "schema": [
        {
         "metadata": "{}",
         "name": "num_affected_rows",
         "type": "\"long\""
        },
        {
         "metadata": "{}",
         "name": "num_updated_rows",
         "type": "\"long\""
        },
        {
         "metadata": "{}",
         "name": "num_deleted_rows",
         "type": "\"long\""
        },
        {
         "metadata": "{}",
         "name": "num_inserted_rows",
         "type": "\"long\""
        }
       ],
       "type": "table"
      }
     },
     "output_type": "display_data"
    }
   ],
   "source": [
    "%sql\n",
    "-- Criar ou substituir a TEMP VIEW com dados da origem\n",
    "CREATE OR REPLACE TEMP VIEW dim_formas_pagamento_temp AS\n",
    "SELECT\n",
    "    CODIGO AS CODIGO_FORMA,\n",
    "    DESCRICAO\n",
    "FROM silver_formas_pagamento;\n",
    "\n",
    "-- MERGE na dimensão dim_formas_pagamento\n",
    "MERGE INTO dim_formas_pagamento AS target\n",
    "USING dim_formas_pagamento_temp AS source\n",
    "ON target.CODIGO_FORMA = source.CODIGO_FORMA\n",
    "WHEN MATCHED THEN\n",
    "  UPDATE SET\n",
    "    target.DESCRICAO = source.DESCRICAO\n",
    "WHEN NOT MATCHED THEN\n",
    "  INSERT (CODIGO_FORMA, DESCRICAO)\n",
    "  VALUES (source.CODIGO_FORMA, source.DESCRICAO);\n"
   ]
  },
  {
   "cell_type": "code",
   "execution_count": 0,
   "metadata": {
    "application/vnd.databricks.v1+cell": {
     "cellMetadata": {
      "byteLimit": 2048000,
      "implicitDf": true,
      "rowLimit": 10000
     },
     "inputWidgets": {},
     "nuid": "397149cb-dda6-4a3b-a9ad-1c5a367d301f",
     "showTitle": false,
     "tableResultSettingsMap": {},
     "title": ""
    }
   },
   "outputs": [
    {
     "output_type": "display_data",
     "data": {
      "text/html": [
       "<style scoped>\n",
       "  .table-result-container {\n",
       "    max-height: 300px;\n",
       "    overflow: auto;\n",
       "  }\n",
       "  table, th, td {\n",
       "    border: 1px solid black;\n",
       "    border-collapse: collapse;\n",
       "  }\n",
       "  th, td {\n",
       "    padding: 5px;\n",
       "  }\n",
       "  th {\n",
       "    text-align: left;\n",
       "  }\n",
       "</style><div class='table-result-container'><table class='table-result'><thead style='background-color: white'><tr></tr></thead><tbody></tbody></table></div>"
      ]
     },
     "metadata": {
      "application/vnd.databricks.v1+output": {
       "addedWidgets": {},
       "aggData": [],
       "aggError": "",
       "aggOverflow": false,
       "aggSchema": [],
       "aggSeriesLimitReached": false,
       "aggType": "",
       "arguments": {},
       "columnCustomDisplayInfos": {},
       "data": [],
       "datasetInfos": [],
       "dbfsResultPath": null,
       "isJsonSchema": true,
       "metadata": {},
       "overflow": false,
       "plotOptions": {
        "customPlotOptions": {},
        "displayType": "table",
        "pivotAggregation": null,
        "pivotColumns": null,
        "xColumns": null,
        "yColumns": null
       },
       "removedWidgets": [],
       "schema": [],
       "type": "table"
      }
     },
     "output_type": "display_data"
    }
   ],
   "source": [
    "%sql\n",
    "drop table if exists dim_tempo"
   ]
  },
  {
   "cell_type": "code",
   "execution_count": 0,
   "metadata": {
    "application/vnd.databricks.v1+cell": {
     "cellMetadata": {
      "byteLimit": 2048000,
      "rowLimit": 10000
     },
     "inputWidgets": {},
     "nuid": "301533d9-90b2-4acd-8b91-a70c09db884c",
     "showTitle": false,
     "tableResultSettingsMap": {},
     "title": ""
    }
   },
   "outputs": [
    {
     "output_type": "display_data",
     "data": {
      "text/html": [
       "<style scoped>\n",
       "  .table-result-container {\n",
       "    max-height: 300px;\n",
       "    overflow: auto;\n",
       "  }\n",
       "  table, th, td {\n",
       "    border: 1px solid black;\n",
       "    border-collapse: collapse;\n",
       "  }\n",
       "  th, td {\n",
       "    padding: 5px;\n",
       "  }\n",
       "  th {\n",
       "    text-align: left;\n",
       "  }\n",
       "</style><div class='table-result-container'><table class='table-result'><thead style='background-color: white'><tr><th>Data</th><th>Ano</th><th>Mes</th><th>NomeMes</th><th>Dia</th><th>NomeDiaSemana</th><th>NumeroDiaSemana</th><th>ID</th></tr></thead><tbody><tr><td>2022-01-01</td><td>2022</td><td>1</td><td>JANEIRO</td><td>1</td><td>SABADO</td><td>7</td><td>20220101</td></tr><tr><td>2022-01-02</td><td>2022</td><td>1</td><td>JANEIRO</td><td>2</td><td>DOMINGO</td><td>1</td><td>20220102</td></tr><tr><td>2022-01-03</td><td>2022</td><td>1</td><td>JANEIRO</td><td>3</td><td>SEGUNDA-FEIRA</td><td>2</td><td>20220103</td></tr><tr><td>2022-01-04</td><td>2022</td><td>1</td><td>JANEIRO</td><td>4</td><td>TERCA-FEIRA</td><td>3</td><td>20220104</td></tr><tr><td>2022-01-05</td><td>2022</td><td>1</td><td>JANEIRO</td><td>5</td><td>QUARTA-FEIRA</td><td>4</td><td>20220105</td></tr><tr><td>2022-01-06</td><td>2022</td><td>1</td><td>JANEIRO</td><td>6</td><td>QUINTA-FEIRA</td><td>5</td><td>20220106</td></tr><tr><td>2022-01-07</td><td>2022</td><td>1</td><td>JANEIRO</td><td>7</td><td>SEXTA-FEIRA</td><td>6</td><td>20220107</td></tr><tr><td>2022-01-08</td><td>2022</td><td>1</td><td>JANEIRO</td><td>8</td><td>SABADO</td><td>7</td><td>20220108</td></tr><tr><td>2022-01-09</td><td>2022</td><td>1</td><td>JANEIRO</td><td>9</td><td>DOMINGO</td><td>1</td><td>20220109</td></tr><tr><td>2022-01-10</td><td>2022</td><td>1</td><td>JANEIRO</td><td>10</td><td>SEGUNDA-FEIRA</td><td>2</td><td>20220110</td></tr><tr><td>2022-01-11</td><td>2022</td><td>1</td><td>JANEIRO</td><td>11</td><td>TERCA-FEIRA</td><td>3</td><td>20220111</td></tr><tr><td>2022-01-12</td><td>2022</td><td>1</td><td>JANEIRO</td><td>12</td><td>QUARTA-FEIRA</td><td>4</td><td>20220112</td></tr><tr><td>2022-01-13</td><td>2022</td><td>1</td><td>JANEIRO</td><td>13</td><td>QUINTA-FEIRA</td><td>5</td><td>20220113</td></tr><tr><td>2022-01-14</td><td>2022</td><td>1</td><td>JANEIRO</td><td>14</td><td>SEXTA-FEIRA</td><td>6</td><td>20220114</td></tr><tr><td>2022-01-15</td><td>2022</td><td>1</td><td>JANEIRO</td><td>15</td><td>SABADO</td><td>7</td><td>20220115</td></tr><tr><td>2022-01-16</td><td>2022</td><td>1</td><td>JANEIRO</td><td>16</td><td>DOMINGO</td><td>1</td><td>20220116</td></tr><tr><td>2022-01-17</td><td>2022</td><td>1</td><td>JANEIRO</td><td>17</td><td>SEGUNDA-FEIRA</td><td>2</td><td>20220117</td></tr><tr><td>2022-01-18</td><td>2022</td><td>1</td><td>JANEIRO</td><td>18</td><td>TERCA-FEIRA</td><td>3</td><td>20220118</td></tr><tr><td>2022-01-19</td><td>2022</td><td>1</td><td>JANEIRO</td><td>19</td><td>QUARTA-FEIRA</td><td>4</td><td>20220119</td></tr><tr><td>2022-01-20</td><td>2022</td><td>1</td><td>JANEIRO</td><td>20</td><td>QUINTA-FEIRA</td><td>5</td><td>20220120</td></tr><tr><td>2022-01-21</td><td>2022</td><td>1</td><td>JANEIRO</td><td>21</td><td>SEXTA-FEIRA</td><td>6</td><td>20220121</td></tr><tr><td>2022-01-22</td><td>2022</td><td>1</td><td>JANEIRO</td><td>22</td><td>SABADO</td><td>7</td><td>20220122</td></tr><tr><td>2022-01-23</td><td>2022</td><td>1</td><td>JANEIRO</td><td>23</td><td>DOMINGO</td><td>1</td><td>20220123</td></tr><tr><td>2022-01-24</td><td>2022</td><td>1</td><td>JANEIRO</td><td>24</td><td>SEGUNDA-FEIRA</td><td>2</td><td>20220124</td></tr><tr><td>2022-01-25</td><td>2022</td><td>1</td><td>JANEIRO</td><td>25</td><td>TERCA-FEIRA</td><td>3</td><td>20220125</td></tr><tr><td>2022-01-26</td><td>2022</td><td>1</td><td>JANEIRO</td><td>26</td><td>QUARTA-FEIRA</td><td>4</td><td>20220126</td></tr><tr><td>2022-01-27</td><td>2022</td><td>1</td><td>JANEIRO</td><td>27</td><td>QUINTA-FEIRA</td><td>5</td><td>20220127</td></tr><tr><td>2022-01-28</td><td>2022</td><td>1</td><td>JANEIRO</td><td>28</td><td>SEXTA-FEIRA</td><td>6</td><td>20220128</td></tr><tr><td>2022-01-29</td><td>2022</td><td>1</td><td>JANEIRO</td><td>29</td><td>SABADO</td><td>7</td><td>20220129</td></tr><tr><td>2022-01-30</td><td>2022</td><td>1</td><td>JANEIRO</td><td>30</td><td>DOMINGO</td><td>1</td><td>20220130</td></tr><tr><td>2022-01-31</td><td>2022</td><td>1</td><td>JANEIRO</td><td>31</td><td>SEGUNDA-FEIRA</td><td>2</td><td>20220131</td></tr><tr><td>2022-02-01</td><td>2022</td><td>2</td><td>FEVEREIRO</td><td>1</td><td>TERCA-FEIRA</td><td>3</td><td>20220201</td></tr><tr><td>2022-02-02</td><td>2022</td><td>2</td><td>FEVEREIRO</td><td>2</td><td>QUARTA-FEIRA</td><td>4</td><td>20220202</td></tr><tr><td>2022-02-03</td><td>2022</td><td>2</td><td>FEVEREIRO</td><td>3</td><td>QUINTA-FEIRA</td><td>5</td><td>20220203</td></tr><tr><td>2022-02-04</td><td>2022</td><td>2</td><td>FEVEREIRO</td><td>4</td><td>SEXTA-FEIRA</td><td>6</td><td>20220204</td></tr><tr><td>2022-02-05</td><td>2022</td><td>2</td><td>FEVEREIRO</td><td>5</td><td>SABADO</td><td>7</td><td>20220205</td></tr><tr><td>2022-02-06</td><td>2022</td><td>2</td><td>FEVEREIRO</td><td>6</td><td>DOMINGO</td><td>1</td><td>20220206</td></tr><tr><td>2022-02-07</td><td>2022</td><td>2</td><td>FEVEREIRO</td><td>7</td><td>SEGUNDA-FEIRA</td><td>2</td><td>20220207</td></tr><tr><td>2022-02-08</td><td>2022</td><td>2</td><td>FEVEREIRO</td><td>8</td><td>TERCA-FEIRA</td><td>3</td><td>20220208</td></tr><tr><td>2022-02-09</td><td>2022</td><td>2</td><td>FEVEREIRO</td><td>9</td><td>QUARTA-FEIRA</td><td>4</td><td>20220209</td></tr><tr><td>2022-02-10</td><td>2022</td><td>2</td><td>FEVEREIRO</td><td>10</td><td>QUINTA-FEIRA</td><td>5</td><td>20220210</td></tr><tr><td>2022-02-11</td><td>2022</td><td>2</td><td>FEVEREIRO</td><td>11</td><td>SEXTA-FEIRA</td><td>6</td><td>20220211</td></tr><tr><td>2022-02-12</td><td>2022</td><td>2</td><td>FEVEREIRO</td><td>12</td><td>SABADO</td><td>7</td><td>20220212</td></tr><tr><td>2022-02-13</td><td>2022</td><td>2</td><td>FEVEREIRO</td><td>13</td><td>DOMINGO</td><td>1</td><td>20220213</td></tr><tr><td>2022-02-14</td><td>2022</td><td>2</td><td>FEVEREIRO</td><td>14</td><td>SEGUNDA-FEIRA</td><td>2</td><td>20220214</td></tr><tr><td>2022-02-15</td><td>2022</td><td>2</td><td>FEVEREIRO</td><td>15</td><td>TERCA-FEIRA</td><td>3</td><td>20220215</td></tr><tr><td>2022-02-16</td><td>2022</td><td>2</td><td>FEVEREIRO</td><td>16</td><td>QUARTA-FEIRA</td><td>4</td><td>20220216</td></tr><tr><td>2022-02-17</td><td>2022</td><td>2</td><td>FEVEREIRO</td><td>17</td><td>QUINTA-FEIRA</td><td>5</td><td>20220217</td></tr><tr><td>2022-02-18</td><td>2022</td><td>2</td><td>FEVEREIRO</td><td>18</td><td>SEXTA-FEIRA</td><td>6</td><td>20220218</td></tr><tr><td>2022-02-19</td><td>2022</td><td>2</td><td>FEVEREIRO</td><td>19</td><td>SABADO</td><td>7</td><td>20220219</td></tr><tr><td>2022-02-20</td><td>2022</td><td>2</td><td>FEVEREIRO</td><td>20</td><td>DOMINGO</td><td>1</td><td>20220220</td></tr><tr><td>2022-02-21</td><td>2022</td><td>2</td><td>FEVEREIRO</td><td>21</td><td>SEGUNDA-FEIRA</td><td>2</td><td>20220221</td></tr><tr><td>2022-02-22</td><td>2022</td><td>2</td><td>FEVEREIRO</td><td>22</td><td>TERCA-FEIRA</td><td>3</td><td>20220222</td></tr><tr><td>2022-02-23</td><td>2022</td><td>2</td><td>FEVEREIRO</td><td>23</td><td>QUARTA-FEIRA</td><td>4</td><td>20220223</td></tr><tr><td>2022-02-24</td><td>2022</td><td>2</td><td>FEVEREIRO</td><td>24</td><td>QUINTA-FEIRA</td><td>5</td><td>20220224</td></tr><tr><td>2022-02-25</td><td>2022</td><td>2</td><td>FEVEREIRO</td><td>25</td><td>SEXTA-FEIRA</td><td>6</td><td>20220225</td></tr><tr><td>2022-02-26</td><td>2022</td><td>2</td><td>FEVEREIRO</td><td>26</td><td>SABADO</td><td>7</td><td>20220226</td></tr><tr><td>2022-02-27</td><td>2022</td><td>2</td><td>FEVEREIRO</td><td>27</td><td>DOMINGO</td><td>1</td><td>20220227</td></tr><tr><td>2022-02-28</td><td>2022</td><td>2</td><td>FEVEREIRO</td><td>28</td><td>SEGUNDA-FEIRA</td><td>2</td><td>20220228</td></tr><tr><td>2022-03-01</td><td>2022</td><td>3</td><td>MARCO</td><td>1</td><td>TERCA-FEIRA</td><td>3</td><td>20220301</td></tr><tr><td>2022-03-02</td><td>2022</td><td>3</td><td>MARCO</td><td>2</td><td>QUARTA-FEIRA</td><td>4</td><td>20220302</td></tr><tr><td>2022-03-03</td><td>2022</td><td>3</td><td>MARCO</td><td>3</td><td>QUINTA-FEIRA</td><td>5</td><td>20220303</td></tr><tr><td>2022-03-04</td><td>2022</td><td>3</td><td>MARCO</td><td>4</td><td>SEXTA-FEIRA</td><td>6</td><td>20220304</td></tr><tr><td>2022-03-05</td><td>2022</td><td>3</td><td>MARCO</td><td>5</td><td>SABADO</td><td>7</td><td>20220305</td></tr><tr><td>2022-03-06</td><td>2022</td><td>3</td><td>MARCO</td><td>6</td><td>DOMINGO</td><td>1</td><td>20220306</td></tr><tr><td>2022-03-07</td><td>2022</td><td>3</td><td>MARCO</td><td>7</td><td>SEGUNDA-FEIRA</td><td>2</td><td>20220307</td></tr><tr><td>2022-03-08</td><td>2022</td><td>3</td><td>MARCO</td><td>8</td><td>TERCA-FEIRA</td><td>3</td><td>20220308</td></tr><tr><td>2022-03-09</td><td>2022</td><td>3</td><td>MARCO</td><td>9</td><td>QUARTA-FEIRA</td><td>4</td><td>20220309</td></tr><tr><td>2022-03-10</td><td>2022</td><td>3</td><td>MARCO</td><td>10</td><td>QUINTA-FEIRA</td><td>5</td><td>20220310</td></tr><tr><td>2022-03-11</td><td>2022</td><td>3</td><td>MARCO</td><td>11</td><td>SEXTA-FEIRA</td><td>6</td><td>20220311</td></tr><tr><td>2022-03-12</td><td>2022</td><td>3</td><td>MARCO</td><td>12</td><td>SABADO</td><td>7</td><td>20220312</td></tr><tr><td>2022-03-13</td><td>2022</td><td>3</td><td>MARCO</td><td>13</td><td>DOMINGO</td><td>1</td><td>20220313</td></tr><tr><td>2022-03-14</td><td>2022</td><td>3</td><td>MARCO</td><td>14</td><td>SEGUNDA-FEIRA</td><td>2</td><td>20220314</td></tr><tr><td>2022-03-15</td><td>2022</td><td>3</td><td>MARCO</td><td>15</td><td>TERCA-FEIRA</td><td>3</td><td>20220315</td></tr><tr><td>2022-03-16</td><td>2022</td><td>3</td><td>MARCO</td><td>16</td><td>QUARTA-FEIRA</td><td>4</td><td>20220316</td></tr><tr><td>2022-03-17</td><td>2022</td><td>3</td><td>MARCO</td><td>17</td><td>QUINTA-FEIRA</td><td>5</td><td>20220317</td></tr><tr><td>2022-03-18</td><td>2022</td><td>3</td><td>MARCO</td><td>18</td><td>SEXTA-FEIRA</td><td>6</td><td>20220318</td></tr><tr><td>2022-03-19</td><td>2022</td><td>3</td><td>MARCO</td><td>19</td><td>SABADO</td><td>7</td><td>20220319</td></tr><tr><td>2022-03-20</td><td>2022</td><td>3</td><td>MARCO</td><td>20</td><td>DOMINGO</td><td>1</td><td>20220320</td></tr><tr><td>2022-03-21</td><td>2022</td><td>3</td><td>MARCO</td><td>21</td><td>SEGUNDA-FEIRA</td><td>2</td><td>20220321</td></tr><tr><td>2022-03-22</td><td>2022</td><td>3</td><td>MARCO</td><td>22</td><td>TERCA-FEIRA</td><td>3</td><td>20220322</td></tr><tr><td>2022-03-23</td><td>2022</td><td>3</td><td>MARCO</td><td>23</td><td>QUARTA-FEIRA</td><td>4</td><td>20220323</td></tr><tr><td>2022-03-24</td><td>2022</td><td>3</td><td>MARCO</td><td>24</td><td>QUINTA-FEIRA</td><td>5</td><td>20220324</td></tr><tr><td>2022-03-25</td><td>2022</td><td>3</td><td>MARCO</td><td>25</td><td>SEXTA-FEIRA</td><td>6</td><td>20220325</td></tr><tr><td>2022-03-26</td><td>2022</td><td>3</td><td>MARCO</td><td>26</td><td>SABADO</td><td>7</td><td>20220326</td></tr><tr><td>2022-03-27</td><td>2022</td><td>3</td><td>MARCO</td><td>27</td><td>DOMINGO</td><td>1</td><td>20220327</td></tr><tr><td>2022-03-28</td><td>2022</td><td>3</td><td>MARCO</td><td>28</td><td>SEGUNDA-FEIRA</td><td>2</td><td>20220328</td></tr><tr><td>2022-03-29</td><td>2022</td><td>3</td><td>MARCO</td><td>29</td><td>TERCA-FEIRA</td><td>3</td><td>20220329</td></tr><tr><td>2022-03-30</td><td>2022</td><td>3</td><td>MARCO</td><td>30</td><td>QUARTA-FEIRA</td><td>4</td><td>20220330</td></tr><tr><td>2022-03-31</td><td>2022</td><td>3</td><td>MARCO</td><td>31</td><td>QUINTA-FEIRA</td><td>5</td><td>20220331</td></tr><tr><td>2022-04-01</td><td>2022</td><td>4</td><td>ABRIL</td><td>1</td><td>SEXTA-FEIRA</td><td>6</td><td>20220401</td></tr><tr><td>2022-04-02</td><td>2022</td><td>4</td><td>ABRIL</td><td>2</td><td>SABADO</td><td>7</td><td>20220402</td></tr><tr><td>2022-04-03</td><td>2022</td><td>4</td><td>ABRIL</td><td>3</td><td>DOMINGO</td><td>1</td><td>20220403</td></tr><tr><td>2022-04-04</td><td>2022</td><td>4</td><td>ABRIL</td><td>4</td><td>SEGUNDA-FEIRA</td><td>2</td><td>20220404</td></tr><tr><td>2022-04-05</td><td>2022</td><td>4</td><td>ABRIL</td><td>5</td><td>TERCA-FEIRA</td><td>3</td><td>20220405</td></tr><tr><td>2022-04-06</td><td>2022</td><td>4</td><td>ABRIL</td><td>6</td><td>QUARTA-FEIRA</td><td>4</td><td>20220406</td></tr><tr><td>2022-04-07</td><td>2022</td><td>4</td><td>ABRIL</td><td>7</td><td>QUINTA-FEIRA</td><td>5</td><td>20220407</td></tr><tr><td>2022-04-08</td><td>2022</td><td>4</td><td>ABRIL</td><td>8</td><td>SEXTA-FEIRA</td><td>6</td><td>20220408</td></tr><tr><td>2022-04-09</td><td>2022</td><td>4</td><td>ABRIL</td><td>9</td><td>SABADO</td><td>7</td><td>20220409</td></tr><tr><td>2022-04-10</td><td>2022</td><td>4</td><td>ABRIL</td><td>10</td><td>DOMINGO</td><td>1</td><td>20220410</td></tr><tr><td>2022-04-11</td><td>2022</td><td>4</td><td>ABRIL</td><td>11</td><td>SEGUNDA-FEIRA</td><td>2</td><td>20220411</td></tr><tr><td>2022-04-12</td><td>2022</td><td>4</td><td>ABRIL</td><td>12</td><td>TERCA-FEIRA</td><td>3</td><td>20220412</td></tr><tr><td>2022-04-13</td><td>2022</td><td>4</td><td>ABRIL</td><td>13</td><td>QUARTA-FEIRA</td><td>4</td><td>20220413</td></tr><tr><td>2022-04-14</td><td>2022</td><td>4</td><td>ABRIL</td><td>14</td><td>QUINTA-FEIRA</td><td>5</td><td>20220414</td></tr><tr><td>2022-04-15</td><td>2022</td><td>4</td><td>ABRIL</td><td>15</td><td>SEXTA-FEIRA</td><td>6</td><td>20220415</td></tr><tr><td>2022-04-16</td><td>2022</td><td>4</td><td>ABRIL</td><td>16</td><td>SABADO</td><td>7</td><td>20220416</td></tr><tr><td>2022-04-17</td><td>2022</td><td>4</td><td>ABRIL</td><td>17</td><td>DOMINGO</td><td>1</td><td>20220417</td></tr><tr><td>2022-04-18</td><td>2022</td><td>4</td><td>ABRIL</td><td>18</td><td>SEGUNDA-FEIRA</td><td>2</td><td>20220418</td></tr><tr><td>2022-04-19</td><td>2022</td><td>4</td><td>ABRIL</td><td>19</td><td>TERCA-FEIRA</td><td>3</td><td>20220419</td></tr><tr><td>2022-04-20</td><td>2022</td><td>4</td><td>ABRIL</td><td>20</td><td>QUARTA-FEIRA</td><td>4</td><td>20220420</td></tr><tr><td>2022-04-21</td><td>2022</td><td>4</td><td>ABRIL</td><td>21</td><td>QUINTA-FEIRA</td><td>5</td><td>20220421</td></tr><tr><td>2022-04-22</td><td>2022</td><td>4</td><td>ABRIL</td><td>22</td><td>SEXTA-FEIRA</td><td>6</td><td>20220422</td></tr><tr><td>2022-04-23</td><td>2022</td><td>4</td><td>ABRIL</td><td>23</td><td>SABADO</td><td>7</td><td>20220423</td></tr><tr><td>2022-04-24</td><td>2022</td><td>4</td><td>ABRIL</td><td>24</td><td>DOMINGO</td><td>1</td><td>20220424</td></tr><tr><td>2022-04-25</td><td>2022</td><td>4</td><td>ABRIL</td><td>25</td><td>SEGUNDA-FEIRA</td><td>2</td><td>20220425</td></tr><tr><td>2022-04-26</td><td>2022</td><td>4</td><td>ABRIL</td><td>26</td><td>TERCA-FEIRA</td><td>3</td><td>20220426</td></tr><tr><td>2022-04-27</td><td>2022</td><td>4</td><td>ABRIL</td><td>27</td><td>QUARTA-FEIRA</td><td>4</td><td>20220427</td></tr><tr><td>2022-04-28</td><td>2022</td><td>4</td><td>ABRIL</td><td>28</td><td>QUINTA-FEIRA</td><td>5</td><td>20220428</td></tr><tr><td>2022-04-29</td><td>2022</td><td>4</td><td>ABRIL</td><td>29</td><td>SEXTA-FEIRA</td><td>6</td><td>20220429</td></tr><tr><td>2022-04-30</td><td>2022</td><td>4</td><td>ABRIL</td><td>30</td><td>SABADO</td><td>7</td><td>20220430</td></tr><tr><td>2022-05-01</td><td>2022</td><td>5</td><td>MAIO</td><td>1</td><td>DOMINGO</td><td>1</td><td>20220501</td></tr><tr><td>2022-05-02</td><td>2022</td><td>5</td><td>MAIO</td><td>2</td><td>SEGUNDA-FEIRA</td><td>2</td><td>20220502</td></tr><tr><td>2022-05-03</td><td>2022</td><td>5</td><td>MAIO</td><td>3</td><td>TERCA-FEIRA</td><td>3</td><td>20220503</td></tr><tr><td>2022-05-04</td><td>2022</td><td>5</td><td>MAIO</td><td>4</td><td>QUARTA-FEIRA</td><td>4</td><td>20220504</td></tr><tr><td>2022-05-05</td><td>2022</td><td>5</td><td>MAIO</td><td>5</td><td>QUINTA-FEIRA</td><td>5</td><td>20220505</td></tr><tr><td>2022-05-06</td><td>2022</td><td>5</td><td>MAIO</td><td>6</td><td>SEXTA-FEIRA</td><td>6</td><td>20220506</td></tr><tr><td>2022-05-07</td><td>2022</td><td>5</td><td>MAIO</td><td>7</td><td>SABADO</td><td>7</td><td>20220507</td></tr><tr><td>2022-05-08</td><td>2022</td><td>5</td><td>MAIO</td><td>8</td><td>DOMINGO</td><td>1</td><td>20220508</td></tr><tr><td>2022-05-09</td><td>2022</td><td>5</td><td>MAIO</td><td>9</td><td>SEGUNDA-FEIRA</td><td>2</td><td>20220509</td></tr><tr><td>2022-05-10</td><td>2022</td><td>5</td><td>MAIO</td><td>10</td><td>TERCA-FEIRA</td><td>3</td><td>20220510</td></tr><tr><td>2022-05-11</td><td>2022</td><td>5</td><td>MAIO</td><td>11</td><td>QUARTA-FEIRA</td><td>4</td><td>20220511</td></tr><tr><td>2022-05-12</td><td>2022</td><td>5</td><td>MAIO</td><td>12</td><td>QUINTA-FEIRA</td><td>5</td><td>20220512</td></tr><tr><td>2022-05-13</td><td>2022</td><td>5</td><td>MAIO</td><td>13</td><td>SEXTA-FEIRA</td><td>6</td><td>20220513</td></tr><tr><td>2022-05-14</td><td>2022</td><td>5</td><td>MAIO</td><td>14</td><td>SABADO</td><td>7</td><td>20220514</td></tr><tr><td>2022-05-15</td><td>2022</td><td>5</td><td>MAIO</td><td>15</td><td>DOMINGO</td><td>1</td><td>20220515</td></tr><tr><td>2022-05-16</td><td>2022</td><td>5</td><td>MAIO</td><td>16</td><td>SEGUNDA-FEIRA</td><td>2</td><td>20220516</td></tr><tr><td>2022-05-17</td><td>2022</td><td>5</td><td>MAIO</td><td>17</td><td>TERCA-FEIRA</td><td>3</td><td>20220517</td></tr><tr><td>2022-05-18</td><td>2022</td><td>5</td><td>MAIO</td><td>18</td><td>QUARTA-FEIRA</td><td>4</td><td>20220518</td></tr><tr><td>2022-05-19</td><td>2022</td><td>5</td><td>MAIO</td><td>19</td><td>QUINTA-FEIRA</td><td>5</td><td>20220519</td></tr><tr><td>2022-05-20</td><td>2022</td><td>5</td><td>MAIO</td><td>20</td><td>SEXTA-FEIRA</td><td>6</td><td>20220520</td></tr><tr><td>2022-05-21</td><td>2022</td><td>5</td><td>MAIO</td><td>21</td><td>SABADO</td><td>7</td><td>20220521</td></tr><tr><td>2022-05-22</td><td>2022</td><td>5</td><td>MAIO</td><td>22</td><td>DOMINGO</td><td>1</td><td>20220522</td></tr><tr><td>2022-05-23</td><td>2022</td><td>5</td><td>MAIO</td><td>23</td><td>SEGUNDA-FEIRA</td><td>2</td><td>20220523</td></tr><tr><td>2022-05-24</td><td>2022</td><td>5</td><td>MAIO</td><td>24</td><td>TERCA-FEIRA</td><td>3</td><td>20220524</td></tr><tr><td>2022-05-25</td><td>2022</td><td>5</td><td>MAIO</td><td>25</td><td>QUARTA-FEIRA</td><td>4</td><td>20220525</td></tr><tr><td>2022-05-26</td><td>2022</td><td>5</td><td>MAIO</td><td>26</td><td>QUINTA-FEIRA</td><td>5</td><td>20220526</td></tr><tr><td>2022-05-27</td><td>2022</td><td>5</td><td>MAIO</td><td>27</td><td>SEXTA-FEIRA</td><td>6</td><td>20220527</td></tr><tr><td>2022-05-28</td><td>2022</td><td>5</td><td>MAIO</td><td>28</td><td>SABADO</td><td>7</td><td>20220528</td></tr><tr><td>2022-05-29</td><td>2022</td><td>5</td><td>MAIO</td><td>29</td><td>DOMINGO</td><td>1</td><td>20220529</td></tr><tr><td>2022-05-30</td><td>2022</td><td>5</td><td>MAIO</td><td>30</td><td>SEGUNDA-FEIRA</td><td>2</td><td>20220530</td></tr><tr><td>2022-05-31</td><td>2022</td><td>5</td><td>MAIO</td><td>31</td><td>TERCA-FEIRA</td><td>3</td><td>20220531</td></tr><tr><td>2022-06-01</td><td>2022</td><td>6</td><td>JUNHO</td><td>1</td><td>QUARTA-FEIRA</td><td>4</td><td>20220601</td></tr><tr><td>2022-06-02</td><td>2022</td><td>6</td><td>JUNHO</td><td>2</td><td>QUINTA-FEIRA</td><td>5</td><td>20220602</td></tr><tr><td>2022-06-03</td><td>2022</td><td>6</td><td>JUNHO</td><td>3</td><td>SEXTA-FEIRA</td><td>6</td><td>20220603</td></tr><tr><td>2022-06-04</td><td>2022</td><td>6</td><td>JUNHO</td><td>4</td><td>SABADO</td><td>7</td><td>20220604</td></tr><tr><td>2022-06-05</td><td>2022</td><td>6</td><td>JUNHO</td><td>5</td><td>DOMINGO</td><td>1</td><td>20220605</td></tr><tr><td>2022-06-06</td><td>2022</td><td>6</td><td>JUNHO</td><td>6</td><td>SEGUNDA-FEIRA</td><td>2</td><td>20220606</td></tr><tr><td>2022-06-07</td><td>2022</td><td>6</td><td>JUNHO</td><td>7</td><td>TERCA-FEIRA</td><td>3</td><td>20220607</td></tr><tr><td>2022-06-08</td><td>2022</td><td>6</td><td>JUNHO</td><td>8</td><td>QUARTA-FEIRA</td><td>4</td><td>20220608</td></tr><tr><td>2022-06-09</td><td>2022</td><td>6</td><td>JUNHO</td><td>9</td><td>QUINTA-FEIRA</td><td>5</td><td>20220609</td></tr><tr><td>2022-06-10</td><td>2022</td><td>6</td><td>JUNHO</td><td>10</td><td>SEXTA-FEIRA</td><td>6</td><td>20220610</td></tr><tr><td>2022-06-11</td><td>2022</td><td>6</td><td>JUNHO</td><td>11</td><td>SABADO</td><td>7</td><td>20220611</td></tr><tr><td>2022-06-12</td><td>2022</td><td>6</td><td>JUNHO</td><td>12</td><td>DOMINGO</td><td>1</td><td>20220612</td></tr><tr><td>2022-06-13</td><td>2022</td><td>6</td><td>JUNHO</td><td>13</td><td>SEGUNDA-FEIRA</td><td>2</td><td>20220613</td></tr><tr><td>2022-06-14</td><td>2022</td><td>6</td><td>JUNHO</td><td>14</td><td>TERCA-FEIRA</td><td>3</td><td>20220614</td></tr><tr><td>2022-06-15</td><td>2022</td><td>6</td><td>JUNHO</td><td>15</td><td>QUARTA-FEIRA</td><td>4</td><td>20220615</td></tr><tr><td>2022-06-16</td><td>2022</td><td>6</td><td>JUNHO</td><td>16</td><td>QUINTA-FEIRA</td><td>5</td><td>20220616</td></tr><tr><td>2022-06-17</td><td>2022</td><td>6</td><td>JUNHO</td><td>17</td><td>SEXTA-FEIRA</td><td>6</td><td>20220617</td></tr><tr><td>2022-06-18</td><td>2022</td><td>6</td><td>JUNHO</td><td>18</td><td>SABADO</td><td>7</td><td>20220618</td></tr><tr><td>2022-06-19</td><td>2022</td><td>6</td><td>JUNHO</td><td>19</td><td>DOMINGO</td><td>1</td><td>20220619</td></tr><tr><td>2022-06-20</td><td>2022</td><td>6</td><td>JUNHO</td><td>20</td><td>SEGUNDA-FEIRA</td><td>2</td><td>20220620</td></tr><tr><td>2022-06-21</td><td>2022</td><td>6</td><td>JUNHO</td><td>21</td><td>TERCA-FEIRA</td><td>3</td><td>20220621</td></tr><tr><td>2022-06-22</td><td>2022</td><td>6</td><td>JUNHO</td><td>22</td><td>QUARTA-FEIRA</td><td>4</td><td>20220622</td></tr><tr><td>2022-06-23</td><td>2022</td><td>6</td><td>JUNHO</td><td>23</td><td>QUINTA-FEIRA</td><td>5</td><td>20220623</td></tr><tr><td>2022-06-24</td><td>2022</td><td>6</td><td>JUNHO</td><td>24</td><td>SEXTA-FEIRA</td><td>6</td><td>20220624</td></tr><tr><td>2022-06-25</td><td>2022</td><td>6</td><td>JUNHO</td><td>25</td><td>SABADO</td><td>7</td><td>20220625</td></tr><tr><td>2022-06-26</td><td>2022</td><td>6</td><td>JUNHO</td><td>26</td><td>DOMINGO</td><td>1</td><td>20220626</td></tr><tr><td>2022-06-27</td><td>2022</td><td>6</td><td>JUNHO</td><td>27</td><td>SEGUNDA-FEIRA</td><td>2</td><td>20220627</td></tr><tr><td>2022-06-28</td><td>2022</td><td>6</td><td>JUNHO</td><td>28</td><td>TERCA-FEIRA</td><td>3</td><td>20220628</td></tr><tr><td>2022-06-29</td><td>2022</td><td>6</td><td>JUNHO</td><td>29</td><td>QUARTA-FEIRA</td><td>4</td><td>20220629</td></tr><tr><td>2022-06-30</td><td>2022</td><td>6</td><td>JUNHO</td><td>30</td><td>QUINTA-FEIRA</td><td>5</td><td>20220630</td></tr><tr><td>2022-07-01</td><td>2022</td><td>7</td><td>JULHO</td><td>1</td><td>SEXTA-FEIRA</td><td>6</td><td>20220701</td></tr><tr><td>2022-07-02</td><td>2022</td><td>7</td><td>JULHO</td><td>2</td><td>SABADO</td><td>7</td><td>20220702</td></tr><tr><td>2022-07-03</td><td>2022</td><td>7</td><td>JULHO</td><td>3</td><td>DOMINGO</td><td>1</td><td>20220703</td></tr><tr><td>2022-07-04</td><td>2022</td><td>7</td><td>JULHO</td><td>4</td><td>SEGUNDA-FEIRA</td><td>2</td><td>20220704</td></tr><tr><td>2022-07-05</td><td>2022</td><td>7</td><td>JULHO</td><td>5</td><td>TERCA-FEIRA</td><td>3</td><td>20220705</td></tr><tr><td>2022-07-06</td><td>2022</td><td>7</td><td>JULHO</td><td>6</td><td>QUARTA-FEIRA</td><td>4</td><td>20220706</td></tr><tr><td>2022-07-07</td><td>2022</td><td>7</td><td>JULHO</td><td>7</td><td>QUINTA-FEIRA</td><td>5</td><td>20220707</td></tr><tr><td>2022-07-08</td><td>2022</td><td>7</td><td>JULHO</td><td>8</td><td>SEXTA-FEIRA</td><td>6</td><td>20220708</td></tr><tr><td>2022-07-09</td><td>2022</td><td>7</td><td>JULHO</td><td>9</td><td>SABADO</td><td>7</td><td>20220709</td></tr><tr><td>2022-07-10</td><td>2022</td><td>7</td><td>JULHO</td><td>10</td><td>DOMINGO</td><td>1</td><td>20220710</td></tr><tr><td>2022-07-11</td><td>2022</td><td>7</td><td>JULHO</td><td>11</td><td>SEGUNDA-FEIRA</td><td>2</td><td>20220711</td></tr><tr><td>2022-07-12</td><td>2022</td><td>7</td><td>JULHO</td><td>12</td><td>TERCA-FEIRA</td><td>3</td><td>20220712</td></tr><tr><td>2022-07-13</td><td>2022</td><td>7</td><td>JULHO</td><td>13</td><td>QUARTA-FEIRA</td><td>4</td><td>20220713</td></tr><tr><td>2022-07-14</td><td>2022</td><td>7</td><td>JULHO</td><td>14</td><td>QUINTA-FEIRA</td><td>5</td><td>20220714</td></tr><tr><td>2022-07-15</td><td>2022</td><td>7</td><td>JULHO</td><td>15</td><td>SEXTA-FEIRA</td><td>6</td><td>20220715</td></tr><tr><td>2022-07-16</td><td>2022</td><td>7</td><td>JULHO</td><td>16</td><td>SABADO</td><td>7</td><td>20220716</td></tr><tr><td>2022-07-17</td><td>2022</td><td>7</td><td>JULHO</td><td>17</td><td>DOMINGO</td><td>1</td><td>20220717</td></tr><tr><td>2022-07-18</td><td>2022</td><td>7</td><td>JULHO</td><td>18</td><td>SEGUNDA-FEIRA</td><td>2</td><td>20220718</td></tr><tr><td>2022-07-19</td><td>2022</td><td>7</td><td>JULHO</td><td>19</td><td>TERCA-FEIRA</td><td>3</td><td>20220719</td></tr><tr><td>2022-07-20</td><td>2022</td><td>7</td><td>JULHO</td><td>20</td><td>QUARTA-FEIRA</td><td>4</td><td>20220720</td></tr><tr><td>2022-07-21</td><td>2022</td><td>7</td><td>JULHO</td><td>21</td><td>QUINTA-FEIRA</td><td>5</td><td>20220721</td></tr><tr><td>2022-07-22</td><td>2022</td><td>7</td><td>JULHO</td><td>22</td><td>SEXTA-FEIRA</td><td>6</td><td>20220722</td></tr><tr><td>2022-07-23</td><td>2022</td><td>7</td><td>JULHO</td><td>23</td><td>SABADO</td><td>7</td><td>20220723</td></tr><tr><td>2022-07-24</td><td>2022</td><td>7</td><td>JULHO</td><td>24</td><td>DOMINGO</td><td>1</td><td>20220724</td></tr><tr><td>2022-07-25</td><td>2022</td><td>7</td><td>JULHO</td><td>25</td><td>SEGUNDA-FEIRA</td><td>2</td><td>20220725</td></tr><tr><td>2022-07-26</td><td>2022</td><td>7</td><td>JULHO</td><td>26</td><td>TERCA-FEIRA</td><td>3</td><td>20220726</td></tr><tr><td>2022-07-27</td><td>2022</td><td>7</td><td>JULHO</td><td>27</td><td>QUARTA-FEIRA</td><td>4</td><td>20220727</td></tr><tr><td>2022-07-28</td><td>2022</td><td>7</td><td>JULHO</td><td>28</td><td>QUINTA-FEIRA</td><td>5</td><td>20220728</td></tr><tr><td>2022-07-29</td><td>2022</td><td>7</td><td>JULHO</td><td>29</td><td>SEXTA-FEIRA</td><td>6</td><td>20220729</td></tr><tr><td>2022-07-30</td><td>2022</td><td>7</td><td>JULHO</td><td>30</td><td>SABADO</td><td>7</td><td>20220730</td></tr><tr><td>2022-07-31</td><td>2022</td><td>7</td><td>JULHO</td><td>31</td><td>DOMINGO</td><td>1</td><td>20220731</td></tr><tr><td>2022-08-01</td><td>2022</td><td>8</td><td>AGOSTO</td><td>1</td><td>SEGUNDA-FEIRA</td><td>2</td><td>20220801</td></tr><tr><td>2022-08-02</td><td>2022</td><td>8</td><td>AGOSTO</td><td>2</td><td>TERCA-FEIRA</td><td>3</td><td>20220802</td></tr><tr><td>2022-08-03</td><td>2022</td><td>8</td><td>AGOSTO</td><td>3</td><td>QUARTA-FEIRA</td><td>4</td><td>20220803</td></tr><tr><td>2022-08-04</td><td>2022</td><td>8</td><td>AGOSTO</td><td>4</td><td>QUINTA-FEIRA</td><td>5</td><td>20220804</td></tr><tr><td>2022-08-05</td><td>2022</td><td>8</td><td>AGOSTO</td><td>5</td><td>SEXTA-FEIRA</td><td>6</td><td>20220805</td></tr><tr><td>2022-08-06</td><td>2022</td><td>8</td><td>AGOSTO</td><td>6</td><td>SABADO</td><td>7</td><td>20220806</td></tr><tr><td>2022-08-07</td><td>2022</td><td>8</td><td>AGOSTO</td><td>7</td><td>DOMINGO</td><td>1</td><td>20220807</td></tr><tr><td>2022-08-08</td><td>2022</td><td>8</td><td>AGOSTO</td><td>8</td><td>SEGUNDA-FEIRA</td><td>2</td><td>20220808</td></tr><tr><td>2022-08-09</td><td>2022</td><td>8</td><td>AGOSTO</td><td>9</td><td>TERCA-FEIRA</td><td>3</td><td>20220809</td></tr><tr><td>2022-08-10</td><td>2022</td><td>8</td><td>AGOSTO</td><td>10</td><td>QUARTA-FEIRA</td><td>4</td><td>20220810</td></tr><tr><td>2022-08-11</td><td>2022</td><td>8</td><td>AGOSTO</td><td>11</td><td>QUINTA-FEIRA</td><td>5</td><td>20220811</td></tr><tr><td>2022-08-12</td><td>2022</td><td>8</td><td>AGOSTO</td><td>12</td><td>SEXTA-FEIRA</td><td>6</td><td>20220812</td></tr><tr><td>2022-08-13</td><td>2022</td><td>8</td><td>AGOSTO</td><td>13</td><td>SABADO</td><td>7</td><td>20220813</td></tr><tr><td>2022-08-14</td><td>2022</td><td>8</td><td>AGOSTO</td><td>14</td><td>DOMINGO</td><td>1</td><td>20220814</td></tr><tr><td>2022-08-15</td><td>2022</td><td>8</td><td>AGOSTO</td><td>15</td><td>SEGUNDA-FEIRA</td><td>2</td><td>20220815</td></tr><tr><td>2022-08-16</td><td>2022</td><td>8</td><td>AGOSTO</td><td>16</td><td>TERCA-FEIRA</td><td>3</td><td>20220816</td></tr><tr><td>2022-08-17</td><td>2022</td><td>8</td><td>AGOSTO</td><td>17</td><td>QUARTA-FEIRA</td><td>4</td><td>20220817</td></tr><tr><td>2022-08-18</td><td>2022</td><td>8</td><td>AGOSTO</td><td>18</td><td>QUINTA-FEIRA</td><td>5</td><td>20220818</td></tr><tr><td>2022-08-19</td><td>2022</td><td>8</td><td>AGOSTO</td><td>19</td><td>SEXTA-FEIRA</td><td>6</td><td>20220819</td></tr><tr><td>2022-08-20</td><td>2022</td><td>8</td><td>AGOSTO</td><td>20</td><td>SABADO</td><td>7</td><td>20220820</td></tr><tr><td>2022-08-21</td><td>2022</td><td>8</td><td>AGOSTO</td><td>21</td><td>DOMINGO</td><td>1</td><td>20220821</td></tr><tr><td>2022-08-22</td><td>2022</td><td>8</td><td>AGOSTO</td><td>22</td><td>SEGUNDA-FEIRA</td><td>2</td><td>20220822</td></tr><tr><td>2022-08-23</td><td>2022</td><td>8</td><td>AGOSTO</td><td>23</td><td>TERCA-FEIRA</td><td>3</td><td>20220823</td></tr><tr><td>2022-08-24</td><td>2022</td><td>8</td><td>AGOSTO</td><td>24</td><td>QUARTA-FEIRA</td><td>4</td><td>20220824</td></tr><tr><td>2022-08-25</td><td>2022</td><td>8</td><td>AGOSTO</td><td>25</td><td>QUINTA-FEIRA</td><td>5</td><td>20220825</td></tr><tr><td>2022-08-26</td><td>2022</td><td>8</td><td>AGOSTO</td><td>26</td><td>SEXTA-FEIRA</td><td>6</td><td>20220826</td></tr><tr><td>2022-08-27</td><td>2022</td><td>8</td><td>AGOSTO</td><td>27</td><td>SABADO</td><td>7</td><td>20220827</td></tr><tr><td>2022-08-28</td><td>2022</td><td>8</td><td>AGOSTO</td><td>28</td><td>DOMINGO</td><td>1</td><td>20220828</td></tr><tr><td>2022-08-29</td><td>2022</td><td>8</td><td>AGOSTO</td><td>29</td><td>SEGUNDA-FEIRA</td><td>2</td><td>20220829</td></tr><tr><td>2022-08-30</td><td>2022</td><td>8</td><td>AGOSTO</td><td>30</td><td>TERCA-FEIRA</td><td>3</td><td>20220830</td></tr><tr><td>2022-08-31</td><td>2022</td><td>8</td><td>AGOSTO</td><td>31</td><td>QUARTA-FEIRA</td><td>4</td><td>20220831</td></tr><tr><td>2022-09-01</td><td>2022</td><td>9</td><td>SETEMBRO</td><td>1</td><td>QUINTA-FEIRA</td><td>5</td><td>20220901</td></tr><tr><td>2022-09-02</td><td>2022</td><td>9</td><td>SETEMBRO</td><td>2</td><td>SEXTA-FEIRA</td><td>6</td><td>20220902</td></tr><tr><td>2022-09-03</td><td>2022</td><td>9</td><td>SETEMBRO</td><td>3</td><td>SABADO</td><td>7</td><td>20220903</td></tr><tr><td>2022-09-04</td><td>2022</td><td>9</td><td>SETEMBRO</td><td>4</td><td>DOMINGO</td><td>1</td><td>20220904</td></tr><tr><td>2022-09-05</td><td>2022</td><td>9</td><td>SETEMBRO</td><td>5</td><td>SEGUNDA-FEIRA</td><td>2</td><td>20220905</td></tr><tr><td>2022-09-06</td><td>2022</td><td>9</td><td>SETEMBRO</td><td>6</td><td>TERCA-FEIRA</td><td>3</td><td>20220906</td></tr><tr><td>2022-09-07</td><td>2022</td><td>9</td><td>SETEMBRO</td><td>7</td><td>QUARTA-FEIRA</td><td>4</td><td>20220907</td></tr><tr><td>2022-09-08</td><td>2022</td><td>9</td><td>SETEMBRO</td><td>8</td><td>QUINTA-FEIRA</td><td>5</td><td>20220908</td></tr><tr><td>2022-09-09</td><td>2022</td><td>9</td><td>SETEMBRO</td><td>9</td><td>SEXTA-FEIRA</td><td>6</td><td>20220909</td></tr><tr><td>2022-09-10</td><td>2022</td><td>9</td><td>SETEMBRO</td><td>10</td><td>SABADO</td><td>7</td><td>20220910</td></tr><tr><td>2022-09-11</td><td>2022</td><td>9</td><td>SETEMBRO</td><td>11</td><td>DOMINGO</td><td>1</td><td>20220911</td></tr><tr><td>2022-09-12</td><td>2022</td><td>9</td><td>SETEMBRO</td><td>12</td><td>SEGUNDA-FEIRA</td><td>2</td><td>20220912</td></tr><tr><td>2022-09-13</td><td>2022</td><td>9</td><td>SETEMBRO</td><td>13</td><td>TERCA-FEIRA</td><td>3</td><td>20220913</td></tr><tr><td>2022-09-14</td><td>2022</td><td>9</td><td>SETEMBRO</td><td>14</td><td>QUARTA-FEIRA</td><td>4</td><td>20220914</td></tr><tr><td>2022-09-15</td><td>2022</td><td>9</td><td>SETEMBRO</td><td>15</td><td>QUINTA-FEIRA</td><td>5</td><td>20220915</td></tr><tr><td>2022-09-16</td><td>2022</td><td>9</td><td>SETEMBRO</td><td>16</td><td>SEXTA-FEIRA</td><td>6</td><td>20220916</td></tr><tr><td>2022-09-17</td><td>2022</td><td>9</td><td>SETEMBRO</td><td>17</td><td>SABADO</td><td>7</td><td>20220917</td></tr><tr><td>2022-09-18</td><td>2022</td><td>9</td><td>SETEMBRO</td><td>18</td><td>DOMINGO</td><td>1</td><td>20220918</td></tr><tr><td>2022-09-19</td><td>2022</td><td>9</td><td>SETEMBRO</td><td>19</td><td>SEGUNDA-FEIRA</td><td>2</td><td>20220919</td></tr><tr><td>2022-09-20</td><td>2022</td><td>9</td><td>SETEMBRO</td><td>20</td><td>TERCA-FEIRA</td><td>3</td><td>20220920</td></tr><tr><td>2022-09-21</td><td>2022</td><td>9</td><td>SETEMBRO</td><td>21</td><td>QUARTA-FEIRA</td><td>4</td><td>20220921</td></tr><tr><td>2022-09-22</td><td>2022</td><td>9</td><td>SETEMBRO</td><td>22</td><td>QUINTA-FEIRA</td><td>5</td><td>20220922</td></tr><tr><td>2022-09-23</td><td>2022</td><td>9</td><td>SETEMBRO</td><td>23</td><td>SEXTA-FEIRA</td><td>6</td><td>20220923</td></tr><tr><td>2022-09-24</td><td>2022</td><td>9</td><td>SETEMBRO</td><td>24</td><td>SABADO</td><td>7</td><td>20220924</td></tr><tr><td>2022-09-25</td><td>2022</td><td>9</td><td>SETEMBRO</td><td>25</td><td>DOMINGO</td><td>1</td><td>20220925</td></tr><tr><td>2022-09-26</td><td>2022</td><td>9</td><td>SETEMBRO</td><td>26</td><td>SEGUNDA-FEIRA</td><td>2</td><td>20220926</td></tr><tr><td>2022-09-27</td><td>2022</td><td>9</td><td>SETEMBRO</td><td>27</td><td>TERCA-FEIRA</td><td>3</td><td>20220927</td></tr><tr><td>2022-09-28</td><td>2022</td><td>9</td><td>SETEMBRO</td><td>28</td><td>QUARTA-FEIRA</td><td>4</td><td>20220928</td></tr><tr><td>2022-09-29</td><td>2022</td><td>9</td><td>SETEMBRO</td><td>29</td><td>QUINTA-FEIRA</td><td>5</td><td>20220929</td></tr><tr><td>2022-09-30</td><td>2022</td><td>9</td><td>SETEMBRO</td><td>30</td><td>SEXTA-FEIRA</td><td>6</td><td>20220930</td></tr><tr><td>2022-10-01</td><td>2022</td><td>10</td><td>OUTUBRO</td><td>1</td><td>SABADO</td><td>7</td><td>20221001</td></tr><tr><td>2022-10-02</td><td>2022</td><td>10</td><td>OUTUBRO</td><td>2</td><td>DOMINGO</td><td>1</td><td>20221002</td></tr><tr><td>2022-10-03</td><td>2022</td><td>10</td><td>OUTUBRO</td><td>3</td><td>SEGUNDA-FEIRA</td><td>2</td><td>20221003</td></tr><tr><td>2022-10-04</td><td>2022</td><td>10</td><td>OUTUBRO</td><td>4</td><td>TERCA-FEIRA</td><td>3</td><td>20221004</td></tr><tr><td>2022-10-05</td><td>2022</td><td>10</td><td>OUTUBRO</td><td>5</td><td>QUARTA-FEIRA</td><td>4</td><td>20221005</td></tr><tr><td>2022-10-06</td><td>2022</td><td>10</td><td>OUTUBRO</td><td>6</td><td>QUINTA-FEIRA</td><td>5</td><td>20221006</td></tr><tr><td>2022-10-07</td><td>2022</td><td>10</td><td>OUTUBRO</td><td>7</td><td>SEXTA-FEIRA</td><td>6</td><td>20221007</td></tr><tr><td>2022-10-08</td><td>2022</td><td>10</td><td>OUTUBRO</td><td>8</td><td>SABADO</td><td>7</td><td>20221008</td></tr><tr><td>2022-10-09</td><td>2022</td><td>10</td><td>OUTUBRO</td><td>9</td><td>DOMINGO</td><td>1</td><td>20221009</td></tr><tr><td>2022-10-10</td><td>2022</td><td>10</td><td>OUTUBRO</td><td>10</td><td>SEGUNDA-FEIRA</td><td>2</td><td>20221010</td></tr><tr><td>2022-10-11</td><td>2022</td><td>10</td><td>OUTUBRO</td><td>11</td><td>TERCA-FEIRA</td><td>3</td><td>20221011</td></tr><tr><td>2022-10-12</td><td>2022</td><td>10</td><td>OUTUBRO</td><td>12</td><td>QUARTA-FEIRA</td><td>4</td><td>20221012</td></tr><tr><td>2022-10-13</td><td>2022</td><td>10</td><td>OUTUBRO</td><td>13</td><td>QUINTA-FEIRA</td><td>5</td><td>20221013</td></tr><tr><td>2022-10-14</td><td>2022</td><td>10</td><td>OUTUBRO</td><td>14</td><td>SEXTA-FEIRA</td><td>6</td><td>20221014</td></tr><tr><td>2022-10-15</td><td>2022</td><td>10</td><td>OUTUBRO</td><td>15</td><td>SABADO</td><td>7</td><td>20221015</td></tr><tr><td>2022-10-16</td><td>2022</td><td>10</td><td>OUTUBRO</td><td>16</td><td>DOMINGO</td><td>1</td><td>20221016</td></tr><tr><td>2022-10-17</td><td>2022</td><td>10</td><td>OUTUBRO</td><td>17</td><td>SEGUNDA-FEIRA</td><td>2</td><td>20221017</td></tr><tr><td>2022-10-18</td><td>2022</td><td>10</td><td>OUTUBRO</td><td>18</td><td>TERCA-FEIRA</td><td>3</td><td>20221018</td></tr><tr><td>2022-10-19</td><td>2022</td><td>10</td><td>OUTUBRO</td><td>19</td><td>QUARTA-FEIRA</td><td>4</td><td>20221019</td></tr><tr><td>2022-10-20</td><td>2022</td><td>10</td><td>OUTUBRO</td><td>20</td><td>QUINTA-FEIRA</td><td>5</td><td>20221020</td></tr><tr><td>2022-10-21</td><td>2022</td><td>10</td><td>OUTUBRO</td><td>21</td><td>SEXTA-FEIRA</td><td>6</td><td>20221021</td></tr><tr><td>2022-10-22</td><td>2022</td><td>10</td><td>OUTUBRO</td><td>22</td><td>SABADO</td><td>7</td><td>20221022</td></tr><tr><td>2022-10-23</td><td>2022</td><td>10</td><td>OUTUBRO</td><td>23</td><td>DOMINGO</td><td>1</td><td>20221023</td></tr><tr><td>2022-10-24</td><td>2022</td><td>10</td><td>OUTUBRO</td><td>24</td><td>SEGUNDA-FEIRA</td><td>2</td><td>20221024</td></tr><tr><td>2022-10-25</td><td>2022</td><td>10</td><td>OUTUBRO</td><td>25</td><td>TERCA-FEIRA</td><td>3</td><td>20221025</td></tr><tr><td>2022-10-26</td><td>2022</td><td>10</td><td>OUTUBRO</td><td>26</td><td>QUARTA-FEIRA</td><td>4</td><td>20221026</td></tr><tr><td>2022-10-27</td><td>2022</td><td>10</td><td>OUTUBRO</td><td>27</td><td>QUINTA-FEIRA</td><td>5</td><td>20221027</td></tr><tr><td>2022-10-28</td><td>2022</td><td>10</td><td>OUTUBRO</td><td>28</td><td>SEXTA-FEIRA</td><td>6</td><td>20221028</td></tr><tr><td>2022-10-29</td><td>2022</td><td>10</td><td>OUTUBRO</td><td>29</td><td>SABADO</td><td>7</td><td>20221029</td></tr><tr><td>2022-10-30</td><td>2022</td><td>10</td><td>OUTUBRO</td><td>30</td><td>DOMINGO</td><td>1</td><td>20221030</td></tr><tr><td>2022-10-31</td><td>2022</td><td>10</td><td>OUTUBRO</td><td>31</td><td>SEGUNDA-FEIRA</td><td>2</td><td>20221031</td></tr><tr><td>2022-11-01</td><td>2022</td><td>11</td><td>NOVEMBRO</td><td>1</td><td>TERCA-FEIRA</td><td>3</td><td>20221101</td></tr><tr><td>2022-11-02</td><td>2022</td><td>11</td><td>NOVEMBRO</td><td>2</td><td>QUARTA-FEIRA</td><td>4</td><td>20221102</td></tr><tr><td>2022-11-03</td><td>2022</td><td>11</td><td>NOVEMBRO</td><td>3</td><td>QUINTA-FEIRA</td><td>5</td><td>20221103</td></tr><tr><td>2022-11-04</td><td>2022</td><td>11</td><td>NOVEMBRO</td><td>4</td><td>SEXTA-FEIRA</td><td>6</td><td>20221104</td></tr><tr><td>2022-11-05</td><td>2022</td><td>11</td><td>NOVEMBRO</td><td>5</td><td>SABADO</td><td>7</td><td>20221105</td></tr><tr><td>2022-11-06</td><td>2022</td><td>11</td><td>NOVEMBRO</td><td>6</td><td>DOMINGO</td><td>1</td><td>20221106</td></tr><tr><td>2022-11-07</td><td>2022</td><td>11</td><td>NOVEMBRO</td><td>7</td><td>SEGUNDA-FEIRA</td><td>2</td><td>20221107</td></tr><tr><td>2022-11-08</td><td>2022</td><td>11</td><td>NOVEMBRO</td><td>8</td><td>TERCA-FEIRA</td><td>3</td><td>20221108</td></tr><tr><td>2022-11-09</td><td>2022</td><td>11</td><td>NOVEMBRO</td><td>9</td><td>QUARTA-FEIRA</td><td>4</td><td>20221109</td></tr><tr><td>2022-11-10</td><td>2022</td><td>11</td><td>NOVEMBRO</td><td>10</td><td>QUINTA-FEIRA</td><td>5</td><td>20221110</td></tr><tr><td>2022-11-11</td><td>2022</td><td>11</td><td>NOVEMBRO</td><td>11</td><td>SEXTA-FEIRA</td><td>6</td><td>20221111</td></tr><tr><td>2022-11-12</td><td>2022</td><td>11</td><td>NOVEMBRO</td><td>12</td><td>SABADO</td><td>7</td><td>20221112</td></tr><tr><td>2022-11-13</td><td>2022</td><td>11</td><td>NOVEMBRO</td><td>13</td><td>DOMINGO</td><td>1</td><td>20221113</td></tr><tr><td>2022-11-14</td><td>2022</td><td>11</td><td>NOVEMBRO</td><td>14</td><td>SEGUNDA-FEIRA</td><td>2</td><td>20221114</td></tr><tr><td>2022-11-15</td><td>2022</td><td>11</td><td>NOVEMBRO</td><td>15</td><td>TERCA-FEIRA</td><td>3</td><td>20221115</td></tr><tr><td>2022-11-16</td><td>2022</td><td>11</td><td>NOVEMBRO</td><td>16</td><td>QUARTA-FEIRA</td><td>4</td><td>20221116</td></tr><tr><td>2022-11-17</td><td>2022</td><td>11</td><td>NOVEMBRO</td><td>17</td><td>QUINTA-FEIRA</td><td>5</td><td>20221117</td></tr><tr><td>2022-11-18</td><td>2022</td><td>11</td><td>NOVEMBRO</td><td>18</td><td>SEXTA-FEIRA</td><td>6</td><td>20221118</td></tr><tr><td>2022-11-19</td><td>2022</td><td>11</td><td>NOVEMBRO</td><td>19</td><td>SABADO</td><td>7</td><td>20221119</td></tr><tr><td>2022-11-20</td><td>2022</td><td>11</td><td>NOVEMBRO</td><td>20</td><td>DOMINGO</td><td>1</td><td>20221120</td></tr><tr><td>2022-11-21</td><td>2022</td><td>11</td><td>NOVEMBRO</td><td>21</td><td>SEGUNDA-FEIRA</td><td>2</td><td>20221121</td></tr><tr><td>2022-11-22</td><td>2022</td><td>11</td><td>NOVEMBRO</td><td>22</td><td>TERCA-FEIRA</td><td>3</td><td>20221122</td></tr><tr><td>2022-11-23</td><td>2022</td><td>11</td><td>NOVEMBRO</td><td>23</td><td>QUARTA-FEIRA</td><td>4</td><td>20221123</td></tr><tr><td>2022-11-24</td><td>2022</td><td>11</td><td>NOVEMBRO</td><td>24</td><td>QUINTA-FEIRA</td><td>5</td><td>20221124</td></tr><tr><td>2022-11-25</td><td>2022</td><td>11</td><td>NOVEMBRO</td><td>25</td><td>SEXTA-FEIRA</td><td>6</td><td>20221125</td></tr><tr><td>2022-11-26</td><td>2022</td><td>11</td><td>NOVEMBRO</td><td>26</td><td>SABADO</td><td>7</td><td>20221126</td></tr><tr><td>2022-11-27</td><td>2022</td><td>11</td><td>NOVEMBRO</td><td>27</td><td>DOMINGO</td><td>1</td><td>20221127</td></tr><tr><td>2022-11-28</td><td>2022</td><td>11</td><td>NOVEMBRO</td><td>28</td><td>SEGUNDA-FEIRA</td><td>2</td><td>20221128</td></tr><tr><td>2022-11-29</td><td>2022</td><td>11</td><td>NOVEMBRO</td><td>29</td><td>TERCA-FEIRA</td><td>3</td><td>20221129</td></tr><tr><td>2022-11-30</td><td>2022</td><td>11</td><td>NOVEMBRO</td><td>30</td><td>QUARTA-FEIRA</td><td>4</td><td>20221130</td></tr><tr><td>2022-12-01</td><td>2022</td><td>12</td><td>DEZEMBRO</td><td>1</td><td>QUINTA-FEIRA</td><td>5</td><td>20221201</td></tr><tr><td>2022-12-02</td><td>2022</td><td>12</td><td>DEZEMBRO</td><td>2</td><td>SEXTA-FEIRA</td><td>6</td><td>20221202</td></tr><tr><td>2022-12-03</td><td>2022</td><td>12</td><td>DEZEMBRO</td><td>3</td><td>SABADO</td><td>7</td><td>20221203</td></tr><tr><td>2022-12-04</td><td>2022</td><td>12</td><td>DEZEMBRO</td><td>4</td><td>DOMINGO</td><td>1</td><td>20221204</td></tr><tr><td>2022-12-05</td><td>2022</td><td>12</td><td>DEZEMBRO</td><td>5</td><td>SEGUNDA-FEIRA</td><td>2</td><td>20221205</td></tr><tr><td>2022-12-06</td><td>2022</td><td>12</td><td>DEZEMBRO</td><td>6</td><td>TERCA-FEIRA</td><td>3</td><td>20221206</td></tr><tr><td>2022-12-07</td><td>2022</td><td>12</td><td>DEZEMBRO</td><td>7</td><td>QUARTA-FEIRA</td><td>4</td><td>20221207</td></tr><tr><td>2022-12-08</td><td>2022</td><td>12</td><td>DEZEMBRO</td><td>8</td><td>QUINTA-FEIRA</td><td>5</td><td>20221208</td></tr><tr><td>2022-12-09</td><td>2022</td><td>12</td><td>DEZEMBRO</td><td>9</td><td>SEXTA-FEIRA</td><td>6</td><td>20221209</td></tr><tr><td>2022-12-10</td><td>2022</td><td>12</td><td>DEZEMBRO</td><td>10</td><td>SABADO</td><td>7</td><td>20221210</td></tr><tr><td>2022-12-11</td><td>2022</td><td>12</td><td>DEZEMBRO</td><td>11</td><td>DOMINGO</td><td>1</td><td>20221211</td></tr><tr><td>2022-12-12</td><td>2022</td><td>12</td><td>DEZEMBRO</td><td>12</td><td>SEGUNDA-FEIRA</td><td>2</td><td>20221212</td></tr><tr><td>2022-12-13</td><td>2022</td><td>12</td><td>DEZEMBRO</td><td>13</td><td>TERCA-FEIRA</td><td>3</td><td>20221213</td></tr><tr><td>2022-12-14</td><td>2022</td><td>12</td><td>DEZEMBRO</td><td>14</td><td>QUARTA-FEIRA</td><td>4</td><td>20221214</td></tr><tr><td>2022-12-15</td><td>2022</td><td>12</td><td>DEZEMBRO</td><td>15</td><td>QUINTA-FEIRA</td><td>5</td><td>20221215</td></tr><tr><td>2022-12-16</td><td>2022</td><td>12</td><td>DEZEMBRO</td><td>16</td><td>SEXTA-FEIRA</td><td>6</td><td>20221216</td></tr><tr><td>2022-12-17</td><td>2022</td><td>12</td><td>DEZEMBRO</td><td>17</td><td>SABADO</td><td>7</td><td>20221217</td></tr><tr><td>2022-12-18</td><td>2022</td><td>12</td><td>DEZEMBRO</td><td>18</td><td>DOMINGO</td><td>1</td><td>20221218</td></tr><tr><td>2022-12-19</td><td>2022</td><td>12</td><td>DEZEMBRO</td><td>19</td><td>SEGUNDA-FEIRA</td><td>2</td><td>20221219</td></tr><tr><td>2022-12-20</td><td>2022</td><td>12</td><td>DEZEMBRO</td><td>20</td><td>TERCA-FEIRA</td><td>3</td><td>20221220</td></tr><tr><td>2022-12-21</td><td>2022</td><td>12</td><td>DEZEMBRO</td><td>21</td><td>QUARTA-FEIRA</td><td>4</td><td>20221221</td></tr><tr><td>2022-12-22</td><td>2022</td><td>12</td><td>DEZEMBRO</td><td>22</td><td>QUINTA-FEIRA</td><td>5</td><td>20221222</td></tr><tr><td>2022-12-23</td><td>2022</td><td>12</td><td>DEZEMBRO</td><td>23</td><td>SEXTA-FEIRA</td><td>6</td><td>20221223</td></tr><tr><td>2022-12-24</td><td>2022</td><td>12</td><td>DEZEMBRO</td><td>24</td><td>SABADO</td><td>7</td><td>20221224</td></tr><tr><td>2022-12-25</td><td>2022</td><td>12</td><td>DEZEMBRO</td><td>25</td><td>DOMINGO</td><td>1</td><td>20221225</td></tr><tr><td>2022-12-26</td><td>2022</td><td>12</td><td>DEZEMBRO</td><td>26</td><td>SEGUNDA-FEIRA</td><td>2</td><td>20221226</td></tr><tr><td>2022-12-27</td><td>2022</td><td>12</td><td>DEZEMBRO</td><td>27</td><td>TERCA-FEIRA</td><td>3</td><td>20221227</td></tr><tr><td>2022-12-28</td><td>2022</td><td>12</td><td>DEZEMBRO</td><td>28</td><td>QUARTA-FEIRA</td><td>4</td><td>20221228</td></tr><tr><td>2022-12-29</td><td>2022</td><td>12</td><td>DEZEMBRO</td><td>29</td><td>QUINTA-FEIRA</td><td>5</td><td>20221229</td></tr><tr><td>2022-12-30</td><td>2022</td><td>12</td><td>DEZEMBRO</td><td>30</td><td>SEXTA-FEIRA</td><td>6</td><td>20221230</td></tr><tr><td>2022-12-31</td><td>2022</td><td>12</td><td>DEZEMBRO</td><td>31</td><td>SABADO</td><td>7</td><td>20221231</td></tr><tr><td>2023-01-01</td><td>2023</td><td>1</td><td>JANEIRO</td><td>1</td><td>DOMINGO</td><td>1</td><td>20230101</td></tr><tr><td>2023-01-02</td><td>2023</td><td>1</td><td>JANEIRO</td><td>2</td><td>SEGUNDA-FEIRA</td><td>2</td><td>20230102</td></tr><tr><td>2023-01-03</td><td>2023</td><td>1</td><td>JANEIRO</td><td>3</td><td>TERCA-FEIRA</td><td>3</td><td>20230103</td></tr><tr><td>2023-01-04</td><td>2023</td><td>1</td><td>JANEIRO</td><td>4</td><td>QUARTA-FEIRA</td><td>4</td><td>20230104</td></tr><tr><td>2023-01-05</td><td>2023</td><td>1</td><td>JANEIRO</td><td>5</td><td>QUINTA-FEIRA</td><td>5</td><td>20230105</td></tr><tr><td>2023-01-06</td><td>2023</td><td>1</td><td>JANEIRO</td><td>6</td><td>SEXTA-FEIRA</td><td>6</td><td>20230106</td></tr><tr><td>2023-01-07</td><td>2023</td><td>1</td><td>JANEIRO</td><td>7</td><td>SABADO</td><td>7</td><td>20230107</td></tr><tr><td>2023-01-08</td><td>2023</td><td>1</td><td>JANEIRO</td><td>8</td><td>DOMINGO</td><td>1</td><td>20230108</td></tr><tr><td>2023-01-09</td><td>2023</td><td>1</td><td>JANEIRO</td><td>9</td><td>SEGUNDA-FEIRA</td><td>2</td><td>20230109</td></tr><tr><td>2023-01-10</td><td>2023</td><td>1</td><td>JANEIRO</td><td>10</td><td>TERCA-FEIRA</td><td>3</td><td>20230110</td></tr><tr><td>2023-01-11</td><td>2023</td><td>1</td><td>JANEIRO</td><td>11</td><td>QUARTA-FEIRA</td><td>4</td><td>20230111</td></tr><tr><td>2023-01-12</td><td>2023</td><td>1</td><td>JANEIRO</td><td>12</td><td>QUINTA-FEIRA</td><td>5</td><td>20230112</td></tr><tr><td>2023-01-13</td><td>2023</td><td>1</td><td>JANEIRO</td><td>13</td><td>SEXTA-FEIRA</td><td>6</td><td>20230113</td></tr><tr><td>2023-01-14</td><td>2023</td><td>1</td><td>JANEIRO</td><td>14</td><td>SABADO</td><td>7</td><td>20230114</td></tr><tr><td>2023-01-15</td><td>2023</td><td>1</td><td>JANEIRO</td><td>15</td><td>DOMINGO</td><td>1</td><td>20230115</td></tr><tr><td>2023-01-16</td><td>2023</td><td>1</td><td>JANEIRO</td><td>16</td><td>SEGUNDA-FEIRA</td><td>2</td><td>20230116</td></tr><tr><td>2023-01-17</td><td>2023</td><td>1</td><td>JANEIRO</td><td>17</td><td>TERCA-FEIRA</td><td>3</td><td>20230117</td></tr><tr><td>2023-01-18</td><td>2023</td><td>1</td><td>JANEIRO</td><td>18</td><td>QUARTA-FEIRA</td><td>4</td><td>20230118</td></tr><tr><td>2023-01-19</td><td>2023</td><td>1</td><td>JANEIRO</td><td>19</td><td>QUINTA-FEIRA</td><td>5</td><td>20230119</td></tr><tr><td>2023-01-20</td><td>2023</td><td>1</td><td>JANEIRO</td><td>20</td><td>SEXTA-FEIRA</td><td>6</td><td>20230120</td></tr><tr><td>2023-01-21</td><td>2023</td><td>1</td><td>JANEIRO</td><td>21</td><td>SABADO</td><td>7</td><td>20230121</td></tr><tr><td>2023-01-22</td><td>2023</td><td>1</td><td>JANEIRO</td><td>22</td><td>DOMINGO</td><td>1</td><td>20230122</td></tr><tr><td>2023-01-23</td><td>2023</td><td>1</td><td>JANEIRO</td><td>23</td><td>SEGUNDA-FEIRA</td><td>2</td><td>20230123</td></tr><tr><td>2023-01-24</td><td>2023</td><td>1</td><td>JANEIRO</td><td>24</td><td>TERCA-FEIRA</td><td>3</td><td>20230124</td></tr><tr><td>2023-01-25</td><td>2023</td><td>1</td><td>JANEIRO</td><td>25</td><td>QUARTA-FEIRA</td><td>4</td><td>20230125</td></tr><tr><td>2023-01-26</td><td>2023</td><td>1</td><td>JANEIRO</td><td>26</td><td>QUINTA-FEIRA</td><td>5</td><td>20230126</td></tr><tr><td>2023-01-27</td><td>2023</td><td>1</td><td>JANEIRO</td><td>27</td><td>SEXTA-FEIRA</td><td>6</td><td>20230127</td></tr><tr><td>2023-01-28</td><td>2023</td><td>1</td><td>JANEIRO</td><td>28</td><td>SABADO</td><td>7</td><td>20230128</td></tr><tr><td>2023-01-29</td><td>2023</td><td>1</td><td>JANEIRO</td><td>29</td><td>DOMINGO</td><td>1</td><td>20230129</td></tr><tr><td>2023-01-30</td><td>2023</td><td>1</td><td>JANEIRO</td><td>30</td><td>SEGUNDA-FEIRA</td><td>2</td><td>20230130</td></tr><tr><td>2023-01-31</td><td>2023</td><td>1</td><td>JANEIRO</td><td>31</td><td>TERCA-FEIRA</td><td>3</td><td>20230131</td></tr><tr><td>2023-02-01</td><td>2023</td><td>2</td><td>FEVEREIRO</td><td>1</td><td>QUARTA-FEIRA</td><td>4</td><td>20230201</td></tr><tr><td>2023-02-02</td><td>2023</td><td>2</td><td>FEVEREIRO</td><td>2</td><td>QUINTA-FEIRA</td><td>5</td><td>20230202</td></tr><tr><td>2023-02-03</td><td>2023</td><td>2</td><td>FEVEREIRO</td><td>3</td><td>SEXTA-FEIRA</td><td>6</td><td>20230203</td></tr><tr><td>2023-02-04</td><td>2023</td><td>2</td><td>FEVEREIRO</td><td>4</td><td>SABADO</td><td>7</td><td>20230204</td></tr><tr><td>2023-02-05</td><td>2023</td><td>2</td><td>FEVEREIRO</td><td>5</td><td>DOMINGO</td><td>1</td><td>20230205</td></tr><tr><td>2023-02-06</td><td>2023</td><td>2</td><td>FEVEREIRO</td><td>6</td><td>SEGUNDA-FEIRA</td><td>2</td><td>20230206</td></tr><tr><td>2023-02-07</td><td>2023</td><td>2</td><td>FEVEREIRO</td><td>7</td><td>TERCA-FEIRA</td><td>3</td><td>20230207</td></tr><tr><td>2023-02-08</td><td>2023</td><td>2</td><td>FEVEREIRO</td><td>8</td><td>QUARTA-FEIRA</td><td>4</td><td>20230208</td></tr><tr><td>2023-02-09</td><td>2023</td><td>2</td><td>FEVEREIRO</td><td>9</td><td>QUINTA-FEIRA</td><td>5</td><td>20230209</td></tr><tr><td>2023-02-10</td><td>2023</td><td>2</td><td>FEVEREIRO</td><td>10</td><td>SEXTA-FEIRA</td><td>6</td><td>20230210</td></tr><tr><td>2023-02-11</td><td>2023</td><td>2</td><td>FEVEREIRO</td><td>11</td><td>SABADO</td><td>7</td><td>20230211</td></tr><tr><td>2023-02-12</td><td>2023</td><td>2</td><td>FEVEREIRO</td><td>12</td><td>DOMINGO</td><td>1</td><td>20230212</td></tr><tr><td>2023-02-13</td><td>2023</td><td>2</td><td>FEVEREIRO</td><td>13</td><td>SEGUNDA-FEIRA</td><td>2</td><td>20230213</td></tr><tr><td>2023-02-14</td><td>2023</td><td>2</td><td>FEVEREIRO</td><td>14</td><td>TERCA-FEIRA</td><td>3</td><td>20230214</td></tr><tr><td>2023-02-15</td><td>2023</td><td>2</td><td>FEVEREIRO</td><td>15</td><td>QUARTA-FEIRA</td><td>4</td><td>20230215</td></tr><tr><td>2023-02-16</td><td>2023</td><td>2</td><td>FEVEREIRO</td><td>16</td><td>QUINTA-FEIRA</td><td>5</td><td>20230216</td></tr><tr><td>2023-02-17</td><td>2023</td><td>2</td><td>FEVEREIRO</td><td>17</td><td>SEXTA-FEIRA</td><td>6</td><td>20230217</td></tr><tr><td>2023-02-18</td><td>2023</td><td>2</td><td>FEVEREIRO</td><td>18</td><td>SABADO</td><td>7</td><td>20230218</td></tr><tr><td>2023-02-19</td><td>2023</td><td>2</td><td>FEVEREIRO</td><td>19</td><td>DOMINGO</td><td>1</td><td>20230219</td></tr><tr><td>2023-02-20</td><td>2023</td><td>2</td><td>FEVEREIRO</td><td>20</td><td>SEGUNDA-FEIRA</td><td>2</td><td>20230220</td></tr><tr><td>2023-02-21</td><td>2023</td><td>2</td><td>FEVEREIRO</td><td>21</td><td>TERCA-FEIRA</td><td>3</td><td>20230221</td></tr><tr><td>2023-02-22</td><td>2023</td><td>2</td><td>FEVEREIRO</td><td>22</td><td>QUARTA-FEIRA</td><td>4</td><td>20230222</td></tr><tr><td>2023-02-23</td><td>2023</td><td>2</td><td>FEVEREIRO</td><td>23</td><td>QUINTA-FEIRA</td><td>5</td><td>20230223</td></tr><tr><td>2023-02-24</td><td>2023</td><td>2</td><td>FEVEREIRO</td><td>24</td><td>SEXTA-FEIRA</td><td>6</td><td>20230224</td></tr><tr><td>2023-02-25</td><td>2023</td><td>2</td><td>FEVEREIRO</td><td>25</td><td>SABADO</td><td>7</td><td>20230225</td></tr><tr><td>2023-02-26</td><td>2023</td><td>2</td><td>FEVEREIRO</td><td>26</td><td>DOMINGO</td><td>1</td><td>20230226</td></tr><tr><td>2023-02-27</td><td>2023</td><td>2</td><td>FEVEREIRO</td><td>27</td><td>SEGUNDA-FEIRA</td><td>2</td><td>20230227</td></tr><tr><td>2023-02-28</td><td>2023</td><td>2</td><td>FEVEREIRO</td><td>28</td><td>TERCA-FEIRA</td><td>3</td><td>20230228</td></tr><tr><td>2023-03-01</td><td>2023</td><td>3</td><td>MARCO</td><td>1</td><td>QUARTA-FEIRA</td><td>4</td><td>20230301</td></tr><tr><td>2023-03-02</td><td>2023</td><td>3</td><td>MARCO</td><td>2</td><td>QUINTA-FEIRA</td><td>5</td><td>20230302</td></tr><tr><td>2023-03-03</td><td>2023</td><td>3</td><td>MARCO</td><td>3</td><td>SEXTA-FEIRA</td><td>6</td><td>20230303</td></tr><tr><td>2023-03-04</td><td>2023</td><td>3</td><td>MARCO</td><td>4</td><td>SABADO</td><td>7</td><td>20230304</td></tr><tr><td>2023-03-05</td><td>2023</td><td>3</td><td>MARCO</td><td>5</td><td>DOMINGO</td><td>1</td><td>20230305</td></tr><tr><td>2023-03-06</td><td>2023</td><td>3</td><td>MARCO</td><td>6</td><td>SEGUNDA-FEIRA</td><td>2</td><td>20230306</td></tr><tr><td>2023-03-07</td><td>2023</td><td>3</td><td>MARCO</td><td>7</td><td>TERCA-FEIRA</td><td>3</td><td>20230307</td></tr><tr><td>2023-03-08</td><td>2023</td><td>3</td><td>MARCO</td><td>8</td><td>QUARTA-FEIRA</td><td>4</td><td>20230308</td></tr><tr><td>2023-03-09</td><td>2023</td><td>3</td><td>MARCO</td><td>9</td><td>QUINTA-FEIRA</td><td>5</td><td>20230309</td></tr><tr><td>2023-03-10</td><td>2023</td><td>3</td><td>MARCO</td><td>10</td><td>SEXTA-FEIRA</td><td>6</td><td>20230310</td></tr><tr><td>2023-03-11</td><td>2023</td><td>3</td><td>MARCO</td><td>11</td><td>SABADO</td><td>7</td><td>20230311</td></tr><tr><td>2023-03-12</td><td>2023</td><td>3</td><td>MARCO</td><td>12</td><td>DOMINGO</td><td>1</td><td>20230312</td></tr><tr><td>2023-03-13</td><td>2023</td><td>3</td><td>MARCO</td><td>13</td><td>SEGUNDA-FEIRA</td><td>2</td><td>20230313</td></tr><tr><td>2023-03-14</td><td>2023</td><td>3</td><td>MARCO</td><td>14</td><td>TERCA-FEIRA</td><td>3</td><td>20230314</td></tr><tr><td>2023-03-15</td><td>2023</td><td>3</td><td>MARCO</td><td>15</td><td>QUARTA-FEIRA</td><td>4</td><td>20230315</td></tr><tr><td>2023-03-16</td><td>2023</td><td>3</td><td>MARCO</td><td>16</td><td>QUINTA-FEIRA</td><td>5</td><td>20230316</td></tr><tr><td>2023-03-17</td><td>2023</td><td>3</td><td>MARCO</td><td>17</td><td>SEXTA-FEIRA</td><td>6</td><td>20230317</td></tr><tr><td>2023-03-18</td><td>2023</td><td>3</td><td>MARCO</td><td>18</td><td>SABADO</td><td>7</td><td>20230318</td></tr><tr><td>2023-03-19</td><td>2023</td><td>3</td><td>MARCO</td><td>19</td><td>DOMINGO</td><td>1</td><td>20230319</td></tr><tr><td>2023-03-20</td><td>2023</td><td>3</td><td>MARCO</td><td>20</td><td>SEGUNDA-FEIRA</td><td>2</td><td>20230320</td></tr><tr><td>2023-03-21</td><td>2023</td><td>3</td><td>MARCO</td><td>21</td><td>TERCA-FEIRA</td><td>3</td><td>20230321</td></tr><tr><td>2023-03-22</td><td>2023</td><td>3</td><td>MARCO</td><td>22</td><td>QUARTA-FEIRA</td><td>4</td><td>20230322</td></tr><tr><td>2023-03-23</td><td>2023</td><td>3</td><td>MARCO</td><td>23</td><td>QUINTA-FEIRA</td><td>5</td><td>20230323</td></tr><tr><td>2023-03-24</td><td>2023</td><td>3</td><td>MARCO</td><td>24</td><td>SEXTA-FEIRA</td><td>6</td><td>20230324</td></tr><tr><td>2023-03-25</td><td>2023</td><td>3</td><td>MARCO</td><td>25</td><td>SABADO</td><td>7</td><td>20230325</td></tr><tr><td>2023-03-26</td><td>2023</td><td>3</td><td>MARCO</td><td>26</td><td>DOMINGO</td><td>1</td><td>20230326</td></tr><tr><td>2023-03-27</td><td>2023</td><td>3</td><td>MARCO</td><td>27</td><td>SEGUNDA-FEIRA</td><td>2</td><td>20230327</td></tr><tr><td>2023-03-28</td><td>2023</td><td>3</td><td>MARCO</td><td>28</td><td>TERCA-FEIRA</td><td>3</td><td>20230328</td></tr><tr><td>2023-03-29</td><td>2023</td><td>3</td><td>MARCO</td><td>29</td><td>QUARTA-FEIRA</td><td>4</td><td>20230329</td></tr><tr><td>2023-03-30</td><td>2023</td><td>3</td><td>MARCO</td><td>30</td><td>QUINTA-FEIRA</td><td>5</td><td>20230330</td></tr><tr><td>2023-03-31</td><td>2023</td><td>3</td><td>MARCO</td><td>31</td><td>SEXTA-FEIRA</td><td>6</td><td>20230331</td></tr><tr><td>2023-04-01</td><td>2023</td><td>4</td><td>ABRIL</td><td>1</td><td>SABADO</td><td>7</td><td>20230401</td></tr><tr><td>2023-04-02</td><td>2023</td><td>4</td><td>ABRIL</td><td>2</td><td>DOMINGO</td><td>1</td><td>20230402</td></tr><tr><td>2023-04-03</td><td>2023</td><td>4</td><td>ABRIL</td><td>3</td><td>SEGUNDA-FEIRA</td><td>2</td><td>20230403</td></tr><tr><td>2023-04-04</td><td>2023</td><td>4</td><td>ABRIL</td><td>4</td><td>TERCA-FEIRA</td><td>3</td><td>20230404</td></tr><tr><td>2023-04-05</td><td>2023</td><td>4</td><td>ABRIL</td><td>5</td><td>QUARTA-FEIRA</td><td>4</td><td>20230405</td></tr><tr><td>2023-04-06</td><td>2023</td><td>4</td><td>ABRIL</td><td>6</td><td>QUINTA-FEIRA</td><td>5</td><td>20230406</td></tr><tr><td>2023-04-07</td><td>2023</td><td>4</td><td>ABRIL</td><td>7</td><td>SEXTA-FEIRA</td><td>6</td><td>20230407</td></tr><tr><td>2023-04-08</td><td>2023</td><td>4</td><td>ABRIL</td><td>8</td><td>SABADO</td><td>7</td><td>20230408</td></tr><tr><td>2023-04-09</td><td>2023</td><td>4</td><td>ABRIL</td><td>9</td><td>DOMINGO</td><td>1</td><td>20230409</td></tr><tr><td>2023-04-10</td><td>2023</td><td>4</td><td>ABRIL</td><td>10</td><td>SEGUNDA-FEIRA</td><td>2</td><td>20230410</td></tr><tr><td>2023-04-11</td><td>2023</td><td>4</td><td>ABRIL</td><td>11</td><td>TERCA-FEIRA</td><td>3</td><td>20230411</td></tr><tr><td>2023-04-12</td><td>2023</td><td>4</td><td>ABRIL</td><td>12</td><td>QUARTA-FEIRA</td><td>4</td><td>20230412</td></tr><tr><td>2023-04-13</td><td>2023</td><td>4</td><td>ABRIL</td><td>13</td><td>QUINTA-FEIRA</td><td>5</td><td>20230413</td></tr><tr><td>2023-04-14</td><td>2023</td><td>4</td><td>ABRIL</td><td>14</td><td>SEXTA-FEIRA</td><td>6</td><td>20230414</td></tr><tr><td>2023-04-15</td><td>2023</td><td>4</td><td>ABRIL</td><td>15</td><td>SABADO</td><td>7</td><td>20230415</td></tr><tr><td>2023-04-16</td><td>2023</td><td>4</td><td>ABRIL</td><td>16</td><td>DOMINGO</td><td>1</td><td>20230416</td></tr><tr><td>2023-04-17</td><td>2023</td><td>4</td><td>ABRIL</td><td>17</td><td>SEGUNDA-FEIRA</td><td>2</td><td>20230417</td></tr><tr><td>2023-04-18</td><td>2023</td><td>4</td><td>ABRIL</td><td>18</td><td>TERCA-FEIRA</td><td>3</td><td>20230418</td></tr><tr><td>2023-04-19</td><td>2023</td><td>4</td><td>ABRIL</td><td>19</td><td>QUARTA-FEIRA</td><td>4</td><td>20230419</td></tr><tr><td>2023-04-20</td><td>2023</td><td>4</td><td>ABRIL</td><td>20</td><td>QUINTA-FEIRA</td><td>5</td><td>20230420</td></tr><tr><td>2023-04-21</td><td>2023</td><td>4</td><td>ABRIL</td><td>21</td><td>SEXTA-FEIRA</td><td>6</td><td>20230421</td></tr><tr><td>2023-04-22</td><td>2023</td><td>4</td><td>ABRIL</td><td>22</td><td>SABADO</td><td>7</td><td>20230422</td></tr><tr><td>2023-04-23</td><td>2023</td><td>4</td><td>ABRIL</td><td>23</td><td>DOMINGO</td><td>1</td><td>20230423</td></tr><tr><td>2023-04-24</td><td>2023</td><td>4</td><td>ABRIL</td><td>24</td><td>SEGUNDA-FEIRA</td><td>2</td><td>20230424</td></tr><tr><td>2023-04-25</td><td>2023</td><td>4</td><td>ABRIL</td><td>25</td><td>TERCA-FEIRA</td><td>3</td><td>20230425</td></tr><tr><td>2023-04-26</td><td>2023</td><td>4</td><td>ABRIL</td><td>26</td><td>QUARTA-FEIRA</td><td>4</td><td>20230426</td></tr><tr><td>2023-04-27</td><td>2023</td><td>4</td><td>ABRIL</td><td>27</td><td>QUINTA-FEIRA</td><td>5</td><td>20230427</td></tr><tr><td>2023-04-28</td><td>2023</td><td>4</td><td>ABRIL</td><td>28</td><td>SEXTA-FEIRA</td><td>6</td><td>20230428</td></tr><tr><td>2023-04-29</td><td>2023</td><td>4</td><td>ABRIL</td><td>29</td><td>SABADO</td><td>7</td><td>20230429</td></tr><tr><td>2023-04-30</td><td>2023</td><td>4</td><td>ABRIL</td><td>30</td><td>DOMINGO</td><td>1</td><td>20230430</td></tr><tr><td>2023-05-01</td><td>2023</td><td>5</td><td>MAIO</td><td>1</td><td>SEGUNDA-FEIRA</td><td>2</td><td>20230501</td></tr><tr><td>2023-05-02</td><td>2023</td><td>5</td><td>MAIO</td><td>2</td><td>TERCA-FEIRA</td><td>3</td><td>20230502</td></tr><tr><td>2023-05-03</td><td>2023</td><td>5</td><td>MAIO</td><td>3</td><td>QUARTA-FEIRA</td><td>4</td><td>20230503</td></tr><tr><td>2023-05-04</td><td>2023</td><td>5</td><td>MAIO</td><td>4</td><td>QUINTA-FEIRA</td><td>5</td><td>20230504</td></tr><tr><td>2023-05-05</td><td>2023</td><td>5</td><td>MAIO</td><td>5</td><td>SEXTA-FEIRA</td><td>6</td><td>20230505</td></tr><tr><td>2023-05-06</td><td>2023</td><td>5</td><td>MAIO</td><td>6</td><td>SABADO</td><td>7</td><td>20230506</td></tr><tr><td>2023-05-07</td><td>2023</td><td>5</td><td>MAIO</td><td>7</td><td>DOMINGO</td><td>1</td><td>20230507</td></tr><tr><td>2023-05-08</td><td>2023</td><td>5</td><td>MAIO</td><td>8</td><td>SEGUNDA-FEIRA</td><td>2</td><td>20230508</td></tr><tr><td>2023-05-09</td><td>2023</td><td>5</td><td>MAIO</td><td>9</td><td>TERCA-FEIRA</td><td>3</td><td>20230509</td></tr><tr><td>2023-05-10</td><td>2023</td><td>5</td><td>MAIO</td><td>10</td><td>QUARTA-FEIRA</td><td>4</td><td>20230510</td></tr><tr><td>2023-05-11</td><td>2023</td><td>5</td><td>MAIO</td><td>11</td><td>QUINTA-FEIRA</td><td>5</td><td>20230511</td></tr><tr><td>2023-05-12</td><td>2023</td><td>5</td><td>MAIO</td><td>12</td><td>SEXTA-FEIRA</td><td>6</td><td>20230512</td></tr><tr><td>2023-05-13</td><td>2023</td><td>5</td><td>MAIO</td><td>13</td><td>SABADO</td><td>7</td><td>20230513</td></tr><tr><td>2023-05-14</td><td>2023</td><td>5</td><td>MAIO</td><td>14</td><td>DOMINGO</td><td>1</td><td>20230514</td></tr><tr><td>2023-05-15</td><td>2023</td><td>5</td><td>MAIO</td><td>15</td><td>SEGUNDA-FEIRA</td><td>2</td><td>20230515</td></tr><tr><td>2023-05-16</td><td>2023</td><td>5</td><td>MAIO</td><td>16</td><td>TERCA-FEIRA</td><td>3</td><td>20230516</td></tr><tr><td>2023-05-17</td><td>2023</td><td>5</td><td>MAIO</td><td>17</td><td>QUARTA-FEIRA</td><td>4</td><td>20230517</td></tr><tr><td>2023-05-18</td><td>2023</td><td>5</td><td>MAIO</td><td>18</td><td>QUINTA-FEIRA</td><td>5</td><td>20230518</td></tr><tr><td>2023-05-19</td><td>2023</td><td>5</td><td>MAIO</td><td>19</td><td>SEXTA-FEIRA</td><td>6</td><td>20230519</td></tr><tr><td>2023-05-20</td><td>2023</td><td>5</td><td>MAIO</td><td>20</td><td>SABADO</td><td>7</td><td>20230520</td></tr><tr><td>2023-05-21</td><td>2023</td><td>5</td><td>MAIO</td><td>21</td><td>DOMINGO</td><td>1</td><td>20230521</td></tr><tr><td>2023-05-22</td><td>2023</td><td>5</td><td>MAIO</td><td>22</td><td>SEGUNDA-FEIRA</td><td>2</td><td>20230522</td></tr><tr><td>2023-05-23</td><td>2023</td><td>5</td><td>MAIO</td><td>23</td><td>TERCA-FEIRA</td><td>3</td><td>20230523</td></tr><tr><td>2023-05-24</td><td>2023</td><td>5</td><td>MAIO</td><td>24</td><td>QUARTA-FEIRA</td><td>4</td><td>20230524</td></tr><tr><td>2023-05-25</td><td>2023</td><td>5</td><td>MAIO</td><td>25</td><td>QUINTA-FEIRA</td><td>5</td><td>20230525</td></tr><tr><td>2023-05-26</td><td>2023</td><td>5</td><td>MAIO</td><td>26</td><td>SEXTA-FEIRA</td><td>6</td><td>20230526</td></tr><tr><td>2023-05-27</td><td>2023</td><td>5</td><td>MAIO</td><td>27</td><td>SABADO</td><td>7</td><td>20230527</td></tr><tr><td>2023-05-28</td><td>2023</td><td>5</td><td>MAIO</td><td>28</td><td>DOMINGO</td><td>1</td><td>20230528</td></tr><tr><td>2023-05-29</td><td>2023</td><td>5</td><td>MAIO</td><td>29</td><td>SEGUNDA-FEIRA</td><td>2</td><td>20230529</td></tr><tr><td>2023-05-30</td><td>2023</td><td>5</td><td>MAIO</td><td>30</td><td>TERCA-FEIRA</td><td>3</td><td>20230530</td></tr><tr><td>2023-05-31</td><td>2023</td><td>5</td><td>MAIO</td><td>31</td><td>QUARTA-FEIRA</td><td>4</td><td>20230531</td></tr><tr><td>2023-06-01</td><td>2023</td><td>6</td><td>JUNHO</td><td>1</td><td>QUINTA-FEIRA</td><td>5</td><td>20230601</td></tr><tr><td>2023-06-02</td><td>2023</td><td>6</td><td>JUNHO</td><td>2</td><td>SEXTA-FEIRA</td><td>6</td><td>20230602</td></tr><tr><td>2023-06-03</td><td>2023</td><td>6</td><td>JUNHO</td><td>3</td><td>SABADO</td><td>7</td><td>20230603</td></tr><tr><td>2023-06-04</td><td>2023</td><td>6</td><td>JUNHO</td><td>4</td><td>DOMINGO</td><td>1</td><td>20230604</td></tr><tr><td>2023-06-05</td><td>2023</td><td>6</td><td>JUNHO</td><td>5</td><td>SEGUNDA-FEIRA</td><td>2</td><td>20230605</td></tr><tr><td>2023-06-06</td><td>2023</td><td>6</td><td>JUNHO</td><td>6</td><td>TERCA-FEIRA</td><td>3</td><td>20230606</td></tr><tr><td>2023-06-07</td><td>2023</td><td>6</td><td>JUNHO</td><td>7</td><td>QUARTA-FEIRA</td><td>4</td><td>20230607</td></tr><tr><td>2023-06-08</td><td>2023</td><td>6</td><td>JUNHO</td><td>8</td><td>QUINTA-FEIRA</td><td>5</td><td>20230608</td></tr><tr><td>2023-06-09</td><td>2023</td><td>6</td><td>JUNHO</td><td>9</td><td>SEXTA-FEIRA</td><td>6</td><td>20230609</td></tr><tr><td>2023-06-10</td><td>2023</td><td>6</td><td>JUNHO</td><td>10</td><td>SABADO</td><td>7</td><td>20230610</td></tr><tr><td>2023-06-11</td><td>2023</td><td>6</td><td>JUNHO</td><td>11</td><td>DOMINGO</td><td>1</td><td>20230611</td></tr><tr><td>2023-06-12</td><td>2023</td><td>6</td><td>JUNHO</td><td>12</td><td>SEGUNDA-FEIRA</td><td>2</td><td>20230612</td></tr><tr><td>2023-06-13</td><td>2023</td><td>6</td><td>JUNHO</td><td>13</td><td>TERCA-FEIRA</td><td>3</td><td>20230613</td></tr><tr><td>2023-06-14</td><td>2023</td><td>6</td><td>JUNHO</td><td>14</td><td>QUARTA-FEIRA</td><td>4</td><td>20230614</td></tr><tr><td>2023-06-15</td><td>2023</td><td>6</td><td>JUNHO</td><td>15</td><td>QUINTA-FEIRA</td><td>5</td><td>20230615</td></tr><tr><td>2023-06-16</td><td>2023</td><td>6</td><td>JUNHO</td><td>16</td><td>SEXTA-FEIRA</td><td>6</td><td>20230616</td></tr><tr><td>2023-06-17</td><td>2023</td><td>6</td><td>JUNHO</td><td>17</td><td>SABADO</td><td>7</td><td>20230617</td></tr><tr><td>2023-06-18</td><td>2023</td><td>6</td><td>JUNHO</td><td>18</td><td>DOMINGO</td><td>1</td><td>20230618</td></tr><tr><td>2023-06-19</td><td>2023</td><td>6</td><td>JUNHO</td><td>19</td><td>SEGUNDA-FEIRA</td><td>2</td><td>20230619</td></tr><tr><td>2023-06-20</td><td>2023</td><td>6</td><td>JUNHO</td><td>20</td><td>TERCA-FEIRA</td><td>3</td><td>20230620</td></tr><tr><td>2023-06-21</td><td>2023</td><td>6</td><td>JUNHO</td><td>21</td><td>QUARTA-FEIRA</td><td>4</td><td>20230621</td></tr><tr><td>2023-06-22</td><td>2023</td><td>6</td><td>JUNHO</td><td>22</td><td>QUINTA-FEIRA</td><td>5</td><td>20230622</td></tr><tr><td>2023-06-23</td><td>2023</td><td>6</td><td>JUNHO</td><td>23</td><td>SEXTA-FEIRA</td><td>6</td><td>20230623</td></tr><tr><td>2023-06-24</td><td>2023</td><td>6</td><td>JUNHO</td><td>24</td><td>SABADO</td><td>7</td><td>20230624</td></tr><tr><td>2023-06-25</td><td>2023</td><td>6</td><td>JUNHO</td><td>25</td><td>DOMINGO</td><td>1</td><td>20230625</td></tr><tr><td>2023-06-26</td><td>2023</td><td>6</td><td>JUNHO</td><td>26</td><td>SEGUNDA-FEIRA</td><td>2</td><td>20230626</td></tr><tr><td>2023-06-27</td><td>2023</td><td>6</td><td>JUNHO</td><td>27</td><td>TERCA-FEIRA</td><td>3</td><td>20230627</td></tr><tr><td>2023-06-28</td><td>2023</td><td>6</td><td>JUNHO</td><td>28</td><td>QUARTA-FEIRA</td><td>4</td><td>20230628</td></tr><tr><td>2023-06-29</td><td>2023</td><td>6</td><td>JUNHO</td><td>29</td><td>QUINTA-FEIRA</td><td>5</td><td>20230629</td></tr><tr><td>2023-06-30</td><td>2023</td><td>6</td><td>JUNHO</td><td>30</td><td>SEXTA-FEIRA</td><td>6</td><td>20230630</td></tr><tr><td>2023-07-01</td><td>2023</td><td>7</td><td>JULHO</td><td>1</td><td>SABADO</td><td>7</td><td>20230701</td></tr><tr><td>2023-07-02</td><td>2023</td><td>7</td><td>JULHO</td><td>2</td><td>DOMINGO</td><td>1</td><td>20230702</td></tr><tr><td>2023-07-03</td><td>2023</td><td>7</td><td>JULHO</td><td>3</td><td>SEGUNDA-FEIRA</td><td>2</td><td>20230703</td></tr><tr><td>2023-07-04</td><td>2023</td><td>7</td><td>JULHO</td><td>4</td><td>TERCA-FEIRA</td><td>3</td><td>20230704</td></tr><tr><td>2023-07-05</td><td>2023</td><td>7</td><td>JULHO</td><td>5</td><td>QUARTA-FEIRA</td><td>4</td><td>20230705</td></tr><tr><td>2023-07-06</td><td>2023</td><td>7</td><td>JULHO</td><td>6</td><td>QUINTA-FEIRA</td><td>5</td><td>20230706</td></tr><tr><td>2023-07-07</td><td>2023</td><td>7</td><td>JULHO</td><td>7</td><td>SEXTA-FEIRA</td><td>6</td><td>20230707</td></tr><tr><td>2023-07-08</td><td>2023</td><td>7</td><td>JULHO</td><td>8</td><td>SABADO</td><td>7</td><td>20230708</td></tr><tr><td>2023-07-09</td><td>2023</td><td>7</td><td>JULHO</td><td>9</td><td>DOMINGO</td><td>1</td><td>20230709</td></tr><tr><td>2023-07-10</td><td>2023</td><td>7</td><td>JULHO</td><td>10</td><td>SEGUNDA-FEIRA</td><td>2</td><td>20230710</td></tr><tr><td>2023-07-11</td><td>2023</td><td>7</td><td>JULHO</td><td>11</td><td>TERCA-FEIRA</td><td>3</td><td>20230711</td></tr><tr><td>2023-07-12</td><td>2023</td><td>7</td><td>JULHO</td><td>12</td><td>QUARTA-FEIRA</td><td>4</td><td>20230712</td></tr><tr><td>2023-07-13</td><td>2023</td><td>7</td><td>JULHO</td><td>13</td><td>QUINTA-FEIRA</td><td>5</td><td>20230713</td></tr><tr><td>2023-07-14</td><td>2023</td><td>7</td><td>JULHO</td><td>14</td><td>SEXTA-FEIRA</td><td>6</td><td>20230714</td></tr><tr><td>2023-07-15</td><td>2023</td><td>7</td><td>JULHO</td><td>15</td><td>SABADO</td><td>7</td><td>20230715</td></tr><tr><td>2023-07-16</td><td>2023</td><td>7</td><td>JULHO</td><td>16</td><td>DOMINGO</td><td>1</td><td>20230716</td></tr><tr><td>2023-07-17</td><td>2023</td><td>7</td><td>JULHO</td><td>17</td><td>SEGUNDA-FEIRA</td><td>2</td><td>20230717</td></tr><tr><td>2023-07-18</td><td>2023</td><td>7</td><td>JULHO</td><td>18</td><td>TERCA-FEIRA</td><td>3</td><td>20230718</td></tr><tr><td>2023-07-19</td><td>2023</td><td>7</td><td>JULHO</td><td>19</td><td>QUARTA-FEIRA</td><td>4</td><td>20230719</td></tr><tr><td>2023-07-20</td><td>2023</td><td>7</td><td>JULHO</td><td>20</td><td>QUINTA-FEIRA</td><td>5</td><td>20230720</td></tr><tr><td>2023-07-21</td><td>2023</td><td>7</td><td>JULHO</td><td>21</td><td>SEXTA-FEIRA</td><td>6</td><td>20230721</td></tr><tr><td>2023-07-22</td><td>2023</td><td>7</td><td>JULHO</td><td>22</td><td>SABADO</td><td>7</td><td>20230722</td></tr><tr><td>2023-07-23</td><td>2023</td><td>7</td><td>JULHO</td><td>23</td><td>DOMINGO</td><td>1</td><td>20230723</td></tr><tr><td>2023-07-24</td><td>2023</td><td>7</td><td>JULHO</td><td>24</td><td>SEGUNDA-FEIRA</td><td>2</td><td>20230724</td></tr><tr><td>2023-07-25</td><td>2023</td><td>7</td><td>JULHO</td><td>25</td><td>TERCA-FEIRA</td><td>3</td><td>20230725</td></tr><tr><td>2023-07-26</td><td>2023</td><td>7</td><td>JULHO</td><td>26</td><td>QUARTA-FEIRA</td><td>4</td><td>20230726</td></tr><tr><td>2023-07-27</td><td>2023</td><td>7</td><td>JULHO</td><td>27</td><td>QUINTA-FEIRA</td><td>5</td><td>20230727</td></tr><tr><td>2023-07-28</td><td>2023</td><td>7</td><td>JULHO</td><td>28</td><td>SEXTA-FEIRA</td><td>6</td><td>20230728</td></tr><tr><td>2023-07-29</td><td>2023</td><td>7</td><td>JULHO</td><td>29</td><td>SABADO</td><td>7</td><td>20230729</td></tr><tr><td>2023-07-30</td><td>2023</td><td>7</td><td>JULHO</td><td>30</td><td>DOMINGO</td><td>1</td><td>20230730</td></tr><tr><td>2023-07-31</td><td>2023</td><td>7</td><td>JULHO</td><td>31</td><td>SEGUNDA-FEIRA</td><td>2</td><td>20230731</td></tr><tr><td>2023-08-01</td><td>2023</td><td>8</td><td>AGOSTO</td><td>1</td><td>TERCA-FEIRA</td><td>3</td><td>20230801</td></tr><tr><td>2023-08-02</td><td>2023</td><td>8</td><td>AGOSTO</td><td>2</td><td>QUARTA-FEIRA</td><td>4</td><td>20230802</td></tr><tr><td>2023-08-03</td><td>2023</td><td>8</td><td>AGOSTO</td><td>3</td><td>QUINTA-FEIRA</td><td>5</td><td>20230803</td></tr><tr><td>2023-08-04</td><td>2023</td><td>8</td><td>AGOSTO</td><td>4</td><td>SEXTA-FEIRA</td><td>6</td><td>20230804</td></tr><tr><td>2023-08-05</td><td>2023</td><td>8</td><td>AGOSTO</td><td>5</td><td>SABADO</td><td>7</td><td>20230805</td></tr><tr><td>2023-08-06</td><td>2023</td><td>8</td><td>AGOSTO</td><td>6</td><td>DOMINGO</td><td>1</td><td>20230806</td></tr><tr><td>2023-08-07</td><td>2023</td><td>8</td><td>AGOSTO</td><td>7</td><td>SEGUNDA-FEIRA</td><td>2</td><td>20230807</td></tr><tr><td>2023-08-08</td><td>2023</td><td>8</td><td>AGOSTO</td><td>8</td><td>TERCA-FEIRA</td><td>3</td><td>20230808</td></tr><tr><td>2023-08-09</td><td>2023</td><td>8</td><td>AGOSTO</td><td>9</td><td>QUARTA-FEIRA</td><td>4</td><td>20230809</td></tr><tr><td>2023-08-10</td><td>2023</td><td>8</td><td>AGOSTO</td><td>10</td><td>QUINTA-FEIRA</td><td>5</td><td>20230810</td></tr><tr><td>2023-08-11</td><td>2023</td><td>8</td><td>AGOSTO</td><td>11</td><td>SEXTA-FEIRA</td><td>6</td><td>20230811</td></tr><tr><td>2023-08-12</td><td>2023</td><td>8</td><td>AGOSTO</td><td>12</td><td>SABADO</td><td>7</td><td>20230812</td></tr><tr><td>2023-08-13</td><td>2023</td><td>8</td><td>AGOSTO</td><td>13</td><td>DOMINGO</td><td>1</td><td>20230813</td></tr><tr><td>2023-08-14</td><td>2023</td><td>8</td><td>AGOSTO</td><td>14</td><td>SEGUNDA-FEIRA</td><td>2</td><td>20230814</td></tr><tr><td>2023-08-15</td><td>2023</td><td>8</td><td>AGOSTO</td><td>15</td><td>TERCA-FEIRA</td><td>3</td><td>20230815</td></tr><tr><td>2023-08-16</td><td>2023</td><td>8</td><td>AGOSTO</td><td>16</td><td>QUARTA-FEIRA</td><td>4</td><td>20230816</td></tr><tr><td>2023-08-17</td><td>2023</td><td>8</td><td>AGOSTO</td><td>17</td><td>QUINTA-FEIRA</td><td>5</td><td>20230817</td></tr><tr><td>2023-08-18</td><td>2023</td><td>8</td><td>AGOSTO</td><td>18</td><td>SEXTA-FEIRA</td><td>6</td><td>20230818</td></tr><tr><td>2023-08-19</td><td>2023</td><td>8</td><td>AGOSTO</td><td>19</td><td>SABADO</td><td>7</td><td>20230819</td></tr><tr><td>2023-08-20</td><td>2023</td><td>8</td><td>AGOSTO</td><td>20</td><td>DOMINGO</td><td>1</td><td>20230820</td></tr><tr><td>2023-08-21</td><td>2023</td><td>8</td><td>AGOSTO</td><td>21</td><td>SEGUNDA-FEIRA</td><td>2</td><td>20230821</td></tr><tr><td>2023-08-22</td><td>2023</td><td>8</td><td>AGOSTO</td><td>22</td><td>TERCA-FEIRA</td><td>3</td><td>20230822</td></tr><tr><td>2023-08-23</td><td>2023</td><td>8</td><td>AGOSTO</td><td>23</td><td>QUARTA-FEIRA</td><td>4</td><td>20230823</td></tr><tr><td>2023-08-24</td><td>2023</td><td>8</td><td>AGOSTO</td><td>24</td><td>QUINTA-FEIRA</td><td>5</td><td>20230824</td></tr><tr><td>2023-08-25</td><td>2023</td><td>8</td><td>AGOSTO</td><td>25</td><td>SEXTA-FEIRA</td><td>6</td><td>20230825</td></tr><tr><td>2023-08-26</td><td>2023</td><td>8</td><td>AGOSTO</td><td>26</td><td>SABADO</td><td>7</td><td>20230826</td></tr><tr><td>2023-08-27</td><td>2023</td><td>8</td><td>AGOSTO</td><td>27</td><td>DOMINGO</td><td>1</td><td>20230827</td></tr><tr><td>2023-08-28</td><td>2023</td><td>8</td><td>AGOSTO</td><td>28</td><td>SEGUNDA-FEIRA</td><td>2</td><td>20230828</td></tr><tr><td>2023-08-29</td><td>2023</td><td>8</td><td>AGOSTO</td><td>29</td><td>TERCA-FEIRA</td><td>3</td><td>20230829</td></tr><tr><td>2023-08-30</td><td>2023</td><td>8</td><td>AGOSTO</td><td>30</td><td>QUARTA-FEIRA</td><td>4</td><td>20230830</td></tr><tr><td>2023-08-31</td><td>2023</td><td>8</td><td>AGOSTO</td><td>31</td><td>QUINTA-FEIRA</td><td>5</td><td>20230831</td></tr><tr><td>2023-09-01</td><td>2023</td><td>9</td><td>SETEMBRO</td><td>1</td><td>SEXTA-FEIRA</td><td>6</td><td>20230901</td></tr><tr><td>2023-09-02</td><td>2023</td><td>9</td><td>SETEMBRO</td><td>2</td><td>SABADO</td><td>7</td><td>20230902</td></tr><tr><td>2023-09-03</td><td>2023</td><td>9</td><td>SETEMBRO</td><td>3</td><td>DOMINGO</td><td>1</td><td>20230903</td></tr><tr><td>2023-09-04</td><td>2023</td><td>9</td><td>SETEMBRO</td><td>4</td><td>SEGUNDA-FEIRA</td><td>2</td><td>20230904</td></tr><tr><td>2023-09-05</td><td>2023</td><td>9</td><td>SETEMBRO</td><td>5</td><td>TERCA-FEIRA</td><td>3</td><td>20230905</td></tr><tr><td>2023-09-06</td><td>2023</td><td>9</td><td>SETEMBRO</td><td>6</td><td>QUARTA-FEIRA</td><td>4</td><td>20230906</td></tr><tr><td>2023-09-07</td><td>2023</td><td>9</td><td>SETEMBRO</td><td>7</td><td>QUINTA-FEIRA</td><td>5</td><td>20230907</td></tr><tr><td>2023-09-08</td><td>2023</td><td>9</td><td>SETEMBRO</td><td>8</td><td>SEXTA-FEIRA</td><td>6</td><td>20230908</td></tr><tr><td>2023-09-09</td><td>2023</td><td>9</td><td>SETEMBRO</td><td>9</td><td>SABADO</td><td>7</td><td>20230909</td></tr><tr><td>2023-09-10</td><td>2023</td><td>9</td><td>SETEMBRO</td><td>10</td><td>DOMINGO</td><td>1</td><td>20230910</td></tr><tr><td>2023-09-11</td><td>2023</td><td>9</td><td>SETEMBRO</td><td>11</td><td>SEGUNDA-FEIRA</td><td>2</td><td>20230911</td></tr><tr><td>2023-09-12</td><td>2023</td><td>9</td><td>SETEMBRO</td><td>12</td><td>TERCA-FEIRA</td><td>3</td><td>20230912</td></tr><tr><td>2023-09-13</td><td>2023</td><td>9</td><td>SETEMBRO</td><td>13</td><td>QUARTA-FEIRA</td><td>4</td><td>20230913</td></tr><tr><td>2023-09-14</td><td>2023</td><td>9</td><td>SETEMBRO</td><td>14</td><td>QUINTA-FEIRA</td><td>5</td><td>20230914</td></tr><tr><td>2023-09-15</td><td>2023</td><td>9</td><td>SETEMBRO</td><td>15</td><td>SEXTA-FEIRA</td><td>6</td><td>20230915</td></tr><tr><td>2023-09-16</td><td>2023</td><td>9</td><td>SETEMBRO</td><td>16</td><td>SABADO</td><td>7</td><td>20230916</td></tr><tr><td>2023-09-17</td><td>2023</td><td>9</td><td>SETEMBRO</td><td>17</td><td>DOMINGO</td><td>1</td><td>20230917</td></tr><tr><td>2023-09-18</td><td>2023</td><td>9</td><td>SETEMBRO</td><td>18</td><td>SEGUNDA-FEIRA</td><td>2</td><td>20230918</td></tr><tr><td>2023-09-19</td><td>2023</td><td>9</td><td>SETEMBRO</td><td>19</td><td>TERCA-FEIRA</td><td>3</td><td>20230919</td></tr><tr><td>2023-09-20</td><td>2023</td><td>9</td><td>SETEMBRO</td><td>20</td><td>QUARTA-FEIRA</td><td>4</td><td>20230920</td></tr><tr><td>2023-09-21</td><td>2023</td><td>9</td><td>SETEMBRO</td><td>21</td><td>QUINTA-FEIRA</td><td>5</td><td>20230921</td></tr><tr><td>2023-09-22</td><td>2023</td><td>9</td><td>SETEMBRO</td><td>22</td><td>SEXTA-FEIRA</td><td>6</td><td>20230922</td></tr><tr><td>2023-09-23</td><td>2023</td><td>9</td><td>SETEMBRO</td><td>23</td><td>SABADO</td><td>7</td><td>20230923</td></tr><tr><td>2023-09-24</td><td>2023</td><td>9</td><td>SETEMBRO</td><td>24</td><td>DOMINGO</td><td>1</td><td>20230924</td></tr><tr><td>2023-09-25</td><td>2023</td><td>9</td><td>SETEMBRO</td><td>25</td><td>SEGUNDA-FEIRA</td><td>2</td><td>20230925</td></tr><tr><td>2023-09-26</td><td>2023</td><td>9</td><td>SETEMBRO</td><td>26</td><td>TERCA-FEIRA</td><td>3</td><td>20230926</td></tr><tr><td>2023-09-27</td><td>2023</td><td>9</td><td>SETEMBRO</td><td>27</td><td>QUARTA-FEIRA</td><td>4</td><td>20230927</td></tr><tr><td>2023-09-28</td><td>2023</td><td>9</td><td>SETEMBRO</td><td>28</td><td>QUINTA-FEIRA</td><td>5</td><td>20230928</td></tr><tr><td>2023-09-29</td><td>2023</td><td>9</td><td>SETEMBRO</td><td>29</td><td>SEXTA-FEIRA</td><td>6</td><td>20230929</td></tr><tr><td>2023-09-30</td><td>2023</td><td>9</td><td>SETEMBRO</td><td>30</td><td>SABADO</td><td>7</td><td>20230930</td></tr><tr><td>2023-10-01</td><td>2023</td><td>10</td><td>OUTUBRO</td><td>1</td><td>DOMINGO</td><td>1</td><td>20231001</td></tr><tr><td>2023-10-02</td><td>2023</td><td>10</td><td>OUTUBRO</td><td>2</td><td>SEGUNDA-FEIRA</td><td>2</td><td>20231002</td></tr><tr><td>2023-10-03</td><td>2023</td><td>10</td><td>OUTUBRO</td><td>3</td><td>TERCA-FEIRA</td><td>3</td><td>20231003</td></tr><tr><td>2023-10-04</td><td>2023</td><td>10</td><td>OUTUBRO</td><td>4</td><td>QUARTA-FEIRA</td><td>4</td><td>20231004</td></tr><tr><td>2023-10-05</td><td>2023</td><td>10</td><td>OUTUBRO</td><td>5</td><td>QUINTA-FEIRA</td><td>5</td><td>20231005</td></tr><tr><td>2023-10-06</td><td>2023</td><td>10</td><td>OUTUBRO</td><td>6</td><td>SEXTA-FEIRA</td><td>6</td><td>20231006</td></tr><tr><td>2023-10-07</td><td>2023</td><td>10</td><td>OUTUBRO</td><td>7</td><td>SABADO</td><td>7</td><td>20231007</td></tr><tr><td>2023-10-08</td><td>2023</td><td>10</td><td>OUTUBRO</td><td>8</td><td>DOMINGO</td><td>1</td><td>20231008</td></tr><tr><td>2023-10-09</td><td>2023</td><td>10</td><td>OUTUBRO</td><td>9</td><td>SEGUNDA-FEIRA</td><td>2</td><td>20231009</td></tr><tr><td>2023-10-10</td><td>2023</td><td>10</td><td>OUTUBRO</td><td>10</td><td>TERCA-FEIRA</td><td>3</td><td>20231010</td></tr><tr><td>2023-10-11</td><td>2023</td><td>10</td><td>OUTUBRO</td><td>11</td><td>QUARTA-FEIRA</td><td>4</td><td>20231011</td></tr><tr><td>2023-10-12</td><td>2023</td><td>10</td><td>OUTUBRO</td><td>12</td><td>QUINTA-FEIRA</td><td>5</td><td>20231012</td></tr><tr><td>2023-10-13</td><td>2023</td><td>10</td><td>OUTUBRO</td><td>13</td><td>SEXTA-FEIRA</td><td>6</td><td>20231013</td></tr><tr><td>2023-10-14</td><td>2023</td><td>10</td><td>OUTUBRO</td><td>14</td><td>SABADO</td><td>7</td><td>20231014</td></tr><tr><td>2023-10-15</td><td>2023</td><td>10</td><td>OUTUBRO</td><td>15</td><td>DOMINGO</td><td>1</td><td>20231015</td></tr><tr><td>2023-10-16</td><td>2023</td><td>10</td><td>OUTUBRO</td><td>16</td><td>SEGUNDA-FEIRA</td><td>2</td><td>20231016</td></tr><tr><td>2023-10-17</td><td>2023</td><td>10</td><td>OUTUBRO</td><td>17</td><td>TERCA-FEIRA</td><td>3</td><td>20231017</td></tr><tr><td>2023-10-18</td><td>2023</td><td>10</td><td>OUTUBRO</td><td>18</td><td>QUARTA-FEIRA</td><td>4</td><td>20231018</td></tr><tr><td>2023-10-19</td><td>2023</td><td>10</td><td>OUTUBRO</td><td>19</td><td>QUINTA-FEIRA</td><td>5</td><td>20231019</td></tr><tr><td>2023-10-20</td><td>2023</td><td>10</td><td>OUTUBRO</td><td>20</td><td>SEXTA-FEIRA</td><td>6</td><td>20231020</td></tr><tr><td>2023-10-21</td><td>2023</td><td>10</td><td>OUTUBRO</td><td>21</td><td>SABADO</td><td>7</td><td>20231021</td></tr><tr><td>2023-10-22</td><td>2023</td><td>10</td><td>OUTUBRO</td><td>22</td><td>DOMINGO</td><td>1</td><td>20231022</td></tr><tr><td>2023-10-23</td><td>2023</td><td>10</td><td>OUTUBRO</td><td>23</td><td>SEGUNDA-FEIRA</td><td>2</td><td>20231023</td></tr><tr><td>2023-10-24</td><td>2023</td><td>10</td><td>OUTUBRO</td><td>24</td><td>TERCA-FEIRA</td><td>3</td><td>20231024</td></tr><tr><td>2023-10-25</td><td>2023</td><td>10</td><td>OUTUBRO</td><td>25</td><td>QUARTA-FEIRA</td><td>4</td><td>20231025</td></tr><tr><td>2023-10-26</td><td>2023</td><td>10</td><td>OUTUBRO</td><td>26</td><td>QUINTA-FEIRA</td><td>5</td><td>20231026</td></tr><tr><td>2023-10-27</td><td>2023</td><td>10</td><td>OUTUBRO</td><td>27</td><td>SEXTA-FEIRA</td><td>6</td><td>20231027</td></tr><tr><td>2023-10-28</td><td>2023</td><td>10</td><td>OUTUBRO</td><td>28</td><td>SABADO</td><td>7</td><td>20231028</td></tr><tr><td>2023-10-29</td><td>2023</td><td>10</td><td>OUTUBRO</td><td>29</td><td>DOMINGO</td><td>1</td><td>20231029</td></tr><tr><td>2023-10-30</td><td>2023</td><td>10</td><td>OUTUBRO</td><td>30</td><td>SEGUNDA-FEIRA</td><td>2</td><td>20231030</td></tr><tr><td>2023-10-31</td><td>2023</td><td>10</td><td>OUTUBRO</td><td>31</td><td>TERCA-FEIRA</td><td>3</td><td>20231031</td></tr><tr><td>2023-11-01</td><td>2023</td><td>11</td><td>NOVEMBRO</td><td>1</td><td>QUARTA-FEIRA</td><td>4</td><td>20231101</td></tr><tr><td>2023-11-02</td><td>2023</td><td>11</td><td>NOVEMBRO</td><td>2</td><td>QUINTA-FEIRA</td><td>5</td><td>20231102</td></tr><tr><td>2023-11-03</td><td>2023</td><td>11</td><td>NOVEMBRO</td><td>3</td><td>SEXTA-FEIRA</td><td>6</td><td>20231103</td></tr><tr><td>2023-11-04</td><td>2023</td><td>11</td><td>NOVEMBRO</td><td>4</td><td>SABADO</td><td>7</td><td>20231104</td></tr><tr><td>2023-11-05</td><td>2023</td><td>11</td><td>NOVEMBRO</td><td>5</td><td>DOMINGO</td><td>1</td><td>20231105</td></tr><tr><td>2023-11-06</td><td>2023</td><td>11</td><td>NOVEMBRO</td><td>6</td><td>SEGUNDA-FEIRA</td><td>2</td><td>20231106</td></tr><tr><td>2023-11-07</td><td>2023</td><td>11</td><td>NOVEMBRO</td><td>7</td><td>TERCA-FEIRA</td><td>3</td><td>20231107</td></tr><tr><td>2023-11-08</td><td>2023</td><td>11</td><td>NOVEMBRO</td><td>8</td><td>QUARTA-FEIRA</td><td>4</td><td>20231108</td></tr><tr><td>2023-11-09</td><td>2023</td><td>11</td><td>NOVEMBRO</td><td>9</td><td>QUINTA-FEIRA</td><td>5</td><td>20231109</td></tr><tr><td>2023-11-10</td><td>2023</td><td>11</td><td>NOVEMBRO</td><td>10</td><td>SEXTA-FEIRA</td><td>6</td><td>20231110</td></tr><tr><td>2023-11-11</td><td>2023</td><td>11</td><td>NOVEMBRO</td><td>11</td><td>SABADO</td><td>7</td><td>20231111</td></tr><tr><td>2023-11-12</td><td>2023</td><td>11</td><td>NOVEMBRO</td><td>12</td><td>DOMINGO</td><td>1</td><td>20231112</td></tr><tr><td>2023-11-13</td><td>2023</td><td>11</td><td>NOVEMBRO</td><td>13</td><td>SEGUNDA-FEIRA</td><td>2</td><td>20231113</td></tr><tr><td>2023-11-14</td><td>2023</td><td>11</td><td>NOVEMBRO</td><td>14</td><td>TERCA-FEIRA</td><td>3</td><td>20231114</td></tr><tr><td>2023-11-15</td><td>2023</td><td>11</td><td>NOVEMBRO</td><td>15</td><td>QUARTA-FEIRA</td><td>4</td><td>20231115</td></tr><tr><td>2023-11-16</td><td>2023</td><td>11</td><td>NOVEMBRO</td><td>16</td><td>QUINTA-FEIRA</td><td>5</td><td>20231116</td></tr><tr><td>2023-11-17</td><td>2023</td><td>11</td><td>NOVEMBRO</td><td>17</td><td>SEXTA-FEIRA</td><td>6</td><td>20231117</td></tr><tr><td>2023-11-18</td><td>2023</td><td>11</td><td>NOVEMBRO</td><td>18</td><td>SABADO</td><td>7</td><td>20231118</td></tr><tr><td>2023-11-19</td><td>2023</td><td>11</td><td>NOVEMBRO</td><td>19</td><td>DOMINGO</td><td>1</td><td>20231119</td></tr><tr><td>2023-11-20</td><td>2023</td><td>11</td><td>NOVEMBRO</td><td>20</td><td>SEGUNDA-FEIRA</td><td>2</td><td>20231120</td></tr><tr><td>2023-11-21</td><td>2023</td><td>11</td><td>NOVEMBRO</td><td>21</td><td>TERCA-FEIRA</td><td>3</td><td>20231121</td></tr><tr><td>2023-11-22</td><td>2023</td><td>11</td><td>NOVEMBRO</td><td>22</td><td>QUARTA-FEIRA</td><td>4</td><td>20231122</td></tr><tr><td>2023-11-23</td><td>2023</td><td>11</td><td>NOVEMBRO</td><td>23</td><td>QUINTA-FEIRA</td><td>5</td><td>20231123</td></tr><tr><td>2023-11-24</td><td>2023</td><td>11</td><td>NOVEMBRO</td><td>24</td><td>SEXTA-FEIRA</td><td>6</td><td>20231124</td></tr><tr><td>2023-11-25</td><td>2023</td><td>11</td><td>NOVEMBRO</td><td>25</td><td>SABADO</td><td>7</td><td>20231125</td></tr><tr><td>2023-11-26</td><td>2023</td><td>11</td><td>NOVEMBRO</td><td>26</td><td>DOMINGO</td><td>1</td><td>20231126</td></tr><tr><td>2023-11-27</td><td>2023</td><td>11</td><td>NOVEMBRO</td><td>27</td><td>SEGUNDA-FEIRA</td><td>2</td><td>20231127</td></tr><tr><td>2023-11-28</td><td>2023</td><td>11</td><td>NOVEMBRO</td><td>28</td><td>TERCA-FEIRA</td><td>3</td><td>20231128</td></tr><tr><td>2023-11-29</td><td>2023</td><td>11</td><td>NOVEMBRO</td><td>29</td><td>QUARTA-FEIRA</td><td>4</td><td>20231129</td></tr><tr><td>2023-11-30</td><td>2023</td><td>11</td><td>NOVEMBRO</td><td>30</td><td>QUINTA-FEIRA</td><td>5</td><td>20231130</td></tr><tr><td>2023-12-01</td><td>2023</td><td>12</td><td>DEZEMBRO</td><td>1</td><td>SEXTA-FEIRA</td><td>6</td><td>20231201</td></tr><tr><td>2023-12-02</td><td>2023</td><td>12</td><td>DEZEMBRO</td><td>2</td><td>SABADO</td><td>7</td><td>20231202</td></tr><tr><td>2023-12-03</td><td>2023</td><td>12</td><td>DEZEMBRO</td><td>3</td><td>DOMINGO</td><td>1</td><td>20231203</td></tr><tr><td>2023-12-04</td><td>2023</td><td>12</td><td>DEZEMBRO</td><td>4</td><td>SEGUNDA-FEIRA</td><td>2</td><td>20231204</td></tr><tr><td>2023-12-05</td><td>2023</td><td>12</td><td>DEZEMBRO</td><td>5</td><td>TERCA-FEIRA</td><td>3</td><td>20231205</td></tr><tr><td>2023-12-06</td><td>2023</td><td>12</td><td>DEZEMBRO</td><td>6</td><td>QUARTA-FEIRA</td><td>4</td><td>20231206</td></tr><tr><td>2023-12-07</td><td>2023</td><td>12</td><td>DEZEMBRO</td><td>7</td><td>QUINTA-FEIRA</td><td>5</td><td>20231207</td></tr><tr><td>2023-12-08</td><td>2023</td><td>12</td><td>DEZEMBRO</td><td>8</td><td>SEXTA-FEIRA</td><td>6</td><td>20231208</td></tr><tr><td>2023-12-09</td><td>2023</td><td>12</td><td>DEZEMBRO</td><td>9</td><td>SABADO</td><td>7</td><td>20231209</td></tr><tr><td>2023-12-10</td><td>2023</td><td>12</td><td>DEZEMBRO</td><td>10</td><td>DOMINGO</td><td>1</td><td>20231210</td></tr><tr><td>2023-12-11</td><td>2023</td><td>12</td><td>DEZEMBRO</td><td>11</td><td>SEGUNDA-FEIRA</td><td>2</td><td>20231211</td></tr><tr><td>2023-12-12</td><td>2023</td><td>12</td><td>DEZEMBRO</td><td>12</td><td>TERCA-FEIRA</td><td>3</td><td>20231212</td></tr><tr><td>2023-12-13</td><td>2023</td><td>12</td><td>DEZEMBRO</td><td>13</td><td>QUARTA-FEIRA</td><td>4</td><td>20231213</td></tr><tr><td>2023-12-14</td><td>2023</td><td>12</td><td>DEZEMBRO</td><td>14</td><td>QUINTA-FEIRA</td><td>5</td><td>20231214</td></tr><tr><td>2023-12-15</td><td>2023</td><td>12</td><td>DEZEMBRO</td><td>15</td><td>SEXTA-FEIRA</td><td>6</td><td>20231215</td></tr><tr><td>2023-12-16</td><td>2023</td><td>12</td><td>DEZEMBRO</td><td>16</td><td>SABADO</td><td>7</td><td>20231216</td></tr><tr><td>2023-12-17</td><td>2023</td><td>12</td><td>DEZEMBRO</td><td>17</td><td>DOMINGO</td><td>1</td><td>20231217</td></tr><tr><td>2023-12-18</td><td>2023</td><td>12</td><td>DEZEMBRO</td><td>18</td><td>SEGUNDA-FEIRA</td><td>2</td><td>20231218</td></tr><tr><td>2023-12-19</td><td>2023</td><td>12</td><td>DEZEMBRO</td><td>19</td><td>TERCA-FEIRA</td><td>3</td><td>20231219</td></tr><tr><td>2023-12-20</td><td>2023</td><td>12</td><td>DEZEMBRO</td><td>20</td><td>QUARTA-FEIRA</td><td>4</td><td>20231220</td></tr><tr><td>2023-12-21</td><td>2023</td><td>12</td><td>DEZEMBRO</td><td>21</td><td>QUINTA-FEIRA</td><td>5</td><td>20231221</td></tr><tr><td>2023-12-22</td><td>2023</td><td>12</td><td>DEZEMBRO</td><td>22</td><td>SEXTA-FEIRA</td><td>6</td><td>20231222</td></tr><tr><td>2023-12-23</td><td>2023</td><td>12</td><td>DEZEMBRO</td><td>23</td><td>SABADO</td><td>7</td><td>20231223</td></tr><tr><td>2023-12-24</td><td>2023</td><td>12</td><td>DEZEMBRO</td><td>24</td><td>DOMINGO</td><td>1</td><td>20231224</td></tr><tr><td>2023-12-25</td><td>2023</td><td>12</td><td>DEZEMBRO</td><td>25</td><td>SEGUNDA-FEIRA</td><td>2</td><td>20231225</td></tr><tr><td>2023-12-26</td><td>2023</td><td>12</td><td>DEZEMBRO</td><td>26</td><td>TERCA-FEIRA</td><td>3</td><td>20231226</td></tr><tr><td>2023-12-27</td><td>2023</td><td>12</td><td>DEZEMBRO</td><td>27</td><td>QUARTA-FEIRA</td><td>4</td><td>20231227</td></tr><tr><td>2023-12-28</td><td>2023</td><td>12</td><td>DEZEMBRO</td><td>28</td><td>QUINTA-FEIRA</td><td>5</td><td>20231228</td></tr><tr><td>2023-12-29</td><td>2023</td><td>12</td><td>DEZEMBRO</td><td>29</td><td>SEXTA-FEIRA</td><td>6</td><td>20231229</td></tr><tr><td>2023-12-30</td><td>2023</td><td>12</td><td>DEZEMBRO</td><td>30</td><td>SABADO</td><td>7</td><td>20231230</td></tr><tr><td>2023-12-31</td><td>2023</td><td>12</td><td>DEZEMBRO</td><td>31</td><td>DOMINGO</td><td>1</td><td>20231231</td></tr><tr><td>2024-01-01</td><td>2024</td><td>1</td><td>JANEIRO</td><td>1</td><td>SEGUNDA-FEIRA</td><td>2</td><td>20240101</td></tr><tr><td>2024-01-02</td><td>2024</td><td>1</td><td>JANEIRO</td><td>2</td><td>TERCA-FEIRA</td><td>3</td><td>20240102</td></tr><tr><td>2024-01-03</td><td>2024</td><td>1</td><td>JANEIRO</td><td>3</td><td>QUARTA-FEIRA</td><td>4</td><td>20240103</td></tr><tr><td>2024-01-04</td><td>2024</td><td>1</td><td>JANEIRO</td><td>4</td><td>QUINTA-FEIRA</td><td>5</td><td>20240104</td></tr><tr><td>2024-01-05</td><td>2024</td><td>1</td><td>JANEIRO</td><td>5</td><td>SEXTA-FEIRA</td><td>6</td><td>20240105</td></tr><tr><td>2024-01-06</td><td>2024</td><td>1</td><td>JANEIRO</td><td>6</td><td>SABADO</td><td>7</td><td>20240106</td></tr><tr><td>2024-01-07</td><td>2024</td><td>1</td><td>JANEIRO</td><td>7</td><td>DOMINGO</td><td>1</td><td>20240107</td></tr><tr><td>2024-01-08</td><td>2024</td><td>1</td><td>JANEIRO</td><td>8</td><td>SEGUNDA-FEIRA</td><td>2</td><td>20240108</td></tr><tr><td>2024-01-09</td><td>2024</td><td>1</td><td>JANEIRO</td><td>9</td><td>TERCA-FEIRA</td><td>3</td><td>20240109</td></tr><tr><td>2024-01-10</td><td>2024</td><td>1</td><td>JANEIRO</td><td>10</td><td>QUARTA-FEIRA</td><td>4</td><td>20240110</td></tr><tr><td>2024-01-11</td><td>2024</td><td>1</td><td>JANEIRO</td><td>11</td><td>QUINTA-FEIRA</td><td>5</td><td>20240111</td></tr><tr><td>2024-01-12</td><td>2024</td><td>1</td><td>JANEIRO</td><td>12</td><td>SEXTA-FEIRA</td><td>6</td><td>20240112</td></tr><tr><td>2024-01-13</td><td>2024</td><td>1</td><td>JANEIRO</td><td>13</td><td>SABADO</td><td>7</td><td>20240113</td></tr><tr><td>2024-01-14</td><td>2024</td><td>1</td><td>JANEIRO</td><td>14</td><td>DOMINGO</td><td>1</td><td>20240114</td></tr><tr><td>2024-01-15</td><td>2024</td><td>1</td><td>JANEIRO</td><td>15</td><td>SEGUNDA-FEIRA</td><td>2</td><td>20240115</td></tr><tr><td>2024-01-16</td><td>2024</td><td>1</td><td>JANEIRO</td><td>16</td><td>TERCA-FEIRA</td><td>3</td><td>20240116</td></tr><tr><td>2024-01-17</td><td>2024</td><td>1</td><td>JANEIRO</td><td>17</td><td>QUARTA-FEIRA</td><td>4</td><td>20240117</td></tr><tr><td>2024-01-18</td><td>2024</td><td>1</td><td>JANEIRO</td><td>18</td><td>QUINTA-FEIRA</td><td>5</td><td>20240118</td></tr><tr><td>2024-01-19</td><td>2024</td><td>1</td><td>JANEIRO</td><td>19</td><td>SEXTA-FEIRA</td><td>6</td><td>20240119</td></tr><tr><td>2024-01-20</td><td>2024</td><td>1</td><td>JANEIRO</td><td>20</td><td>SABADO</td><td>7</td><td>20240120</td></tr><tr><td>2024-01-21</td><td>2024</td><td>1</td><td>JANEIRO</td><td>21</td><td>DOMINGO</td><td>1</td><td>20240121</td></tr><tr><td>2024-01-22</td><td>2024</td><td>1</td><td>JANEIRO</td><td>22</td><td>SEGUNDA-FEIRA</td><td>2</td><td>20240122</td></tr><tr><td>2024-01-23</td><td>2024</td><td>1</td><td>JANEIRO</td><td>23</td><td>TERCA-FEIRA</td><td>3</td><td>20240123</td></tr><tr><td>2024-01-24</td><td>2024</td><td>1</td><td>JANEIRO</td><td>24</td><td>QUARTA-FEIRA</td><td>4</td><td>20240124</td></tr><tr><td>2024-01-25</td><td>2024</td><td>1</td><td>JANEIRO</td><td>25</td><td>QUINTA-FEIRA</td><td>5</td><td>20240125</td></tr><tr><td>2024-01-26</td><td>2024</td><td>1</td><td>JANEIRO</td><td>26</td><td>SEXTA-FEIRA</td><td>6</td><td>20240126</td></tr><tr><td>2024-01-27</td><td>2024</td><td>1</td><td>JANEIRO</td><td>27</td><td>SABADO</td><td>7</td><td>20240127</td></tr><tr><td>2024-01-28</td><td>2024</td><td>1</td><td>JANEIRO</td><td>28</td><td>DOMINGO</td><td>1</td><td>20240128</td></tr><tr><td>2024-01-29</td><td>2024</td><td>1</td><td>JANEIRO</td><td>29</td><td>SEGUNDA-FEIRA</td><td>2</td><td>20240129</td></tr><tr><td>2024-01-30</td><td>2024</td><td>1</td><td>JANEIRO</td><td>30</td><td>TERCA-FEIRA</td><td>3</td><td>20240130</td></tr><tr><td>2024-01-31</td><td>2024</td><td>1</td><td>JANEIRO</td><td>31</td><td>QUARTA-FEIRA</td><td>4</td><td>20240131</td></tr><tr><td>2024-02-01</td><td>2024</td><td>2</td><td>FEVEREIRO</td><td>1</td><td>QUINTA-FEIRA</td><td>5</td><td>20240201</td></tr><tr><td>2024-02-02</td><td>2024</td><td>2</td><td>FEVEREIRO</td><td>2</td><td>SEXTA-FEIRA</td><td>6</td><td>20240202</td></tr><tr><td>2024-02-03</td><td>2024</td><td>2</td><td>FEVEREIRO</td><td>3</td><td>SABADO</td><td>7</td><td>20240203</td></tr><tr><td>2024-02-04</td><td>2024</td><td>2</td><td>FEVEREIRO</td><td>4</td><td>DOMINGO</td><td>1</td><td>20240204</td></tr><tr><td>2024-02-05</td><td>2024</td><td>2</td><td>FEVEREIRO</td><td>5</td><td>SEGUNDA-FEIRA</td><td>2</td><td>20240205</td></tr><tr><td>2024-02-06</td><td>2024</td><td>2</td><td>FEVEREIRO</td><td>6</td><td>TERCA-FEIRA</td><td>3</td><td>20240206</td></tr><tr><td>2024-02-07</td><td>2024</td><td>2</td><td>FEVEREIRO</td><td>7</td><td>QUARTA-FEIRA</td><td>4</td><td>20240207</td></tr><tr><td>2024-02-08</td><td>2024</td><td>2</td><td>FEVEREIRO</td><td>8</td><td>QUINTA-FEIRA</td><td>5</td><td>20240208</td></tr><tr><td>2024-02-09</td><td>2024</td><td>2</td><td>FEVEREIRO</td><td>9</td><td>SEXTA-FEIRA</td><td>6</td><td>20240209</td></tr><tr><td>2024-02-10</td><td>2024</td><td>2</td><td>FEVEREIRO</td><td>10</td><td>SABADO</td><td>7</td><td>20240210</td></tr><tr><td>2024-02-11</td><td>2024</td><td>2</td><td>FEVEREIRO</td><td>11</td><td>DOMINGO</td><td>1</td><td>20240211</td></tr><tr><td>2024-02-12</td><td>2024</td><td>2</td><td>FEVEREIRO</td><td>12</td><td>SEGUNDA-FEIRA</td><td>2</td><td>20240212</td></tr><tr><td>2024-02-13</td><td>2024</td><td>2</td><td>FEVEREIRO</td><td>13</td><td>TERCA-FEIRA</td><td>3</td><td>20240213</td></tr><tr><td>2024-02-14</td><td>2024</td><td>2</td><td>FEVEREIRO</td><td>14</td><td>QUARTA-FEIRA</td><td>4</td><td>20240214</td></tr><tr><td>2024-02-15</td><td>2024</td><td>2</td><td>FEVEREIRO</td><td>15</td><td>QUINTA-FEIRA</td><td>5</td><td>20240215</td></tr><tr><td>2024-02-16</td><td>2024</td><td>2</td><td>FEVEREIRO</td><td>16</td><td>SEXTA-FEIRA</td><td>6</td><td>20240216</td></tr><tr><td>2024-02-17</td><td>2024</td><td>2</td><td>FEVEREIRO</td><td>17</td><td>SABADO</td><td>7</td><td>20240217</td></tr><tr><td>2024-02-18</td><td>2024</td><td>2</td><td>FEVEREIRO</td><td>18</td><td>DOMINGO</td><td>1</td><td>20240218</td></tr><tr><td>2024-02-19</td><td>2024</td><td>2</td><td>FEVEREIRO</td><td>19</td><td>SEGUNDA-FEIRA</td><td>2</td><td>20240219</td></tr><tr><td>2024-02-20</td><td>2024</td><td>2</td><td>FEVEREIRO</td><td>20</td><td>TERCA-FEIRA</td><td>3</td><td>20240220</td></tr><tr><td>2024-02-21</td><td>2024</td><td>2</td><td>FEVEREIRO</td><td>21</td><td>QUARTA-FEIRA</td><td>4</td><td>20240221</td></tr><tr><td>2024-02-22</td><td>2024</td><td>2</td><td>FEVEREIRO</td><td>22</td><td>QUINTA-FEIRA</td><td>5</td><td>20240222</td></tr><tr><td>2024-02-23</td><td>2024</td><td>2</td><td>FEVEREIRO</td><td>23</td><td>SEXTA-FEIRA</td><td>6</td><td>20240223</td></tr><tr><td>2024-02-24</td><td>2024</td><td>2</td><td>FEVEREIRO</td><td>24</td><td>SABADO</td><td>7</td><td>20240224</td></tr><tr><td>2024-02-25</td><td>2024</td><td>2</td><td>FEVEREIRO</td><td>25</td><td>DOMINGO</td><td>1</td><td>20240225</td></tr><tr><td>2024-02-26</td><td>2024</td><td>2</td><td>FEVEREIRO</td><td>26</td><td>SEGUNDA-FEIRA</td><td>2</td><td>20240226</td></tr><tr><td>2024-02-27</td><td>2024</td><td>2</td><td>FEVEREIRO</td><td>27</td><td>TERCA-FEIRA</td><td>3</td><td>20240227</td></tr><tr><td>2024-02-28</td><td>2024</td><td>2</td><td>FEVEREIRO</td><td>28</td><td>QUARTA-FEIRA</td><td>4</td><td>20240228</td></tr><tr><td>2024-02-29</td><td>2024</td><td>2</td><td>FEVEREIRO</td><td>29</td><td>QUINTA-FEIRA</td><td>5</td><td>20240229</td></tr><tr><td>2024-03-01</td><td>2024</td><td>3</td><td>MARCO</td><td>1</td><td>SEXTA-FEIRA</td><td>6</td><td>20240301</td></tr><tr><td>2024-03-02</td><td>2024</td><td>3</td><td>MARCO</td><td>2</td><td>SABADO</td><td>7</td><td>20240302</td></tr><tr><td>2024-03-03</td><td>2024</td><td>3</td><td>MARCO</td><td>3</td><td>DOMINGO</td><td>1</td><td>20240303</td></tr><tr><td>2024-03-04</td><td>2024</td><td>3</td><td>MARCO</td><td>4</td><td>SEGUNDA-FEIRA</td><td>2</td><td>20240304</td></tr><tr><td>2024-03-05</td><td>2024</td><td>3</td><td>MARCO</td><td>5</td><td>TERCA-FEIRA</td><td>3</td><td>20240305</td></tr><tr><td>2024-03-06</td><td>2024</td><td>3</td><td>MARCO</td><td>6</td><td>QUARTA-FEIRA</td><td>4</td><td>20240306</td></tr><tr><td>2024-03-07</td><td>2024</td><td>3</td><td>MARCO</td><td>7</td><td>QUINTA-FEIRA</td><td>5</td><td>20240307</td></tr><tr><td>2024-03-08</td><td>2024</td><td>3</td><td>MARCO</td><td>8</td><td>SEXTA-FEIRA</td><td>6</td><td>20240308</td></tr><tr><td>2024-03-09</td><td>2024</td><td>3</td><td>MARCO</td><td>9</td><td>SABADO</td><td>7</td><td>20240309</td></tr><tr><td>2024-03-10</td><td>2024</td><td>3</td><td>MARCO</td><td>10</td><td>DOMINGO</td><td>1</td><td>20240310</td></tr><tr><td>2024-03-11</td><td>2024</td><td>3</td><td>MARCO</td><td>11</td><td>SEGUNDA-FEIRA</td><td>2</td><td>20240311</td></tr><tr><td>2024-03-12</td><td>2024</td><td>3</td><td>MARCO</td><td>12</td><td>TERCA-FEIRA</td><td>3</td><td>20240312</td></tr><tr><td>2024-03-13</td><td>2024</td><td>3</td><td>MARCO</td><td>13</td><td>QUARTA-FEIRA</td><td>4</td><td>20240313</td></tr><tr><td>2024-03-14</td><td>2024</td><td>3</td><td>MARCO</td><td>14</td><td>QUINTA-FEIRA</td><td>5</td><td>20240314</td></tr><tr><td>2024-03-15</td><td>2024</td><td>3</td><td>MARCO</td><td>15</td><td>SEXTA-FEIRA</td><td>6</td><td>20240315</td></tr><tr><td>2024-03-16</td><td>2024</td><td>3</td><td>MARCO</td><td>16</td><td>SABADO</td><td>7</td><td>20240316</td></tr><tr><td>2024-03-17</td><td>2024</td><td>3</td><td>MARCO</td><td>17</td><td>DOMINGO</td><td>1</td><td>20240317</td></tr><tr><td>2024-03-18</td><td>2024</td><td>3</td><td>MARCO</td><td>18</td><td>SEGUNDA-FEIRA</td><td>2</td><td>20240318</td></tr><tr><td>2024-03-19</td><td>2024</td><td>3</td><td>MARCO</td><td>19</td><td>TERCA-FEIRA</td><td>3</td><td>20240319</td></tr><tr><td>2024-03-20</td><td>2024</td><td>3</td><td>MARCO</td><td>20</td><td>QUARTA-FEIRA</td><td>4</td><td>20240320</td></tr><tr><td>2024-03-21</td><td>2024</td><td>3</td><td>MARCO</td><td>21</td><td>QUINTA-FEIRA</td><td>5</td><td>20240321</td></tr><tr><td>2024-03-22</td><td>2024</td><td>3</td><td>MARCO</td><td>22</td><td>SEXTA-FEIRA</td><td>6</td><td>20240322</td></tr><tr><td>2024-03-23</td><td>2024</td><td>3</td><td>MARCO</td><td>23</td><td>SABADO</td><td>7</td><td>20240323</td></tr><tr><td>2024-03-24</td><td>2024</td><td>3</td><td>MARCO</td><td>24</td><td>DOMINGO</td><td>1</td><td>20240324</td></tr><tr><td>2024-03-25</td><td>2024</td><td>3</td><td>MARCO</td><td>25</td><td>SEGUNDA-FEIRA</td><td>2</td><td>20240325</td></tr><tr><td>2024-03-26</td><td>2024</td><td>3</td><td>MARCO</td><td>26</td><td>TERCA-FEIRA</td><td>3</td><td>20240326</td></tr><tr><td>2024-03-27</td><td>2024</td><td>3</td><td>MARCO</td><td>27</td><td>QUARTA-FEIRA</td><td>4</td><td>20240327</td></tr><tr><td>2024-03-28</td><td>2024</td><td>3</td><td>MARCO</td><td>28</td><td>QUINTA-FEIRA</td><td>5</td><td>20240328</td></tr><tr><td>2024-03-29</td><td>2024</td><td>3</td><td>MARCO</td><td>29</td><td>SEXTA-FEIRA</td><td>6</td><td>20240329</td></tr><tr><td>2024-03-30</td><td>2024</td><td>3</td><td>MARCO</td><td>30</td><td>SABADO</td><td>7</td><td>20240330</td></tr><tr><td>2024-03-31</td><td>2024</td><td>3</td><td>MARCO</td><td>31</td><td>DOMINGO</td><td>1</td><td>20240331</td></tr><tr><td>2024-04-01</td><td>2024</td><td>4</td><td>ABRIL</td><td>1</td><td>SEGUNDA-FEIRA</td><td>2</td><td>20240401</td></tr><tr><td>2024-04-02</td><td>2024</td><td>4</td><td>ABRIL</td><td>2</td><td>TERCA-FEIRA</td><td>3</td><td>20240402</td></tr><tr><td>2024-04-03</td><td>2024</td><td>4</td><td>ABRIL</td><td>3</td><td>QUARTA-FEIRA</td><td>4</td><td>20240403</td></tr><tr><td>2024-04-04</td><td>2024</td><td>4</td><td>ABRIL</td><td>4</td><td>QUINTA-FEIRA</td><td>5</td><td>20240404</td></tr><tr><td>2024-04-05</td><td>2024</td><td>4</td><td>ABRIL</td><td>5</td><td>SEXTA-FEIRA</td><td>6</td><td>20240405</td></tr><tr><td>2024-04-06</td><td>2024</td><td>4</td><td>ABRIL</td><td>6</td><td>SABADO</td><td>7</td><td>20240406</td></tr><tr><td>2024-04-07</td><td>2024</td><td>4</td><td>ABRIL</td><td>7</td><td>DOMINGO</td><td>1</td><td>20240407</td></tr><tr><td>2024-04-08</td><td>2024</td><td>4</td><td>ABRIL</td><td>8</td><td>SEGUNDA-FEIRA</td><td>2</td><td>20240408</td></tr><tr><td>2024-04-09</td><td>2024</td><td>4</td><td>ABRIL</td><td>9</td><td>TERCA-FEIRA</td><td>3</td><td>20240409</td></tr><tr><td>2024-04-10</td><td>2024</td><td>4</td><td>ABRIL</td><td>10</td><td>QUARTA-FEIRA</td><td>4</td><td>20240410</td></tr><tr><td>2024-04-11</td><td>2024</td><td>4</td><td>ABRIL</td><td>11</td><td>QUINTA-FEIRA</td><td>5</td><td>20240411</td></tr><tr><td>2024-04-12</td><td>2024</td><td>4</td><td>ABRIL</td><td>12</td><td>SEXTA-FEIRA</td><td>6</td><td>20240412</td></tr><tr><td>2024-04-13</td><td>2024</td><td>4</td><td>ABRIL</td><td>13</td><td>SABADO</td><td>7</td><td>20240413</td></tr><tr><td>2024-04-14</td><td>2024</td><td>4</td><td>ABRIL</td><td>14</td><td>DOMINGO</td><td>1</td><td>20240414</td></tr><tr><td>2024-04-15</td><td>2024</td><td>4</td><td>ABRIL</td><td>15</td><td>SEGUNDA-FEIRA</td><td>2</td><td>20240415</td></tr><tr><td>2024-04-16</td><td>2024</td><td>4</td><td>ABRIL</td><td>16</td><td>TERCA-FEIRA</td><td>3</td><td>20240416</td></tr><tr><td>2024-04-17</td><td>2024</td><td>4</td><td>ABRIL</td><td>17</td><td>QUARTA-FEIRA</td><td>4</td><td>20240417</td></tr><tr><td>2024-04-18</td><td>2024</td><td>4</td><td>ABRIL</td><td>18</td><td>QUINTA-FEIRA</td><td>5</td><td>20240418</td></tr><tr><td>2024-04-19</td><td>2024</td><td>4</td><td>ABRIL</td><td>19</td><td>SEXTA-FEIRA</td><td>6</td><td>20240419</td></tr><tr><td>2024-04-20</td><td>2024</td><td>4</td><td>ABRIL</td><td>20</td><td>SABADO</td><td>7</td><td>20240420</td></tr><tr><td>2024-04-21</td><td>2024</td><td>4</td><td>ABRIL</td><td>21</td><td>DOMINGO</td><td>1</td><td>20240421</td></tr><tr><td>2024-04-22</td><td>2024</td><td>4</td><td>ABRIL</td><td>22</td><td>SEGUNDA-FEIRA</td><td>2</td><td>20240422</td></tr><tr><td>2024-04-23</td><td>2024</td><td>4</td><td>ABRIL</td><td>23</td><td>TERCA-FEIRA</td><td>3</td><td>20240423</td></tr><tr><td>2024-04-24</td><td>2024</td><td>4</td><td>ABRIL</td><td>24</td><td>QUARTA-FEIRA</td><td>4</td><td>20240424</td></tr><tr><td>2024-04-25</td><td>2024</td><td>4</td><td>ABRIL</td><td>25</td><td>QUINTA-FEIRA</td><td>5</td><td>20240425</td></tr><tr><td>2024-04-26</td><td>2024</td><td>4</td><td>ABRIL</td><td>26</td><td>SEXTA-FEIRA</td><td>6</td><td>20240426</td></tr><tr><td>2024-04-27</td><td>2024</td><td>4</td><td>ABRIL</td><td>27</td><td>SABADO</td><td>7</td><td>20240427</td></tr><tr><td>2024-04-28</td><td>2024</td><td>4</td><td>ABRIL</td><td>28</td><td>DOMINGO</td><td>1</td><td>20240428</td></tr><tr><td>2024-04-29</td><td>2024</td><td>4</td><td>ABRIL</td><td>29</td><td>SEGUNDA-FEIRA</td><td>2</td><td>20240429</td></tr><tr><td>2024-04-30</td><td>2024</td><td>4</td><td>ABRIL</td><td>30</td><td>TERCA-FEIRA</td><td>3</td><td>20240430</td></tr><tr><td>2024-05-01</td><td>2024</td><td>5</td><td>MAIO</td><td>1</td><td>QUARTA-FEIRA</td><td>4</td><td>20240501</td></tr><tr><td>2024-05-02</td><td>2024</td><td>5</td><td>MAIO</td><td>2</td><td>QUINTA-FEIRA</td><td>5</td><td>20240502</td></tr><tr><td>2024-05-03</td><td>2024</td><td>5</td><td>MAIO</td><td>3</td><td>SEXTA-FEIRA</td><td>6</td><td>20240503</td></tr><tr><td>2024-05-04</td><td>2024</td><td>5</td><td>MAIO</td><td>4</td><td>SABADO</td><td>7</td><td>20240504</td></tr><tr><td>2024-05-05</td><td>2024</td><td>5</td><td>MAIO</td><td>5</td><td>DOMINGO</td><td>1</td><td>20240505</td></tr><tr><td>2024-05-06</td><td>2024</td><td>5</td><td>MAIO</td><td>6</td><td>SEGUNDA-FEIRA</td><td>2</td><td>20240506</td></tr><tr><td>2024-05-07</td><td>2024</td><td>5</td><td>MAIO</td><td>7</td><td>TERCA-FEIRA</td><td>3</td><td>20240507</td></tr><tr><td>2024-05-08</td><td>2024</td><td>5</td><td>MAIO</td><td>8</td><td>QUARTA-FEIRA</td><td>4</td><td>20240508</td></tr><tr><td>2024-05-09</td><td>2024</td><td>5</td><td>MAIO</td><td>9</td><td>QUINTA-FEIRA</td><td>5</td><td>20240509</td></tr><tr><td>2024-05-10</td><td>2024</td><td>5</td><td>MAIO</td><td>10</td><td>SEXTA-FEIRA</td><td>6</td><td>20240510</td></tr><tr><td>2024-05-11</td><td>2024</td><td>5</td><td>MAIO</td><td>11</td><td>SABADO</td><td>7</td><td>20240511</td></tr><tr><td>2024-05-12</td><td>2024</td><td>5</td><td>MAIO</td><td>12</td><td>DOMINGO</td><td>1</td><td>20240512</td></tr><tr><td>2024-05-13</td><td>2024</td><td>5</td><td>MAIO</td><td>13</td><td>SEGUNDA-FEIRA</td><td>2</td><td>20240513</td></tr><tr><td>2024-05-14</td><td>2024</td><td>5</td><td>MAIO</td><td>14</td><td>TERCA-FEIRA</td><td>3</td><td>20240514</td></tr><tr><td>2024-05-15</td><td>2024</td><td>5</td><td>MAIO</td><td>15</td><td>QUARTA-FEIRA</td><td>4</td><td>20240515</td></tr><tr><td>2024-05-16</td><td>2024</td><td>5</td><td>MAIO</td><td>16</td><td>QUINTA-FEIRA</td><td>5</td><td>20240516</td></tr><tr><td>2024-05-17</td><td>2024</td><td>5</td><td>MAIO</td><td>17</td><td>SEXTA-FEIRA</td><td>6</td><td>20240517</td></tr><tr><td>2024-05-18</td><td>2024</td><td>5</td><td>MAIO</td><td>18</td><td>SABADO</td><td>7</td><td>20240518</td></tr><tr><td>2024-05-19</td><td>2024</td><td>5</td><td>MAIO</td><td>19</td><td>DOMINGO</td><td>1</td><td>20240519</td></tr><tr><td>2024-05-20</td><td>2024</td><td>5</td><td>MAIO</td><td>20</td><td>SEGUNDA-FEIRA</td><td>2</td><td>20240520</td></tr><tr><td>2024-05-21</td><td>2024</td><td>5</td><td>MAIO</td><td>21</td><td>TERCA-FEIRA</td><td>3</td><td>20240521</td></tr><tr><td>2024-05-22</td><td>2024</td><td>5</td><td>MAIO</td><td>22</td><td>QUARTA-FEIRA</td><td>4</td><td>20240522</td></tr><tr><td>2024-05-23</td><td>2024</td><td>5</td><td>MAIO</td><td>23</td><td>QUINTA-FEIRA</td><td>5</td><td>20240523</td></tr><tr><td>2024-05-24</td><td>2024</td><td>5</td><td>MAIO</td><td>24</td><td>SEXTA-FEIRA</td><td>6</td><td>20240524</td></tr><tr><td>2024-05-25</td><td>2024</td><td>5</td><td>MAIO</td><td>25</td><td>SABADO</td><td>7</td><td>20240525</td></tr><tr><td>2024-05-26</td><td>2024</td><td>5</td><td>MAIO</td><td>26</td><td>DOMINGO</td><td>1</td><td>20240526</td></tr><tr><td>2024-05-27</td><td>2024</td><td>5</td><td>MAIO</td><td>27</td><td>SEGUNDA-FEIRA</td><td>2</td><td>20240527</td></tr><tr><td>2024-05-28</td><td>2024</td><td>5</td><td>MAIO</td><td>28</td><td>TERCA-FEIRA</td><td>3</td><td>20240528</td></tr><tr><td>2024-05-29</td><td>2024</td><td>5</td><td>MAIO</td><td>29</td><td>QUARTA-FEIRA</td><td>4</td><td>20240529</td></tr><tr><td>2024-05-30</td><td>2024</td><td>5</td><td>MAIO</td><td>30</td><td>QUINTA-FEIRA</td><td>5</td><td>20240530</td></tr><tr><td>2024-05-31</td><td>2024</td><td>5</td><td>MAIO</td><td>31</td><td>SEXTA-FEIRA</td><td>6</td><td>20240531</td></tr><tr><td>2024-06-01</td><td>2024</td><td>6</td><td>JUNHO</td><td>1</td><td>SABADO</td><td>7</td><td>20240601</td></tr><tr><td>2024-06-02</td><td>2024</td><td>6</td><td>JUNHO</td><td>2</td><td>DOMINGO</td><td>1</td><td>20240602</td></tr><tr><td>2024-06-03</td><td>2024</td><td>6</td><td>JUNHO</td><td>3</td><td>SEGUNDA-FEIRA</td><td>2</td><td>20240603</td></tr><tr><td>2024-06-04</td><td>2024</td><td>6</td><td>JUNHO</td><td>4</td><td>TERCA-FEIRA</td><td>3</td><td>20240604</td></tr><tr><td>2024-06-05</td><td>2024</td><td>6</td><td>JUNHO</td><td>5</td><td>QUARTA-FEIRA</td><td>4</td><td>20240605</td></tr><tr><td>2024-06-06</td><td>2024</td><td>6</td><td>JUNHO</td><td>6</td><td>QUINTA-FEIRA</td><td>5</td><td>20240606</td></tr><tr><td>2024-06-07</td><td>2024</td><td>6</td><td>JUNHO</td><td>7</td><td>SEXTA-FEIRA</td><td>6</td><td>20240607</td></tr><tr><td>2024-06-08</td><td>2024</td><td>6</td><td>JUNHO</td><td>8</td><td>SABADO</td><td>7</td><td>20240608</td></tr><tr><td>2024-06-09</td><td>2024</td><td>6</td><td>JUNHO</td><td>9</td><td>DOMINGO</td><td>1</td><td>20240609</td></tr><tr><td>2024-06-10</td><td>2024</td><td>6</td><td>JUNHO</td><td>10</td><td>SEGUNDA-FEIRA</td><td>2</td><td>20240610</td></tr><tr><td>2024-06-11</td><td>2024</td><td>6</td><td>JUNHO</td><td>11</td><td>TERCA-FEIRA</td><td>3</td><td>20240611</td></tr><tr><td>2024-06-12</td><td>2024</td><td>6</td><td>JUNHO</td><td>12</td><td>QUARTA-FEIRA</td><td>4</td><td>20240612</td></tr><tr><td>2024-06-13</td><td>2024</td><td>6</td><td>JUNHO</td><td>13</td><td>QUINTA-FEIRA</td><td>5</td><td>20240613</td></tr><tr><td>2024-06-14</td><td>2024</td><td>6</td><td>JUNHO</td><td>14</td><td>SEXTA-FEIRA</td><td>6</td><td>20240614</td></tr><tr><td>2024-06-15</td><td>2024</td><td>6</td><td>JUNHO</td><td>15</td><td>SABADO</td><td>7</td><td>20240615</td></tr><tr><td>2024-06-16</td><td>2024</td><td>6</td><td>JUNHO</td><td>16</td><td>DOMINGO</td><td>1</td><td>20240616</td></tr><tr><td>2024-06-17</td><td>2024</td><td>6</td><td>JUNHO</td><td>17</td><td>SEGUNDA-FEIRA</td><td>2</td><td>20240617</td></tr><tr><td>2024-06-18</td><td>2024</td><td>6</td><td>JUNHO</td><td>18</td><td>TERCA-FEIRA</td><td>3</td><td>20240618</td></tr><tr><td>2024-06-19</td><td>2024</td><td>6</td><td>JUNHO</td><td>19</td><td>QUARTA-FEIRA</td><td>4</td><td>20240619</td></tr><tr><td>2024-06-20</td><td>2024</td><td>6</td><td>JUNHO</td><td>20</td><td>QUINTA-FEIRA</td><td>5</td><td>20240620</td></tr><tr><td>2024-06-21</td><td>2024</td><td>6</td><td>JUNHO</td><td>21</td><td>SEXTA-FEIRA</td><td>6</td><td>20240621</td></tr><tr><td>2024-06-22</td><td>2024</td><td>6</td><td>JUNHO</td><td>22</td><td>SABADO</td><td>7</td><td>20240622</td></tr><tr><td>2024-06-23</td><td>2024</td><td>6</td><td>JUNHO</td><td>23</td><td>DOMINGO</td><td>1</td><td>20240623</td></tr><tr><td>2024-06-24</td><td>2024</td><td>6</td><td>JUNHO</td><td>24</td><td>SEGUNDA-FEIRA</td><td>2</td><td>20240624</td></tr><tr><td>2024-06-25</td><td>2024</td><td>6</td><td>JUNHO</td><td>25</td><td>TERCA-FEIRA</td><td>3</td><td>20240625</td></tr><tr><td>2024-06-26</td><td>2024</td><td>6</td><td>JUNHO</td><td>26</td><td>QUARTA-FEIRA</td><td>4</td><td>20240626</td></tr><tr><td>2024-06-27</td><td>2024</td><td>6</td><td>JUNHO</td><td>27</td><td>QUINTA-FEIRA</td><td>5</td><td>20240627</td></tr><tr><td>2024-06-28</td><td>2024</td><td>6</td><td>JUNHO</td><td>28</td><td>SEXTA-FEIRA</td><td>6</td><td>20240628</td></tr><tr><td>2024-06-29</td><td>2024</td><td>6</td><td>JUNHO</td><td>29</td><td>SABADO</td><td>7</td><td>20240629</td></tr><tr><td>2024-06-30</td><td>2024</td><td>6</td><td>JUNHO</td><td>30</td><td>DOMINGO</td><td>1</td><td>20240630</td></tr><tr><td>2024-07-01</td><td>2024</td><td>7</td><td>JULHO</td><td>1</td><td>SEGUNDA-FEIRA</td><td>2</td><td>20240701</td></tr><tr><td>2024-07-02</td><td>2024</td><td>7</td><td>JULHO</td><td>2</td><td>TERCA-FEIRA</td><td>3</td><td>20240702</td></tr><tr><td>2024-07-03</td><td>2024</td><td>7</td><td>JULHO</td><td>3</td><td>QUARTA-FEIRA</td><td>4</td><td>20240703</td></tr><tr><td>2024-07-04</td><td>2024</td><td>7</td><td>JULHO</td><td>4</td><td>QUINTA-FEIRA</td><td>5</td><td>20240704</td></tr><tr><td>2024-07-05</td><td>2024</td><td>7</td><td>JULHO</td><td>5</td><td>SEXTA-FEIRA</td><td>6</td><td>20240705</td></tr><tr><td>2024-07-06</td><td>2024</td><td>7</td><td>JULHO</td><td>6</td><td>SABADO</td><td>7</td><td>20240706</td></tr><tr><td>2024-07-07</td><td>2024</td><td>7</td><td>JULHO</td><td>7</td><td>DOMINGO</td><td>1</td><td>20240707</td></tr><tr><td>2024-07-08</td><td>2024</td><td>7</td><td>JULHO</td><td>8</td><td>SEGUNDA-FEIRA</td><td>2</td><td>20240708</td></tr><tr><td>2024-07-09</td><td>2024</td><td>7</td><td>JULHO</td><td>9</td><td>TERCA-FEIRA</td><td>3</td><td>20240709</td></tr><tr><td>2024-07-10</td><td>2024</td><td>7</td><td>JULHO</td><td>10</td><td>QUARTA-FEIRA</td><td>4</td><td>20240710</td></tr><tr><td>2024-07-11</td><td>2024</td><td>7</td><td>JULHO</td><td>11</td><td>QUINTA-FEIRA</td><td>5</td><td>20240711</td></tr><tr><td>2024-07-12</td><td>2024</td><td>7</td><td>JULHO</td><td>12</td><td>SEXTA-FEIRA</td><td>6</td><td>20240712</td></tr><tr><td>2024-07-13</td><td>2024</td><td>7</td><td>JULHO</td><td>13</td><td>SABADO</td><td>7</td><td>20240713</td></tr><tr><td>2024-07-14</td><td>2024</td><td>7</td><td>JULHO</td><td>14</td><td>DOMINGO</td><td>1</td><td>20240714</td></tr><tr><td>2024-07-15</td><td>2024</td><td>7</td><td>JULHO</td><td>15</td><td>SEGUNDA-FEIRA</td><td>2</td><td>20240715</td></tr><tr><td>2024-07-16</td><td>2024</td><td>7</td><td>JULHO</td><td>16</td><td>TERCA-FEIRA</td><td>3</td><td>20240716</td></tr><tr><td>2024-07-17</td><td>2024</td><td>7</td><td>JULHO</td><td>17</td><td>QUARTA-FEIRA</td><td>4</td><td>20240717</td></tr><tr><td>2024-07-18</td><td>2024</td><td>7</td><td>JULHO</td><td>18</td><td>QUINTA-FEIRA</td><td>5</td><td>20240718</td></tr><tr><td>2024-07-19</td><td>2024</td><td>7</td><td>JULHO</td><td>19</td><td>SEXTA-FEIRA</td><td>6</td><td>20240719</td></tr><tr><td>2024-07-20</td><td>2024</td><td>7</td><td>JULHO</td><td>20</td><td>SABADO</td><td>7</td><td>20240720</td></tr><tr><td>2024-07-21</td><td>2024</td><td>7</td><td>JULHO</td><td>21</td><td>DOMINGO</td><td>1</td><td>20240721</td></tr><tr><td>2024-07-22</td><td>2024</td><td>7</td><td>JULHO</td><td>22</td><td>SEGUNDA-FEIRA</td><td>2</td><td>20240722</td></tr><tr><td>2024-07-23</td><td>2024</td><td>7</td><td>JULHO</td><td>23</td><td>TERCA-FEIRA</td><td>3</td><td>20240723</td></tr><tr><td>2024-07-24</td><td>2024</td><td>7</td><td>JULHO</td><td>24</td><td>QUARTA-FEIRA</td><td>4</td><td>20240724</td></tr><tr><td>2024-07-25</td><td>2024</td><td>7</td><td>JULHO</td><td>25</td><td>QUINTA-FEIRA</td><td>5</td><td>20240725</td></tr><tr><td>2024-07-26</td><td>2024</td><td>7</td><td>JULHO</td><td>26</td><td>SEXTA-FEIRA</td><td>6</td><td>20240726</td></tr><tr><td>2024-07-27</td><td>2024</td><td>7</td><td>JULHO</td><td>27</td><td>SABADO</td><td>7</td><td>20240727</td></tr><tr><td>2024-07-28</td><td>2024</td><td>7</td><td>JULHO</td><td>28</td><td>DOMINGO</td><td>1</td><td>20240728</td></tr><tr><td>2024-07-29</td><td>2024</td><td>7</td><td>JULHO</td><td>29</td><td>SEGUNDA-FEIRA</td><td>2</td><td>20240729</td></tr><tr><td>2024-07-30</td><td>2024</td><td>7</td><td>JULHO</td><td>30</td><td>TERCA-FEIRA</td><td>3</td><td>20240730</td></tr><tr><td>2024-07-31</td><td>2024</td><td>7</td><td>JULHO</td><td>31</td><td>QUARTA-FEIRA</td><td>4</td><td>20240731</td></tr><tr><td>2024-08-01</td><td>2024</td><td>8</td><td>AGOSTO</td><td>1</td><td>QUINTA-FEIRA</td><td>5</td><td>20240801</td></tr><tr><td>2024-08-02</td><td>2024</td><td>8</td><td>AGOSTO</td><td>2</td><td>SEXTA-FEIRA</td><td>6</td><td>20240802</td></tr><tr><td>2024-08-03</td><td>2024</td><td>8</td><td>AGOSTO</td><td>3</td><td>SABADO</td><td>7</td><td>20240803</td></tr><tr><td>2024-08-04</td><td>2024</td><td>8</td><td>AGOSTO</td><td>4</td><td>DOMINGO</td><td>1</td><td>20240804</td></tr><tr><td>2024-08-05</td><td>2024</td><td>8</td><td>AGOSTO</td><td>5</td><td>SEGUNDA-FEIRA</td><td>2</td><td>20240805</td></tr><tr><td>2024-08-06</td><td>2024</td><td>8</td><td>AGOSTO</td><td>6</td><td>TERCA-FEIRA</td><td>3</td><td>20240806</td></tr><tr><td>2024-08-07</td><td>2024</td><td>8</td><td>AGOSTO</td><td>7</td><td>QUARTA-FEIRA</td><td>4</td><td>20240807</td></tr><tr><td>2024-08-08</td><td>2024</td><td>8</td><td>AGOSTO</td><td>8</td><td>QUINTA-FEIRA</td><td>5</td><td>20240808</td></tr><tr><td>2024-08-09</td><td>2024</td><td>8</td><td>AGOSTO</td><td>9</td><td>SEXTA-FEIRA</td><td>6</td><td>20240809</td></tr><tr><td>2024-08-10</td><td>2024</td><td>8</td><td>AGOSTO</td><td>10</td><td>SABADO</td><td>7</td><td>20240810</td></tr><tr><td>2024-08-11</td><td>2024</td><td>8</td><td>AGOSTO</td><td>11</td><td>DOMINGO</td><td>1</td><td>20240811</td></tr><tr><td>2024-08-12</td><td>2024</td><td>8</td><td>AGOSTO</td><td>12</td><td>SEGUNDA-FEIRA</td><td>2</td><td>20240812</td></tr><tr><td>2024-08-13</td><td>2024</td><td>8</td><td>AGOSTO</td><td>13</td><td>TERCA-FEIRA</td><td>3</td><td>20240813</td></tr><tr><td>2024-08-14</td><td>2024</td><td>8</td><td>AGOSTO</td><td>14</td><td>QUARTA-FEIRA</td><td>4</td><td>20240814</td></tr><tr><td>2024-08-15</td><td>2024</td><td>8</td><td>AGOSTO</td><td>15</td><td>QUINTA-FEIRA</td><td>5</td><td>20240815</td></tr><tr><td>2024-08-16</td><td>2024</td><td>8</td><td>AGOSTO</td><td>16</td><td>SEXTA-FEIRA</td><td>6</td><td>20240816</td></tr><tr><td>2024-08-17</td><td>2024</td><td>8</td><td>AGOSTO</td><td>17</td><td>SABADO</td><td>7</td><td>20240817</td></tr><tr><td>2024-08-18</td><td>2024</td><td>8</td><td>AGOSTO</td><td>18</td><td>DOMINGO</td><td>1</td><td>20240818</td></tr><tr><td>2024-08-19</td><td>2024</td><td>8</td><td>AGOSTO</td><td>19</td><td>SEGUNDA-FEIRA</td><td>2</td><td>20240819</td></tr><tr><td>2024-08-20</td><td>2024</td><td>8</td><td>AGOSTO</td><td>20</td><td>TERCA-FEIRA</td><td>3</td><td>20240820</td></tr><tr><td>2024-08-21</td><td>2024</td><td>8</td><td>AGOSTO</td><td>21</td><td>QUARTA-FEIRA</td><td>4</td><td>20240821</td></tr><tr><td>2024-08-22</td><td>2024</td><td>8</td><td>AGOSTO</td><td>22</td><td>QUINTA-FEIRA</td><td>5</td><td>20240822</td></tr><tr><td>2024-08-23</td><td>2024</td><td>8</td><td>AGOSTO</td><td>23</td><td>SEXTA-FEIRA</td><td>6</td><td>20240823</td></tr><tr><td>2024-08-24</td><td>2024</td><td>8</td><td>AGOSTO</td><td>24</td><td>SABADO</td><td>7</td><td>20240824</td></tr><tr><td>2024-08-25</td><td>2024</td><td>8</td><td>AGOSTO</td><td>25</td><td>DOMINGO</td><td>1</td><td>20240825</td></tr><tr><td>2024-08-26</td><td>2024</td><td>8</td><td>AGOSTO</td><td>26</td><td>SEGUNDA-FEIRA</td><td>2</td><td>20240826</td></tr><tr><td>2024-08-27</td><td>2024</td><td>8</td><td>AGOSTO</td><td>27</td><td>TERCA-FEIRA</td><td>3</td><td>20240827</td></tr><tr><td>2024-08-28</td><td>2024</td><td>8</td><td>AGOSTO</td><td>28</td><td>QUARTA-FEIRA</td><td>4</td><td>20240828</td></tr><tr><td>2024-08-29</td><td>2024</td><td>8</td><td>AGOSTO</td><td>29</td><td>QUINTA-FEIRA</td><td>5</td><td>20240829</td></tr><tr><td>2024-08-30</td><td>2024</td><td>8</td><td>AGOSTO</td><td>30</td><td>SEXTA-FEIRA</td><td>6</td><td>20240830</td></tr><tr><td>2024-08-31</td><td>2024</td><td>8</td><td>AGOSTO</td><td>31</td><td>SABADO</td><td>7</td><td>20240831</td></tr><tr><td>2024-09-01</td><td>2024</td><td>9</td><td>SETEMBRO</td><td>1</td><td>DOMINGO</td><td>1</td><td>20240901</td></tr><tr><td>2024-09-02</td><td>2024</td><td>9</td><td>SETEMBRO</td><td>2</td><td>SEGUNDA-FEIRA</td><td>2</td><td>20240902</td></tr><tr><td>2024-09-03</td><td>2024</td><td>9</td><td>SETEMBRO</td><td>3</td><td>TERCA-FEIRA</td><td>3</td><td>20240903</td></tr><tr><td>2024-09-04</td><td>2024</td><td>9</td><td>SETEMBRO</td><td>4</td><td>QUARTA-FEIRA</td><td>4</td><td>20240904</td></tr><tr><td>2024-09-05</td><td>2024</td><td>9</td><td>SETEMBRO</td><td>5</td><td>QUINTA-FEIRA</td><td>5</td><td>20240905</td></tr><tr><td>2024-09-06</td><td>2024</td><td>9</td><td>SETEMBRO</td><td>6</td><td>SEXTA-FEIRA</td><td>6</td><td>20240906</td></tr><tr><td>2024-09-07</td><td>2024</td><td>9</td><td>SETEMBRO</td><td>7</td><td>SABADO</td><td>7</td><td>20240907</td></tr><tr><td>2024-09-08</td><td>2024</td><td>9</td><td>SETEMBRO</td><td>8</td><td>DOMINGO</td><td>1</td><td>20240908</td></tr><tr><td>2024-09-09</td><td>2024</td><td>9</td><td>SETEMBRO</td><td>9</td><td>SEGUNDA-FEIRA</td><td>2</td><td>20240909</td></tr><tr><td>2024-09-10</td><td>2024</td><td>9</td><td>SETEMBRO</td><td>10</td><td>TERCA-FEIRA</td><td>3</td><td>20240910</td></tr><tr><td>2024-09-11</td><td>2024</td><td>9</td><td>SETEMBRO</td><td>11</td><td>QUARTA-FEIRA</td><td>4</td><td>20240911</td></tr><tr><td>2024-09-12</td><td>2024</td><td>9</td><td>SETEMBRO</td><td>12</td><td>QUINTA-FEIRA</td><td>5</td><td>20240912</td></tr><tr><td>2024-09-13</td><td>2024</td><td>9</td><td>SETEMBRO</td><td>13</td><td>SEXTA-FEIRA</td><td>6</td><td>20240913</td></tr><tr><td>2024-09-14</td><td>2024</td><td>9</td><td>SETEMBRO</td><td>14</td><td>SABADO</td><td>7</td><td>20240914</td></tr><tr><td>2024-09-15</td><td>2024</td><td>9</td><td>SETEMBRO</td><td>15</td><td>DOMINGO</td><td>1</td><td>20240915</td></tr><tr><td>2024-09-16</td><td>2024</td><td>9</td><td>SETEMBRO</td><td>16</td><td>SEGUNDA-FEIRA</td><td>2</td><td>20240916</td></tr><tr><td>2024-09-17</td><td>2024</td><td>9</td><td>SETEMBRO</td><td>17</td><td>TERCA-FEIRA</td><td>3</td><td>20240917</td></tr><tr><td>2024-09-18</td><td>2024</td><td>9</td><td>SETEMBRO</td><td>18</td><td>QUARTA-FEIRA</td><td>4</td><td>20240918</td></tr><tr><td>2024-09-19</td><td>2024</td><td>9</td><td>SETEMBRO</td><td>19</td><td>QUINTA-FEIRA</td><td>5</td><td>20240919</td></tr><tr><td>2024-09-20</td><td>2024</td><td>9</td><td>SETEMBRO</td><td>20</td><td>SEXTA-FEIRA</td><td>6</td><td>20240920</td></tr><tr><td>2024-09-21</td><td>2024</td><td>9</td><td>SETEMBRO</td><td>21</td><td>SABADO</td><td>7</td><td>20240921</td></tr><tr><td>2024-09-22</td><td>2024</td><td>9</td><td>SETEMBRO</td><td>22</td><td>DOMINGO</td><td>1</td><td>20240922</td></tr><tr><td>2024-09-23</td><td>2024</td><td>9</td><td>SETEMBRO</td><td>23</td><td>SEGUNDA-FEIRA</td><td>2</td><td>20240923</td></tr><tr><td>2024-09-24</td><td>2024</td><td>9</td><td>SETEMBRO</td><td>24</td><td>TERCA-FEIRA</td><td>3</td><td>20240924</td></tr><tr><td>2024-09-25</td><td>2024</td><td>9</td><td>SETEMBRO</td><td>25</td><td>QUARTA-FEIRA</td><td>4</td><td>20240925</td></tr><tr><td>2024-09-26</td><td>2024</td><td>9</td><td>SETEMBRO</td><td>26</td><td>QUINTA-FEIRA</td><td>5</td><td>20240926</td></tr><tr><td>2024-09-27</td><td>2024</td><td>9</td><td>SETEMBRO</td><td>27</td><td>SEXTA-FEIRA</td><td>6</td><td>20240927</td></tr><tr><td>2024-09-28</td><td>2024</td><td>9</td><td>SETEMBRO</td><td>28</td><td>SABADO</td><td>7</td><td>20240928</td></tr><tr><td>2024-09-29</td><td>2024</td><td>9</td><td>SETEMBRO</td><td>29</td><td>DOMINGO</td><td>1</td><td>20240929</td></tr><tr><td>2024-09-30</td><td>2024</td><td>9</td><td>SETEMBRO</td><td>30</td><td>SEGUNDA-FEIRA</td><td>2</td><td>20240930</td></tr><tr><td>2024-10-01</td><td>2024</td><td>10</td><td>OUTUBRO</td><td>1</td><td>TERCA-FEIRA</td><td>3</td><td>20241001</td></tr><tr><td>2024-10-02</td><td>2024</td><td>10</td><td>OUTUBRO</td><td>2</td><td>QUARTA-FEIRA</td><td>4</td><td>20241002</td></tr><tr><td>2024-10-03</td><td>2024</td><td>10</td><td>OUTUBRO</td><td>3</td><td>QUINTA-FEIRA</td><td>5</td><td>20241003</td></tr><tr><td>2024-10-04</td><td>2024</td><td>10</td><td>OUTUBRO</td><td>4</td><td>SEXTA-FEIRA</td><td>6</td><td>20241004</td></tr><tr><td>2024-10-05</td><td>2024</td><td>10</td><td>OUTUBRO</td><td>5</td><td>SABADO</td><td>7</td><td>20241005</td></tr><tr><td>2024-10-06</td><td>2024</td><td>10</td><td>OUTUBRO</td><td>6</td><td>DOMINGO</td><td>1</td><td>20241006</td></tr><tr><td>2024-10-07</td><td>2024</td><td>10</td><td>OUTUBRO</td><td>7</td><td>SEGUNDA-FEIRA</td><td>2</td><td>20241007</td></tr><tr><td>2024-10-08</td><td>2024</td><td>10</td><td>OUTUBRO</td><td>8</td><td>TERCA-FEIRA</td><td>3</td><td>20241008</td></tr><tr><td>2024-10-09</td><td>2024</td><td>10</td><td>OUTUBRO</td><td>9</td><td>QUARTA-FEIRA</td><td>4</td><td>20241009</td></tr><tr><td>2024-10-10</td><td>2024</td><td>10</td><td>OUTUBRO</td><td>10</td><td>QUINTA-FEIRA</td><td>5</td><td>20241010</td></tr><tr><td>2024-10-11</td><td>2024</td><td>10</td><td>OUTUBRO</td><td>11</td><td>SEXTA-FEIRA</td><td>6</td><td>20241011</td></tr><tr><td>2024-10-12</td><td>2024</td><td>10</td><td>OUTUBRO</td><td>12</td><td>SABADO</td><td>7</td><td>20241012</td></tr><tr><td>2024-10-13</td><td>2024</td><td>10</td><td>OUTUBRO</td><td>13</td><td>DOMINGO</td><td>1</td><td>20241013</td></tr><tr><td>2024-10-14</td><td>2024</td><td>10</td><td>OUTUBRO</td><td>14</td><td>SEGUNDA-FEIRA</td><td>2</td><td>20241014</td></tr><tr><td>2024-10-15</td><td>2024</td><td>10</td><td>OUTUBRO</td><td>15</td><td>TERCA-FEIRA</td><td>3</td><td>20241015</td></tr><tr><td>2024-10-16</td><td>2024</td><td>10</td><td>OUTUBRO</td><td>16</td><td>QUARTA-FEIRA</td><td>4</td><td>20241016</td></tr><tr><td>2024-10-17</td><td>2024</td><td>10</td><td>OUTUBRO</td><td>17</td><td>QUINTA-FEIRA</td><td>5</td><td>20241017</td></tr><tr><td>2024-10-18</td><td>2024</td><td>10</td><td>OUTUBRO</td><td>18</td><td>SEXTA-FEIRA</td><td>6</td><td>20241018</td></tr><tr><td>2024-10-19</td><td>2024</td><td>10</td><td>OUTUBRO</td><td>19</td><td>SABADO</td><td>7</td><td>20241019</td></tr><tr><td>2024-10-20</td><td>2024</td><td>10</td><td>OUTUBRO</td><td>20</td><td>DOMINGO</td><td>1</td><td>20241020</td></tr><tr><td>2024-10-21</td><td>2024</td><td>10</td><td>OUTUBRO</td><td>21</td><td>SEGUNDA-FEIRA</td><td>2</td><td>20241021</td></tr><tr><td>2024-10-22</td><td>2024</td><td>10</td><td>OUTUBRO</td><td>22</td><td>TERCA-FEIRA</td><td>3</td><td>20241022</td></tr><tr><td>2024-10-23</td><td>2024</td><td>10</td><td>OUTUBRO</td><td>23</td><td>QUARTA-FEIRA</td><td>4</td><td>20241023</td></tr><tr><td>2024-10-24</td><td>2024</td><td>10</td><td>OUTUBRO</td><td>24</td><td>QUINTA-FEIRA</td><td>5</td><td>20241024</td></tr><tr><td>2024-10-25</td><td>2024</td><td>10</td><td>OUTUBRO</td><td>25</td><td>SEXTA-FEIRA</td><td>6</td><td>20241025</td></tr><tr><td>2024-10-26</td><td>2024</td><td>10</td><td>OUTUBRO</td><td>26</td><td>SABADO</td><td>7</td><td>20241026</td></tr><tr><td>2024-10-27</td><td>2024</td><td>10</td><td>OUTUBRO</td><td>27</td><td>DOMINGO</td><td>1</td><td>20241027</td></tr><tr><td>2024-10-28</td><td>2024</td><td>10</td><td>OUTUBRO</td><td>28</td><td>SEGUNDA-FEIRA</td><td>2</td><td>20241028</td></tr><tr><td>2024-10-29</td><td>2024</td><td>10</td><td>OUTUBRO</td><td>29</td><td>TERCA-FEIRA</td><td>3</td><td>20241029</td></tr><tr><td>2024-10-30</td><td>2024</td><td>10</td><td>OUTUBRO</td><td>30</td><td>QUARTA-FEIRA</td><td>4</td><td>20241030</td></tr><tr><td>2024-10-31</td><td>2024</td><td>10</td><td>OUTUBRO</td><td>31</td><td>QUINTA-FEIRA</td><td>5</td><td>20241031</td></tr><tr><td>2024-11-01</td><td>2024</td><td>11</td><td>NOVEMBRO</td><td>1</td><td>SEXTA-FEIRA</td><td>6</td><td>20241101</td></tr><tr><td>2024-11-02</td><td>2024</td><td>11</td><td>NOVEMBRO</td><td>2</td><td>SABADO</td><td>7</td><td>20241102</td></tr><tr><td>2024-11-03</td><td>2024</td><td>11</td><td>NOVEMBRO</td><td>3</td><td>DOMINGO</td><td>1</td><td>20241103</td></tr><tr><td>2024-11-04</td><td>2024</td><td>11</td><td>NOVEMBRO</td><td>4</td><td>SEGUNDA-FEIRA</td><td>2</td><td>20241104</td></tr><tr><td>2024-11-05</td><td>2024</td><td>11</td><td>NOVEMBRO</td><td>5</td><td>TERCA-FEIRA</td><td>3</td><td>20241105</td></tr><tr><td>2024-11-06</td><td>2024</td><td>11</td><td>NOVEMBRO</td><td>6</td><td>QUARTA-FEIRA</td><td>4</td><td>20241106</td></tr><tr><td>2024-11-07</td><td>2024</td><td>11</td><td>NOVEMBRO</td><td>7</td><td>QUINTA-FEIRA</td><td>5</td><td>20241107</td></tr><tr><td>2024-11-08</td><td>2024</td><td>11</td><td>NOVEMBRO</td><td>8</td><td>SEXTA-FEIRA</td><td>6</td><td>20241108</td></tr><tr><td>2024-11-09</td><td>2024</td><td>11</td><td>NOVEMBRO</td><td>9</td><td>SABADO</td><td>7</td><td>20241109</td></tr><tr><td>2024-11-10</td><td>2024</td><td>11</td><td>NOVEMBRO</td><td>10</td><td>DOMINGO</td><td>1</td><td>20241110</td></tr><tr><td>2024-11-11</td><td>2024</td><td>11</td><td>NOVEMBRO</td><td>11</td><td>SEGUNDA-FEIRA</td><td>2</td><td>20241111</td></tr><tr><td>2024-11-12</td><td>2024</td><td>11</td><td>NOVEMBRO</td><td>12</td><td>TERCA-FEIRA</td><td>3</td><td>20241112</td></tr><tr><td>2024-11-13</td><td>2024</td><td>11</td><td>NOVEMBRO</td><td>13</td><td>QUARTA-FEIRA</td><td>4</td><td>20241113</td></tr><tr><td>2024-11-14</td><td>2024</td><td>11</td><td>NOVEMBRO</td><td>14</td><td>QUINTA-FEIRA</td><td>5</td><td>20241114</td></tr><tr><td>2024-11-15</td><td>2024</td><td>11</td><td>NOVEMBRO</td><td>15</td><td>SEXTA-FEIRA</td><td>6</td><td>20241115</td></tr><tr><td>2024-11-16</td><td>2024</td><td>11</td><td>NOVEMBRO</td><td>16</td><td>SABADO</td><td>7</td><td>20241116</td></tr><tr><td>2024-11-17</td><td>2024</td><td>11</td><td>NOVEMBRO</td><td>17</td><td>DOMINGO</td><td>1</td><td>20241117</td></tr><tr><td>2024-11-18</td><td>2024</td><td>11</td><td>NOVEMBRO</td><td>18</td><td>SEGUNDA-FEIRA</td><td>2</td><td>20241118</td></tr><tr><td>2024-11-19</td><td>2024</td><td>11</td><td>NOVEMBRO</td><td>19</td><td>TERCA-FEIRA</td><td>3</td><td>20241119</td></tr><tr><td>2024-11-20</td><td>2024</td><td>11</td><td>NOVEMBRO</td><td>20</td><td>QUARTA-FEIRA</td><td>4</td><td>20241120</td></tr><tr><td>2024-11-21</td><td>2024</td><td>11</td><td>NOVEMBRO</td><td>21</td><td>QUINTA-FEIRA</td><td>5</td><td>20241121</td></tr><tr><td>2024-11-22</td><td>2024</td><td>11</td><td>NOVEMBRO</td><td>22</td><td>SEXTA-FEIRA</td><td>6</td><td>20241122</td></tr><tr><td>2024-11-23</td><td>2024</td><td>11</td><td>NOVEMBRO</td><td>23</td><td>SABADO</td><td>7</td><td>20241123</td></tr><tr><td>2024-11-24</td><td>2024</td><td>11</td><td>NOVEMBRO</td><td>24</td><td>DOMINGO</td><td>1</td><td>20241124</td></tr><tr><td>2024-11-25</td><td>2024</td><td>11</td><td>NOVEMBRO</td><td>25</td><td>SEGUNDA-FEIRA</td><td>2</td><td>20241125</td></tr><tr><td>2024-11-26</td><td>2024</td><td>11</td><td>NOVEMBRO</td><td>26</td><td>TERCA-FEIRA</td><td>3</td><td>20241126</td></tr><tr><td>2024-11-27</td><td>2024</td><td>11</td><td>NOVEMBRO</td><td>27</td><td>QUARTA-FEIRA</td><td>4</td><td>20241127</td></tr><tr><td>2024-11-28</td><td>2024</td><td>11</td><td>NOVEMBRO</td><td>28</td><td>QUINTA-FEIRA</td><td>5</td><td>20241128</td></tr><tr><td>2024-11-29</td><td>2024</td><td>11</td><td>NOVEMBRO</td><td>29</td><td>SEXTA-FEIRA</td><td>6</td><td>20241129</td></tr><tr><td>2024-11-30</td><td>2024</td><td>11</td><td>NOVEMBRO</td><td>30</td><td>SABADO</td><td>7</td><td>20241130</td></tr><tr><td>2024-12-01</td><td>2024</td><td>12</td><td>DEZEMBRO</td><td>1</td><td>DOMINGO</td><td>1</td><td>20241201</td></tr><tr><td>2024-12-02</td><td>2024</td><td>12</td><td>DEZEMBRO</td><td>2</td><td>SEGUNDA-FEIRA</td><td>2</td><td>20241202</td></tr><tr><td>2024-12-03</td><td>2024</td><td>12</td><td>DEZEMBRO</td><td>3</td><td>TERCA-FEIRA</td><td>3</td><td>20241203</td></tr><tr><td>2024-12-04</td><td>2024</td><td>12</td><td>DEZEMBRO</td><td>4</td><td>QUARTA-FEIRA</td><td>4</td><td>20241204</td></tr><tr><td>2024-12-05</td><td>2024</td><td>12</td><td>DEZEMBRO</td><td>5</td><td>QUINTA-FEIRA</td><td>5</td><td>20241205</td></tr><tr><td>2024-12-06</td><td>2024</td><td>12</td><td>DEZEMBRO</td><td>6</td><td>SEXTA-FEIRA</td><td>6</td><td>20241206</td></tr><tr><td>2024-12-07</td><td>2024</td><td>12</td><td>DEZEMBRO</td><td>7</td><td>SABADO</td><td>7</td><td>20241207</td></tr><tr><td>2024-12-08</td><td>2024</td><td>12</td><td>DEZEMBRO</td><td>8</td><td>DOMINGO</td><td>1</td><td>20241208</td></tr><tr><td>2024-12-09</td><td>2024</td><td>12</td><td>DEZEMBRO</td><td>9</td><td>SEGUNDA-FEIRA</td><td>2</td><td>20241209</td></tr><tr><td>2024-12-10</td><td>2024</td><td>12</td><td>DEZEMBRO</td><td>10</td><td>TERCA-FEIRA</td><td>3</td><td>20241210</td></tr><tr><td>2024-12-11</td><td>2024</td><td>12</td><td>DEZEMBRO</td><td>11</td><td>QUARTA-FEIRA</td><td>4</td><td>20241211</td></tr><tr><td>2024-12-12</td><td>2024</td><td>12</td><td>DEZEMBRO</td><td>12</td><td>QUINTA-FEIRA</td><td>5</td><td>20241212</td></tr><tr><td>2024-12-13</td><td>2024</td><td>12</td><td>DEZEMBRO</td><td>13</td><td>SEXTA-FEIRA</td><td>6</td><td>20241213</td></tr><tr><td>2024-12-14</td><td>2024</td><td>12</td><td>DEZEMBRO</td><td>14</td><td>SABADO</td><td>7</td><td>20241214</td></tr><tr><td>2024-12-15</td><td>2024</td><td>12</td><td>DEZEMBRO</td><td>15</td><td>DOMINGO</td><td>1</td><td>20241215</td></tr><tr><td>2024-12-16</td><td>2024</td><td>12</td><td>DEZEMBRO</td><td>16</td><td>SEGUNDA-FEIRA</td><td>2</td><td>20241216</td></tr><tr><td>2024-12-17</td><td>2024</td><td>12</td><td>DEZEMBRO</td><td>17</td><td>TERCA-FEIRA</td><td>3</td><td>20241217</td></tr><tr><td>2024-12-18</td><td>2024</td><td>12</td><td>DEZEMBRO</td><td>18</td><td>QUARTA-FEIRA</td><td>4</td><td>20241218</td></tr><tr><td>2024-12-19</td><td>2024</td><td>12</td><td>DEZEMBRO</td><td>19</td><td>QUINTA-FEIRA</td><td>5</td><td>20241219</td></tr><tr><td>2024-12-20</td><td>2024</td><td>12</td><td>DEZEMBRO</td><td>20</td><td>SEXTA-FEIRA</td><td>6</td><td>20241220</td></tr><tr><td>2024-12-21</td><td>2024</td><td>12</td><td>DEZEMBRO</td><td>21</td><td>SABADO</td><td>7</td><td>20241221</td></tr><tr><td>2024-12-22</td><td>2024</td><td>12</td><td>DEZEMBRO</td><td>22</td><td>DOMINGO</td><td>1</td><td>20241222</td></tr><tr><td>2024-12-23</td><td>2024</td><td>12</td><td>DEZEMBRO</td><td>23</td><td>SEGUNDA-FEIRA</td><td>2</td><td>20241223</td></tr><tr><td>2024-12-24</td><td>2024</td><td>12</td><td>DEZEMBRO</td><td>24</td><td>TERCA-FEIRA</td><td>3</td><td>20241224</td></tr><tr><td>2024-12-25</td><td>2024</td><td>12</td><td>DEZEMBRO</td><td>25</td><td>QUARTA-FEIRA</td><td>4</td><td>20241225</td></tr><tr><td>2024-12-26</td><td>2024</td><td>12</td><td>DEZEMBRO</td><td>26</td><td>QUINTA-FEIRA</td><td>5</td><td>20241226</td></tr><tr><td>2024-12-27</td><td>2024</td><td>12</td><td>DEZEMBRO</td><td>27</td><td>SEXTA-FEIRA</td><td>6</td><td>20241227</td></tr><tr><td>2024-12-28</td><td>2024</td><td>12</td><td>DEZEMBRO</td><td>28</td><td>SABADO</td><td>7</td><td>20241228</td></tr><tr><td>2024-12-29</td><td>2024</td><td>12</td><td>DEZEMBRO</td><td>29</td><td>DOMINGO</td><td>1</td><td>20241229</td></tr><tr><td>2024-12-30</td><td>2024</td><td>12</td><td>DEZEMBRO</td><td>30</td><td>SEGUNDA-FEIRA</td><td>2</td><td>20241230</td></tr><tr><td>2024-12-31</td><td>2024</td><td>12</td><td>DEZEMBRO</td><td>31</td><td>TERCA-FEIRA</td><td>3</td><td>20241231</td></tr><tr><td>2025-01-01</td><td>2025</td><td>1</td><td>JANEIRO</td><td>1</td><td>QUARTA-FEIRA</td><td>4</td><td>20250101</td></tr><tr><td>2025-01-02</td><td>2025</td><td>1</td><td>JANEIRO</td><td>2</td><td>QUINTA-FEIRA</td><td>5</td><td>20250102</td></tr><tr><td>2025-01-03</td><td>2025</td><td>1</td><td>JANEIRO</td><td>3</td><td>SEXTA-FEIRA</td><td>6</td><td>20250103</td></tr><tr><td>2025-01-04</td><td>2025</td><td>1</td><td>JANEIRO</td><td>4</td><td>SABADO</td><td>7</td><td>20250104</td></tr><tr><td>2025-01-05</td><td>2025</td><td>1</td><td>JANEIRO</td><td>5</td><td>DOMINGO</td><td>1</td><td>20250105</td></tr><tr><td>2025-01-06</td><td>2025</td><td>1</td><td>JANEIRO</td><td>6</td><td>SEGUNDA-FEIRA</td><td>2</td><td>20250106</td></tr><tr><td>2025-01-07</td><td>2025</td><td>1</td><td>JANEIRO</td><td>7</td><td>TERCA-FEIRA</td><td>3</td><td>20250107</td></tr><tr><td>2025-01-08</td><td>2025</td><td>1</td><td>JANEIRO</td><td>8</td><td>QUARTA-FEIRA</td><td>4</td><td>20250108</td></tr><tr><td>2025-01-09</td><td>2025</td><td>1</td><td>JANEIRO</td><td>9</td><td>QUINTA-FEIRA</td><td>5</td><td>20250109</td></tr><tr><td>2025-01-10</td><td>2025</td><td>1</td><td>JANEIRO</td><td>10</td><td>SEXTA-FEIRA</td><td>6</td><td>20250110</td></tr><tr><td>2025-01-11</td><td>2025</td><td>1</td><td>JANEIRO</td><td>11</td><td>SABADO</td><td>7</td><td>20250111</td></tr><tr><td>2025-01-12</td><td>2025</td><td>1</td><td>JANEIRO</td><td>12</td><td>DOMINGO</td><td>1</td><td>20250112</td></tr><tr><td>2025-01-13</td><td>2025</td><td>1</td><td>JANEIRO</td><td>13</td><td>SEGUNDA-FEIRA</td><td>2</td><td>20250113</td></tr><tr><td>2025-01-14</td><td>2025</td><td>1</td><td>JANEIRO</td><td>14</td><td>TERCA-FEIRA</td><td>3</td><td>20250114</td></tr><tr><td>2025-01-15</td><td>2025</td><td>1</td><td>JANEIRO</td><td>15</td><td>QUARTA-FEIRA</td><td>4</td><td>20250115</td></tr><tr><td>2025-01-16</td><td>2025</td><td>1</td><td>JANEIRO</td><td>16</td><td>QUINTA-FEIRA</td><td>5</td><td>20250116</td></tr><tr><td>2025-01-17</td><td>2025</td><td>1</td><td>JANEIRO</td><td>17</td><td>SEXTA-FEIRA</td><td>6</td><td>20250117</td></tr><tr><td>2025-01-18</td><td>2025</td><td>1</td><td>JANEIRO</td><td>18</td><td>SABADO</td><td>7</td><td>20250118</td></tr><tr><td>2025-01-19</td><td>2025</td><td>1</td><td>JANEIRO</td><td>19</td><td>DOMINGO</td><td>1</td><td>20250119</td></tr><tr><td>2025-01-20</td><td>2025</td><td>1</td><td>JANEIRO</td><td>20</td><td>SEGUNDA-FEIRA</td><td>2</td><td>20250120</td></tr><tr><td>2025-01-21</td><td>2025</td><td>1</td><td>JANEIRO</td><td>21</td><td>TERCA-FEIRA</td><td>3</td><td>20250121</td></tr><tr><td>2025-01-22</td><td>2025</td><td>1</td><td>JANEIRO</td><td>22</td><td>QUARTA-FEIRA</td><td>4</td><td>20250122</td></tr><tr><td>2025-01-23</td><td>2025</td><td>1</td><td>JANEIRO</td><td>23</td><td>QUINTA-FEIRA</td><td>5</td><td>20250123</td></tr><tr><td>2025-01-24</td><td>2025</td><td>1</td><td>JANEIRO</td><td>24</td><td>SEXTA-FEIRA</td><td>6</td><td>20250124</td></tr><tr><td>2025-01-25</td><td>2025</td><td>1</td><td>JANEIRO</td><td>25</td><td>SABADO</td><td>7</td><td>20250125</td></tr><tr><td>2025-01-26</td><td>2025</td><td>1</td><td>JANEIRO</td><td>26</td><td>DOMINGO</td><td>1</td><td>20250126</td></tr><tr><td>2025-01-27</td><td>2025</td><td>1</td><td>JANEIRO</td><td>27</td><td>SEGUNDA-FEIRA</td><td>2</td><td>20250127</td></tr><tr><td>2025-01-28</td><td>2025</td><td>1</td><td>JANEIRO</td><td>28</td><td>TERCA-FEIRA</td><td>3</td><td>20250128</td></tr><tr><td>2025-01-29</td><td>2025</td><td>1</td><td>JANEIRO</td><td>29</td><td>QUARTA-FEIRA</td><td>4</td><td>20250129</td></tr><tr><td>2025-01-30</td><td>2025</td><td>1</td><td>JANEIRO</td><td>30</td><td>QUINTA-FEIRA</td><td>5</td><td>20250130</td></tr><tr><td>2025-01-31</td><td>2025</td><td>1</td><td>JANEIRO</td><td>31</td><td>SEXTA-FEIRA</td><td>6</td><td>20250131</td></tr><tr><td>2025-02-01</td><td>2025</td><td>2</td><td>FEVEREIRO</td><td>1</td><td>SABADO</td><td>7</td><td>20250201</td></tr><tr><td>2025-02-02</td><td>2025</td><td>2</td><td>FEVEREIRO</td><td>2</td><td>DOMINGO</td><td>1</td><td>20250202</td></tr><tr><td>2025-02-03</td><td>2025</td><td>2</td><td>FEVEREIRO</td><td>3</td><td>SEGUNDA-FEIRA</td><td>2</td><td>20250203</td></tr><tr><td>2025-02-04</td><td>2025</td><td>2</td><td>FEVEREIRO</td><td>4</td><td>TERCA-FEIRA</td><td>3</td><td>20250204</td></tr><tr><td>2025-02-05</td><td>2025</td><td>2</td><td>FEVEREIRO</td><td>5</td><td>QUARTA-FEIRA</td><td>4</td><td>20250205</td></tr><tr><td>2025-02-06</td><td>2025</td><td>2</td><td>FEVEREIRO</td><td>6</td><td>QUINTA-FEIRA</td><td>5</td><td>20250206</td></tr><tr><td>2025-02-07</td><td>2025</td><td>2</td><td>FEVEREIRO</td><td>7</td><td>SEXTA-FEIRA</td><td>6</td><td>20250207</td></tr><tr><td>2025-02-08</td><td>2025</td><td>2</td><td>FEVEREIRO</td><td>8</td><td>SABADO</td><td>7</td><td>20250208</td></tr><tr><td>2025-02-09</td><td>2025</td><td>2</td><td>FEVEREIRO</td><td>9</td><td>DOMINGO</td><td>1</td><td>20250209</td></tr><tr><td>2025-02-10</td><td>2025</td><td>2</td><td>FEVEREIRO</td><td>10</td><td>SEGUNDA-FEIRA</td><td>2</td><td>20250210</td></tr><tr><td>2025-02-11</td><td>2025</td><td>2</td><td>FEVEREIRO</td><td>11</td><td>TERCA-FEIRA</td><td>3</td><td>20250211</td></tr><tr><td>2025-02-12</td><td>2025</td><td>2</td><td>FEVEREIRO</td><td>12</td><td>QUARTA-FEIRA</td><td>4</td><td>20250212</td></tr><tr><td>2025-02-13</td><td>2025</td><td>2</td><td>FEVEREIRO</td><td>13</td><td>QUINTA-FEIRA</td><td>5</td><td>20250213</td></tr><tr><td>2025-02-14</td><td>2025</td><td>2</td><td>FEVEREIRO</td><td>14</td><td>SEXTA-FEIRA</td><td>6</td><td>20250214</td></tr><tr><td>2025-02-15</td><td>2025</td><td>2</td><td>FEVEREIRO</td><td>15</td><td>SABADO</td><td>7</td><td>20250215</td></tr><tr><td>2025-02-16</td><td>2025</td><td>2</td><td>FEVEREIRO</td><td>16</td><td>DOMINGO</td><td>1</td><td>20250216</td></tr><tr><td>2025-02-17</td><td>2025</td><td>2</td><td>FEVEREIRO</td><td>17</td><td>SEGUNDA-FEIRA</td><td>2</td><td>20250217</td></tr><tr><td>2025-02-18</td><td>2025</td><td>2</td><td>FEVEREIRO</td><td>18</td><td>TERCA-FEIRA</td><td>3</td><td>20250218</td></tr><tr><td>2025-02-19</td><td>2025</td><td>2</td><td>FEVEREIRO</td><td>19</td><td>QUARTA-FEIRA</td><td>4</td><td>20250219</td></tr><tr><td>2025-02-20</td><td>2025</td><td>2</td><td>FEVEREIRO</td><td>20</td><td>QUINTA-FEIRA</td><td>5</td><td>20250220</td></tr><tr><td>2025-02-21</td><td>2025</td><td>2</td><td>FEVEREIRO</td><td>21</td><td>SEXTA-FEIRA</td><td>6</td><td>20250221</td></tr><tr><td>2025-02-22</td><td>2025</td><td>2</td><td>FEVEREIRO</td><td>22</td><td>SABADO</td><td>7</td><td>20250222</td></tr><tr><td>2025-02-23</td><td>2025</td><td>2</td><td>FEVEREIRO</td><td>23</td><td>DOMINGO</td><td>1</td><td>20250223</td></tr><tr><td>2025-02-24</td><td>2025</td><td>2</td><td>FEVEREIRO</td><td>24</td><td>SEGUNDA-FEIRA</td><td>2</td><td>20250224</td></tr><tr><td>2025-02-25</td><td>2025</td><td>2</td><td>FEVEREIRO</td><td>25</td><td>TERCA-FEIRA</td><td>3</td><td>20250225</td></tr><tr><td>2025-02-26</td><td>2025</td><td>2</td><td>FEVEREIRO</td><td>26</td><td>QUARTA-FEIRA</td><td>4</td><td>20250226</td></tr><tr><td>2025-02-27</td><td>2025</td><td>2</td><td>FEVEREIRO</td><td>27</td><td>QUINTA-FEIRA</td><td>5</td><td>20250227</td></tr><tr><td>2025-02-28</td><td>2025</td><td>2</td><td>FEVEREIRO</td><td>28</td><td>SEXTA-FEIRA</td><td>6</td><td>20250228</td></tr><tr><td>2025-03-01</td><td>2025</td><td>3</td><td>MARCO</td><td>1</td><td>SABADO</td><td>7</td><td>20250301</td></tr><tr><td>2025-03-02</td><td>2025</td><td>3</td><td>MARCO</td><td>2</td><td>DOMINGO</td><td>1</td><td>20250302</td></tr><tr><td>2025-03-03</td><td>2025</td><td>3</td><td>MARCO</td><td>3</td><td>SEGUNDA-FEIRA</td><td>2</td><td>20250303</td></tr><tr><td>2025-03-04</td><td>2025</td><td>3</td><td>MARCO</td><td>4</td><td>TERCA-FEIRA</td><td>3</td><td>20250304</td></tr><tr><td>2025-03-05</td><td>2025</td><td>3</td><td>MARCO</td><td>5</td><td>QUARTA-FEIRA</td><td>4</td><td>20250305</td></tr><tr><td>2025-03-06</td><td>2025</td><td>3</td><td>MARCO</td><td>6</td><td>QUINTA-FEIRA</td><td>5</td><td>20250306</td></tr><tr><td>2025-03-07</td><td>2025</td><td>3</td><td>MARCO</td><td>7</td><td>SEXTA-FEIRA</td><td>6</td><td>20250307</td></tr><tr><td>2025-03-08</td><td>2025</td><td>3</td><td>MARCO</td><td>8</td><td>SABADO</td><td>7</td><td>20250308</td></tr><tr><td>2025-03-09</td><td>2025</td><td>3</td><td>MARCO</td><td>9</td><td>DOMINGO</td><td>1</td><td>20250309</td></tr><tr><td>2025-03-10</td><td>2025</td><td>3</td><td>MARCO</td><td>10</td><td>SEGUNDA-FEIRA</td><td>2</td><td>20250310</td></tr><tr><td>2025-03-11</td><td>2025</td><td>3</td><td>MARCO</td><td>11</td><td>TERCA-FEIRA</td><td>3</td><td>20250311</td></tr><tr><td>2025-03-12</td><td>2025</td><td>3</td><td>MARCO</td><td>12</td><td>QUARTA-FEIRA</td><td>4</td><td>20250312</td></tr><tr><td>2025-03-13</td><td>2025</td><td>3</td><td>MARCO</td><td>13</td><td>QUINTA-FEIRA</td><td>5</td><td>20250313</td></tr><tr><td>2025-03-14</td><td>2025</td><td>3</td><td>MARCO</td><td>14</td><td>SEXTA-FEIRA</td><td>6</td><td>20250314</td></tr><tr><td>2025-03-15</td><td>2025</td><td>3</td><td>MARCO</td><td>15</td><td>SABADO</td><td>7</td><td>20250315</td></tr><tr><td>2025-03-16</td><td>2025</td><td>3</td><td>MARCO</td><td>16</td><td>DOMINGO</td><td>1</td><td>20250316</td></tr><tr><td>2025-03-17</td><td>2025</td><td>3</td><td>MARCO</td><td>17</td><td>SEGUNDA-FEIRA</td><td>2</td><td>20250317</td></tr><tr><td>2025-03-18</td><td>2025</td><td>3</td><td>MARCO</td><td>18</td><td>TERCA-FEIRA</td><td>3</td><td>20250318</td></tr><tr><td>2025-03-19</td><td>2025</td><td>3</td><td>MARCO</td><td>19</td><td>QUARTA-FEIRA</td><td>4</td><td>20250319</td></tr><tr><td>2025-03-20</td><td>2025</td><td>3</td><td>MARCO</td><td>20</td><td>QUINTA-FEIRA</td><td>5</td><td>20250320</td></tr><tr><td>2025-03-21</td><td>2025</td><td>3</td><td>MARCO</td><td>21</td><td>SEXTA-FEIRA</td><td>6</td><td>20250321</td></tr><tr><td>2025-03-22</td><td>2025</td><td>3</td><td>MARCO</td><td>22</td><td>SABADO</td><td>7</td><td>20250322</td></tr><tr><td>2025-03-23</td><td>2025</td><td>3</td><td>MARCO</td><td>23</td><td>DOMINGO</td><td>1</td><td>20250323</td></tr><tr><td>2025-03-24</td><td>2025</td><td>3</td><td>MARCO</td><td>24</td><td>SEGUNDA-FEIRA</td><td>2</td><td>20250324</td></tr><tr><td>2025-03-25</td><td>2025</td><td>3</td><td>MARCO</td><td>25</td><td>TERCA-FEIRA</td><td>3</td><td>20250325</td></tr><tr><td>2025-03-26</td><td>2025</td><td>3</td><td>MARCO</td><td>26</td><td>QUARTA-FEIRA</td><td>4</td><td>20250326</td></tr><tr><td>2025-03-27</td><td>2025</td><td>3</td><td>MARCO</td><td>27</td><td>QUINTA-FEIRA</td><td>5</td><td>20250327</td></tr><tr><td>2025-03-28</td><td>2025</td><td>3</td><td>MARCO</td><td>28</td><td>SEXTA-FEIRA</td><td>6</td><td>20250328</td></tr><tr><td>2025-03-29</td><td>2025</td><td>3</td><td>MARCO</td><td>29</td><td>SABADO</td><td>7</td><td>20250329</td></tr><tr><td>2025-03-30</td><td>2025</td><td>3</td><td>MARCO</td><td>30</td><td>DOMINGO</td><td>1</td><td>20250330</td></tr><tr><td>2025-03-31</td><td>2025</td><td>3</td><td>MARCO</td><td>31</td><td>SEGUNDA-FEIRA</td><td>2</td><td>20250331</td></tr><tr><td>2025-04-01</td><td>2025</td><td>4</td><td>ABRIL</td><td>1</td><td>TERCA-FEIRA</td><td>3</td><td>20250401</td></tr><tr><td>2025-04-02</td><td>2025</td><td>4</td><td>ABRIL</td><td>2</td><td>QUARTA-FEIRA</td><td>4</td><td>20250402</td></tr><tr><td>2025-04-03</td><td>2025</td><td>4</td><td>ABRIL</td><td>3</td><td>QUINTA-FEIRA</td><td>5</td><td>20250403</td></tr><tr><td>2025-04-04</td><td>2025</td><td>4</td><td>ABRIL</td><td>4</td><td>SEXTA-FEIRA</td><td>6</td><td>20250404</td></tr><tr><td>2025-04-05</td><td>2025</td><td>4</td><td>ABRIL</td><td>5</td><td>SABADO</td><td>7</td><td>20250405</td></tr><tr><td>2025-04-06</td><td>2025</td><td>4</td><td>ABRIL</td><td>6</td><td>DOMINGO</td><td>1</td><td>20250406</td></tr><tr><td>2025-04-07</td><td>2025</td><td>4</td><td>ABRIL</td><td>7</td><td>SEGUNDA-FEIRA</td><td>2</td><td>20250407</td></tr><tr><td>2025-04-08</td><td>2025</td><td>4</td><td>ABRIL</td><td>8</td><td>TERCA-FEIRA</td><td>3</td><td>20250408</td></tr><tr><td>2025-04-09</td><td>2025</td><td>4</td><td>ABRIL</td><td>9</td><td>QUARTA-FEIRA</td><td>4</td><td>20250409</td></tr><tr><td>2025-04-10</td><td>2025</td><td>4</td><td>ABRIL</td><td>10</td><td>QUINTA-FEIRA</td><td>5</td><td>20250410</td></tr><tr><td>2025-04-11</td><td>2025</td><td>4</td><td>ABRIL</td><td>11</td><td>SEXTA-FEIRA</td><td>6</td><td>20250411</td></tr><tr><td>2025-04-12</td><td>2025</td><td>4</td><td>ABRIL</td><td>12</td><td>SABADO</td><td>7</td><td>20250412</td></tr><tr><td>2025-04-13</td><td>2025</td><td>4</td><td>ABRIL</td><td>13</td><td>DOMINGO</td><td>1</td><td>20250413</td></tr><tr><td>2025-04-14</td><td>2025</td><td>4</td><td>ABRIL</td><td>14</td><td>SEGUNDA-FEIRA</td><td>2</td><td>20250414</td></tr><tr><td>2025-04-15</td><td>2025</td><td>4</td><td>ABRIL</td><td>15</td><td>TERCA-FEIRA</td><td>3</td><td>20250415</td></tr><tr><td>2025-04-16</td><td>2025</td><td>4</td><td>ABRIL</td><td>16</td><td>QUARTA-FEIRA</td><td>4</td><td>20250416</td></tr><tr><td>2025-04-17</td><td>2025</td><td>4</td><td>ABRIL</td><td>17</td><td>QUINTA-FEIRA</td><td>5</td><td>20250417</td></tr><tr><td>2025-04-18</td><td>2025</td><td>4</td><td>ABRIL</td><td>18</td><td>SEXTA-FEIRA</td><td>6</td><td>20250418</td></tr><tr><td>2025-04-19</td><td>2025</td><td>4</td><td>ABRIL</td><td>19</td><td>SABADO</td><td>7</td><td>20250419</td></tr><tr><td>2025-04-20</td><td>2025</td><td>4</td><td>ABRIL</td><td>20</td><td>DOMINGO</td><td>1</td><td>20250420</td></tr><tr><td>2025-04-21</td><td>2025</td><td>4</td><td>ABRIL</td><td>21</td><td>SEGUNDA-FEIRA</td><td>2</td><td>20250421</td></tr><tr><td>2025-04-22</td><td>2025</td><td>4</td><td>ABRIL</td><td>22</td><td>TERCA-FEIRA</td><td>3</td><td>20250422</td></tr><tr><td>2025-04-23</td><td>2025</td><td>4</td><td>ABRIL</td><td>23</td><td>QUARTA-FEIRA</td><td>4</td><td>20250423</td></tr><tr><td>2025-04-24</td><td>2025</td><td>4</td><td>ABRIL</td><td>24</td><td>QUINTA-FEIRA</td><td>5</td><td>20250424</td></tr><tr><td>2025-04-25</td><td>2025</td><td>4</td><td>ABRIL</td><td>25</td><td>SEXTA-FEIRA</td><td>6</td><td>20250425</td></tr><tr><td>2025-04-26</td><td>2025</td><td>4</td><td>ABRIL</td><td>26</td><td>SABADO</td><td>7</td><td>20250426</td></tr><tr><td>2025-04-27</td><td>2025</td><td>4</td><td>ABRIL</td><td>27</td><td>DOMINGO</td><td>1</td><td>20250427</td></tr><tr><td>2025-04-28</td><td>2025</td><td>4</td><td>ABRIL</td><td>28</td><td>SEGUNDA-FEIRA</td><td>2</td><td>20250428</td></tr><tr><td>2025-04-29</td><td>2025</td><td>4</td><td>ABRIL</td><td>29</td><td>TERCA-FEIRA</td><td>3</td><td>20250429</td></tr><tr><td>2025-04-30</td><td>2025</td><td>4</td><td>ABRIL</td><td>30</td><td>QUARTA-FEIRA</td><td>4</td><td>20250430</td></tr><tr><td>2025-05-01</td><td>2025</td><td>5</td><td>MAIO</td><td>1</td><td>QUINTA-FEIRA</td><td>5</td><td>20250501</td></tr><tr><td>2025-05-02</td><td>2025</td><td>5</td><td>MAIO</td><td>2</td><td>SEXTA-FEIRA</td><td>6</td><td>20250502</td></tr><tr><td>2025-05-03</td><td>2025</td><td>5</td><td>MAIO</td><td>3</td><td>SABADO</td><td>7</td><td>20250503</td></tr><tr><td>2025-05-04</td><td>2025</td><td>5</td><td>MAIO</td><td>4</td><td>DOMINGO</td><td>1</td><td>20250504</td></tr><tr><td>2025-05-05</td><td>2025</td><td>5</td><td>MAIO</td><td>5</td><td>SEGUNDA-FEIRA</td><td>2</td><td>20250505</td></tr><tr><td>2025-05-06</td><td>2025</td><td>5</td><td>MAIO</td><td>6</td><td>TERCA-FEIRA</td><td>3</td><td>20250506</td></tr><tr><td>2025-05-07</td><td>2025</td><td>5</td><td>MAIO</td><td>7</td><td>QUARTA-FEIRA</td><td>4</td><td>20250507</td></tr><tr><td>2025-05-08</td><td>2025</td><td>5</td><td>MAIO</td><td>8</td><td>QUINTA-FEIRA</td><td>5</td><td>20250508</td></tr><tr><td>2025-05-09</td><td>2025</td><td>5</td><td>MAIO</td><td>9</td><td>SEXTA-FEIRA</td><td>6</td><td>20250509</td></tr><tr><td>2025-05-10</td><td>2025</td><td>5</td><td>MAIO</td><td>10</td><td>SABADO</td><td>7</td><td>20250510</td></tr><tr><td>2025-05-11</td><td>2025</td><td>5</td><td>MAIO</td><td>11</td><td>DOMINGO</td><td>1</td><td>20250511</td></tr><tr><td>2025-05-12</td><td>2025</td><td>5</td><td>MAIO</td><td>12</td><td>SEGUNDA-FEIRA</td><td>2</td><td>20250512</td></tr><tr><td>2025-05-13</td><td>2025</td><td>5</td><td>MAIO</td><td>13</td><td>TERCA-FEIRA</td><td>3</td><td>20250513</td></tr><tr><td>2025-05-14</td><td>2025</td><td>5</td><td>MAIO</td><td>14</td><td>QUARTA-FEIRA</td><td>4</td><td>20250514</td></tr><tr><td>2025-05-15</td><td>2025</td><td>5</td><td>MAIO</td><td>15</td><td>QUINTA-FEIRA</td><td>5</td><td>20250515</td></tr><tr><td>2025-05-16</td><td>2025</td><td>5</td><td>MAIO</td><td>16</td><td>SEXTA-FEIRA</td><td>6</td><td>20250516</td></tr><tr><td>2025-05-17</td><td>2025</td><td>5</td><td>MAIO</td><td>17</td><td>SABADO</td><td>7</td><td>20250517</td></tr><tr><td>2025-05-18</td><td>2025</td><td>5</td><td>MAIO</td><td>18</td><td>DOMINGO</td><td>1</td><td>20250518</td></tr><tr><td>2025-05-19</td><td>2025</td><td>5</td><td>MAIO</td><td>19</td><td>SEGUNDA-FEIRA</td><td>2</td><td>20250519</td></tr><tr><td>2025-05-20</td><td>2025</td><td>5</td><td>MAIO</td><td>20</td><td>TERCA-FEIRA</td><td>3</td><td>20250520</td></tr><tr><td>2025-05-21</td><td>2025</td><td>5</td><td>MAIO</td><td>21</td><td>QUARTA-FEIRA</td><td>4</td><td>20250521</td></tr><tr><td>2025-05-22</td><td>2025</td><td>5</td><td>MAIO</td><td>22</td><td>QUINTA-FEIRA</td><td>5</td><td>20250522</td></tr><tr><td>2025-05-23</td><td>2025</td><td>5</td><td>MAIO</td><td>23</td><td>SEXTA-FEIRA</td><td>6</td><td>20250523</td></tr><tr><td>2025-05-24</td><td>2025</td><td>5</td><td>MAIO</td><td>24</td><td>SABADO</td><td>7</td><td>20250524</td></tr><tr><td>2025-05-25</td><td>2025</td><td>5</td><td>MAIO</td><td>25</td><td>DOMINGO</td><td>1</td><td>20250525</td></tr><tr><td>2025-05-26</td><td>2025</td><td>5</td><td>MAIO</td><td>26</td><td>SEGUNDA-FEIRA</td><td>2</td><td>20250526</td></tr><tr><td>2025-05-27</td><td>2025</td><td>5</td><td>MAIO</td><td>27</td><td>TERCA-FEIRA</td><td>3</td><td>20250527</td></tr><tr><td>2025-05-28</td><td>2025</td><td>5</td><td>MAIO</td><td>28</td><td>QUARTA-FEIRA</td><td>4</td><td>20250528</td></tr><tr><td>2025-05-29</td><td>2025</td><td>5</td><td>MAIO</td><td>29</td><td>QUINTA-FEIRA</td><td>5</td><td>20250529</td></tr><tr><td>2025-05-30</td><td>2025</td><td>5</td><td>MAIO</td><td>30</td><td>SEXTA-FEIRA</td><td>6</td><td>20250530</td></tr><tr><td>2025-05-31</td><td>2025</td><td>5</td><td>MAIO</td><td>31</td><td>SABADO</td><td>7</td><td>20250531</td></tr><tr><td>2025-06-01</td><td>2025</td><td>6</td><td>JUNHO</td><td>1</td><td>DOMINGO</td><td>1</td><td>20250601</td></tr><tr><td>2025-06-02</td><td>2025</td><td>6</td><td>JUNHO</td><td>2</td><td>SEGUNDA-FEIRA</td><td>2</td><td>20250602</td></tr><tr><td>2025-06-03</td><td>2025</td><td>6</td><td>JUNHO</td><td>3</td><td>TERCA-FEIRA</td><td>3</td><td>20250603</td></tr><tr><td>2025-06-04</td><td>2025</td><td>6</td><td>JUNHO</td><td>4</td><td>QUARTA-FEIRA</td><td>4</td><td>20250604</td></tr><tr><td>2025-06-05</td><td>2025</td><td>6</td><td>JUNHO</td><td>5</td><td>QUINTA-FEIRA</td><td>5</td><td>20250605</td></tr><tr><td>2025-06-06</td><td>2025</td><td>6</td><td>JUNHO</td><td>6</td><td>SEXTA-FEIRA</td><td>6</td><td>20250606</td></tr><tr><td>2025-06-07</td><td>2025</td><td>6</td><td>JUNHO</td><td>7</td><td>SABADO</td><td>7</td><td>20250607</td></tr><tr><td>2025-06-08</td><td>2025</td><td>6</td><td>JUNHO</td><td>8</td><td>DOMINGO</td><td>1</td><td>20250608</td></tr><tr><td>2025-06-09</td><td>2025</td><td>6</td><td>JUNHO</td><td>9</td><td>SEGUNDA-FEIRA</td><td>2</td><td>20250609</td></tr><tr><td>2025-06-10</td><td>2025</td><td>6</td><td>JUNHO</td><td>10</td><td>TERCA-FEIRA</td><td>3</td><td>20250610</td></tr><tr><td>2025-06-11</td><td>2025</td><td>6</td><td>JUNHO</td><td>11</td><td>QUARTA-FEIRA</td><td>4</td><td>20250611</td></tr><tr><td>2025-06-12</td><td>2025</td><td>6</td><td>JUNHO</td><td>12</td><td>QUINTA-FEIRA</td><td>5</td><td>20250612</td></tr><tr><td>2025-06-13</td><td>2025</td><td>6</td><td>JUNHO</td><td>13</td><td>SEXTA-FEIRA</td><td>6</td><td>20250613</td></tr><tr><td>2025-06-14</td><td>2025</td><td>6</td><td>JUNHO</td><td>14</td><td>SABADO</td><td>7</td><td>20250614</td></tr><tr><td>2025-06-15</td><td>2025</td><td>6</td><td>JUNHO</td><td>15</td><td>DOMINGO</td><td>1</td><td>20250615</td></tr><tr><td>2025-06-16</td><td>2025</td><td>6</td><td>JUNHO</td><td>16</td><td>SEGUNDA-FEIRA</td><td>2</td><td>20250616</td></tr><tr><td>2025-06-17</td><td>2025</td><td>6</td><td>JUNHO</td><td>17</td><td>TERCA-FEIRA</td><td>3</td><td>20250617</td></tr><tr><td>2025-06-18</td><td>2025</td><td>6</td><td>JUNHO</td><td>18</td><td>QUARTA-FEIRA</td><td>4</td><td>20250618</td></tr><tr><td>2025-06-19</td><td>2025</td><td>6</td><td>JUNHO</td><td>19</td><td>QUINTA-FEIRA</td><td>5</td><td>20250619</td></tr><tr><td>2025-06-20</td><td>2025</td><td>6</td><td>JUNHO</td><td>20</td><td>SEXTA-FEIRA</td><td>6</td><td>20250620</td></tr><tr><td>2025-06-21</td><td>2025</td><td>6</td><td>JUNHO</td><td>21</td><td>SABADO</td><td>7</td><td>20250621</td></tr><tr><td>2025-06-22</td><td>2025</td><td>6</td><td>JUNHO</td><td>22</td><td>DOMINGO</td><td>1</td><td>20250622</td></tr><tr><td>2025-06-23</td><td>2025</td><td>6</td><td>JUNHO</td><td>23</td><td>SEGUNDA-FEIRA</td><td>2</td><td>20250623</td></tr><tr><td>2025-06-24</td><td>2025</td><td>6</td><td>JUNHO</td><td>24</td><td>TERCA-FEIRA</td><td>3</td><td>20250624</td></tr><tr><td>2025-06-25</td><td>2025</td><td>6</td><td>JUNHO</td><td>25</td><td>QUARTA-FEIRA</td><td>4</td><td>20250625</td></tr><tr><td>2025-06-26</td><td>2025</td><td>6</td><td>JUNHO</td><td>26</td><td>QUINTA-FEIRA</td><td>5</td><td>20250626</td></tr><tr><td>2025-06-27</td><td>2025</td><td>6</td><td>JUNHO</td><td>27</td><td>SEXTA-FEIRA</td><td>6</td><td>20250627</td></tr><tr><td>2025-06-28</td><td>2025</td><td>6</td><td>JUNHO</td><td>28</td><td>SABADO</td><td>7</td><td>20250628</td></tr><tr><td>2025-06-29</td><td>2025</td><td>6</td><td>JUNHO</td><td>29</td><td>DOMINGO</td><td>1</td><td>20250629</td></tr><tr><td>2025-06-30</td><td>2025</td><td>6</td><td>JUNHO</td><td>30</td><td>SEGUNDA-FEIRA</td><td>2</td><td>20250630</td></tr><tr><td>2025-07-01</td><td>2025</td><td>7</td><td>JULHO</td><td>1</td><td>TERCA-FEIRA</td><td>3</td><td>20250701</td></tr><tr><td>2025-07-02</td><td>2025</td><td>7</td><td>JULHO</td><td>2</td><td>QUARTA-FEIRA</td><td>4</td><td>20250702</td></tr><tr><td>2025-07-03</td><td>2025</td><td>7</td><td>JULHO</td><td>3</td><td>QUINTA-FEIRA</td><td>5</td><td>20250703</td></tr><tr><td>2025-07-04</td><td>2025</td><td>7</td><td>JULHO</td><td>4</td><td>SEXTA-FEIRA</td><td>6</td><td>20250704</td></tr><tr><td>2025-07-05</td><td>2025</td><td>7</td><td>JULHO</td><td>5</td><td>SABADO</td><td>7</td><td>20250705</td></tr><tr><td>2025-07-06</td><td>2025</td><td>7</td><td>JULHO</td><td>6</td><td>DOMINGO</td><td>1</td><td>20250706</td></tr><tr><td>2025-07-07</td><td>2025</td><td>7</td><td>JULHO</td><td>7</td><td>SEGUNDA-FEIRA</td><td>2</td><td>20250707</td></tr><tr><td>2025-07-08</td><td>2025</td><td>7</td><td>JULHO</td><td>8</td><td>TERCA-FEIRA</td><td>3</td><td>20250708</td></tr><tr><td>2025-07-09</td><td>2025</td><td>7</td><td>JULHO</td><td>9</td><td>QUARTA-FEIRA</td><td>4</td><td>20250709</td></tr><tr><td>2025-07-10</td><td>2025</td><td>7</td><td>JULHO</td><td>10</td><td>QUINTA-FEIRA</td><td>5</td><td>20250710</td></tr><tr><td>2025-07-11</td><td>2025</td><td>7</td><td>JULHO</td><td>11</td><td>SEXTA-FEIRA</td><td>6</td><td>20250711</td></tr><tr><td>2025-07-12</td><td>2025</td><td>7</td><td>JULHO</td><td>12</td><td>SABADO</td><td>7</td><td>20250712</td></tr><tr><td>2025-07-13</td><td>2025</td><td>7</td><td>JULHO</td><td>13</td><td>DOMINGO</td><td>1</td><td>20250713</td></tr><tr><td>2025-07-14</td><td>2025</td><td>7</td><td>JULHO</td><td>14</td><td>SEGUNDA-FEIRA</td><td>2</td><td>20250714</td></tr><tr><td>2025-07-15</td><td>2025</td><td>7</td><td>JULHO</td><td>15</td><td>TERCA-FEIRA</td><td>3</td><td>20250715</td></tr><tr><td>2025-07-16</td><td>2025</td><td>7</td><td>JULHO</td><td>16</td><td>QUARTA-FEIRA</td><td>4</td><td>20250716</td></tr><tr><td>2025-07-17</td><td>2025</td><td>7</td><td>JULHO</td><td>17</td><td>QUINTA-FEIRA</td><td>5</td><td>20250717</td></tr><tr><td>2025-07-18</td><td>2025</td><td>7</td><td>JULHO</td><td>18</td><td>SEXTA-FEIRA</td><td>6</td><td>20250718</td></tr><tr><td>2025-07-19</td><td>2025</td><td>7</td><td>JULHO</td><td>19</td><td>SABADO</td><td>7</td><td>20250719</td></tr><tr><td>2025-07-20</td><td>2025</td><td>7</td><td>JULHO</td><td>20</td><td>DOMINGO</td><td>1</td><td>20250720</td></tr><tr><td>2025-07-21</td><td>2025</td><td>7</td><td>JULHO</td><td>21</td><td>SEGUNDA-FEIRA</td><td>2</td><td>20250721</td></tr><tr><td>2025-07-22</td><td>2025</td><td>7</td><td>JULHO</td><td>22</td><td>TERCA-FEIRA</td><td>3</td><td>20250722</td></tr><tr><td>2025-07-23</td><td>2025</td><td>7</td><td>JULHO</td><td>23</td><td>QUARTA-FEIRA</td><td>4</td><td>20250723</td></tr><tr><td>2025-07-24</td><td>2025</td><td>7</td><td>JULHO</td><td>24</td><td>QUINTA-FEIRA</td><td>5</td><td>20250724</td></tr><tr><td>2025-07-25</td><td>2025</td><td>7</td><td>JULHO</td><td>25</td><td>SEXTA-FEIRA</td><td>6</td><td>20250725</td></tr><tr><td>2025-07-26</td><td>2025</td><td>7</td><td>JULHO</td><td>26</td><td>SABADO</td><td>7</td><td>20250726</td></tr><tr><td>2025-07-27</td><td>2025</td><td>7</td><td>JULHO</td><td>27</td><td>DOMINGO</td><td>1</td><td>20250727</td></tr><tr><td>2025-07-28</td><td>2025</td><td>7</td><td>JULHO</td><td>28</td><td>SEGUNDA-FEIRA</td><td>2</td><td>20250728</td></tr><tr><td>2025-07-29</td><td>2025</td><td>7</td><td>JULHO</td><td>29</td><td>TERCA-FEIRA</td><td>3</td><td>20250729</td></tr><tr><td>2025-07-30</td><td>2025</td><td>7</td><td>JULHO</td><td>30</td><td>QUARTA-FEIRA</td><td>4</td><td>20250730</td></tr><tr><td>2025-07-31</td><td>2025</td><td>7</td><td>JULHO</td><td>31</td><td>QUINTA-FEIRA</td><td>5</td><td>20250731</td></tr><tr><td>2025-08-01</td><td>2025</td><td>8</td><td>AGOSTO</td><td>1</td><td>SEXTA-FEIRA</td><td>6</td><td>20250801</td></tr><tr><td>2025-08-02</td><td>2025</td><td>8</td><td>AGOSTO</td><td>2</td><td>SABADO</td><td>7</td><td>20250802</td></tr><tr><td>2025-08-03</td><td>2025</td><td>8</td><td>AGOSTO</td><td>3</td><td>DOMINGO</td><td>1</td><td>20250803</td></tr><tr><td>2025-08-04</td><td>2025</td><td>8</td><td>AGOSTO</td><td>4</td><td>SEGUNDA-FEIRA</td><td>2</td><td>20250804</td></tr><tr><td>2025-08-05</td><td>2025</td><td>8</td><td>AGOSTO</td><td>5</td><td>TERCA-FEIRA</td><td>3</td><td>20250805</td></tr><tr><td>2025-08-06</td><td>2025</td><td>8</td><td>AGOSTO</td><td>6</td><td>QUARTA-FEIRA</td><td>4</td><td>20250806</td></tr><tr><td>2025-08-07</td><td>2025</td><td>8</td><td>AGOSTO</td><td>7</td><td>QUINTA-FEIRA</td><td>5</td><td>20250807</td></tr><tr><td>2025-08-08</td><td>2025</td><td>8</td><td>AGOSTO</td><td>8</td><td>SEXTA-FEIRA</td><td>6</td><td>20250808</td></tr><tr><td>2025-08-09</td><td>2025</td><td>8</td><td>AGOSTO</td><td>9</td><td>SABADO</td><td>7</td><td>20250809</td></tr><tr><td>2025-08-10</td><td>2025</td><td>8</td><td>AGOSTO</td><td>10</td><td>DOMINGO</td><td>1</td><td>20250810</td></tr><tr><td>2025-08-11</td><td>2025</td><td>8</td><td>AGOSTO</td><td>11</td><td>SEGUNDA-FEIRA</td><td>2</td><td>20250811</td></tr><tr><td>2025-08-12</td><td>2025</td><td>8</td><td>AGOSTO</td><td>12</td><td>TERCA-FEIRA</td><td>3</td><td>20250812</td></tr><tr><td>2025-08-13</td><td>2025</td><td>8</td><td>AGOSTO</td><td>13</td><td>QUARTA-FEIRA</td><td>4</td><td>20250813</td></tr><tr><td>2025-08-14</td><td>2025</td><td>8</td><td>AGOSTO</td><td>14</td><td>QUINTA-FEIRA</td><td>5</td><td>20250814</td></tr><tr><td>2025-08-15</td><td>2025</td><td>8</td><td>AGOSTO</td><td>15</td><td>SEXTA-FEIRA</td><td>6</td><td>20250815</td></tr><tr><td>2025-08-16</td><td>2025</td><td>8</td><td>AGOSTO</td><td>16</td><td>SABADO</td><td>7</td><td>20250816</td></tr><tr><td>2025-08-17</td><td>2025</td><td>8</td><td>AGOSTO</td><td>17</td><td>DOMINGO</td><td>1</td><td>20250817</td></tr><tr><td>2025-08-18</td><td>2025</td><td>8</td><td>AGOSTO</td><td>18</td><td>SEGUNDA-FEIRA</td><td>2</td><td>20250818</td></tr><tr><td>2025-08-19</td><td>2025</td><td>8</td><td>AGOSTO</td><td>19</td><td>TERCA-FEIRA</td><td>3</td><td>20250819</td></tr><tr><td>2025-08-20</td><td>2025</td><td>8</td><td>AGOSTO</td><td>20</td><td>QUARTA-FEIRA</td><td>4</td><td>20250820</td></tr><tr><td>2025-08-21</td><td>2025</td><td>8</td><td>AGOSTO</td><td>21</td><td>QUINTA-FEIRA</td><td>5</td><td>20250821</td></tr><tr><td>2025-08-22</td><td>2025</td><td>8</td><td>AGOSTO</td><td>22</td><td>SEXTA-FEIRA</td><td>6</td><td>20250822</td></tr><tr><td>2025-08-23</td><td>2025</td><td>8</td><td>AGOSTO</td><td>23</td><td>SABADO</td><td>7</td><td>20250823</td></tr><tr><td>2025-08-24</td><td>2025</td><td>8</td><td>AGOSTO</td><td>24</td><td>DOMINGO</td><td>1</td><td>20250824</td></tr><tr><td>2025-08-25</td><td>2025</td><td>8</td><td>AGOSTO</td><td>25</td><td>SEGUNDA-FEIRA</td><td>2</td><td>20250825</td></tr><tr><td>2025-08-26</td><td>2025</td><td>8</td><td>AGOSTO</td><td>26</td><td>TERCA-FEIRA</td><td>3</td><td>20250826</td></tr><tr><td>2025-08-27</td><td>2025</td><td>8</td><td>AGOSTO</td><td>27</td><td>QUARTA-FEIRA</td><td>4</td><td>20250827</td></tr><tr><td>2025-08-28</td><td>2025</td><td>8</td><td>AGOSTO</td><td>28</td><td>QUINTA-FEIRA</td><td>5</td><td>20250828</td></tr><tr><td>2025-08-29</td><td>2025</td><td>8</td><td>AGOSTO</td><td>29</td><td>SEXTA-FEIRA</td><td>6</td><td>20250829</td></tr><tr><td>2025-08-30</td><td>2025</td><td>8</td><td>AGOSTO</td><td>30</td><td>SABADO</td><td>7</td><td>20250830</td></tr><tr><td>2025-08-31</td><td>2025</td><td>8</td><td>AGOSTO</td><td>31</td><td>DOMINGO</td><td>1</td><td>20250831</td></tr><tr><td>2025-09-01</td><td>2025</td><td>9</td><td>SETEMBRO</td><td>1</td><td>SEGUNDA-FEIRA</td><td>2</td><td>20250901</td></tr><tr><td>2025-09-02</td><td>2025</td><td>9</td><td>SETEMBRO</td><td>2</td><td>TERCA-FEIRA</td><td>3</td><td>20250902</td></tr><tr><td>2025-09-03</td><td>2025</td><td>9</td><td>SETEMBRO</td><td>3</td><td>QUARTA-FEIRA</td><td>4</td><td>20250903</td></tr><tr><td>2025-09-04</td><td>2025</td><td>9</td><td>SETEMBRO</td><td>4</td><td>QUINTA-FEIRA</td><td>5</td><td>20250904</td></tr><tr><td>2025-09-05</td><td>2025</td><td>9</td><td>SETEMBRO</td><td>5</td><td>SEXTA-FEIRA</td><td>6</td><td>20250905</td></tr><tr><td>2025-09-06</td><td>2025</td><td>9</td><td>SETEMBRO</td><td>6</td><td>SABADO</td><td>7</td><td>20250906</td></tr><tr><td>2025-09-07</td><td>2025</td><td>9</td><td>SETEMBRO</td><td>7</td><td>DOMINGO</td><td>1</td><td>20250907</td></tr><tr><td>2025-09-08</td><td>2025</td><td>9</td><td>SETEMBRO</td><td>8</td><td>SEGUNDA-FEIRA</td><td>2</td><td>20250908</td></tr><tr><td>2025-09-09</td><td>2025</td><td>9</td><td>SETEMBRO</td><td>9</td><td>TERCA-FEIRA</td><td>3</td><td>20250909</td></tr><tr><td>2025-09-10</td><td>2025</td><td>9</td><td>SETEMBRO</td><td>10</td><td>QUARTA-FEIRA</td><td>4</td><td>20250910</td></tr><tr><td>2025-09-11</td><td>2025</td><td>9</td><td>SETEMBRO</td><td>11</td><td>QUINTA-FEIRA</td><td>5</td><td>20250911</td></tr><tr><td>2025-09-12</td><td>2025</td><td>9</td><td>SETEMBRO</td><td>12</td><td>SEXTA-FEIRA</td><td>6</td><td>20250912</td></tr><tr><td>2025-09-13</td><td>2025</td><td>9</td><td>SETEMBRO</td><td>13</td><td>SABADO</td><td>7</td><td>20250913</td></tr><tr><td>2025-09-14</td><td>2025</td><td>9</td><td>SETEMBRO</td><td>14</td><td>DOMINGO</td><td>1</td><td>20250914</td></tr><tr><td>2025-09-15</td><td>2025</td><td>9</td><td>SETEMBRO</td><td>15</td><td>SEGUNDA-FEIRA</td><td>2</td><td>20250915</td></tr><tr><td>2025-09-16</td><td>2025</td><td>9</td><td>SETEMBRO</td><td>16</td><td>TERCA-FEIRA</td><td>3</td><td>20250916</td></tr><tr><td>2025-09-17</td><td>2025</td><td>9</td><td>SETEMBRO</td><td>17</td><td>QUARTA-FEIRA</td><td>4</td><td>20250917</td></tr><tr><td>2025-09-18</td><td>2025</td><td>9</td><td>SETEMBRO</td><td>18</td><td>QUINTA-FEIRA</td><td>5</td><td>20250918</td></tr><tr><td>2025-09-19</td><td>2025</td><td>9</td><td>SETEMBRO</td><td>19</td><td>SEXTA-FEIRA</td><td>6</td><td>20250919</td></tr><tr><td>2025-09-20</td><td>2025</td><td>9</td><td>SETEMBRO</td><td>20</td><td>SABADO</td><td>7</td><td>20250920</td></tr><tr><td>2025-09-21</td><td>2025</td><td>9</td><td>SETEMBRO</td><td>21</td><td>DOMINGO</td><td>1</td><td>20250921</td></tr><tr><td>2025-09-22</td><td>2025</td><td>9</td><td>SETEMBRO</td><td>22</td><td>SEGUNDA-FEIRA</td><td>2</td><td>20250922</td></tr><tr><td>2025-09-23</td><td>2025</td><td>9</td><td>SETEMBRO</td><td>23</td><td>TERCA-FEIRA</td><td>3</td><td>20250923</td></tr><tr><td>2025-09-24</td><td>2025</td><td>9</td><td>SETEMBRO</td><td>24</td><td>QUARTA-FEIRA</td><td>4</td><td>20250924</td></tr><tr><td>2025-09-25</td><td>2025</td><td>9</td><td>SETEMBRO</td><td>25</td><td>QUINTA-FEIRA</td><td>5</td><td>20250925</td></tr><tr><td>2025-09-26</td><td>2025</td><td>9</td><td>SETEMBRO</td><td>26</td><td>SEXTA-FEIRA</td><td>6</td><td>20250926</td></tr><tr><td>2025-09-27</td><td>2025</td><td>9</td><td>SETEMBRO</td><td>27</td><td>SABADO</td><td>7</td><td>20250927</td></tr><tr><td>2025-09-28</td><td>2025</td><td>9</td><td>SETEMBRO</td><td>28</td><td>DOMINGO</td><td>1</td><td>20250928</td></tr><tr><td>2025-09-29</td><td>2025</td><td>9</td><td>SETEMBRO</td><td>29</td><td>SEGUNDA-FEIRA</td><td>2</td><td>20250929</td></tr><tr><td>2025-09-30</td><td>2025</td><td>9</td><td>SETEMBRO</td><td>30</td><td>TERCA-FEIRA</td><td>3</td><td>20250930</td></tr><tr><td>2025-10-01</td><td>2025</td><td>10</td><td>OUTUBRO</td><td>1</td><td>QUARTA-FEIRA</td><td>4</td><td>20251001</td></tr><tr><td>2025-10-02</td><td>2025</td><td>10</td><td>OUTUBRO</td><td>2</td><td>QUINTA-FEIRA</td><td>5</td><td>20251002</td></tr><tr><td>2025-10-03</td><td>2025</td><td>10</td><td>OUTUBRO</td><td>3</td><td>SEXTA-FEIRA</td><td>6</td><td>20251003</td></tr><tr><td>2025-10-04</td><td>2025</td><td>10</td><td>OUTUBRO</td><td>4</td><td>SABADO</td><td>7</td><td>20251004</td></tr><tr><td>2025-10-05</td><td>2025</td><td>10</td><td>OUTUBRO</td><td>5</td><td>DOMINGO</td><td>1</td><td>20251005</td></tr><tr><td>2025-10-06</td><td>2025</td><td>10</td><td>OUTUBRO</td><td>6</td><td>SEGUNDA-FEIRA</td><td>2</td><td>20251006</td></tr><tr><td>2025-10-07</td><td>2025</td><td>10</td><td>OUTUBRO</td><td>7</td><td>TERCA-FEIRA</td><td>3</td><td>20251007</td></tr><tr><td>2025-10-08</td><td>2025</td><td>10</td><td>OUTUBRO</td><td>8</td><td>QUARTA-FEIRA</td><td>4</td><td>20251008</td></tr><tr><td>2025-10-09</td><td>2025</td><td>10</td><td>OUTUBRO</td><td>9</td><td>QUINTA-FEIRA</td><td>5</td><td>20251009</td></tr><tr><td>2025-10-10</td><td>2025</td><td>10</td><td>OUTUBRO</td><td>10</td><td>SEXTA-FEIRA</td><td>6</td><td>20251010</td></tr><tr><td>2025-10-11</td><td>2025</td><td>10</td><td>OUTUBRO</td><td>11</td><td>SABADO</td><td>7</td><td>20251011</td></tr><tr><td>2025-10-12</td><td>2025</td><td>10</td><td>OUTUBRO</td><td>12</td><td>DOMINGO</td><td>1</td><td>20251012</td></tr><tr><td>2025-10-13</td><td>2025</td><td>10</td><td>OUTUBRO</td><td>13</td><td>SEGUNDA-FEIRA</td><td>2</td><td>20251013</td></tr><tr><td>2025-10-14</td><td>2025</td><td>10</td><td>OUTUBRO</td><td>14</td><td>TERCA-FEIRA</td><td>3</td><td>20251014</td></tr><tr><td>2025-10-15</td><td>2025</td><td>10</td><td>OUTUBRO</td><td>15</td><td>QUARTA-FEIRA</td><td>4</td><td>20251015</td></tr><tr><td>2025-10-16</td><td>2025</td><td>10</td><td>OUTUBRO</td><td>16</td><td>QUINTA-FEIRA</td><td>5</td><td>20251016</td></tr><tr><td>2025-10-17</td><td>2025</td><td>10</td><td>OUTUBRO</td><td>17</td><td>SEXTA-FEIRA</td><td>6</td><td>20251017</td></tr><tr><td>2025-10-18</td><td>2025</td><td>10</td><td>OUTUBRO</td><td>18</td><td>SABADO</td><td>7</td><td>20251018</td></tr><tr><td>2025-10-19</td><td>2025</td><td>10</td><td>OUTUBRO</td><td>19</td><td>DOMINGO</td><td>1</td><td>20251019</td></tr><tr><td>2025-10-20</td><td>2025</td><td>10</td><td>OUTUBRO</td><td>20</td><td>SEGUNDA-FEIRA</td><td>2</td><td>20251020</td></tr><tr><td>2025-10-21</td><td>2025</td><td>10</td><td>OUTUBRO</td><td>21</td><td>TERCA-FEIRA</td><td>3</td><td>20251021</td></tr><tr><td>2025-10-22</td><td>2025</td><td>10</td><td>OUTUBRO</td><td>22</td><td>QUARTA-FEIRA</td><td>4</td><td>20251022</td></tr><tr><td>2025-10-23</td><td>2025</td><td>10</td><td>OUTUBRO</td><td>23</td><td>QUINTA-FEIRA</td><td>5</td><td>20251023</td></tr><tr><td>2025-10-24</td><td>2025</td><td>10</td><td>OUTUBRO</td><td>24</td><td>SEXTA-FEIRA</td><td>6</td><td>20251024</td></tr><tr><td>2025-10-25</td><td>2025</td><td>10</td><td>OUTUBRO</td><td>25</td><td>SABADO</td><td>7</td><td>20251025</td></tr><tr><td>2025-10-26</td><td>2025</td><td>10</td><td>OUTUBRO</td><td>26</td><td>DOMINGO</td><td>1</td><td>20251026</td></tr><tr><td>2025-10-27</td><td>2025</td><td>10</td><td>OUTUBRO</td><td>27</td><td>SEGUNDA-FEIRA</td><td>2</td><td>20251027</td></tr><tr><td>2025-10-28</td><td>2025</td><td>10</td><td>OUTUBRO</td><td>28</td><td>TERCA-FEIRA</td><td>3</td><td>20251028</td></tr><tr><td>2025-10-29</td><td>2025</td><td>10</td><td>OUTUBRO</td><td>29</td><td>QUARTA-FEIRA</td><td>4</td><td>20251029</td></tr><tr><td>2025-10-30</td><td>2025</td><td>10</td><td>OUTUBRO</td><td>30</td><td>QUINTA-FEIRA</td><td>5</td><td>20251030</td></tr><tr><td>2025-10-31</td><td>2025</td><td>10</td><td>OUTUBRO</td><td>31</td><td>SEXTA-FEIRA</td><td>6</td><td>20251031</td></tr><tr><td>2025-11-01</td><td>2025</td><td>11</td><td>NOVEMBRO</td><td>1</td><td>SABADO</td><td>7</td><td>20251101</td></tr><tr><td>2025-11-02</td><td>2025</td><td>11</td><td>NOVEMBRO</td><td>2</td><td>DOMINGO</td><td>1</td><td>20251102</td></tr><tr><td>2025-11-03</td><td>2025</td><td>11</td><td>NOVEMBRO</td><td>3</td><td>SEGUNDA-FEIRA</td><td>2</td><td>20251103</td></tr><tr><td>2025-11-04</td><td>2025</td><td>11</td><td>NOVEMBRO</td><td>4</td><td>TERCA-FEIRA</td><td>3</td><td>20251104</td></tr><tr><td>2025-11-05</td><td>2025</td><td>11</td><td>NOVEMBRO</td><td>5</td><td>QUARTA-FEIRA</td><td>4</td><td>20251105</td></tr><tr><td>2025-11-06</td><td>2025</td><td>11</td><td>NOVEMBRO</td><td>6</td><td>QUINTA-FEIRA</td><td>5</td><td>20251106</td></tr><tr><td>2025-11-07</td><td>2025</td><td>11</td><td>NOVEMBRO</td><td>7</td><td>SEXTA-FEIRA</td><td>6</td><td>20251107</td></tr><tr><td>2025-11-08</td><td>2025</td><td>11</td><td>NOVEMBRO</td><td>8</td><td>SABADO</td><td>7</td><td>20251108</td></tr><tr><td>2025-11-09</td><td>2025</td><td>11</td><td>NOVEMBRO</td><td>9</td><td>DOMINGO</td><td>1</td><td>20251109</td></tr><tr><td>2025-11-10</td><td>2025</td><td>11</td><td>NOVEMBRO</td><td>10</td><td>SEGUNDA-FEIRA</td><td>2</td><td>20251110</td></tr><tr><td>2025-11-11</td><td>2025</td><td>11</td><td>NOVEMBRO</td><td>11</td><td>TERCA-FEIRA</td><td>3</td><td>20251111</td></tr><tr><td>2025-11-12</td><td>2025</td><td>11</td><td>NOVEMBRO</td><td>12</td><td>QUARTA-FEIRA</td><td>4</td><td>20251112</td></tr><tr><td>2025-11-13</td><td>2025</td><td>11</td><td>NOVEMBRO</td><td>13</td><td>QUINTA-FEIRA</td><td>5</td><td>20251113</td></tr><tr><td>2025-11-14</td><td>2025</td><td>11</td><td>NOVEMBRO</td><td>14</td><td>SEXTA-FEIRA</td><td>6</td><td>20251114</td></tr><tr><td>2025-11-15</td><td>2025</td><td>11</td><td>NOVEMBRO</td><td>15</td><td>SABADO</td><td>7</td><td>20251115</td></tr><tr><td>2025-11-16</td><td>2025</td><td>11</td><td>NOVEMBRO</td><td>16</td><td>DOMINGO</td><td>1</td><td>20251116</td></tr><tr><td>2025-11-17</td><td>2025</td><td>11</td><td>NOVEMBRO</td><td>17</td><td>SEGUNDA-FEIRA</td><td>2</td><td>20251117</td></tr><tr><td>2025-11-18</td><td>2025</td><td>11</td><td>NOVEMBRO</td><td>18</td><td>TERCA-FEIRA</td><td>3</td><td>20251118</td></tr><tr><td>2025-11-19</td><td>2025</td><td>11</td><td>NOVEMBRO</td><td>19</td><td>QUARTA-FEIRA</td><td>4</td><td>20251119</td></tr><tr><td>2025-11-20</td><td>2025</td><td>11</td><td>NOVEMBRO</td><td>20</td><td>QUINTA-FEIRA</td><td>5</td><td>20251120</td></tr><tr><td>2025-11-21</td><td>2025</td><td>11</td><td>NOVEMBRO</td><td>21</td><td>SEXTA-FEIRA</td><td>6</td><td>20251121</td></tr><tr><td>2025-11-22</td><td>2025</td><td>11</td><td>NOVEMBRO</td><td>22</td><td>SABADO</td><td>7</td><td>20251122</td></tr><tr><td>2025-11-23</td><td>2025</td><td>11</td><td>NOVEMBRO</td><td>23</td><td>DOMINGO</td><td>1</td><td>20251123</td></tr><tr><td>2025-11-24</td><td>2025</td><td>11</td><td>NOVEMBRO</td><td>24</td><td>SEGUNDA-FEIRA</td><td>2</td><td>20251124</td></tr><tr><td>2025-11-25</td><td>2025</td><td>11</td><td>NOVEMBRO</td><td>25</td><td>TERCA-FEIRA</td><td>3</td><td>20251125</td></tr><tr><td>2025-11-26</td><td>2025</td><td>11</td><td>NOVEMBRO</td><td>26</td><td>QUARTA-FEIRA</td><td>4</td><td>20251126</td></tr><tr><td>2025-11-27</td><td>2025</td><td>11</td><td>NOVEMBRO</td><td>27</td><td>QUINTA-FEIRA</td><td>5</td><td>20251127</td></tr><tr><td>2025-11-28</td><td>2025</td><td>11</td><td>NOVEMBRO</td><td>28</td><td>SEXTA-FEIRA</td><td>6</td><td>20251128</td></tr><tr><td>2025-11-29</td><td>2025</td><td>11</td><td>NOVEMBRO</td><td>29</td><td>SABADO</td><td>7</td><td>20251129</td></tr><tr><td>2025-11-30</td><td>2025</td><td>11</td><td>NOVEMBRO</td><td>30</td><td>DOMINGO</td><td>1</td><td>20251130</td></tr><tr><td>2025-12-01</td><td>2025</td><td>12</td><td>DEZEMBRO</td><td>1</td><td>SEGUNDA-FEIRA</td><td>2</td><td>20251201</td></tr><tr><td>2025-12-02</td><td>2025</td><td>12</td><td>DEZEMBRO</td><td>2</td><td>TERCA-FEIRA</td><td>3</td><td>20251202</td></tr><tr><td>2025-12-03</td><td>2025</td><td>12</td><td>DEZEMBRO</td><td>3</td><td>QUARTA-FEIRA</td><td>4</td><td>20251203</td></tr><tr><td>2025-12-04</td><td>2025</td><td>12</td><td>DEZEMBRO</td><td>4</td><td>QUINTA-FEIRA</td><td>5</td><td>20251204</td></tr><tr><td>2025-12-05</td><td>2025</td><td>12</td><td>DEZEMBRO</td><td>5</td><td>SEXTA-FEIRA</td><td>6</td><td>20251205</td></tr><tr><td>2025-12-06</td><td>2025</td><td>12</td><td>DEZEMBRO</td><td>6</td><td>SABADO</td><td>7</td><td>20251206</td></tr><tr><td>2025-12-07</td><td>2025</td><td>12</td><td>DEZEMBRO</td><td>7</td><td>DOMINGO</td><td>1</td><td>20251207</td></tr><tr><td>2025-12-08</td><td>2025</td><td>12</td><td>DEZEMBRO</td><td>8</td><td>SEGUNDA-FEIRA</td><td>2</td><td>20251208</td></tr><tr><td>2025-12-09</td><td>2025</td><td>12</td><td>DEZEMBRO</td><td>9</td><td>TERCA-FEIRA</td><td>3</td><td>20251209</td></tr><tr><td>2025-12-10</td><td>2025</td><td>12</td><td>DEZEMBRO</td><td>10</td><td>QUARTA-FEIRA</td><td>4</td><td>20251210</td></tr><tr><td>2025-12-11</td><td>2025</td><td>12</td><td>DEZEMBRO</td><td>11</td><td>QUINTA-FEIRA</td><td>5</td><td>20251211</td></tr><tr><td>2025-12-12</td><td>2025</td><td>12</td><td>DEZEMBRO</td><td>12</td><td>SEXTA-FEIRA</td><td>6</td><td>20251212</td></tr><tr><td>2025-12-13</td><td>2025</td><td>12</td><td>DEZEMBRO</td><td>13</td><td>SABADO</td><td>7</td><td>20251213</td></tr><tr><td>2025-12-14</td><td>2025</td><td>12</td><td>DEZEMBRO</td><td>14</td><td>DOMINGO</td><td>1</td><td>20251214</td></tr><tr><td>2025-12-15</td><td>2025</td><td>12</td><td>DEZEMBRO</td><td>15</td><td>SEGUNDA-FEIRA</td><td>2</td><td>20251215</td></tr><tr><td>2025-12-16</td><td>2025</td><td>12</td><td>DEZEMBRO</td><td>16</td><td>TERCA-FEIRA</td><td>3</td><td>20251216</td></tr><tr><td>2025-12-17</td><td>2025</td><td>12</td><td>DEZEMBRO</td><td>17</td><td>QUARTA-FEIRA</td><td>4</td><td>20251217</td></tr><tr><td>2025-12-18</td><td>2025</td><td>12</td><td>DEZEMBRO</td><td>18</td><td>QUINTA-FEIRA</td><td>5</td><td>20251218</td></tr><tr><td>2025-12-19</td><td>2025</td><td>12</td><td>DEZEMBRO</td><td>19</td><td>SEXTA-FEIRA</td><td>6</td><td>20251219</td></tr><tr><td>2025-12-20</td><td>2025</td><td>12</td><td>DEZEMBRO</td><td>20</td><td>SABADO</td><td>7</td><td>20251220</td></tr><tr><td>2025-12-21</td><td>2025</td><td>12</td><td>DEZEMBRO</td><td>21</td><td>DOMINGO</td><td>1</td><td>20251221</td></tr><tr><td>2025-12-22</td><td>2025</td><td>12</td><td>DEZEMBRO</td><td>22</td><td>SEGUNDA-FEIRA</td><td>2</td><td>20251222</td></tr><tr><td>2025-12-23</td><td>2025</td><td>12</td><td>DEZEMBRO</td><td>23</td><td>TERCA-FEIRA</td><td>3</td><td>20251223</td></tr><tr><td>2025-12-24</td><td>2025</td><td>12</td><td>DEZEMBRO</td><td>24</td><td>QUARTA-FEIRA</td><td>4</td><td>20251224</td></tr><tr><td>2025-12-25</td><td>2025</td><td>12</td><td>DEZEMBRO</td><td>25</td><td>QUINTA-FEIRA</td><td>5</td><td>20251225</td></tr><tr><td>2025-12-26</td><td>2025</td><td>12</td><td>DEZEMBRO</td><td>26</td><td>SEXTA-FEIRA</td><td>6</td><td>20251226</td></tr><tr><td>2025-12-27</td><td>2025</td><td>12</td><td>DEZEMBRO</td><td>27</td><td>SABADO</td><td>7</td><td>20251227</td></tr><tr><td>2025-12-28</td><td>2025</td><td>12</td><td>DEZEMBRO</td><td>28</td><td>DOMINGO</td><td>1</td><td>20251228</td></tr><tr><td>2025-12-29</td><td>2025</td><td>12</td><td>DEZEMBRO</td><td>29</td><td>SEGUNDA-FEIRA</td><td>2</td><td>20251229</td></tr><tr><td>2025-12-30</td><td>2025</td><td>12</td><td>DEZEMBRO</td><td>30</td><td>TERCA-FEIRA</td><td>3</td><td>20251230</td></tr><tr><td>2025-12-31</td><td>2025</td><td>12</td><td>DEZEMBRO</td><td>31</td><td>QUARTA-FEIRA</td><td>4</td><td>20251231</td></tr></tbody></table></div>"
      ]
     },
     "metadata": {
      "application/vnd.databricks.v1+output": {
       "addedWidgets": {},
       "aggData": [],
       "aggError": "",
       "aggOverflow": false,
       "aggSchema": [],
       "aggSeriesLimitReached": false,
       "aggType": "",
       "arguments": {},
       "columnCustomDisplayInfos": {},
       "data": [
        [
         "2022-01-01",
         2022,
         1,
         "JANEIRO",
         1,
         "SABADO",
         7,
         20220101
        ],
        [
         "2022-01-02",
         2022,
         1,
         "JANEIRO",
         2,
         "DOMINGO",
         1,
         20220102
        ],
        [
         "2022-01-03",
         2022,
         1,
         "JANEIRO",
         3,
         "SEGUNDA-FEIRA",
         2,
         20220103
        ],
        [
         "2022-01-04",
         2022,
         1,
         "JANEIRO",
         4,
         "TERCA-FEIRA",
         3,
         20220104
        ],
        [
         "2022-01-05",
         2022,
         1,
         "JANEIRO",
         5,
         "QUARTA-FEIRA",
         4,
         20220105
        ],
        [
         "2022-01-06",
         2022,
         1,
         "JANEIRO",
         6,
         "QUINTA-FEIRA",
         5,
         20220106
        ],
        [
         "2022-01-07",
         2022,
         1,
         "JANEIRO",
         7,
         "SEXTA-FEIRA",
         6,
         20220107
        ],
        [
         "2022-01-08",
         2022,
         1,
         "JANEIRO",
         8,
         "SABADO",
         7,
         20220108
        ],
        [
         "2022-01-09",
         2022,
         1,
         "JANEIRO",
         9,
         "DOMINGO",
         1,
         20220109
        ],
        [
         "2022-01-10",
         2022,
         1,
         "JANEIRO",
         10,
         "SEGUNDA-FEIRA",
         2,
         20220110
        ],
        [
         "2022-01-11",
         2022,
         1,
         "JANEIRO",
         11,
         "TERCA-FEIRA",
         3,
         20220111
        ],
        [
         "2022-01-12",
         2022,
         1,
         "JANEIRO",
         12,
         "QUARTA-FEIRA",
         4,
         20220112
        ],
        [
         "2022-01-13",
         2022,
         1,
         "JANEIRO",
         13,
         "QUINTA-FEIRA",
         5,
         20220113
        ],
        [
         "2022-01-14",
         2022,
         1,
         "JANEIRO",
         14,
         "SEXTA-FEIRA",
         6,
         20220114
        ],
        [
         "2022-01-15",
         2022,
         1,
         "JANEIRO",
         15,
         "SABADO",
         7,
         20220115
        ],
        [
         "2022-01-16",
         2022,
         1,
         "JANEIRO",
         16,
         "DOMINGO",
         1,
         20220116
        ],
        [
         "2022-01-17",
         2022,
         1,
         "JANEIRO",
         17,
         "SEGUNDA-FEIRA",
         2,
         20220117
        ],
        [
         "2022-01-18",
         2022,
         1,
         "JANEIRO",
         18,
         "TERCA-FEIRA",
         3,
         20220118
        ],
        [
         "2022-01-19",
         2022,
         1,
         "JANEIRO",
         19,
         "QUARTA-FEIRA",
         4,
         20220119
        ],
        [
         "2022-01-20",
         2022,
         1,
         "JANEIRO",
         20,
         "QUINTA-FEIRA",
         5,
         20220120
        ],
        [
         "2022-01-21",
         2022,
         1,
         "JANEIRO",
         21,
         "SEXTA-FEIRA",
         6,
         20220121
        ],
        [
         "2022-01-22",
         2022,
         1,
         "JANEIRO",
         22,
         "SABADO",
         7,
         20220122
        ],
        [
         "2022-01-23",
         2022,
         1,
         "JANEIRO",
         23,
         "DOMINGO",
         1,
         20220123
        ],
        [
         "2022-01-24",
         2022,
         1,
         "JANEIRO",
         24,
         "SEGUNDA-FEIRA",
         2,
         20220124
        ],
        [
         "2022-01-25",
         2022,
         1,
         "JANEIRO",
         25,
         "TERCA-FEIRA",
         3,
         20220125
        ],
        [
         "2022-01-26",
         2022,
         1,
         "JANEIRO",
         26,
         "QUARTA-FEIRA",
         4,
         20220126
        ],
        [
         "2022-01-27",
         2022,
         1,
         "JANEIRO",
         27,
         "QUINTA-FEIRA",
         5,
         20220127
        ],
        [
         "2022-01-28",
         2022,
         1,
         "JANEIRO",
         28,
         "SEXTA-FEIRA",
         6,
         20220128
        ],
        [
         "2022-01-29",
         2022,
         1,
         "JANEIRO",
         29,
         "SABADO",
         7,
         20220129
        ],
        [
         "2022-01-30",
         2022,
         1,
         "JANEIRO",
         30,
         "DOMINGO",
         1,
         20220130
        ],
        [
         "2022-01-31",
         2022,
         1,
         "JANEIRO",
         31,
         "SEGUNDA-FEIRA",
         2,
         20220131
        ],
        [
         "2022-02-01",
         2022,
         2,
         "FEVEREIRO",
         1,
         "TERCA-FEIRA",
         3,
         20220201
        ],
        [
         "2022-02-02",
         2022,
         2,
         "FEVEREIRO",
         2,
         "QUARTA-FEIRA",
         4,
         20220202
        ],
        [
         "2022-02-03",
         2022,
         2,
         "FEVEREIRO",
         3,
         "QUINTA-FEIRA",
         5,
         20220203
        ],
        [
         "2022-02-04",
         2022,
         2,
         "FEVEREIRO",
         4,
         "SEXTA-FEIRA",
         6,
         20220204
        ],
        [
         "2022-02-05",
         2022,
         2,
         "FEVEREIRO",
         5,
         "SABADO",
         7,
         20220205
        ],
        [
         "2022-02-06",
         2022,
         2,
         "FEVEREIRO",
         6,
         "DOMINGO",
         1,
         20220206
        ],
        [
         "2022-02-07",
         2022,
         2,
         "FEVEREIRO",
         7,
         "SEGUNDA-FEIRA",
         2,
         20220207
        ],
        [
         "2022-02-08",
         2022,
         2,
         "FEVEREIRO",
         8,
         "TERCA-FEIRA",
         3,
         20220208
        ],
        [
         "2022-02-09",
         2022,
         2,
         "FEVEREIRO",
         9,
         "QUARTA-FEIRA",
         4,
         20220209
        ],
        [
         "2022-02-10",
         2022,
         2,
         "FEVEREIRO",
         10,
         "QUINTA-FEIRA",
         5,
         20220210
        ],
        [
         "2022-02-11",
         2022,
         2,
         "FEVEREIRO",
         11,
         "SEXTA-FEIRA",
         6,
         20220211
        ],
        [
         "2022-02-12",
         2022,
         2,
         "FEVEREIRO",
         12,
         "SABADO",
         7,
         20220212
        ],
        [
         "2022-02-13",
         2022,
         2,
         "FEVEREIRO",
         13,
         "DOMINGO",
         1,
         20220213
        ],
        [
         "2022-02-14",
         2022,
         2,
         "FEVEREIRO",
         14,
         "SEGUNDA-FEIRA",
         2,
         20220214
        ],
        [
         "2022-02-15",
         2022,
         2,
         "FEVEREIRO",
         15,
         "TERCA-FEIRA",
         3,
         20220215
        ],
        [
         "2022-02-16",
         2022,
         2,
         "FEVEREIRO",
         16,
         "QUARTA-FEIRA",
         4,
         20220216
        ],
        [
         "2022-02-17",
         2022,
         2,
         "FEVEREIRO",
         17,
         "QUINTA-FEIRA",
         5,
         20220217
        ],
        [
         "2022-02-18",
         2022,
         2,
         "FEVEREIRO",
         18,
         "SEXTA-FEIRA",
         6,
         20220218
        ],
        [
         "2022-02-19",
         2022,
         2,
         "FEVEREIRO",
         19,
         "SABADO",
         7,
         20220219
        ],
        [
         "2022-02-20",
         2022,
         2,
         "FEVEREIRO",
         20,
         "DOMINGO",
         1,
         20220220
        ],
        [
         "2022-02-21",
         2022,
         2,
         "FEVEREIRO",
         21,
         "SEGUNDA-FEIRA",
         2,
         20220221
        ],
        [
         "2022-02-22",
         2022,
         2,
         "FEVEREIRO",
         22,
         "TERCA-FEIRA",
         3,
         20220222
        ],
        [
         "2022-02-23",
         2022,
         2,
         "FEVEREIRO",
         23,
         "QUARTA-FEIRA",
         4,
         20220223
        ],
        [
         "2022-02-24",
         2022,
         2,
         "FEVEREIRO",
         24,
         "QUINTA-FEIRA",
         5,
         20220224
        ],
        [
         "2022-02-25",
         2022,
         2,
         "FEVEREIRO",
         25,
         "SEXTA-FEIRA",
         6,
         20220225
        ],
        [
         "2022-02-26",
         2022,
         2,
         "FEVEREIRO",
         26,
         "SABADO",
         7,
         20220226
        ],
        [
         "2022-02-27",
         2022,
         2,
         "FEVEREIRO",
         27,
         "DOMINGO",
         1,
         20220227
        ],
        [
         "2022-02-28",
         2022,
         2,
         "FEVEREIRO",
         28,
         "SEGUNDA-FEIRA",
         2,
         20220228
        ],
        [
         "2022-03-01",
         2022,
         3,
         "MARCO",
         1,
         "TERCA-FEIRA",
         3,
         20220301
        ],
        [
         "2022-03-02",
         2022,
         3,
         "MARCO",
         2,
         "QUARTA-FEIRA",
         4,
         20220302
        ],
        [
         "2022-03-03",
         2022,
         3,
         "MARCO",
         3,
         "QUINTA-FEIRA",
         5,
         20220303
        ],
        [
         "2022-03-04",
         2022,
         3,
         "MARCO",
         4,
         "SEXTA-FEIRA",
         6,
         20220304
        ],
        [
         "2022-03-05",
         2022,
         3,
         "MARCO",
         5,
         "SABADO",
         7,
         20220305
        ],
        [
         "2022-03-06",
         2022,
         3,
         "MARCO",
         6,
         "DOMINGO",
         1,
         20220306
        ],
        [
         "2022-03-07",
         2022,
         3,
         "MARCO",
         7,
         "SEGUNDA-FEIRA",
         2,
         20220307
        ],
        [
         "2022-03-08",
         2022,
         3,
         "MARCO",
         8,
         "TERCA-FEIRA",
         3,
         20220308
        ],
        [
         "2022-03-09",
         2022,
         3,
         "MARCO",
         9,
         "QUARTA-FEIRA",
         4,
         20220309
        ],
        [
         "2022-03-10",
         2022,
         3,
         "MARCO",
         10,
         "QUINTA-FEIRA",
         5,
         20220310
        ],
        [
         "2022-03-11",
         2022,
         3,
         "MARCO",
         11,
         "SEXTA-FEIRA",
         6,
         20220311
        ],
        [
         "2022-03-12",
         2022,
         3,
         "MARCO",
         12,
         "SABADO",
         7,
         20220312
        ],
        [
         "2022-03-13",
         2022,
         3,
         "MARCO",
         13,
         "DOMINGO",
         1,
         20220313
        ],
        [
         "2022-03-14",
         2022,
         3,
         "MARCO",
         14,
         "SEGUNDA-FEIRA",
         2,
         20220314
        ],
        [
         "2022-03-15",
         2022,
         3,
         "MARCO",
         15,
         "TERCA-FEIRA",
         3,
         20220315
        ],
        [
         "2022-03-16",
         2022,
         3,
         "MARCO",
         16,
         "QUARTA-FEIRA",
         4,
         20220316
        ],
        [
         "2022-03-17",
         2022,
         3,
         "MARCO",
         17,
         "QUINTA-FEIRA",
         5,
         20220317
        ],
        [
         "2022-03-18",
         2022,
         3,
         "MARCO",
         18,
         "SEXTA-FEIRA",
         6,
         20220318
        ],
        [
         "2022-03-19",
         2022,
         3,
         "MARCO",
         19,
         "SABADO",
         7,
         20220319
        ],
        [
         "2022-03-20",
         2022,
         3,
         "MARCO",
         20,
         "DOMINGO",
         1,
         20220320
        ],
        [
         "2022-03-21",
         2022,
         3,
         "MARCO",
         21,
         "SEGUNDA-FEIRA",
         2,
         20220321
        ],
        [
         "2022-03-22",
         2022,
         3,
         "MARCO",
         22,
         "TERCA-FEIRA",
         3,
         20220322
        ],
        [
         "2022-03-23",
         2022,
         3,
         "MARCO",
         23,
         "QUARTA-FEIRA",
         4,
         20220323
        ],
        [
         "2022-03-24",
         2022,
         3,
         "MARCO",
         24,
         "QUINTA-FEIRA",
         5,
         20220324
        ],
        [
         "2022-03-25",
         2022,
         3,
         "MARCO",
         25,
         "SEXTA-FEIRA",
         6,
         20220325
        ],
        [
         "2022-03-26",
         2022,
         3,
         "MARCO",
         26,
         "SABADO",
         7,
         20220326
        ],
        [
         "2022-03-27",
         2022,
         3,
         "MARCO",
         27,
         "DOMINGO",
         1,
         20220327
        ],
        [
         "2022-03-28",
         2022,
         3,
         "MARCO",
         28,
         "SEGUNDA-FEIRA",
         2,
         20220328
        ],
        [
         "2022-03-29",
         2022,
         3,
         "MARCO",
         29,
         "TERCA-FEIRA",
         3,
         20220329
        ],
        [
         "2022-03-30",
         2022,
         3,
         "MARCO",
         30,
         "QUARTA-FEIRA",
         4,
         20220330
        ],
        [
         "2022-03-31",
         2022,
         3,
         "MARCO",
         31,
         "QUINTA-FEIRA",
         5,
         20220331
        ],
        [
         "2022-04-01",
         2022,
         4,
         "ABRIL",
         1,
         "SEXTA-FEIRA",
         6,
         20220401
        ],
        [
         "2022-04-02",
         2022,
         4,
         "ABRIL",
         2,
         "SABADO",
         7,
         20220402
        ],
        [
         "2022-04-03",
         2022,
         4,
         "ABRIL",
         3,
         "DOMINGO",
         1,
         20220403
        ],
        [
         "2022-04-04",
         2022,
         4,
         "ABRIL",
         4,
         "SEGUNDA-FEIRA",
         2,
         20220404
        ],
        [
         "2022-04-05",
         2022,
         4,
         "ABRIL",
         5,
         "TERCA-FEIRA",
         3,
         20220405
        ],
        [
         "2022-04-06",
         2022,
         4,
         "ABRIL",
         6,
         "QUARTA-FEIRA",
         4,
         20220406
        ],
        [
         "2022-04-07",
         2022,
         4,
         "ABRIL",
         7,
         "QUINTA-FEIRA",
         5,
         20220407
        ],
        [
         "2022-04-08",
         2022,
         4,
         "ABRIL",
         8,
         "SEXTA-FEIRA",
         6,
         20220408
        ],
        [
         "2022-04-09",
         2022,
         4,
         "ABRIL",
         9,
         "SABADO",
         7,
         20220409
        ],
        [
         "2022-04-10",
         2022,
         4,
         "ABRIL",
         10,
         "DOMINGO",
         1,
         20220410
        ],
        [
         "2022-04-11",
         2022,
         4,
         "ABRIL",
         11,
         "SEGUNDA-FEIRA",
         2,
         20220411
        ],
        [
         "2022-04-12",
         2022,
         4,
         "ABRIL",
         12,
         "TERCA-FEIRA",
         3,
         20220412
        ],
        [
         "2022-04-13",
         2022,
         4,
         "ABRIL",
         13,
         "QUARTA-FEIRA",
         4,
         20220413
        ],
        [
         "2022-04-14",
         2022,
         4,
         "ABRIL",
         14,
         "QUINTA-FEIRA",
         5,
         20220414
        ],
        [
         "2022-04-15",
         2022,
         4,
         "ABRIL",
         15,
         "SEXTA-FEIRA",
         6,
         20220415
        ],
        [
         "2022-04-16",
         2022,
         4,
         "ABRIL",
         16,
         "SABADO",
         7,
         20220416
        ],
        [
         "2022-04-17",
         2022,
         4,
         "ABRIL",
         17,
         "DOMINGO",
         1,
         20220417
        ],
        [
         "2022-04-18",
         2022,
         4,
         "ABRIL",
         18,
         "SEGUNDA-FEIRA",
         2,
         20220418
        ],
        [
         "2022-04-19",
         2022,
         4,
         "ABRIL",
         19,
         "TERCA-FEIRA",
         3,
         20220419
        ],
        [
         "2022-04-20",
         2022,
         4,
         "ABRIL",
         20,
         "QUARTA-FEIRA",
         4,
         20220420
        ],
        [
         "2022-04-21",
         2022,
         4,
         "ABRIL",
         21,
         "QUINTA-FEIRA",
         5,
         20220421
        ],
        [
         "2022-04-22",
         2022,
         4,
         "ABRIL",
         22,
         "SEXTA-FEIRA",
         6,
         20220422
        ],
        [
         "2022-04-23",
         2022,
         4,
         "ABRIL",
         23,
         "SABADO",
         7,
         20220423
        ],
        [
         "2022-04-24",
         2022,
         4,
         "ABRIL",
         24,
         "DOMINGO",
         1,
         20220424
        ],
        [
         "2022-04-25",
         2022,
         4,
         "ABRIL",
         25,
         "SEGUNDA-FEIRA",
         2,
         20220425
        ],
        [
         "2022-04-26",
         2022,
         4,
         "ABRIL",
         26,
         "TERCA-FEIRA",
         3,
         20220426
        ],
        [
         "2022-04-27",
         2022,
         4,
         "ABRIL",
         27,
         "QUARTA-FEIRA",
         4,
         20220427
        ],
        [
         "2022-04-28",
         2022,
         4,
         "ABRIL",
         28,
         "QUINTA-FEIRA",
         5,
         20220428
        ],
        [
         "2022-04-29",
         2022,
         4,
         "ABRIL",
         29,
         "SEXTA-FEIRA",
         6,
         20220429
        ],
        [
         "2022-04-30",
         2022,
         4,
         "ABRIL",
         30,
         "SABADO",
         7,
         20220430
        ],
        [
         "2022-05-01",
         2022,
         5,
         "MAIO",
         1,
         "DOMINGO",
         1,
         20220501
        ],
        [
         "2022-05-02",
         2022,
         5,
         "MAIO",
         2,
         "SEGUNDA-FEIRA",
         2,
         20220502
        ],
        [
         "2022-05-03",
         2022,
         5,
         "MAIO",
         3,
         "TERCA-FEIRA",
         3,
         20220503
        ],
        [
         "2022-05-04",
         2022,
         5,
         "MAIO",
         4,
         "QUARTA-FEIRA",
         4,
         20220504
        ],
        [
         "2022-05-05",
         2022,
         5,
         "MAIO",
         5,
         "QUINTA-FEIRA",
         5,
         20220505
        ],
        [
         "2022-05-06",
         2022,
         5,
         "MAIO",
         6,
         "SEXTA-FEIRA",
         6,
         20220506
        ],
        [
         "2022-05-07",
         2022,
         5,
         "MAIO",
         7,
         "SABADO",
         7,
         20220507
        ],
        [
         "2022-05-08",
         2022,
         5,
         "MAIO",
         8,
         "DOMINGO",
         1,
         20220508
        ],
        [
         "2022-05-09",
         2022,
         5,
         "MAIO",
         9,
         "SEGUNDA-FEIRA",
         2,
         20220509
        ],
        [
         "2022-05-10",
         2022,
         5,
         "MAIO",
         10,
         "TERCA-FEIRA",
         3,
         20220510
        ],
        [
         "2022-05-11",
         2022,
         5,
         "MAIO",
         11,
         "QUARTA-FEIRA",
         4,
         20220511
        ],
        [
         "2022-05-12",
         2022,
         5,
         "MAIO",
         12,
         "QUINTA-FEIRA",
         5,
         20220512
        ],
        [
         "2022-05-13",
         2022,
         5,
         "MAIO",
         13,
         "SEXTA-FEIRA",
         6,
         20220513
        ],
        [
         "2022-05-14",
         2022,
         5,
         "MAIO",
         14,
         "SABADO",
         7,
         20220514
        ],
        [
         "2022-05-15",
         2022,
         5,
         "MAIO",
         15,
         "DOMINGO",
         1,
         20220515
        ],
        [
         "2022-05-16",
         2022,
         5,
         "MAIO",
         16,
         "SEGUNDA-FEIRA",
         2,
         20220516
        ],
        [
         "2022-05-17",
         2022,
         5,
         "MAIO",
         17,
         "TERCA-FEIRA",
         3,
         20220517
        ],
        [
         "2022-05-18",
         2022,
         5,
         "MAIO",
         18,
         "QUARTA-FEIRA",
         4,
         20220518
        ],
        [
         "2022-05-19",
         2022,
         5,
         "MAIO",
         19,
         "QUINTA-FEIRA",
         5,
         20220519
        ],
        [
         "2022-05-20",
         2022,
         5,
         "MAIO",
         20,
         "SEXTA-FEIRA",
         6,
         20220520
        ],
        [
         "2022-05-21",
         2022,
         5,
         "MAIO",
         21,
         "SABADO",
         7,
         20220521
        ],
        [
         "2022-05-22",
         2022,
         5,
         "MAIO",
         22,
         "DOMINGO",
         1,
         20220522
        ],
        [
         "2022-05-23",
         2022,
         5,
         "MAIO",
         23,
         "SEGUNDA-FEIRA",
         2,
         20220523
        ],
        [
         "2022-05-24",
         2022,
         5,
         "MAIO",
         24,
         "TERCA-FEIRA",
         3,
         20220524
        ],
        [
         "2022-05-25",
         2022,
         5,
         "MAIO",
         25,
         "QUARTA-FEIRA",
         4,
         20220525
        ],
        [
         "2022-05-26",
         2022,
         5,
         "MAIO",
         26,
         "QUINTA-FEIRA",
         5,
         20220526
        ],
        [
         "2022-05-27",
         2022,
         5,
         "MAIO",
         27,
         "SEXTA-FEIRA",
         6,
         20220527
        ],
        [
         "2022-05-28",
         2022,
         5,
         "MAIO",
         28,
         "SABADO",
         7,
         20220528
        ],
        [
         "2022-05-29",
         2022,
         5,
         "MAIO",
         29,
         "DOMINGO",
         1,
         20220529
        ],
        [
         "2022-05-30",
         2022,
         5,
         "MAIO",
         30,
         "SEGUNDA-FEIRA",
         2,
         20220530
        ],
        [
         "2022-05-31",
         2022,
         5,
         "MAIO",
         31,
         "TERCA-FEIRA",
         3,
         20220531
        ],
        [
         "2022-06-01",
         2022,
         6,
         "JUNHO",
         1,
         "QUARTA-FEIRA",
         4,
         20220601
        ],
        [
         "2022-06-02",
         2022,
         6,
         "JUNHO",
         2,
         "QUINTA-FEIRA",
         5,
         20220602
        ],
        [
         "2022-06-03",
         2022,
         6,
         "JUNHO",
         3,
         "SEXTA-FEIRA",
         6,
         20220603
        ],
        [
         "2022-06-04",
         2022,
         6,
         "JUNHO",
         4,
         "SABADO",
         7,
         20220604
        ],
        [
         "2022-06-05",
         2022,
         6,
         "JUNHO",
         5,
         "DOMINGO",
         1,
         20220605
        ],
        [
         "2022-06-06",
         2022,
         6,
         "JUNHO",
         6,
         "SEGUNDA-FEIRA",
         2,
         20220606
        ],
        [
         "2022-06-07",
         2022,
         6,
         "JUNHO",
         7,
         "TERCA-FEIRA",
         3,
         20220607
        ],
        [
         "2022-06-08",
         2022,
         6,
         "JUNHO",
         8,
         "QUARTA-FEIRA",
         4,
         20220608
        ],
        [
         "2022-06-09",
         2022,
         6,
         "JUNHO",
         9,
         "QUINTA-FEIRA",
         5,
         20220609
        ],
        [
         "2022-06-10",
         2022,
         6,
         "JUNHO",
         10,
         "SEXTA-FEIRA",
         6,
         20220610
        ],
        [
         "2022-06-11",
         2022,
         6,
         "JUNHO",
         11,
         "SABADO",
         7,
         20220611
        ],
        [
         "2022-06-12",
         2022,
         6,
         "JUNHO",
         12,
         "DOMINGO",
         1,
         20220612
        ],
        [
         "2022-06-13",
         2022,
         6,
         "JUNHO",
         13,
         "SEGUNDA-FEIRA",
         2,
         20220613
        ],
        [
         "2022-06-14",
         2022,
         6,
         "JUNHO",
         14,
         "TERCA-FEIRA",
         3,
         20220614
        ],
        [
         "2022-06-15",
         2022,
         6,
         "JUNHO",
         15,
         "QUARTA-FEIRA",
         4,
         20220615
        ],
        [
         "2022-06-16",
         2022,
         6,
         "JUNHO",
         16,
         "QUINTA-FEIRA",
         5,
         20220616
        ],
        [
         "2022-06-17",
         2022,
         6,
         "JUNHO",
         17,
         "SEXTA-FEIRA",
         6,
         20220617
        ],
        [
         "2022-06-18",
         2022,
         6,
         "JUNHO",
         18,
         "SABADO",
         7,
         20220618
        ],
        [
         "2022-06-19",
         2022,
         6,
         "JUNHO",
         19,
         "DOMINGO",
         1,
         20220619
        ],
        [
         "2022-06-20",
         2022,
         6,
         "JUNHO",
         20,
         "SEGUNDA-FEIRA",
         2,
         20220620
        ],
        [
         "2022-06-21",
         2022,
         6,
         "JUNHO",
         21,
         "TERCA-FEIRA",
         3,
         20220621
        ],
        [
         "2022-06-22",
         2022,
         6,
         "JUNHO",
         22,
         "QUARTA-FEIRA",
         4,
         20220622
        ],
        [
         "2022-06-23",
         2022,
         6,
         "JUNHO",
         23,
         "QUINTA-FEIRA",
         5,
         20220623
        ],
        [
         "2022-06-24",
         2022,
         6,
         "JUNHO",
         24,
         "SEXTA-FEIRA",
         6,
         20220624
        ],
        [
         "2022-06-25",
         2022,
         6,
         "JUNHO",
         25,
         "SABADO",
         7,
         20220625
        ],
        [
         "2022-06-26",
         2022,
         6,
         "JUNHO",
         26,
         "DOMINGO",
         1,
         20220626
        ],
        [
         "2022-06-27",
         2022,
         6,
         "JUNHO",
         27,
         "SEGUNDA-FEIRA",
         2,
         20220627
        ],
        [
         "2022-06-28",
         2022,
         6,
         "JUNHO",
         28,
         "TERCA-FEIRA",
         3,
         20220628
        ],
        [
         "2022-06-29",
         2022,
         6,
         "JUNHO",
         29,
         "QUARTA-FEIRA",
         4,
         20220629
        ],
        [
         "2022-06-30",
         2022,
         6,
         "JUNHO",
         30,
         "QUINTA-FEIRA",
         5,
         20220630
        ],
        [
         "2022-07-01",
         2022,
         7,
         "JULHO",
         1,
         "SEXTA-FEIRA",
         6,
         20220701
        ],
        [
         "2022-07-02",
         2022,
         7,
         "JULHO",
         2,
         "SABADO",
         7,
         20220702
        ],
        [
         "2022-07-03",
         2022,
         7,
         "JULHO",
         3,
         "DOMINGO",
         1,
         20220703
        ],
        [
         "2022-07-04",
         2022,
         7,
         "JULHO",
         4,
         "SEGUNDA-FEIRA",
         2,
         20220704
        ],
        [
         "2022-07-05",
         2022,
         7,
         "JULHO",
         5,
         "TERCA-FEIRA",
         3,
         20220705
        ],
        [
         "2022-07-06",
         2022,
         7,
         "JULHO",
         6,
         "QUARTA-FEIRA",
         4,
         20220706
        ],
        [
         "2022-07-07",
         2022,
         7,
         "JULHO",
         7,
         "QUINTA-FEIRA",
         5,
         20220707
        ],
        [
         "2022-07-08",
         2022,
         7,
         "JULHO",
         8,
         "SEXTA-FEIRA",
         6,
         20220708
        ],
        [
         "2022-07-09",
         2022,
         7,
         "JULHO",
         9,
         "SABADO",
         7,
         20220709
        ],
        [
         "2022-07-10",
         2022,
         7,
         "JULHO",
         10,
         "DOMINGO",
         1,
         20220710
        ],
        [
         "2022-07-11",
         2022,
         7,
         "JULHO",
         11,
         "SEGUNDA-FEIRA",
         2,
         20220711
        ],
        [
         "2022-07-12",
         2022,
         7,
         "JULHO",
         12,
         "TERCA-FEIRA",
         3,
         20220712
        ],
        [
         "2022-07-13",
         2022,
         7,
         "JULHO",
         13,
         "QUARTA-FEIRA",
         4,
         20220713
        ],
        [
         "2022-07-14",
         2022,
         7,
         "JULHO",
         14,
         "QUINTA-FEIRA",
         5,
         20220714
        ],
        [
         "2022-07-15",
         2022,
         7,
         "JULHO",
         15,
         "SEXTA-FEIRA",
         6,
         20220715
        ],
        [
         "2022-07-16",
         2022,
         7,
         "JULHO",
         16,
         "SABADO",
         7,
         20220716
        ],
        [
         "2022-07-17",
         2022,
         7,
         "JULHO",
         17,
         "DOMINGO",
         1,
         20220717
        ],
        [
         "2022-07-18",
         2022,
         7,
         "JULHO",
         18,
         "SEGUNDA-FEIRA",
         2,
         20220718
        ],
        [
         "2022-07-19",
         2022,
         7,
         "JULHO",
         19,
         "TERCA-FEIRA",
         3,
         20220719
        ],
        [
         "2022-07-20",
         2022,
         7,
         "JULHO",
         20,
         "QUARTA-FEIRA",
         4,
         20220720
        ],
        [
         "2022-07-21",
         2022,
         7,
         "JULHO",
         21,
         "QUINTA-FEIRA",
         5,
         20220721
        ],
        [
         "2022-07-22",
         2022,
         7,
         "JULHO",
         22,
         "SEXTA-FEIRA",
         6,
         20220722
        ],
        [
         "2022-07-23",
         2022,
         7,
         "JULHO",
         23,
         "SABADO",
         7,
         20220723
        ],
        [
         "2022-07-24",
         2022,
         7,
         "JULHO",
         24,
         "DOMINGO",
         1,
         20220724
        ],
        [
         "2022-07-25",
         2022,
         7,
         "JULHO",
         25,
         "SEGUNDA-FEIRA",
         2,
         20220725
        ],
        [
         "2022-07-26",
         2022,
         7,
         "JULHO",
         26,
         "TERCA-FEIRA",
         3,
         20220726
        ],
        [
         "2022-07-27",
         2022,
         7,
         "JULHO",
         27,
         "QUARTA-FEIRA",
         4,
         20220727
        ],
        [
         "2022-07-28",
         2022,
         7,
         "JULHO",
         28,
         "QUINTA-FEIRA",
         5,
         20220728
        ],
        [
         "2022-07-29",
         2022,
         7,
         "JULHO",
         29,
         "SEXTA-FEIRA",
         6,
         20220729
        ],
        [
         "2022-07-30",
         2022,
         7,
         "JULHO",
         30,
         "SABADO",
         7,
         20220730
        ],
        [
         "2022-07-31",
         2022,
         7,
         "JULHO",
         31,
         "DOMINGO",
         1,
         20220731
        ],
        [
         "2022-08-01",
         2022,
         8,
         "AGOSTO",
         1,
         "SEGUNDA-FEIRA",
         2,
         20220801
        ],
        [
         "2022-08-02",
         2022,
         8,
         "AGOSTO",
         2,
         "TERCA-FEIRA",
         3,
         20220802
        ],
        [
         "2022-08-03",
         2022,
         8,
         "AGOSTO",
         3,
         "QUARTA-FEIRA",
         4,
         20220803
        ],
        [
         "2022-08-04",
         2022,
         8,
         "AGOSTO",
         4,
         "QUINTA-FEIRA",
         5,
         20220804
        ],
        [
         "2022-08-05",
         2022,
         8,
         "AGOSTO",
         5,
         "SEXTA-FEIRA",
         6,
         20220805
        ],
        [
         "2022-08-06",
         2022,
         8,
         "AGOSTO",
         6,
         "SABADO",
         7,
         20220806
        ],
        [
         "2022-08-07",
         2022,
         8,
         "AGOSTO",
         7,
         "DOMINGO",
         1,
         20220807
        ],
        [
         "2022-08-08",
         2022,
         8,
         "AGOSTO",
         8,
         "SEGUNDA-FEIRA",
         2,
         20220808
        ],
        [
         "2022-08-09",
         2022,
         8,
         "AGOSTO",
         9,
         "TERCA-FEIRA",
         3,
         20220809
        ],
        [
         "2022-08-10",
         2022,
         8,
         "AGOSTO",
         10,
         "QUARTA-FEIRA",
         4,
         20220810
        ],
        [
         "2022-08-11",
         2022,
         8,
         "AGOSTO",
         11,
         "QUINTA-FEIRA",
         5,
         20220811
        ],
        [
         "2022-08-12",
         2022,
         8,
         "AGOSTO",
         12,
         "SEXTA-FEIRA",
         6,
         20220812
        ],
        [
         "2022-08-13",
         2022,
         8,
         "AGOSTO",
         13,
         "SABADO",
         7,
         20220813
        ],
        [
         "2022-08-14",
         2022,
         8,
         "AGOSTO",
         14,
         "DOMINGO",
         1,
         20220814
        ],
        [
         "2022-08-15",
         2022,
         8,
         "AGOSTO",
         15,
         "SEGUNDA-FEIRA",
         2,
         20220815
        ],
        [
         "2022-08-16",
         2022,
         8,
         "AGOSTO",
         16,
         "TERCA-FEIRA",
         3,
         20220816
        ],
        [
         "2022-08-17",
         2022,
         8,
         "AGOSTO",
         17,
         "QUARTA-FEIRA",
         4,
         20220817
        ],
        [
         "2022-08-18",
         2022,
         8,
         "AGOSTO",
         18,
         "QUINTA-FEIRA",
         5,
         20220818
        ],
        [
         "2022-08-19",
         2022,
         8,
         "AGOSTO",
         19,
         "SEXTA-FEIRA",
         6,
         20220819
        ],
        [
         "2022-08-20",
         2022,
         8,
         "AGOSTO",
         20,
         "SABADO",
         7,
         20220820
        ],
        [
         "2022-08-21",
         2022,
         8,
         "AGOSTO",
         21,
         "DOMINGO",
         1,
         20220821
        ],
        [
         "2022-08-22",
         2022,
         8,
         "AGOSTO",
         22,
         "SEGUNDA-FEIRA",
         2,
         20220822
        ],
        [
         "2022-08-23",
         2022,
         8,
         "AGOSTO",
         23,
         "TERCA-FEIRA",
         3,
         20220823
        ],
        [
         "2022-08-24",
         2022,
         8,
         "AGOSTO",
         24,
         "QUARTA-FEIRA",
         4,
         20220824
        ],
        [
         "2022-08-25",
         2022,
         8,
         "AGOSTO",
         25,
         "QUINTA-FEIRA",
         5,
         20220825
        ],
        [
         "2022-08-26",
         2022,
         8,
         "AGOSTO",
         26,
         "SEXTA-FEIRA",
         6,
         20220826
        ],
        [
         "2022-08-27",
         2022,
         8,
         "AGOSTO",
         27,
         "SABADO",
         7,
         20220827
        ],
        [
         "2022-08-28",
         2022,
         8,
         "AGOSTO",
         28,
         "DOMINGO",
         1,
         20220828
        ],
        [
         "2022-08-29",
         2022,
         8,
         "AGOSTO",
         29,
         "SEGUNDA-FEIRA",
         2,
         20220829
        ],
        [
         "2022-08-30",
         2022,
         8,
         "AGOSTO",
         30,
         "TERCA-FEIRA",
         3,
         20220830
        ],
        [
         "2022-08-31",
         2022,
         8,
         "AGOSTO",
         31,
         "QUARTA-FEIRA",
         4,
         20220831
        ],
        [
         "2022-09-01",
         2022,
         9,
         "SETEMBRO",
         1,
         "QUINTA-FEIRA",
         5,
         20220901
        ],
        [
         "2022-09-02",
         2022,
         9,
         "SETEMBRO",
         2,
         "SEXTA-FEIRA",
         6,
         20220902
        ],
        [
         "2022-09-03",
         2022,
         9,
         "SETEMBRO",
         3,
         "SABADO",
         7,
         20220903
        ],
        [
         "2022-09-04",
         2022,
         9,
         "SETEMBRO",
         4,
         "DOMINGO",
         1,
         20220904
        ],
        [
         "2022-09-05",
         2022,
         9,
         "SETEMBRO",
         5,
         "SEGUNDA-FEIRA",
         2,
         20220905
        ],
        [
         "2022-09-06",
         2022,
         9,
         "SETEMBRO",
         6,
         "TERCA-FEIRA",
         3,
         20220906
        ],
        [
         "2022-09-07",
         2022,
         9,
         "SETEMBRO",
         7,
         "QUARTA-FEIRA",
         4,
         20220907
        ],
        [
         "2022-09-08",
         2022,
         9,
         "SETEMBRO",
         8,
         "QUINTA-FEIRA",
         5,
         20220908
        ],
        [
         "2022-09-09",
         2022,
         9,
         "SETEMBRO",
         9,
         "SEXTA-FEIRA",
         6,
         20220909
        ],
        [
         "2022-09-10",
         2022,
         9,
         "SETEMBRO",
         10,
         "SABADO",
         7,
         20220910
        ],
        [
         "2022-09-11",
         2022,
         9,
         "SETEMBRO",
         11,
         "DOMINGO",
         1,
         20220911
        ],
        [
         "2022-09-12",
         2022,
         9,
         "SETEMBRO",
         12,
         "SEGUNDA-FEIRA",
         2,
         20220912
        ],
        [
         "2022-09-13",
         2022,
         9,
         "SETEMBRO",
         13,
         "TERCA-FEIRA",
         3,
         20220913
        ],
        [
         "2022-09-14",
         2022,
         9,
         "SETEMBRO",
         14,
         "QUARTA-FEIRA",
         4,
         20220914
        ],
        [
         "2022-09-15",
         2022,
         9,
         "SETEMBRO",
         15,
         "QUINTA-FEIRA",
         5,
         20220915
        ],
        [
         "2022-09-16",
         2022,
         9,
         "SETEMBRO",
         16,
         "SEXTA-FEIRA",
         6,
         20220916
        ],
        [
         "2022-09-17",
         2022,
         9,
         "SETEMBRO",
         17,
         "SABADO",
         7,
         20220917
        ],
        [
         "2022-09-18",
         2022,
         9,
         "SETEMBRO",
         18,
         "DOMINGO",
         1,
         20220918
        ],
        [
         "2022-09-19",
         2022,
         9,
         "SETEMBRO",
         19,
         "SEGUNDA-FEIRA",
         2,
         20220919
        ],
        [
         "2022-09-20",
         2022,
         9,
         "SETEMBRO",
         20,
         "TERCA-FEIRA",
         3,
         20220920
        ],
        [
         "2022-09-21",
         2022,
         9,
         "SETEMBRO",
         21,
         "QUARTA-FEIRA",
         4,
         20220921
        ],
        [
         "2022-09-22",
         2022,
         9,
         "SETEMBRO",
         22,
         "QUINTA-FEIRA",
         5,
         20220922
        ],
        [
         "2022-09-23",
         2022,
         9,
         "SETEMBRO",
         23,
         "SEXTA-FEIRA",
         6,
         20220923
        ],
        [
         "2022-09-24",
         2022,
         9,
         "SETEMBRO",
         24,
         "SABADO",
         7,
         20220924
        ],
        [
         "2022-09-25",
         2022,
         9,
         "SETEMBRO",
         25,
         "DOMINGO",
         1,
         20220925
        ],
        [
         "2022-09-26",
         2022,
         9,
         "SETEMBRO",
         26,
         "SEGUNDA-FEIRA",
         2,
         20220926
        ],
        [
         "2022-09-27",
         2022,
         9,
         "SETEMBRO",
         27,
         "TERCA-FEIRA",
         3,
         20220927
        ],
        [
         "2022-09-28",
         2022,
         9,
         "SETEMBRO",
         28,
         "QUARTA-FEIRA",
         4,
         20220928
        ],
        [
         "2022-09-29",
         2022,
         9,
         "SETEMBRO",
         29,
         "QUINTA-FEIRA",
         5,
         20220929
        ],
        [
         "2022-09-30",
         2022,
         9,
         "SETEMBRO",
         30,
         "SEXTA-FEIRA",
         6,
         20220930
        ],
        [
         "2022-10-01",
         2022,
         10,
         "OUTUBRO",
         1,
         "SABADO",
         7,
         20221001
        ],
        [
         "2022-10-02",
         2022,
         10,
         "OUTUBRO",
         2,
         "DOMINGO",
         1,
         20221002
        ],
        [
         "2022-10-03",
         2022,
         10,
         "OUTUBRO",
         3,
         "SEGUNDA-FEIRA",
         2,
         20221003
        ],
        [
         "2022-10-04",
         2022,
         10,
         "OUTUBRO",
         4,
         "TERCA-FEIRA",
         3,
         20221004
        ],
        [
         "2022-10-05",
         2022,
         10,
         "OUTUBRO",
         5,
         "QUARTA-FEIRA",
         4,
         20221005
        ],
        [
         "2022-10-06",
         2022,
         10,
         "OUTUBRO",
         6,
         "QUINTA-FEIRA",
         5,
         20221006
        ],
        [
         "2022-10-07",
         2022,
         10,
         "OUTUBRO",
         7,
         "SEXTA-FEIRA",
         6,
         20221007
        ],
        [
         "2022-10-08",
         2022,
         10,
         "OUTUBRO",
         8,
         "SABADO",
         7,
         20221008
        ],
        [
         "2022-10-09",
         2022,
         10,
         "OUTUBRO",
         9,
         "DOMINGO",
         1,
         20221009
        ],
        [
         "2022-10-10",
         2022,
         10,
         "OUTUBRO",
         10,
         "SEGUNDA-FEIRA",
         2,
         20221010
        ],
        [
         "2022-10-11",
         2022,
         10,
         "OUTUBRO",
         11,
         "TERCA-FEIRA",
         3,
         20221011
        ],
        [
         "2022-10-12",
         2022,
         10,
         "OUTUBRO",
         12,
         "QUARTA-FEIRA",
         4,
         20221012
        ],
        [
         "2022-10-13",
         2022,
         10,
         "OUTUBRO",
         13,
         "QUINTA-FEIRA",
         5,
         20221013
        ],
        [
         "2022-10-14",
         2022,
         10,
         "OUTUBRO",
         14,
         "SEXTA-FEIRA",
         6,
         20221014
        ],
        [
         "2022-10-15",
         2022,
         10,
         "OUTUBRO",
         15,
         "SABADO",
         7,
         20221015
        ],
        [
         "2022-10-16",
         2022,
         10,
         "OUTUBRO",
         16,
         "DOMINGO",
         1,
         20221016
        ],
        [
         "2022-10-17",
         2022,
         10,
         "OUTUBRO",
         17,
         "SEGUNDA-FEIRA",
         2,
         20221017
        ],
        [
         "2022-10-18",
         2022,
         10,
         "OUTUBRO",
         18,
         "TERCA-FEIRA",
         3,
         20221018
        ],
        [
         "2022-10-19",
         2022,
         10,
         "OUTUBRO",
         19,
         "QUARTA-FEIRA",
         4,
         20221019
        ],
        [
         "2022-10-20",
         2022,
         10,
         "OUTUBRO",
         20,
         "QUINTA-FEIRA",
         5,
         20221020
        ],
        [
         "2022-10-21",
         2022,
         10,
         "OUTUBRO",
         21,
         "SEXTA-FEIRA",
         6,
         20221021
        ],
        [
         "2022-10-22",
         2022,
         10,
         "OUTUBRO",
         22,
         "SABADO",
         7,
         20221022
        ],
        [
         "2022-10-23",
         2022,
         10,
         "OUTUBRO",
         23,
         "DOMINGO",
         1,
         20221023
        ],
        [
         "2022-10-24",
         2022,
         10,
         "OUTUBRO",
         24,
         "SEGUNDA-FEIRA",
         2,
         20221024
        ],
        [
         "2022-10-25",
         2022,
         10,
         "OUTUBRO",
         25,
         "TERCA-FEIRA",
         3,
         20221025
        ],
        [
         "2022-10-26",
         2022,
         10,
         "OUTUBRO",
         26,
         "QUARTA-FEIRA",
         4,
         20221026
        ],
        [
         "2022-10-27",
         2022,
         10,
         "OUTUBRO",
         27,
         "QUINTA-FEIRA",
         5,
         20221027
        ],
        [
         "2022-10-28",
         2022,
         10,
         "OUTUBRO",
         28,
         "SEXTA-FEIRA",
         6,
         20221028
        ],
        [
         "2022-10-29",
         2022,
         10,
         "OUTUBRO",
         29,
         "SABADO",
         7,
         20221029
        ],
        [
         "2022-10-30",
         2022,
         10,
         "OUTUBRO",
         30,
         "DOMINGO",
         1,
         20221030
        ],
        [
         "2022-10-31",
         2022,
         10,
         "OUTUBRO",
         31,
         "SEGUNDA-FEIRA",
         2,
         20221031
        ],
        [
         "2022-11-01",
         2022,
         11,
         "NOVEMBRO",
         1,
         "TERCA-FEIRA",
         3,
         20221101
        ],
        [
         "2022-11-02",
         2022,
         11,
         "NOVEMBRO",
         2,
         "QUARTA-FEIRA",
         4,
         20221102
        ],
        [
         "2022-11-03",
         2022,
         11,
         "NOVEMBRO",
         3,
         "QUINTA-FEIRA",
         5,
         20221103
        ],
        [
         "2022-11-04",
         2022,
         11,
         "NOVEMBRO",
         4,
         "SEXTA-FEIRA",
         6,
         20221104
        ],
        [
         "2022-11-05",
         2022,
         11,
         "NOVEMBRO",
         5,
         "SABADO",
         7,
         20221105
        ],
        [
         "2022-11-06",
         2022,
         11,
         "NOVEMBRO",
         6,
         "DOMINGO",
         1,
         20221106
        ],
        [
         "2022-11-07",
         2022,
         11,
         "NOVEMBRO",
         7,
         "SEGUNDA-FEIRA",
         2,
         20221107
        ],
        [
         "2022-11-08",
         2022,
         11,
         "NOVEMBRO",
         8,
         "TERCA-FEIRA",
         3,
         20221108
        ],
        [
         "2022-11-09",
         2022,
         11,
         "NOVEMBRO",
         9,
         "QUARTA-FEIRA",
         4,
         20221109
        ],
        [
         "2022-11-10",
         2022,
         11,
         "NOVEMBRO",
         10,
         "QUINTA-FEIRA",
         5,
         20221110
        ],
        [
         "2022-11-11",
         2022,
         11,
         "NOVEMBRO",
         11,
         "SEXTA-FEIRA",
         6,
         20221111
        ],
        [
         "2022-11-12",
         2022,
         11,
         "NOVEMBRO",
         12,
         "SABADO",
         7,
         20221112
        ],
        [
         "2022-11-13",
         2022,
         11,
         "NOVEMBRO",
         13,
         "DOMINGO",
         1,
         20221113
        ],
        [
         "2022-11-14",
         2022,
         11,
         "NOVEMBRO",
         14,
         "SEGUNDA-FEIRA",
         2,
         20221114
        ],
        [
         "2022-11-15",
         2022,
         11,
         "NOVEMBRO",
         15,
         "TERCA-FEIRA",
         3,
         20221115
        ],
        [
         "2022-11-16",
         2022,
         11,
         "NOVEMBRO",
         16,
         "QUARTA-FEIRA",
         4,
         20221116
        ],
        [
         "2022-11-17",
         2022,
         11,
         "NOVEMBRO",
         17,
         "QUINTA-FEIRA",
         5,
         20221117
        ],
        [
         "2022-11-18",
         2022,
         11,
         "NOVEMBRO",
         18,
         "SEXTA-FEIRA",
         6,
         20221118
        ],
        [
         "2022-11-19",
         2022,
         11,
         "NOVEMBRO",
         19,
         "SABADO",
         7,
         20221119
        ],
        [
         "2022-11-20",
         2022,
         11,
         "NOVEMBRO",
         20,
         "DOMINGO",
         1,
         20221120
        ],
        [
         "2022-11-21",
         2022,
         11,
         "NOVEMBRO",
         21,
         "SEGUNDA-FEIRA",
         2,
         20221121
        ],
        [
         "2022-11-22",
         2022,
         11,
         "NOVEMBRO",
         22,
         "TERCA-FEIRA",
         3,
         20221122
        ],
        [
         "2022-11-23",
         2022,
         11,
         "NOVEMBRO",
         23,
         "QUARTA-FEIRA",
         4,
         20221123
        ],
        [
         "2022-11-24",
         2022,
         11,
         "NOVEMBRO",
         24,
         "QUINTA-FEIRA",
         5,
         20221124
        ],
        [
         "2022-11-25",
         2022,
         11,
         "NOVEMBRO",
         25,
         "SEXTA-FEIRA",
         6,
         20221125
        ],
        [
         "2022-11-26",
         2022,
         11,
         "NOVEMBRO",
         26,
         "SABADO",
         7,
         20221126
        ],
        [
         "2022-11-27",
         2022,
         11,
         "NOVEMBRO",
         27,
         "DOMINGO",
         1,
         20221127
        ],
        [
         "2022-11-28",
         2022,
         11,
         "NOVEMBRO",
         28,
         "SEGUNDA-FEIRA",
         2,
         20221128
        ],
        [
         "2022-11-29",
         2022,
         11,
         "NOVEMBRO",
         29,
         "TERCA-FEIRA",
         3,
         20221129
        ],
        [
         "2022-11-30",
         2022,
         11,
         "NOVEMBRO",
         30,
         "QUARTA-FEIRA",
         4,
         20221130
        ],
        [
         "2022-12-01",
         2022,
         12,
         "DEZEMBRO",
         1,
         "QUINTA-FEIRA",
         5,
         20221201
        ],
        [
         "2022-12-02",
         2022,
         12,
         "DEZEMBRO",
         2,
         "SEXTA-FEIRA",
         6,
         20221202
        ],
        [
         "2022-12-03",
         2022,
         12,
         "DEZEMBRO",
         3,
         "SABADO",
         7,
         20221203
        ],
        [
         "2022-12-04",
         2022,
         12,
         "DEZEMBRO",
         4,
         "DOMINGO",
         1,
         20221204
        ],
        [
         "2022-12-05",
         2022,
         12,
         "DEZEMBRO",
         5,
         "SEGUNDA-FEIRA",
         2,
         20221205
        ],
        [
         "2022-12-06",
         2022,
         12,
         "DEZEMBRO",
         6,
         "TERCA-FEIRA",
         3,
         20221206
        ],
        [
         "2022-12-07",
         2022,
         12,
         "DEZEMBRO",
         7,
         "QUARTA-FEIRA",
         4,
         20221207
        ],
        [
         "2022-12-08",
         2022,
         12,
         "DEZEMBRO",
         8,
         "QUINTA-FEIRA",
         5,
         20221208
        ],
        [
         "2022-12-09",
         2022,
         12,
         "DEZEMBRO",
         9,
         "SEXTA-FEIRA",
         6,
         20221209
        ],
        [
         "2022-12-10",
         2022,
         12,
         "DEZEMBRO",
         10,
         "SABADO",
         7,
         20221210
        ],
        [
         "2022-12-11",
         2022,
         12,
         "DEZEMBRO",
         11,
         "DOMINGO",
         1,
         20221211
        ],
        [
         "2022-12-12",
         2022,
         12,
         "DEZEMBRO",
         12,
         "SEGUNDA-FEIRA",
         2,
         20221212
        ],
        [
         "2022-12-13",
         2022,
         12,
         "DEZEMBRO",
         13,
         "TERCA-FEIRA",
         3,
         20221213
        ],
        [
         "2022-12-14",
         2022,
         12,
         "DEZEMBRO",
         14,
         "QUARTA-FEIRA",
         4,
         20221214
        ],
        [
         "2022-12-15",
         2022,
         12,
         "DEZEMBRO",
         15,
         "QUINTA-FEIRA",
         5,
         20221215
        ],
        [
         "2022-12-16",
         2022,
         12,
         "DEZEMBRO",
         16,
         "SEXTA-FEIRA",
         6,
         20221216
        ],
        [
         "2022-12-17",
         2022,
         12,
         "DEZEMBRO",
         17,
         "SABADO",
         7,
         20221217
        ],
        [
         "2022-12-18",
         2022,
         12,
         "DEZEMBRO",
         18,
         "DOMINGO",
         1,
         20221218
        ],
        [
         "2022-12-19",
         2022,
         12,
         "DEZEMBRO",
         19,
         "SEGUNDA-FEIRA",
         2,
         20221219
        ],
        [
         "2022-12-20",
         2022,
         12,
         "DEZEMBRO",
         20,
         "TERCA-FEIRA",
         3,
         20221220
        ],
        [
         "2022-12-21",
         2022,
         12,
         "DEZEMBRO",
         21,
         "QUARTA-FEIRA",
         4,
         20221221
        ],
        [
         "2022-12-22",
         2022,
         12,
         "DEZEMBRO",
         22,
         "QUINTA-FEIRA",
         5,
         20221222
        ],
        [
         "2022-12-23",
         2022,
         12,
         "DEZEMBRO",
         23,
         "SEXTA-FEIRA",
         6,
         20221223
        ],
        [
         "2022-12-24",
         2022,
         12,
         "DEZEMBRO",
         24,
         "SABADO",
         7,
         20221224
        ],
        [
         "2022-12-25",
         2022,
         12,
         "DEZEMBRO",
         25,
         "DOMINGO",
         1,
         20221225
        ],
        [
         "2022-12-26",
         2022,
         12,
         "DEZEMBRO",
         26,
         "SEGUNDA-FEIRA",
         2,
         20221226
        ],
        [
         "2022-12-27",
         2022,
         12,
         "DEZEMBRO",
         27,
         "TERCA-FEIRA",
         3,
         20221227
        ],
        [
         "2022-12-28",
         2022,
         12,
         "DEZEMBRO",
         28,
         "QUARTA-FEIRA",
         4,
         20221228
        ],
        [
         "2022-12-29",
         2022,
         12,
         "DEZEMBRO",
         29,
         "QUINTA-FEIRA",
         5,
         20221229
        ],
        [
         "2022-12-30",
         2022,
         12,
         "DEZEMBRO",
         30,
         "SEXTA-FEIRA",
         6,
         20221230
        ],
        [
         "2022-12-31",
         2022,
         12,
         "DEZEMBRO",
         31,
         "SABADO",
         7,
         20221231
        ],
        [
         "2023-01-01",
         2023,
         1,
         "JANEIRO",
         1,
         "DOMINGO",
         1,
         20230101
        ],
        [
         "2023-01-02",
         2023,
         1,
         "JANEIRO",
         2,
         "SEGUNDA-FEIRA",
         2,
         20230102
        ],
        [
         "2023-01-03",
         2023,
         1,
         "JANEIRO",
         3,
         "TERCA-FEIRA",
         3,
         20230103
        ],
        [
         "2023-01-04",
         2023,
         1,
         "JANEIRO",
         4,
         "QUARTA-FEIRA",
         4,
         20230104
        ],
        [
         "2023-01-05",
         2023,
         1,
         "JANEIRO",
         5,
         "QUINTA-FEIRA",
         5,
         20230105
        ],
        [
         "2023-01-06",
         2023,
         1,
         "JANEIRO",
         6,
         "SEXTA-FEIRA",
         6,
         20230106
        ],
        [
         "2023-01-07",
         2023,
         1,
         "JANEIRO",
         7,
         "SABADO",
         7,
         20230107
        ],
        [
         "2023-01-08",
         2023,
         1,
         "JANEIRO",
         8,
         "DOMINGO",
         1,
         20230108
        ],
        [
         "2023-01-09",
         2023,
         1,
         "JANEIRO",
         9,
         "SEGUNDA-FEIRA",
         2,
         20230109
        ],
        [
         "2023-01-10",
         2023,
         1,
         "JANEIRO",
         10,
         "TERCA-FEIRA",
         3,
         20230110
        ],
        [
         "2023-01-11",
         2023,
         1,
         "JANEIRO",
         11,
         "QUARTA-FEIRA",
         4,
         20230111
        ],
        [
         "2023-01-12",
         2023,
         1,
         "JANEIRO",
         12,
         "QUINTA-FEIRA",
         5,
         20230112
        ],
        [
         "2023-01-13",
         2023,
         1,
         "JANEIRO",
         13,
         "SEXTA-FEIRA",
         6,
         20230113
        ],
        [
         "2023-01-14",
         2023,
         1,
         "JANEIRO",
         14,
         "SABADO",
         7,
         20230114
        ],
        [
         "2023-01-15",
         2023,
         1,
         "JANEIRO",
         15,
         "DOMINGO",
         1,
         20230115
        ],
        [
         "2023-01-16",
         2023,
         1,
         "JANEIRO",
         16,
         "SEGUNDA-FEIRA",
         2,
         20230116
        ],
        [
         "2023-01-17",
         2023,
         1,
         "JANEIRO",
         17,
         "TERCA-FEIRA",
         3,
         20230117
        ],
        [
         "2023-01-18",
         2023,
         1,
         "JANEIRO",
         18,
         "QUARTA-FEIRA",
         4,
         20230118
        ],
        [
         "2023-01-19",
         2023,
         1,
         "JANEIRO",
         19,
         "QUINTA-FEIRA",
         5,
         20230119
        ],
        [
         "2023-01-20",
         2023,
         1,
         "JANEIRO",
         20,
         "SEXTA-FEIRA",
         6,
         20230120
        ],
        [
         "2023-01-21",
         2023,
         1,
         "JANEIRO",
         21,
         "SABADO",
         7,
         20230121
        ],
        [
         "2023-01-22",
         2023,
         1,
         "JANEIRO",
         22,
         "DOMINGO",
         1,
         20230122
        ],
        [
         "2023-01-23",
         2023,
         1,
         "JANEIRO",
         23,
         "SEGUNDA-FEIRA",
         2,
         20230123
        ],
        [
         "2023-01-24",
         2023,
         1,
         "JANEIRO",
         24,
         "TERCA-FEIRA",
         3,
         20230124
        ],
        [
         "2023-01-25",
         2023,
         1,
         "JANEIRO",
         25,
         "QUARTA-FEIRA",
         4,
         20230125
        ],
        [
         "2023-01-26",
         2023,
         1,
         "JANEIRO",
         26,
         "QUINTA-FEIRA",
         5,
         20230126
        ],
        [
         "2023-01-27",
         2023,
         1,
         "JANEIRO",
         27,
         "SEXTA-FEIRA",
         6,
         20230127
        ],
        [
         "2023-01-28",
         2023,
         1,
         "JANEIRO",
         28,
         "SABADO",
         7,
         20230128
        ],
        [
         "2023-01-29",
         2023,
         1,
         "JANEIRO",
         29,
         "DOMINGO",
         1,
         20230129
        ],
        [
         "2023-01-30",
         2023,
         1,
         "JANEIRO",
         30,
         "SEGUNDA-FEIRA",
         2,
         20230130
        ],
        [
         "2023-01-31",
         2023,
         1,
         "JANEIRO",
         31,
         "TERCA-FEIRA",
         3,
         20230131
        ],
        [
         "2023-02-01",
         2023,
         2,
         "FEVEREIRO",
         1,
         "QUARTA-FEIRA",
         4,
         20230201
        ],
        [
         "2023-02-02",
         2023,
         2,
         "FEVEREIRO",
         2,
         "QUINTA-FEIRA",
         5,
         20230202
        ],
        [
         "2023-02-03",
         2023,
         2,
         "FEVEREIRO",
         3,
         "SEXTA-FEIRA",
         6,
         20230203
        ],
        [
         "2023-02-04",
         2023,
         2,
         "FEVEREIRO",
         4,
         "SABADO",
         7,
         20230204
        ],
        [
         "2023-02-05",
         2023,
         2,
         "FEVEREIRO",
         5,
         "DOMINGO",
         1,
         20230205
        ],
        [
         "2023-02-06",
         2023,
         2,
         "FEVEREIRO",
         6,
         "SEGUNDA-FEIRA",
         2,
         20230206
        ],
        [
         "2023-02-07",
         2023,
         2,
         "FEVEREIRO",
         7,
         "TERCA-FEIRA",
         3,
         20230207
        ],
        [
         "2023-02-08",
         2023,
         2,
         "FEVEREIRO",
         8,
         "QUARTA-FEIRA",
         4,
         20230208
        ],
        [
         "2023-02-09",
         2023,
         2,
         "FEVEREIRO",
         9,
         "QUINTA-FEIRA",
         5,
         20230209
        ],
        [
         "2023-02-10",
         2023,
         2,
         "FEVEREIRO",
         10,
         "SEXTA-FEIRA",
         6,
         20230210
        ],
        [
         "2023-02-11",
         2023,
         2,
         "FEVEREIRO",
         11,
         "SABADO",
         7,
         20230211
        ],
        [
         "2023-02-12",
         2023,
         2,
         "FEVEREIRO",
         12,
         "DOMINGO",
         1,
         20230212
        ],
        [
         "2023-02-13",
         2023,
         2,
         "FEVEREIRO",
         13,
         "SEGUNDA-FEIRA",
         2,
         20230213
        ],
        [
         "2023-02-14",
         2023,
         2,
         "FEVEREIRO",
         14,
         "TERCA-FEIRA",
         3,
         20230214
        ],
        [
         "2023-02-15",
         2023,
         2,
         "FEVEREIRO",
         15,
         "QUARTA-FEIRA",
         4,
         20230215
        ],
        [
         "2023-02-16",
         2023,
         2,
         "FEVEREIRO",
         16,
         "QUINTA-FEIRA",
         5,
         20230216
        ],
        [
         "2023-02-17",
         2023,
         2,
         "FEVEREIRO",
         17,
         "SEXTA-FEIRA",
         6,
         20230217
        ],
        [
         "2023-02-18",
         2023,
         2,
         "FEVEREIRO",
         18,
         "SABADO",
         7,
         20230218
        ],
        [
         "2023-02-19",
         2023,
         2,
         "FEVEREIRO",
         19,
         "DOMINGO",
         1,
         20230219
        ],
        [
         "2023-02-20",
         2023,
         2,
         "FEVEREIRO",
         20,
         "SEGUNDA-FEIRA",
         2,
         20230220
        ],
        [
         "2023-02-21",
         2023,
         2,
         "FEVEREIRO",
         21,
         "TERCA-FEIRA",
         3,
         20230221
        ],
        [
         "2023-02-22",
         2023,
         2,
         "FEVEREIRO",
         22,
         "QUARTA-FEIRA",
         4,
         20230222
        ],
        [
         "2023-02-23",
         2023,
         2,
         "FEVEREIRO",
         23,
         "QUINTA-FEIRA",
         5,
         20230223
        ],
        [
         "2023-02-24",
         2023,
         2,
         "FEVEREIRO",
         24,
         "SEXTA-FEIRA",
         6,
         20230224
        ],
        [
         "2023-02-25",
         2023,
         2,
         "FEVEREIRO",
         25,
         "SABADO",
         7,
         20230225
        ],
        [
         "2023-02-26",
         2023,
         2,
         "FEVEREIRO",
         26,
         "DOMINGO",
         1,
         20230226
        ],
        [
         "2023-02-27",
         2023,
         2,
         "FEVEREIRO",
         27,
         "SEGUNDA-FEIRA",
         2,
         20230227
        ],
        [
         "2023-02-28",
         2023,
         2,
         "FEVEREIRO",
         28,
         "TERCA-FEIRA",
         3,
         20230228
        ],
        [
         "2023-03-01",
         2023,
         3,
         "MARCO",
         1,
         "QUARTA-FEIRA",
         4,
         20230301
        ],
        [
         "2023-03-02",
         2023,
         3,
         "MARCO",
         2,
         "QUINTA-FEIRA",
         5,
         20230302
        ],
        [
         "2023-03-03",
         2023,
         3,
         "MARCO",
         3,
         "SEXTA-FEIRA",
         6,
         20230303
        ],
        [
         "2023-03-04",
         2023,
         3,
         "MARCO",
         4,
         "SABADO",
         7,
         20230304
        ],
        [
         "2023-03-05",
         2023,
         3,
         "MARCO",
         5,
         "DOMINGO",
         1,
         20230305
        ],
        [
         "2023-03-06",
         2023,
         3,
         "MARCO",
         6,
         "SEGUNDA-FEIRA",
         2,
         20230306
        ],
        [
         "2023-03-07",
         2023,
         3,
         "MARCO",
         7,
         "TERCA-FEIRA",
         3,
         20230307
        ],
        [
         "2023-03-08",
         2023,
         3,
         "MARCO",
         8,
         "QUARTA-FEIRA",
         4,
         20230308
        ],
        [
         "2023-03-09",
         2023,
         3,
         "MARCO",
         9,
         "QUINTA-FEIRA",
         5,
         20230309
        ],
        [
         "2023-03-10",
         2023,
         3,
         "MARCO",
         10,
         "SEXTA-FEIRA",
         6,
         20230310
        ],
        [
         "2023-03-11",
         2023,
         3,
         "MARCO",
         11,
         "SABADO",
         7,
         20230311
        ],
        [
         "2023-03-12",
         2023,
         3,
         "MARCO",
         12,
         "DOMINGO",
         1,
         20230312
        ],
        [
         "2023-03-13",
         2023,
         3,
         "MARCO",
         13,
         "SEGUNDA-FEIRA",
         2,
         20230313
        ],
        [
         "2023-03-14",
         2023,
         3,
         "MARCO",
         14,
         "TERCA-FEIRA",
         3,
         20230314
        ],
        [
         "2023-03-15",
         2023,
         3,
         "MARCO",
         15,
         "QUARTA-FEIRA",
         4,
         20230315
        ],
        [
         "2023-03-16",
         2023,
         3,
         "MARCO",
         16,
         "QUINTA-FEIRA",
         5,
         20230316
        ],
        [
         "2023-03-17",
         2023,
         3,
         "MARCO",
         17,
         "SEXTA-FEIRA",
         6,
         20230317
        ],
        [
         "2023-03-18",
         2023,
         3,
         "MARCO",
         18,
         "SABADO",
         7,
         20230318
        ],
        [
         "2023-03-19",
         2023,
         3,
         "MARCO",
         19,
         "DOMINGO",
         1,
         20230319
        ],
        [
         "2023-03-20",
         2023,
         3,
         "MARCO",
         20,
         "SEGUNDA-FEIRA",
         2,
         20230320
        ],
        [
         "2023-03-21",
         2023,
         3,
         "MARCO",
         21,
         "TERCA-FEIRA",
         3,
         20230321
        ],
        [
         "2023-03-22",
         2023,
         3,
         "MARCO",
         22,
         "QUARTA-FEIRA",
         4,
         20230322
        ],
        [
         "2023-03-23",
         2023,
         3,
         "MARCO",
         23,
         "QUINTA-FEIRA",
         5,
         20230323
        ],
        [
         "2023-03-24",
         2023,
         3,
         "MARCO",
         24,
         "SEXTA-FEIRA",
         6,
         20230324
        ],
        [
         "2023-03-25",
         2023,
         3,
         "MARCO",
         25,
         "SABADO",
         7,
         20230325
        ],
        [
         "2023-03-26",
         2023,
         3,
         "MARCO",
         26,
         "DOMINGO",
         1,
         20230326
        ],
        [
         "2023-03-27",
         2023,
         3,
         "MARCO",
         27,
         "SEGUNDA-FEIRA",
         2,
         20230327
        ],
        [
         "2023-03-28",
         2023,
         3,
         "MARCO",
         28,
         "TERCA-FEIRA",
         3,
         20230328
        ],
        [
         "2023-03-29",
         2023,
         3,
         "MARCO",
         29,
         "QUARTA-FEIRA",
         4,
         20230329
        ],
        [
         "2023-03-30",
         2023,
         3,
         "MARCO",
         30,
         "QUINTA-FEIRA",
         5,
         20230330
        ],
        [
         "2023-03-31",
         2023,
         3,
         "MARCO",
         31,
         "SEXTA-FEIRA",
         6,
         20230331
        ],
        [
         "2023-04-01",
         2023,
         4,
         "ABRIL",
         1,
         "SABADO",
         7,
         20230401
        ],
        [
         "2023-04-02",
         2023,
         4,
         "ABRIL",
         2,
         "DOMINGO",
         1,
         20230402
        ],
        [
         "2023-04-03",
         2023,
         4,
         "ABRIL",
         3,
         "SEGUNDA-FEIRA",
         2,
         20230403
        ],
        [
         "2023-04-04",
         2023,
         4,
         "ABRIL",
         4,
         "TERCA-FEIRA",
         3,
         20230404
        ],
        [
         "2023-04-05",
         2023,
         4,
         "ABRIL",
         5,
         "QUARTA-FEIRA",
         4,
         20230405
        ],
        [
         "2023-04-06",
         2023,
         4,
         "ABRIL",
         6,
         "QUINTA-FEIRA",
         5,
         20230406
        ],
        [
         "2023-04-07",
         2023,
         4,
         "ABRIL",
         7,
         "SEXTA-FEIRA",
         6,
         20230407
        ],
        [
         "2023-04-08",
         2023,
         4,
         "ABRIL",
         8,
         "SABADO",
         7,
         20230408
        ],
        [
         "2023-04-09",
         2023,
         4,
         "ABRIL",
         9,
         "DOMINGO",
         1,
         20230409
        ],
        [
         "2023-04-10",
         2023,
         4,
         "ABRIL",
         10,
         "SEGUNDA-FEIRA",
         2,
         20230410
        ],
        [
         "2023-04-11",
         2023,
         4,
         "ABRIL",
         11,
         "TERCA-FEIRA",
         3,
         20230411
        ],
        [
         "2023-04-12",
         2023,
         4,
         "ABRIL",
         12,
         "QUARTA-FEIRA",
         4,
         20230412
        ],
        [
         "2023-04-13",
         2023,
         4,
         "ABRIL",
         13,
         "QUINTA-FEIRA",
         5,
         20230413
        ],
        [
         "2023-04-14",
         2023,
         4,
         "ABRIL",
         14,
         "SEXTA-FEIRA",
         6,
         20230414
        ],
        [
         "2023-04-15",
         2023,
         4,
         "ABRIL",
         15,
         "SABADO",
         7,
         20230415
        ],
        [
         "2023-04-16",
         2023,
         4,
         "ABRIL",
         16,
         "DOMINGO",
         1,
         20230416
        ],
        [
         "2023-04-17",
         2023,
         4,
         "ABRIL",
         17,
         "SEGUNDA-FEIRA",
         2,
         20230417
        ],
        [
         "2023-04-18",
         2023,
         4,
         "ABRIL",
         18,
         "TERCA-FEIRA",
         3,
         20230418
        ],
        [
         "2023-04-19",
         2023,
         4,
         "ABRIL",
         19,
         "QUARTA-FEIRA",
         4,
         20230419
        ],
        [
         "2023-04-20",
         2023,
         4,
         "ABRIL",
         20,
         "QUINTA-FEIRA",
         5,
         20230420
        ],
        [
         "2023-04-21",
         2023,
         4,
         "ABRIL",
         21,
         "SEXTA-FEIRA",
         6,
         20230421
        ],
        [
         "2023-04-22",
         2023,
         4,
         "ABRIL",
         22,
         "SABADO",
         7,
         20230422
        ],
        [
         "2023-04-23",
         2023,
         4,
         "ABRIL",
         23,
         "DOMINGO",
         1,
         20230423
        ],
        [
         "2023-04-24",
         2023,
         4,
         "ABRIL",
         24,
         "SEGUNDA-FEIRA",
         2,
         20230424
        ],
        [
         "2023-04-25",
         2023,
         4,
         "ABRIL",
         25,
         "TERCA-FEIRA",
         3,
         20230425
        ],
        [
         "2023-04-26",
         2023,
         4,
         "ABRIL",
         26,
         "QUARTA-FEIRA",
         4,
         20230426
        ],
        [
         "2023-04-27",
         2023,
         4,
         "ABRIL",
         27,
         "QUINTA-FEIRA",
         5,
         20230427
        ],
        [
         "2023-04-28",
         2023,
         4,
         "ABRIL",
         28,
         "SEXTA-FEIRA",
         6,
         20230428
        ],
        [
         "2023-04-29",
         2023,
         4,
         "ABRIL",
         29,
         "SABADO",
         7,
         20230429
        ],
        [
         "2023-04-30",
         2023,
         4,
         "ABRIL",
         30,
         "DOMINGO",
         1,
         20230430
        ],
        [
         "2023-05-01",
         2023,
         5,
         "MAIO",
         1,
         "SEGUNDA-FEIRA",
         2,
         20230501
        ],
        [
         "2023-05-02",
         2023,
         5,
         "MAIO",
         2,
         "TERCA-FEIRA",
         3,
         20230502
        ],
        [
         "2023-05-03",
         2023,
         5,
         "MAIO",
         3,
         "QUARTA-FEIRA",
         4,
         20230503
        ],
        [
         "2023-05-04",
         2023,
         5,
         "MAIO",
         4,
         "QUINTA-FEIRA",
         5,
         20230504
        ],
        [
         "2023-05-05",
         2023,
         5,
         "MAIO",
         5,
         "SEXTA-FEIRA",
         6,
         20230505
        ],
        [
         "2023-05-06",
         2023,
         5,
         "MAIO",
         6,
         "SABADO",
         7,
         20230506
        ],
        [
         "2023-05-07",
         2023,
         5,
         "MAIO",
         7,
         "DOMINGO",
         1,
         20230507
        ],
        [
         "2023-05-08",
         2023,
         5,
         "MAIO",
         8,
         "SEGUNDA-FEIRA",
         2,
         20230508
        ],
        [
         "2023-05-09",
         2023,
         5,
         "MAIO",
         9,
         "TERCA-FEIRA",
         3,
         20230509
        ],
        [
         "2023-05-10",
         2023,
         5,
         "MAIO",
         10,
         "QUARTA-FEIRA",
         4,
         20230510
        ],
        [
         "2023-05-11",
         2023,
         5,
         "MAIO",
         11,
         "QUINTA-FEIRA",
         5,
         20230511
        ],
        [
         "2023-05-12",
         2023,
         5,
         "MAIO",
         12,
         "SEXTA-FEIRA",
         6,
         20230512
        ],
        [
         "2023-05-13",
         2023,
         5,
         "MAIO",
         13,
         "SABADO",
         7,
         20230513
        ],
        [
         "2023-05-14",
         2023,
         5,
         "MAIO",
         14,
         "DOMINGO",
         1,
         20230514
        ],
        [
         "2023-05-15",
         2023,
         5,
         "MAIO",
         15,
         "SEGUNDA-FEIRA",
         2,
         20230515
        ],
        [
         "2023-05-16",
         2023,
         5,
         "MAIO",
         16,
         "TERCA-FEIRA",
         3,
         20230516
        ],
        [
         "2023-05-17",
         2023,
         5,
         "MAIO",
         17,
         "QUARTA-FEIRA",
         4,
         20230517
        ],
        [
         "2023-05-18",
         2023,
         5,
         "MAIO",
         18,
         "QUINTA-FEIRA",
         5,
         20230518
        ],
        [
         "2023-05-19",
         2023,
         5,
         "MAIO",
         19,
         "SEXTA-FEIRA",
         6,
         20230519
        ],
        [
         "2023-05-20",
         2023,
         5,
         "MAIO",
         20,
         "SABADO",
         7,
         20230520
        ],
        [
         "2023-05-21",
         2023,
         5,
         "MAIO",
         21,
         "DOMINGO",
         1,
         20230521
        ],
        [
         "2023-05-22",
         2023,
         5,
         "MAIO",
         22,
         "SEGUNDA-FEIRA",
         2,
         20230522
        ],
        [
         "2023-05-23",
         2023,
         5,
         "MAIO",
         23,
         "TERCA-FEIRA",
         3,
         20230523
        ],
        [
         "2023-05-24",
         2023,
         5,
         "MAIO",
         24,
         "QUARTA-FEIRA",
         4,
         20230524
        ],
        [
         "2023-05-25",
         2023,
         5,
         "MAIO",
         25,
         "QUINTA-FEIRA",
         5,
         20230525
        ],
        [
         "2023-05-26",
         2023,
         5,
         "MAIO",
         26,
         "SEXTA-FEIRA",
         6,
         20230526
        ],
        [
         "2023-05-27",
         2023,
         5,
         "MAIO",
         27,
         "SABADO",
         7,
         20230527
        ],
        [
         "2023-05-28",
         2023,
         5,
         "MAIO",
         28,
         "DOMINGO",
         1,
         20230528
        ],
        [
         "2023-05-29",
         2023,
         5,
         "MAIO",
         29,
         "SEGUNDA-FEIRA",
         2,
         20230529
        ],
        [
         "2023-05-30",
         2023,
         5,
         "MAIO",
         30,
         "TERCA-FEIRA",
         3,
         20230530
        ],
        [
         "2023-05-31",
         2023,
         5,
         "MAIO",
         31,
         "QUARTA-FEIRA",
         4,
         20230531
        ],
        [
         "2023-06-01",
         2023,
         6,
         "JUNHO",
         1,
         "QUINTA-FEIRA",
         5,
         20230601
        ],
        [
         "2023-06-02",
         2023,
         6,
         "JUNHO",
         2,
         "SEXTA-FEIRA",
         6,
         20230602
        ],
        [
         "2023-06-03",
         2023,
         6,
         "JUNHO",
         3,
         "SABADO",
         7,
         20230603
        ],
        [
         "2023-06-04",
         2023,
         6,
         "JUNHO",
         4,
         "DOMINGO",
         1,
         20230604
        ],
        [
         "2023-06-05",
         2023,
         6,
         "JUNHO",
         5,
         "SEGUNDA-FEIRA",
         2,
         20230605
        ],
        [
         "2023-06-06",
         2023,
         6,
         "JUNHO",
         6,
         "TERCA-FEIRA",
         3,
         20230606
        ],
        [
         "2023-06-07",
         2023,
         6,
         "JUNHO",
         7,
         "QUARTA-FEIRA",
         4,
         20230607
        ],
        [
         "2023-06-08",
         2023,
         6,
         "JUNHO",
         8,
         "QUINTA-FEIRA",
         5,
         20230608
        ],
        [
         "2023-06-09",
         2023,
         6,
         "JUNHO",
         9,
         "SEXTA-FEIRA",
         6,
         20230609
        ],
        [
         "2023-06-10",
         2023,
         6,
         "JUNHO",
         10,
         "SABADO",
         7,
         20230610
        ],
        [
         "2023-06-11",
         2023,
         6,
         "JUNHO",
         11,
         "DOMINGO",
         1,
         20230611
        ],
        [
         "2023-06-12",
         2023,
         6,
         "JUNHO",
         12,
         "SEGUNDA-FEIRA",
         2,
         20230612
        ],
        [
         "2023-06-13",
         2023,
         6,
         "JUNHO",
         13,
         "TERCA-FEIRA",
         3,
         20230613
        ],
        [
         "2023-06-14",
         2023,
         6,
         "JUNHO",
         14,
         "QUARTA-FEIRA",
         4,
         20230614
        ],
        [
         "2023-06-15",
         2023,
         6,
         "JUNHO",
         15,
         "QUINTA-FEIRA",
         5,
         20230615
        ],
        [
         "2023-06-16",
         2023,
         6,
         "JUNHO",
         16,
         "SEXTA-FEIRA",
         6,
         20230616
        ],
        [
         "2023-06-17",
         2023,
         6,
         "JUNHO",
         17,
         "SABADO",
         7,
         20230617
        ],
        [
         "2023-06-18",
         2023,
         6,
         "JUNHO",
         18,
         "DOMINGO",
         1,
         20230618
        ],
        [
         "2023-06-19",
         2023,
         6,
         "JUNHO",
         19,
         "SEGUNDA-FEIRA",
         2,
         20230619
        ],
        [
         "2023-06-20",
         2023,
         6,
         "JUNHO",
         20,
         "TERCA-FEIRA",
         3,
         20230620
        ],
        [
         "2023-06-21",
         2023,
         6,
         "JUNHO",
         21,
         "QUARTA-FEIRA",
         4,
         20230621
        ],
        [
         "2023-06-22",
         2023,
         6,
         "JUNHO",
         22,
         "QUINTA-FEIRA",
         5,
         20230622
        ],
        [
         "2023-06-23",
         2023,
         6,
         "JUNHO",
         23,
         "SEXTA-FEIRA",
         6,
         20230623
        ],
        [
         "2023-06-24",
         2023,
         6,
         "JUNHO",
         24,
         "SABADO",
         7,
         20230624
        ],
        [
         "2023-06-25",
         2023,
         6,
         "JUNHO",
         25,
         "DOMINGO",
         1,
         20230625
        ],
        [
         "2023-06-26",
         2023,
         6,
         "JUNHO",
         26,
         "SEGUNDA-FEIRA",
         2,
         20230626
        ],
        [
         "2023-06-27",
         2023,
         6,
         "JUNHO",
         27,
         "TERCA-FEIRA",
         3,
         20230627
        ],
        [
         "2023-06-28",
         2023,
         6,
         "JUNHO",
         28,
         "QUARTA-FEIRA",
         4,
         20230628
        ],
        [
         "2023-06-29",
         2023,
         6,
         "JUNHO",
         29,
         "QUINTA-FEIRA",
         5,
         20230629
        ],
        [
         "2023-06-30",
         2023,
         6,
         "JUNHO",
         30,
         "SEXTA-FEIRA",
         6,
         20230630
        ],
        [
         "2023-07-01",
         2023,
         7,
         "JULHO",
         1,
         "SABADO",
         7,
         20230701
        ],
        [
         "2023-07-02",
         2023,
         7,
         "JULHO",
         2,
         "DOMINGO",
         1,
         20230702
        ],
        [
         "2023-07-03",
         2023,
         7,
         "JULHO",
         3,
         "SEGUNDA-FEIRA",
         2,
         20230703
        ],
        [
         "2023-07-04",
         2023,
         7,
         "JULHO",
         4,
         "TERCA-FEIRA",
         3,
         20230704
        ],
        [
         "2023-07-05",
         2023,
         7,
         "JULHO",
         5,
         "QUARTA-FEIRA",
         4,
         20230705
        ],
        [
         "2023-07-06",
         2023,
         7,
         "JULHO",
         6,
         "QUINTA-FEIRA",
         5,
         20230706
        ],
        [
         "2023-07-07",
         2023,
         7,
         "JULHO",
         7,
         "SEXTA-FEIRA",
         6,
         20230707
        ],
        [
         "2023-07-08",
         2023,
         7,
         "JULHO",
         8,
         "SABADO",
         7,
         20230708
        ],
        [
         "2023-07-09",
         2023,
         7,
         "JULHO",
         9,
         "DOMINGO",
         1,
         20230709
        ],
        [
         "2023-07-10",
         2023,
         7,
         "JULHO",
         10,
         "SEGUNDA-FEIRA",
         2,
         20230710
        ],
        [
         "2023-07-11",
         2023,
         7,
         "JULHO",
         11,
         "TERCA-FEIRA",
         3,
         20230711
        ],
        [
         "2023-07-12",
         2023,
         7,
         "JULHO",
         12,
         "QUARTA-FEIRA",
         4,
         20230712
        ],
        [
         "2023-07-13",
         2023,
         7,
         "JULHO",
         13,
         "QUINTA-FEIRA",
         5,
         20230713
        ],
        [
         "2023-07-14",
         2023,
         7,
         "JULHO",
         14,
         "SEXTA-FEIRA",
         6,
         20230714
        ],
        [
         "2023-07-15",
         2023,
         7,
         "JULHO",
         15,
         "SABADO",
         7,
         20230715
        ],
        [
         "2023-07-16",
         2023,
         7,
         "JULHO",
         16,
         "DOMINGO",
         1,
         20230716
        ],
        [
         "2023-07-17",
         2023,
         7,
         "JULHO",
         17,
         "SEGUNDA-FEIRA",
         2,
         20230717
        ],
        [
         "2023-07-18",
         2023,
         7,
         "JULHO",
         18,
         "TERCA-FEIRA",
         3,
         20230718
        ],
        [
         "2023-07-19",
         2023,
         7,
         "JULHO",
         19,
         "QUARTA-FEIRA",
         4,
         20230719
        ],
        [
         "2023-07-20",
         2023,
         7,
         "JULHO",
         20,
         "QUINTA-FEIRA",
         5,
         20230720
        ],
        [
         "2023-07-21",
         2023,
         7,
         "JULHO",
         21,
         "SEXTA-FEIRA",
         6,
         20230721
        ],
        [
         "2023-07-22",
         2023,
         7,
         "JULHO",
         22,
         "SABADO",
         7,
         20230722
        ],
        [
         "2023-07-23",
         2023,
         7,
         "JULHO",
         23,
         "DOMINGO",
         1,
         20230723
        ],
        [
         "2023-07-24",
         2023,
         7,
         "JULHO",
         24,
         "SEGUNDA-FEIRA",
         2,
         20230724
        ],
        [
         "2023-07-25",
         2023,
         7,
         "JULHO",
         25,
         "TERCA-FEIRA",
         3,
         20230725
        ],
        [
         "2023-07-26",
         2023,
         7,
         "JULHO",
         26,
         "QUARTA-FEIRA",
         4,
         20230726
        ],
        [
         "2023-07-27",
         2023,
         7,
         "JULHO",
         27,
         "QUINTA-FEIRA",
         5,
         20230727
        ],
        [
         "2023-07-28",
         2023,
         7,
         "JULHO",
         28,
         "SEXTA-FEIRA",
         6,
         20230728
        ],
        [
         "2023-07-29",
         2023,
         7,
         "JULHO",
         29,
         "SABADO",
         7,
         20230729
        ],
        [
         "2023-07-30",
         2023,
         7,
         "JULHO",
         30,
         "DOMINGO",
         1,
         20230730
        ],
        [
         "2023-07-31",
         2023,
         7,
         "JULHO",
         31,
         "SEGUNDA-FEIRA",
         2,
         20230731
        ],
        [
         "2023-08-01",
         2023,
         8,
         "AGOSTO",
         1,
         "TERCA-FEIRA",
         3,
         20230801
        ],
        [
         "2023-08-02",
         2023,
         8,
         "AGOSTO",
         2,
         "QUARTA-FEIRA",
         4,
         20230802
        ],
        [
         "2023-08-03",
         2023,
         8,
         "AGOSTO",
         3,
         "QUINTA-FEIRA",
         5,
         20230803
        ],
        [
         "2023-08-04",
         2023,
         8,
         "AGOSTO",
         4,
         "SEXTA-FEIRA",
         6,
         20230804
        ],
        [
         "2023-08-05",
         2023,
         8,
         "AGOSTO",
         5,
         "SABADO",
         7,
         20230805
        ],
        [
         "2023-08-06",
         2023,
         8,
         "AGOSTO",
         6,
         "DOMINGO",
         1,
         20230806
        ],
        [
         "2023-08-07",
         2023,
         8,
         "AGOSTO",
         7,
         "SEGUNDA-FEIRA",
         2,
         20230807
        ],
        [
         "2023-08-08",
         2023,
         8,
         "AGOSTO",
         8,
         "TERCA-FEIRA",
         3,
         20230808
        ],
        [
         "2023-08-09",
         2023,
         8,
         "AGOSTO",
         9,
         "QUARTA-FEIRA",
         4,
         20230809
        ],
        [
         "2023-08-10",
         2023,
         8,
         "AGOSTO",
         10,
         "QUINTA-FEIRA",
         5,
         20230810
        ],
        [
         "2023-08-11",
         2023,
         8,
         "AGOSTO",
         11,
         "SEXTA-FEIRA",
         6,
         20230811
        ],
        [
         "2023-08-12",
         2023,
         8,
         "AGOSTO",
         12,
         "SABADO",
         7,
         20230812
        ],
        [
         "2023-08-13",
         2023,
         8,
         "AGOSTO",
         13,
         "DOMINGO",
         1,
         20230813
        ],
        [
         "2023-08-14",
         2023,
         8,
         "AGOSTO",
         14,
         "SEGUNDA-FEIRA",
         2,
         20230814
        ],
        [
         "2023-08-15",
         2023,
         8,
         "AGOSTO",
         15,
         "TERCA-FEIRA",
         3,
         20230815
        ],
        [
         "2023-08-16",
         2023,
         8,
         "AGOSTO",
         16,
         "QUARTA-FEIRA",
         4,
         20230816
        ],
        [
         "2023-08-17",
         2023,
         8,
         "AGOSTO",
         17,
         "QUINTA-FEIRA",
         5,
         20230817
        ],
        [
         "2023-08-18",
         2023,
         8,
         "AGOSTO",
         18,
         "SEXTA-FEIRA",
         6,
         20230818
        ],
        [
         "2023-08-19",
         2023,
         8,
         "AGOSTO",
         19,
         "SABADO",
         7,
         20230819
        ],
        [
         "2023-08-20",
         2023,
         8,
         "AGOSTO",
         20,
         "DOMINGO",
         1,
         20230820
        ],
        [
         "2023-08-21",
         2023,
         8,
         "AGOSTO",
         21,
         "SEGUNDA-FEIRA",
         2,
         20230821
        ],
        [
         "2023-08-22",
         2023,
         8,
         "AGOSTO",
         22,
         "TERCA-FEIRA",
         3,
         20230822
        ],
        [
         "2023-08-23",
         2023,
         8,
         "AGOSTO",
         23,
         "QUARTA-FEIRA",
         4,
         20230823
        ],
        [
         "2023-08-24",
         2023,
         8,
         "AGOSTO",
         24,
         "QUINTA-FEIRA",
         5,
         20230824
        ],
        [
         "2023-08-25",
         2023,
         8,
         "AGOSTO",
         25,
         "SEXTA-FEIRA",
         6,
         20230825
        ],
        [
         "2023-08-26",
         2023,
         8,
         "AGOSTO",
         26,
         "SABADO",
         7,
         20230826
        ],
        [
         "2023-08-27",
         2023,
         8,
         "AGOSTO",
         27,
         "DOMINGO",
         1,
         20230827
        ],
        [
         "2023-08-28",
         2023,
         8,
         "AGOSTO",
         28,
         "SEGUNDA-FEIRA",
         2,
         20230828
        ],
        [
         "2023-08-29",
         2023,
         8,
         "AGOSTO",
         29,
         "TERCA-FEIRA",
         3,
         20230829
        ],
        [
         "2023-08-30",
         2023,
         8,
         "AGOSTO",
         30,
         "QUARTA-FEIRA",
         4,
         20230830
        ],
        [
         "2023-08-31",
         2023,
         8,
         "AGOSTO",
         31,
         "QUINTA-FEIRA",
         5,
         20230831
        ],
        [
         "2023-09-01",
         2023,
         9,
         "SETEMBRO",
         1,
         "SEXTA-FEIRA",
         6,
         20230901
        ],
        [
         "2023-09-02",
         2023,
         9,
         "SETEMBRO",
         2,
         "SABADO",
         7,
         20230902
        ],
        [
         "2023-09-03",
         2023,
         9,
         "SETEMBRO",
         3,
         "DOMINGO",
         1,
         20230903
        ],
        [
         "2023-09-04",
         2023,
         9,
         "SETEMBRO",
         4,
         "SEGUNDA-FEIRA",
         2,
         20230904
        ],
        [
         "2023-09-05",
         2023,
         9,
         "SETEMBRO",
         5,
         "TERCA-FEIRA",
         3,
         20230905
        ],
        [
         "2023-09-06",
         2023,
         9,
         "SETEMBRO",
         6,
         "QUARTA-FEIRA",
         4,
         20230906
        ],
        [
         "2023-09-07",
         2023,
         9,
         "SETEMBRO",
         7,
         "QUINTA-FEIRA",
         5,
         20230907
        ],
        [
         "2023-09-08",
         2023,
         9,
         "SETEMBRO",
         8,
         "SEXTA-FEIRA",
         6,
         20230908
        ],
        [
         "2023-09-09",
         2023,
         9,
         "SETEMBRO",
         9,
         "SABADO",
         7,
         20230909
        ],
        [
         "2023-09-10",
         2023,
         9,
         "SETEMBRO",
         10,
         "DOMINGO",
         1,
         20230910
        ],
        [
         "2023-09-11",
         2023,
         9,
         "SETEMBRO",
         11,
         "SEGUNDA-FEIRA",
         2,
         20230911
        ],
        [
         "2023-09-12",
         2023,
         9,
         "SETEMBRO",
         12,
         "TERCA-FEIRA",
         3,
         20230912
        ],
        [
         "2023-09-13",
         2023,
         9,
         "SETEMBRO",
         13,
         "QUARTA-FEIRA",
         4,
         20230913
        ],
        [
         "2023-09-14",
         2023,
         9,
         "SETEMBRO",
         14,
         "QUINTA-FEIRA",
         5,
         20230914
        ],
        [
         "2023-09-15",
         2023,
         9,
         "SETEMBRO",
         15,
         "SEXTA-FEIRA",
         6,
         20230915
        ],
        [
         "2023-09-16",
         2023,
         9,
         "SETEMBRO",
         16,
         "SABADO",
         7,
         20230916
        ],
        [
         "2023-09-17",
         2023,
         9,
         "SETEMBRO",
         17,
         "DOMINGO",
         1,
         20230917
        ],
        [
         "2023-09-18",
         2023,
         9,
         "SETEMBRO",
         18,
         "SEGUNDA-FEIRA",
         2,
         20230918
        ],
        [
         "2023-09-19",
         2023,
         9,
         "SETEMBRO",
         19,
         "TERCA-FEIRA",
         3,
         20230919
        ],
        [
         "2023-09-20",
         2023,
         9,
         "SETEMBRO",
         20,
         "QUARTA-FEIRA",
         4,
         20230920
        ],
        [
         "2023-09-21",
         2023,
         9,
         "SETEMBRO",
         21,
         "QUINTA-FEIRA",
         5,
         20230921
        ],
        [
         "2023-09-22",
         2023,
         9,
         "SETEMBRO",
         22,
         "SEXTA-FEIRA",
         6,
         20230922
        ],
        [
         "2023-09-23",
         2023,
         9,
         "SETEMBRO",
         23,
         "SABADO",
         7,
         20230923
        ],
        [
         "2023-09-24",
         2023,
         9,
         "SETEMBRO",
         24,
         "DOMINGO",
         1,
         20230924
        ],
        [
         "2023-09-25",
         2023,
         9,
         "SETEMBRO",
         25,
         "SEGUNDA-FEIRA",
         2,
         20230925
        ],
        [
         "2023-09-26",
         2023,
         9,
         "SETEMBRO",
         26,
         "TERCA-FEIRA",
         3,
         20230926
        ],
        [
         "2023-09-27",
         2023,
         9,
         "SETEMBRO",
         27,
         "QUARTA-FEIRA",
         4,
         20230927
        ],
        [
         "2023-09-28",
         2023,
         9,
         "SETEMBRO",
         28,
         "QUINTA-FEIRA",
         5,
         20230928
        ],
        [
         "2023-09-29",
         2023,
         9,
         "SETEMBRO",
         29,
         "SEXTA-FEIRA",
         6,
         20230929
        ],
        [
         "2023-09-30",
         2023,
         9,
         "SETEMBRO",
         30,
         "SABADO",
         7,
         20230930
        ],
        [
         "2023-10-01",
         2023,
         10,
         "OUTUBRO",
         1,
         "DOMINGO",
         1,
         20231001
        ],
        [
         "2023-10-02",
         2023,
         10,
         "OUTUBRO",
         2,
         "SEGUNDA-FEIRA",
         2,
         20231002
        ],
        [
         "2023-10-03",
         2023,
         10,
         "OUTUBRO",
         3,
         "TERCA-FEIRA",
         3,
         20231003
        ],
        [
         "2023-10-04",
         2023,
         10,
         "OUTUBRO",
         4,
         "QUARTA-FEIRA",
         4,
         20231004
        ],
        [
         "2023-10-05",
         2023,
         10,
         "OUTUBRO",
         5,
         "QUINTA-FEIRA",
         5,
         20231005
        ],
        [
         "2023-10-06",
         2023,
         10,
         "OUTUBRO",
         6,
         "SEXTA-FEIRA",
         6,
         20231006
        ],
        [
         "2023-10-07",
         2023,
         10,
         "OUTUBRO",
         7,
         "SABADO",
         7,
         20231007
        ],
        [
         "2023-10-08",
         2023,
         10,
         "OUTUBRO",
         8,
         "DOMINGO",
         1,
         20231008
        ],
        [
         "2023-10-09",
         2023,
         10,
         "OUTUBRO",
         9,
         "SEGUNDA-FEIRA",
         2,
         20231009
        ],
        [
         "2023-10-10",
         2023,
         10,
         "OUTUBRO",
         10,
         "TERCA-FEIRA",
         3,
         20231010
        ],
        [
         "2023-10-11",
         2023,
         10,
         "OUTUBRO",
         11,
         "QUARTA-FEIRA",
         4,
         20231011
        ],
        [
         "2023-10-12",
         2023,
         10,
         "OUTUBRO",
         12,
         "QUINTA-FEIRA",
         5,
         20231012
        ],
        [
         "2023-10-13",
         2023,
         10,
         "OUTUBRO",
         13,
         "SEXTA-FEIRA",
         6,
         20231013
        ],
        [
         "2023-10-14",
         2023,
         10,
         "OUTUBRO",
         14,
         "SABADO",
         7,
         20231014
        ],
        [
         "2023-10-15",
         2023,
         10,
         "OUTUBRO",
         15,
         "DOMINGO",
         1,
         20231015
        ],
        [
         "2023-10-16",
         2023,
         10,
         "OUTUBRO",
         16,
         "SEGUNDA-FEIRA",
         2,
         20231016
        ],
        [
         "2023-10-17",
         2023,
         10,
         "OUTUBRO",
         17,
         "TERCA-FEIRA",
         3,
         20231017
        ],
        [
         "2023-10-18",
         2023,
         10,
         "OUTUBRO",
         18,
         "QUARTA-FEIRA",
         4,
         20231018
        ],
        [
         "2023-10-19",
         2023,
         10,
         "OUTUBRO",
         19,
         "QUINTA-FEIRA",
         5,
         20231019
        ],
        [
         "2023-10-20",
         2023,
         10,
         "OUTUBRO",
         20,
         "SEXTA-FEIRA",
         6,
         20231020
        ],
        [
         "2023-10-21",
         2023,
         10,
         "OUTUBRO",
         21,
         "SABADO",
         7,
         20231021
        ],
        [
         "2023-10-22",
         2023,
         10,
         "OUTUBRO",
         22,
         "DOMINGO",
         1,
         20231022
        ],
        [
         "2023-10-23",
         2023,
         10,
         "OUTUBRO",
         23,
         "SEGUNDA-FEIRA",
         2,
         20231023
        ],
        [
         "2023-10-24",
         2023,
         10,
         "OUTUBRO",
         24,
         "TERCA-FEIRA",
         3,
         20231024
        ],
        [
         "2023-10-25",
         2023,
         10,
         "OUTUBRO",
         25,
         "QUARTA-FEIRA",
         4,
         20231025
        ],
        [
         "2023-10-26",
         2023,
         10,
         "OUTUBRO",
         26,
         "QUINTA-FEIRA",
         5,
         20231026
        ],
        [
         "2023-10-27",
         2023,
         10,
         "OUTUBRO",
         27,
         "SEXTA-FEIRA",
         6,
         20231027
        ],
        [
         "2023-10-28",
         2023,
         10,
         "OUTUBRO",
         28,
         "SABADO",
         7,
         20231028
        ],
        [
         "2023-10-29",
         2023,
         10,
         "OUTUBRO",
         29,
         "DOMINGO",
         1,
         20231029
        ],
        [
         "2023-10-30",
         2023,
         10,
         "OUTUBRO",
         30,
         "SEGUNDA-FEIRA",
         2,
         20231030
        ],
        [
         "2023-10-31",
         2023,
         10,
         "OUTUBRO",
         31,
         "TERCA-FEIRA",
         3,
         20231031
        ],
        [
         "2023-11-01",
         2023,
         11,
         "NOVEMBRO",
         1,
         "QUARTA-FEIRA",
         4,
         20231101
        ],
        [
         "2023-11-02",
         2023,
         11,
         "NOVEMBRO",
         2,
         "QUINTA-FEIRA",
         5,
         20231102
        ],
        [
         "2023-11-03",
         2023,
         11,
         "NOVEMBRO",
         3,
         "SEXTA-FEIRA",
         6,
         20231103
        ],
        [
         "2023-11-04",
         2023,
         11,
         "NOVEMBRO",
         4,
         "SABADO",
         7,
         20231104
        ],
        [
         "2023-11-05",
         2023,
         11,
         "NOVEMBRO",
         5,
         "DOMINGO",
         1,
         20231105
        ],
        [
         "2023-11-06",
         2023,
         11,
         "NOVEMBRO",
         6,
         "SEGUNDA-FEIRA",
         2,
         20231106
        ],
        [
         "2023-11-07",
         2023,
         11,
         "NOVEMBRO",
         7,
         "TERCA-FEIRA",
         3,
         20231107
        ],
        [
         "2023-11-08",
         2023,
         11,
         "NOVEMBRO",
         8,
         "QUARTA-FEIRA",
         4,
         20231108
        ],
        [
         "2023-11-09",
         2023,
         11,
         "NOVEMBRO",
         9,
         "QUINTA-FEIRA",
         5,
         20231109
        ],
        [
         "2023-11-10",
         2023,
         11,
         "NOVEMBRO",
         10,
         "SEXTA-FEIRA",
         6,
         20231110
        ],
        [
         "2023-11-11",
         2023,
         11,
         "NOVEMBRO",
         11,
         "SABADO",
         7,
         20231111
        ],
        [
         "2023-11-12",
         2023,
         11,
         "NOVEMBRO",
         12,
         "DOMINGO",
         1,
         20231112
        ],
        [
         "2023-11-13",
         2023,
         11,
         "NOVEMBRO",
         13,
         "SEGUNDA-FEIRA",
         2,
         20231113
        ],
        [
         "2023-11-14",
         2023,
         11,
         "NOVEMBRO",
         14,
         "TERCA-FEIRA",
         3,
         20231114
        ],
        [
         "2023-11-15",
         2023,
         11,
         "NOVEMBRO",
         15,
         "QUARTA-FEIRA",
         4,
         20231115
        ],
        [
         "2023-11-16",
         2023,
         11,
         "NOVEMBRO",
         16,
         "QUINTA-FEIRA",
         5,
         20231116
        ],
        [
         "2023-11-17",
         2023,
         11,
         "NOVEMBRO",
         17,
         "SEXTA-FEIRA",
         6,
         20231117
        ],
        [
         "2023-11-18",
         2023,
         11,
         "NOVEMBRO",
         18,
         "SABADO",
         7,
         20231118
        ],
        [
         "2023-11-19",
         2023,
         11,
         "NOVEMBRO",
         19,
         "DOMINGO",
         1,
         20231119
        ],
        [
         "2023-11-20",
         2023,
         11,
         "NOVEMBRO",
         20,
         "SEGUNDA-FEIRA",
         2,
         20231120
        ],
        [
         "2023-11-21",
         2023,
         11,
         "NOVEMBRO",
         21,
         "TERCA-FEIRA",
         3,
         20231121
        ],
        [
         "2023-11-22",
         2023,
         11,
         "NOVEMBRO",
         22,
         "QUARTA-FEIRA",
         4,
         20231122
        ],
        [
         "2023-11-23",
         2023,
         11,
         "NOVEMBRO",
         23,
         "QUINTA-FEIRA",
         5,
         20231123
        ],
        [
         "2023-11-24",
         2023,
         11,
         "NOVEMBRO",
         24,
         "SEXTA-FEIRA",
         6,
         20231124
        ],
        [
         "2023-11-25",
         2023,
         11,
         "NOVEMBRO",
         25,
         "SABADO",
         7,
         20231125
        ],
        [
         "2023-11-26",
         2023,
         11,
         "NOVEMBRO",
         26,
         "DOMINGO",
         1,
         20231126
        ],
        [
         "2023-11-27",
         2023,
         11,
         "NOVEMBRO",
         27,
         "SEGUNDA-FEIRA",
         2,
         20231127
        ],
        [
         "2023-11-28",
         2023,
         11,
         "NOVEMBRO",
         28,
         "TERCA-FEIRA",
         3,
         20231128
        ],
        [
         "2023-11-29",
         2023,
         11,
         "NOVEMBRO",
         29,
         "QUARTA-FEIRA",
         4,
         20231129
        ],
        [
         "2023-11-30",
         2023,
         11,
         "NOVEMBRO",
         30,
         "QUINTA-FEIRA",
         5,
         20231130
        ],
        [
         "2023-12-01",
         2023,
         12,
         "DEZEMBRO",
         1,
         "SEXTA-FEIRA",
         6,
         20231201
        ],
        [
         "2023-12-02",
         2023,
         12,
         "DEZEMBRO",
         2,
         "SABADO",
         7,
         20231202
        ],
        [
         "2023-12-03",
         2023,
         12,
         "DEZEMBRO",
         3,
         "DOMINGO",
         1,
         20231203
        ],
        [
         "2023-12-04",
         2023,
         12,
         "DEZEMBRO",
         4,
         "SEGUNDA-FEIRA",
         2,
         20231204
        ],
        [
         "2023-12-05",
         2023,
         12,
         "DEZEMBRO",
         5,
         "TERCA-FEIRA",
         3,
         20231205
        ],
        [
         "2023-12-06",
         2023,
         12,
         "DEZEMBRO",
         6,
         "QUARTA-FEIRA",
         4,
         20231206
        ],
        [
         "2023-12-07",
         2023,
         12,
         "DEZEMBRO",
         7,
         "QUINTA-FEIRA",
         5,
         20231207
        ],
        [
         "2023-12-08",
         2023,
         12,
         "DEZEMBRO",
         8,
         "SEXTA-FEIRA",
         6,
         20231208
        ],
        [
         "2023-12-09",
         2023,
         12,
         "DEZEMBRO",
         9,
         "SABADO",
         7,
         20231209
        ],
        [
         "2023-12-10",
         2023,
         12,
         "DEZEMBRO",
         10,
         "DOMINGO",
         1,
         20231210
        ],
        [
         "2023-12-11",
         2023,
         12,
         "DEZEMBRO",
         11,
         "SEGUNDA-FEIRA",
         2,
         20231211
        ],
        [
         "2023-12-12",
         2023,
         12,
         "DEZEMBRO",
         12,
         "TERCA-FEIRA",
         3,
         20231212
        ],
        [
         "2023-12-13",
         2023,
         12,
         "DEZEMBRO",
         13,
         "QUARTA-FEIRA",
         4,
         20231213
        ],
        [
         "2023-12-14",
         2023,
         12,
         "DEZEMBRO",
         14,
         "QUINTA-FEIRA",
         5,
         20231214
        ],
        [
         "2023-12-15",
         2023,
         12,
         "DEZEMBRO",
         15,
         "SEXTA-FEIRA",
         6,
         20231215
        ],
        [
         "2023-12-16",
         2023,
         12,
         "DEZEMBRO",
         16,
         "SABADO",
         7,
         20231216
        ],
        [
         "2023-12-17",
         2023,
         12,
         "DEZEMBRO",
         17,
         "DOMINGO",
         1,
         20231217
        ],
        [
         "2023-12-18",
         2023,
         12,
         "DEZEMBRO",
         18,
         "SEGUNDA-FEIRA",
         2,
         20231218
        ],
        [
         "2023-12-19",
         2023,
         12,
         "DEZEMBRO",
         19,
         "TERCA-FEIRA",
         3,
         20231219
        ],
        [
         "2023-12-20",
         2023,
         12,
         "DEZEMBRO",
         20,
         "QUARTA-FEIRA",
         4,
         20231220
        ],
        [
         "2023-12-21",
         2023,
         12,
         "DEZEMBRO",
         21,
         "QUINTA-FEIRA",
         5,
         20231221
        ],
        [
         "2023-12-22",
         2023,
         12,
         "DEZEMBRO",
         22,
         "SEXTA-FEIRA",
         6,
         20231222
        ],
        [
         "2023-12-23",
         2023,
         12,
         "DEZEMBRO",
         23,
         "SABADO",
         7,
         20231223
        ],
        [
         "2023-12-24",
         2023,
         12,
         "DEZEMBRO",
         24,
         "DOMINGO",
         1,
         20231224
        ],
        [
         "2023-12-25",
         2023,
         12,
         "DEZEMBRO",
         25,
         "SEGUNDA-FEIRA",
         2,
         20231225
        ],
        [
         "2023-12-26",
         2023,
         12,
         "DEZEMBRO",
         26,
         "TERCA-FEIRA",
         3,
         20231226
        ],
        [
         "2023-12-27",
         2023,
         12,
         "DEZEMBRO",
         27,
         "QUARTA-FEIRA",
         4,
         20231227
        ],
        [
         "2023-12-28",
         2023,
         12,
         "DEZEMBRO",
         28,
         "QUINTA-FEIRA",
         5,
         20231228
        ],
        [
         "2023-12-29",
         2023,
         12,
         "DEZEMBRO",
         29,
         "SEXTA-FEIRA",
         6,
         20231229
        ],
        [
         "2023-12-30",
         2023,
         12,
         "DEZEMBRO",
         30,
         "SABADO",
         7,
         20231230
        ],
        [
         "2023-12-31",
         2023,
         12,
         "DEZEMBRO",
         31,
         "DOMINGO",
         1,
         20231231
        ],
        [
         "2024-01-01",
         2024,
         1,
         "JANEIRO",
         1,
         "SEGUNDA-FEIRA",
         2,
         20240101
        ],
        [
         "2024-01-02",
         2024,
         1,
         "JANEIRO",
         2,
         "TERCA-FEIRA",
         3,
         20240102
        ],
        [
         "2024-01-03",
         2024,
         1,
         "JANEIRO",
         3,
         "QUARTA-FEIRA",
         4,
         20240103
        ],
        [
         "2024-01-04",
         2024,
         1,
         "JANEIRO",
         4,
         "QUINTA-FEIRA",
         5,
         20240104
        ],
        [
         "2024-01-05",
         2024,
         1,
         "JANEIRO",
         5,
         "SEXTA-FEIRA",
         6,
         20240105
        ],
        [
         "2024-01-06",
         2024,
         1,
         "JANEIRO",
         6,
         "SABADO",
         7,
         20240106
        ],
        [
         "2024-01-07",
         2024,
         1,
         "JANEIRO",
         7,
         "DOMINGO",
         1,
         20240107
        ],
        [
         "2024-01-08",
         2024,
         1,
         "JANEIRO",
         8,
         "SEGUNDA-FEIRA",
         2,
         20240108
        ],
        [
         "2024-01-09",
         2024,
         1,
         "JANEIRO",
         9,
         "TERCA-FEIRA",
         3,
         20240109
        ],
        [
         "2024-01-10",
         2024,
         1,
         "JANEIRO",
         10,
         "QUARTA-FEIRA",
         4,
         20240110
        ],
        [
         "2024-01-11",
         2024,
         1,
         "JANEIRO",
         11,
         "QUINTA-FEIRA",
         5,
         20240111
        ],
        [
         "2024-01-12",
         2024,
         1,
         "JANEIRO",
         12,
         "SEXTA-FEIRA",
         6,
         20240112
        ],
        [
         "2024-01-13",
         2024,
         1,
         "JANEIRO",
         13,
         "SABADO",
         7,
         20240113
        ],
        [
         "2024-01-14",
         2024,
         1,
         "JANEIRO",
         14,
         "DOMINGO",
         1,
         20240114
        ],
        [
         "2024-01-15",
         2024,
         1,
         "JANEIRO",
         15,
         "SEGUNDA-FEIRA",
         2,
         20240115
        ],
        [
         "2024-01-16",
         2024,
         1,
         "JANEIRO",
         16,
         "TERCA-FEIRA",
         3,
         20240116
        ],
        [
         "2024-01-17",
         2024,
         1,
         "JANEIRO",
         17,
         "QUARTA-FEIRA",
         4,
         20240117
        ],
        [
         "2024-01-18",
         2024,
         1,
         "JANEIRO",
         18,
         "QUINTA-FEIRA",
         5,
         20240118
        ],
        [
         "2024-01-19",
         2024,
         1,
         "JANEIRO",
         19,
         "SEXTA-FEIRA",
         6,
         20240119
        ],
        [
         "2024-01-20",
         2024,
         1,
         "JANEIRO",
         20,
         "SABADO",
         7,
         20240120
        ],
        [
         "2024-01-21",
         2024,
         1,
         "JANEIRO",
         21,
         "DOMINGO",
         1,
         20240121
        ],
        [
         "2024-01-22",
         2024,
         1,
         "JANEIRO",
         22,
         "SEGUNDA-FEIRA",
         2,
         20240122
        ],
        [
         "2024-01-23",
         2024,
         1,
         "JANEIRO",
         23,
         "TERCA-FEIRA",
         3,
         20240123
        ],
        [
         "2024-01-24",
         2024,
         1,
         "JANEIRO",
         24,
         "QUARTA-FEIRA",
         4,
         20240124
        ],
        [
         "2024-01-25",
         2024,
         1,
         "JANEIRO",
         25,
         "QUINTA-FEIRA",
         5,
         20240125
        ],
        [
         "2024-01-26",
         2024,
         1,
         "JANEIRO",
         26,
         "SEXTA-FEIRA",
         6,
         20240126
        ],
        [
         "2024-01-27",
         2024,
         1,
         "JANEIRO",
         27,
         "SABADO",
         7,
         20240127
        ],
        [
         "2024-01-28",
         2024,
         1,
         "JANEIRO",
         28,
         "DOMINGO",
         1,
         20240128
        ],
        [
         "2024-01-29",
         2024,
         1,
         "JANEIRO",
         29,
         "SEGUNDA-FEIRA",
         2,
         20240129
        ],
        [
         "2024-01-30",
         2024,
         1,
         "JANEIRO",
         30,
         "TERCA-FEIRA",
         3,
         20240130
        ],
        [
         "2024-01-31",
         2024,
         1,
         "JANEIRO",
         31,
         "QUARTA-FEIRA",
         4,
         20240131
        ],
        [
         "2024-02-01",
         2024,
         2,
         "FEVEREIRO",
         1,
         "QUINTA-FEIRA",
         5,
         20240201
        ],
        [
         "2024-02-02",
         2024,
         2,
         "FEVEREIRO",
         2,
         "SEXTA-FEIRA",
         6,
         20240202
        ],
        [
         "2024-02-03",
         2024,
         2,
         "FEVEREIRO",
         3,
         "SABADO",
         7,
         20240203
        ],
        [
         "2024-02-04",
         2024,
         2,
         "FEVEREIRO",
         4,
         "DOMINGO",
         1,
         20240204
        ],
        [
         "2024-02-05",
         2024,
         2,
         "FEVEREIRO",
         5,
         "SEGUNDA-FEIRA",
         2,
         20240205
        ],
        [
         "2024-02-06",
         2024,
         2,
         "FEVEREIRO",
         6,
         "TERCA-FEIRA",
         3,
         20240206
        ],
        [
         "2024-02-07",
         2024,
         2,
         "FEVEREIRO",
         7,
         "QUARTA-FEIRA",
         4,
         20240207
        ],
        [
         "2024-02-08",
         2024,
         2,
         "FEVEREIRO",
         8,
         "QUINTA-FEIRA",
         5,
         20240208
        ],
        [
         "2024-02-09",
         2024,
         2,
         "FEVEREIRO",
         9,
         "SEXTA-FEIRA",
         6,
         20240209
        ],
        [
         "2024-02-10",
         2024,
         2,
         "FEVEREIRO",
         10,
         "SABADO",
         7,
         20240210
        ],
        [
         "2024-02-11",
         2024,
         2,
         "FEVEREIRO",
         11,
         "DOMINGO",
         1,
         20240211
        ],
        [
         "2024-02-12",
         2024,
         2,
         "FEVEREIRO",
         12,
         "SEGUNDA-FEIRA",
         2,
         20240212
        ],
        [
         "2024-02-13",
         2024,
         2,
         "FEVEREIRO",
         13,
         "TERCA-FEIRA",
         3,
         20240213
        ],
        [
         "2024-02-14",
         2024,
         2,
         "FEVEREIRO",
         14,
         "QUARTA-FEIRA",
         4,
         20240214
        ],
        [
         "2024-02-15",
         2024,
         2,
         "FEVEREIRO",
         15,
         "QUINTA-FEIRA",
         5,
         20240215
        ],
        [
         "2024-02-16",
         2024,
         2,
         "FEVEREIRO",
         16,
         "SEXTA-FEIRA",
         6,
         20240216
        ],
        [
         "2024-02-17",
         2024,
         2,
         "FEVEREIRO",
         17,
         "SABADO",
         7,
         20240217
        ],
        [
         "2024-02-18",
         2024,
         2,
         "FEVEREIRO",
         18,
         "DOMINGO",
         1,
         20240218
        ],
        [
         "2024-02-19",
         2024,
         2,
         "FEVEREIRO",
         19,
         "SEGUNDA-FEIRA",
         2,
         20240219
        ],
        [
         "2024-02-20",
         2024,
         2,
         "FEVEREIRO",
         20,
         "TERCA-FEIRA",
         3,
         20240220
        ],
        [
         "2024-02-21",
         2024,
         2,
         "FEVEREIRO",
         21,
         "QUARTA-FEIRA",
         4,
         20240221
        ],
        [
         "2024-02-22",
         2024,
         2,
         "FEVEREIRO",
         22,
         "QUINTA-FEIRA",
         5,
         20240222
        ],
        [
         "2024-02-23",
         2024,
         2,
         "FEVEREIRO",
         23,
         "SEXTA-FEIRA",
         6,
         20240223
        ],
        [
         "2024-02-24",
         2024,
         2,
         "FEVEREIRO",
         24,
         "SABADO",
         7,
         20240224
        ],
        [
         "2024-02-25",
         2024,
         2,
         "FEVEREIRO",
         25,
         "DOMINGO",
         1,
         20240225
        ],
        [
         "2024-02-26",
         2024,
         2,
         "FEVEREIRO",
         26,
         "SEGUNDA-FEIRA",
         2,
         20240226
        ],
        [
         "2024-02-27",
         2024,
         2,
         "FEVEREIRO",
         27,
         "TERCA-FEIRA",
         3,
         20240227
        ],
        [
         "2024-02-28",
         2024,
         2,
         "FEVEREIRO",
         28,
         "QUARTA-FEIRA",
         4,
         20240228
        ],
        [
         "2024-02-29",
         2024,
         2,
         "FEVEREIRO",
         29,
         "QUINTA-FEIRA",
         5,
         20240229
        ],
        [
         "2024-03-01",
         2024,
         3,
         "MARCO",
         1,
         "SEXTA-FEIRA",
         6,
         20240301
        ],
        [
         "2024-03-02",
         2024,
         3,
         "MARCO",
         2,
         "SABADO",
         7,
         20240302
        ],
        [
         "2024-03-03",
         2024,
         3,
         "MARCO",
         3,
         "DOMINGO",
         1,
         20240303
        ],
        [
         "2024-03-04",
         2024,
         3,
         "MARCO",
         4,
         "SEGUNDA-FEIRA",
         2,
         20240304
        ],
        [
         "2024-03-05",
         2024,
         3,
         "MARCO",
         5,
         "TERCA-FEIRA",
         3,
         20240305
        ],
        [
         "2024-03-06",
         2024,
         3,
         "MARCO",
         6,
         "QUARTA-FEIRA",
         4,
         20240306
        ],
        [
         "2024-03-07",
         2024,
         3,
         "MARCO",
         7,
         "QUINTA-FEIRA",
         5,
         20240307
        ],
        [
         "2024-03-08",
         2024,
         3,
         "MARCO",
         8,
         "SEXTA-FEIRA",
         6,
         20240308
        ],
        [
         "2024-03-09",
         2024,
         3,
         "MARCO",
         9,
         "SABADO",
         7,
         20240309
        ],
        [
         "2024-03-10",
         2024,
         3,
         "MARCO",
         10,
         "DOMINGO",
         1,
         20240310
        ],
        [
         "2024-03-11",
         2024,
         3,
         "MARCO",
         11,
         "SEGUNDA-FEIRA",
         2,
         20240311
        ],
        [
         "2024-03-12",
         2024,
         3,
         "MARCO",
         12,
         "TERCA-FEIRA",
         3,
         20240312
        ],
        [
         "2024-03-13",
         2024,
         3,
         "MARCO",
         13,
         "QUARTA-FEIRA",
         4,
         20240313
        ],
        [
         "2024-03-14",
         2024,
         3,
         "MARCO",
         14,
         "QUINTA-FEIRA",
         5,
         20240314
        ],
        [
         "2024-03-15",
         2024,
         3,
         "MARCO",
         15,
         "SEXTA-FEIRA",
         6,
         20240315
        ],
        [
         "2024-03-16",
         2024,
         3,
         "MARCO",
         16,
         "SABADO",
         7,
         20240316
        ],
        [
         "2024-03-17",
         2024,
         3,
         "MARCO",
         17,
         "DOMINGO",
         1,
         20240317
        ],
        [
         "2024-03-18",
         2024,
         3,
         "MARCO",
         18,
         "SEGUNDA-FEIRA",
         2,
         20240318
        ],
        [
         "2024-03-19",
         2024,
         3,
         "MARCO",
         19,
         "TERCA-FEIRA",
         3,
         20240319
        ],
        [
         "2024-03-20",
         2024,
         3,
         "MARCO",
         20,
         "QUARTA-FEIRA",
         4,
         20240320
        ],
        [
         "2024-03-21",
         2024,
         3,
         "MARCO",
         21,
         "QUINTA-FEIRA",
         5,
         20240321
        ],
        [
         "2024-03-22",
         2024,
         3,
         "MARCO",
         22,
         "SEXTA-FEIRA",
         6,
         20240322
        ],
        [
         "2024-03-23",
         2024,
         3,
         "MARCO",
         23,
         "SABADO",
         7,
         20240323
        ],
        [
         "2024-03-24",
         2024,
         3,
         "MARCO",
         24,
         "DOMINGO",
         1,
         20240324
        ],
        [
         "2024-03-25",
         2024,
         3,
         "MARCO",
         25,
         "SEGUNDA-FEIRA",
         2,
         20240325
        ],
        [
         "2024-03-26",
         2024,
         3,
         "MARCO",
         26,
         "TERCA-FEIRA",
         3,
         20240326
        ],
        [
         "2024-03-27",
         2024,
         3,
         "MARCO",
         27,
         "QUARTA-FEIRA",
         4,
         20240327
        ],
        [
         "2024-03-28",
         2024,
         3,
         "MARCO",
         28,
         "QUINTA-FEIRA",
         5,
         20240328
        ],
        [
         "2024-03-29",
         2024,
         3,
         "MARCO",
         29,
         "SEXTA-FEIRA",
         6,
         20240329
        ],
        [
         "2024-03-30",
         2024,
         3,
         "MARCO",
         30,
         "SABADO",
         7,
         20240330
        ],
        [
         "2024-03-31",
         2024,
         3,
         "MARCO",
         31,
         "DOMINGO",
         1,
         20240331
        ],
        [
         "2024-04-01",
         2024,
         4,
         "ABRIL",
         1,
         "SEGUNDA-FEIRA",
         2,
         20240401
        ],
        [
         "2024-04-02",
         2024,
         4,
         "ABRIL",
         2,
         "TERCA-FEIRA",
         3,
         20240402
        ],
        [
         "2024-04-03",
         2024,
         4,
         "ABRIL",
         3,
         "QUARTA-FEIRA",
         4,
         20240403
        ],
        [
         "2024-04-04",
         2024,
         4,
         "ABRIL",
         4,
         "QUINTA-FEIRA",
         5,
         20240404
        ],
        [
         "2024-04-05",
         2024,
         4,
         "ABRIL",
         5,
         "SEXTA-FEIRA",
         6,
         20240405
        ],
        [
         "2024-04-06",
         2024,
         4,
         "ABRIL",
         6,
         "SABADO",
         7,
         20240406
        ],
        [
         "2024-04-07",
         2024,
         4,
         "ABRIL",
         7,
         "DOMINGO",
         1,
         20240407
        ],
        [
         "2024-04-08",
         2024,
         4,
         "ABRIL",
         8,
         "SEGUNDA-FEIRA",
         2,
         20240408
        ],
        [
         "2024-04-09",
         2024,
         4,
         "ABRIL",
         9,
         "TERCA-FEIRA",
         3,
         20240409
        ],
        [
         "2024-04-10",
         2024,
         4,
         "ABRIL",
         10,
         "QUARTA-FEIRA",
         4,
         20240410
        ],
        [
         "2024-04-11",
         2024,
         4,
         "ABRIL",
         11,
         "QUINTA-FEIRA",
         5,
         20240411
        ],
        [
         "2024-04-12",
         2024,
         4,
         "ABRIL",
         12,
         "SEXTA-FEIRA",
         6,
         20240412
        ],
        [
         "2024-04-13",
         2024,
         4,
         "ABRIL",
         13,
         "SABADO",
         7,
         20240413
        ],
        [
         "2024-04-14",
         2024,
         4,
         "ABRIL",
         14,
         "DOMINGO",
         1,
         20240414
        ],
        [
         "2024-04-15",
         2024,
         4,
         "ABRIL",
         15,
         "SEGUNDA-FEIRA",
         2,
         20240415
        ],
        [
         "2024-04-16",
         2024,
         4,
         "ABRIL",
         16,
         "TERCA-FEIRA",
         3,
         20240416
        ],
        [
         "2024-04-17",
         2024,
         4,
         "ABRIL",
         17,
         "QUARTA-FEIRA",
         4,
         20240417
        ],
        [
         "2024-04-18",
         2024,
         4,
         "ABRIL",
         18,
         "QUINTA-FEIRA",
         5,
         20240418
        ],
        [
         "2024-04-19",
         2024,
         4,
         "ABRIL",
         19,
         "SEXTA-FEIRA",
         6,
         20240419
        ],
        [
         "2024-04-20",
         2024,
         4,
         "ABRIL",
         20,
         "SABADO",
         7,
         20240420
        ],
        [
         "2024-04-21",
         2024,
         4,
         "ABRIL",
         21,
         "DOMINGO",
         1,
         20240421
        ],
        [
         "2024-04-22",
         2024,
         4,
         "ABRIL",
         22,
         "SEGUNDA-FEIRA",
         2,
         20240422
        ],
        [
         "2024-04-23",
         2024,
         4,
         "ABRIL",
         23,
         "TERCA-FEIRA",
         3,
         20240423
        ],
        [
         "2024-04-24",
         2024,
         4,
         "ABRIL",
         24,
         "QUARTA-FEIRA",
         4,
         20240424
        ],
        [
         "2024-04-25",
         2024,
         4,
         "ABRIL",
         25,
         "QUINTA-FEIRA",
         5,
         20240425
        ],
        [
         "2024-04-26",
         2024,
         4,
         "ABRIL",
         26,
         "SEXTA-FEIRA",
         6,
         20240426
        ],
        [
         "2024-04-27",
         2024,
         4,
         "ABRIL",
         27,
         "SABADO",
         7,
         20240427
        ],
        [
         "2024-04-28",
         2024,
         4,
         "ABRIL",
         28,
         "DOMINGO",
         1,
         20240428
        ],
        [
         "2024-04-29",
         2024,
         4,
         "ABRIL",
         29,
         "SEGUNDA-FEIRA",
         2,
         20240429
        ],
        [
         "2024-04-30",
         2024,
         4,
         "ABRIL",
         30,
         "TERCA-FEIRA",
         3,
         20240430
        ],
        [
         "2024-05-01",
         2024,
         5,
         "MAIO",
         1,
         "QUARTA-FEIRA",
         4,
         20240501
        ],
        [
         "2024-05-02",
         2024,
         5,
         "MAIO",
         2,
         "QUINTA-FEIRA",
         5,
         20240502
        ],
        [
         "2024-05-03",
         2024,
         5,
         "MAIO",
         3,
         "SEXTA-FEIRA",
         6,
         20240503
        ],
        [
         "2024-05-04",
         2024,
         5,
         "MAIO",
         4,
         "SABADO",
         7,
         20240504
        ],
        [
         "2024-05-05",
         2024,
         5,
         "MAIO",
         5,
         "DOMINGO",
         1,
         20240505
        ],
        [
         "2024-05-06",
         2024,
         5,
         "MAIO",
         6,
         "SEGUNDA-FEIRA",
         2,
         20240506
        ],
        [
         "2024-05-07",
         2024,
         5,
         "MAIO",
         7,
         "TERCA-FEIRA",
         3,
         20240507
        ],
        [
         "2024-05-08",
         2024,
         5,
         "MAIO",
         8,
         "QUARTA-FEIRA",
         4,
         20240508
        ],
        [
         "2024-05-09",
         2024,
         5,
         "MAIO",
         9,
         "QUINTA-FEIRA",
         5,
         20240509
        ],
        [
         "2024-05-10",
         2024,
         5,
         "MAIO",
         10,
         "SEXTA-FEIRA",
         6,
         20240510
        ],
        [
         "2024-05-11",
         2024,
         5,
         "MAIO",
         11,
         "SABADO",
         7,
         20240511
        ],
        [
         "2024-05-12",
         2024,
         5,
         "MAIO",
         12,
         "DOMINGO",
         1,
         20240512
        ],
        [
         "2024-05-13",
         2024,
         5,
         "MAIO",
         13,
         "SEGUNDA-FEIRA",
         2,
         20240513
        ],
        [
         "2024-05-14",
         2024,
         5,
         "MAIO",
         14,
         "TERCA-FEIRA",
         3,
         20240514
        ],
        [
         "2024-05-15",
         2024,
         5,
         "MAIO",
         15,
         "QUARTA-FEIRA",
         4,
         20240515
        ],
        [
         "2024-05-16",
         2024,
         5,
         "MAIO",
         16,
         "QUINTA-FEIRA",
         5,
         20240516
        ],
        [
         "2024-05-17",
         2024,
         5,
         "MAIO",
         17,
         "SEXTA-FEIRA",
         6,
         20240517
        ],
        [
         "2024-05-18",
         2024,
         5,
         "MAIO",
         18,
         "SABADO",
         7,
         20240518
        ],
        [
         "2024-05-19",
         2024,
         5,
         "MAIO",
         19,
         "DOMINGO",
         1,
         20240519
        ],
        [
         "2024-05-20",
         2024,
         5,
         "MAIO",
         20,
         "SEGUNDA-FEIRA",
         2,
         20240520
        ],
        [
         "2024-05-21",
         2024,
         5,
         "MAIO",
         21,
         "TERCA-FEIRA",
         3,
         20240521
        ],
        [
         "2024-05-22",
         2024,
         5,
         "MAIO",
         22,
         "QUARTA-FEIRA",
         4,
         20240522
        ],
        [
         "2024-05-23",
         2024,
         5,
         "MAIO",
         23,
         "QUINTA-FEIRA",
         5,
         20240523
        ],
        [
         "2024-05-24",
         2024,
         5,
         "MAIO",
         24,
         "SEXTA-FEIRA",
         6,
         20240524
        ],
        [
         "2024-05-25",
         2024,
         5,
         "MAIO",
         25,
         "SABADO",
         7,
         20240525
        ],
        [
         "2024-05-26",
         2024,
         5,
         "MAIO",
         26,
         "DOMINGO",
         1,
         20240526
        ],
        [
         "2024-05-27",
         2024,
         5,
         "MAIO",
         27,
         "SEGUNDA-FEIRA",
         2,
         20240527
        ],
        [
         "2024-05-28",
         2024,
         5,
         "MAIO",
         28,
         "TERCA-FEIRA",
         3,
         20240528
        ],
        [
         "2024-05-29",
         2024,
         5,
         "MAIO",
         29,
         "QUARTA-FEIRA",
         4,
         20240529
        ],
        [
         "2024-05-30",
         2024,
         5,
         "MAIO",
         30,
         "QUINTA-FEIRA",
         5,
         20240530
        ],
        [
         "2024-05-31",
         2024,
         5,
         "MAIO",
         31,
         "SEXTA-FEIRA",
         6,
         20240531
        ],
        [
         "2024-06-01",
         2024,
         6,
         "JUNHO",
         1,
         "SABADO",
         7,
         20240601
        ],
        [
         "2024-06-02",
         2024,
         6,
         "JUNHO",
         2,
         "DOMINGO",
         1,
         20240602
        ],
        [
         "2024-06-03",
         2024,
         6,
         "JUNHO",
         3,
         "SEGUNDA-FEIRA",
         2,
         20240603
        ],
        [
         "2024-06-04",
         2024,
         6,
         "JUNHO",
         4,
         "TERCA-FEIRA",
         3,
         20240604
        ],
        [
         "2024-06-05",
         2024,
         6,
         "JUNHO",
         5,
         "QUARTA-FEIRA",
         4,
         20240605
        ],
        [
         "2024-06-06",
         2024,
         6,
         "JUNHO",
         6,
         "QUINTA-FEIRA",
         5,
         20240606
        ],
        [
         "2024-06-07",
         2024,
         6,
         "JUNHO",
         7,
         "SEXTA-FEIRA",
         6,
         20240607
        ],
        [
         "2024-06-08",
         2024,
         6,
         "JUNHO",
         8,
         "SABADO",
         7,
         20240608
        ],
        [
         "2024-06-09",
         2024,
         6,
         "JUNHO",
         9,
         "DOMINGO",
         1,
         20240609
        ],
        [
         "2024-06-10",
         2024,
         6,
         "JUNHO",
         10,
         "SEGUNDA-FEIRA",
         2,
         20240610
        ],
        [
         "2024-06-11",
         2024,
         6,
         "JUNHO",
         11,
         "TERCA-FEIRA",
         3,
         20240611
        ],
        [
         "2024-06-12",
         2024,
         6,
         "JUNHO",
         12,
         "QUARTA-FEIRA",
         4,
         20240612
        ],
        [
         "2024-06-13",
         2024,
         6,
         "JUNHO",
         13,
         "QUINTA-FEIRA",
         5,
         20240613
        ],
        [
         "2024-06-14",
         2024,
         6,
         "JUNHO",
         14,
         "SEXTA-FEIRA",
         6,
         20240614
        ],
        [
         "2024-06-15",
         2024,
         6,
         "JUNHO",
         15,
         "SABADO",
         7,
         20240615
        ],
        [
         "2024-06-16",
         2024,
         6,
         "JUNHO",
         16,
         "DOMINGO",
         1,
         20240616
        ],
        [
         "2024-06-17",
         2024,
         6,
         "JUNHO",
         17,
         "SEGUNDA-FEIRA",
         2,
         20240617
        ],
        [
         "2024-06-18",
         2024,
         6,
         "JUNHO",
         18,
         "TERCA-FEIRA",
         3,
         20240618
        ],
        [
         "2024-06-19",
         2024,
         6,
         "JUNHO",
         19,
         "QUARTA-FEIRA",
         4,
         20240619
        ],
        [
         "2024-06-20",
         2024,
         6,
         "JUNHO",
         20,
         "QUINTA-FEIRA",
         5,
         20240620
        ],
        [
         "2024-06-21",
         2024,
         6,
         "JUNHO",
         21,
         "SEXTA-FEIRA",
         6,
         20240621
        ],
        [
         "2024-06-22",
         2024,
         6,
         "JUNHO",
         22,
         "SABADO",
         7,
         20240622
        ],
        [
         "2024-06-23",
         2024,
         6,
         "JUNHO",
         23,
         "DOMINGO",
         1,
         20240623
        ],
        [
         "2024-06-24",
         2024,
         6,
         "JUNHO",
         24,
         "SEGUNDA-FEIRA",
         2,
         20240624
        ],
        [
         "2024-06-25",
         2024,
         6,
         "JUNHO",
         25,
         "TERCA-FEIRA",
         3,
         20240625
        ],
        [
         "2024-06-26",
         2024,
         6,
         "JUNHO",
         26,
         "QUARTA-FEIRA",
         4,
         20240626
        ],
        [
         "2024-06-27",
         2024,
         6,
         "JUNHO",
         27,
         "QUINTA-FEIRA",
         5,
         20240627
        ],
        [
         "2024-06-28",
         2024,
         6,
         "JUNHO",
         28,
         "SEXTA-FEIRA",
         6,
         20240628
        ],
        [
         "2024-06-29",
         2024,
         6,
         "JUNHO",
         29,
         "SABADO",
         7,
         20240629
        ],
        [
         "2024-06-30",
         2024,
         6,
         "JUNHO",
         30,
         "DOMINGO",
         1,
         20240630
        ],
        [
         "2024-07-01",
         2024,
         7,
         "JULHO",
         1,
         "SEGUNDA-FEIRA",
         2,
         20240701
        ],
        [
         "2024-07-02",
         2024,
         7,
         "JULHO",
         2,
         "TERCA-FEIRA",
         3,
         20240702
        ],
        [
         "2024-07-03",
         2024,
         7,
         "JULHO",
         3,
         "QUARTA-FEIRA",
         4,
         20240703
        ],
        [
         "2024-07-04",
         2024,
         7,
         "JULHO",
         4,
         "QUINTA-FEIRA",
         5,
         20240704
        ],
        [
         "2024-07-05",
         2024,
         7,
         "JULHO",
         5,
         "SEXTA-FEIRA",
         6,
         20240705
        ],
        [
         "2024-07-06",
         2024,
         7,
         "JULHO",
         6,
         "SABADO",
         7,
         20240706
        ],
        [
         "2024-07-07",
         2024,
         7,
         "JULHO",
         7,
         "DOMINGO",
         1,
         20240707
        ],
        [
         "2024-07-08",
         2024,
         7,
         "JULHO",
         8,
         "SEGUNDA-FEIRA",
         2,
         20240708
        ],
        [
         "2024-07-09",
         2024,
         7,
         "JULHO",
         9,
         "TERCA-FEIRA",
         3,
         20240709
        ],
        [
         "2024-07-10",
         2024,
         7,
         "JULHO",
         10,
         "QUARTA-FEIRA",
         4,
         20240710
        ],
        [
         "2024-07-11",
         2024,
         7,
         "JULHO",
         11,
         "QUINTA-FEIRA",
         5,
         20240711
        ],
        [
         "2024-07-12",
         2024,
         7,
         "JULHO",
         12,
         "SEXTA-FEIRA",
         6,
         20240712
        ],
        [
         "2024-07-13",
         2024,
         7,
         "JULHO",
         13,
         "SABADO",
         7,
         20240713
        ],
        [
         "2024-07-14",
         2024,
         7,
         "JULHO",
         14,
         "DOMINGO",
         1,
         20240714
        ],
        [
         "2024-07-15",
         2024,
         7,
         "JULHO",
         15,
         "SEGUNDA-FEIRA",
         2,
         20240715
        ],
        [
         "2024-07-16",
         2024,
         7,
         "JULHO",
         16,
         "TERCA-FEIRA",
         3,
         20240716
        ],
        [
         "2024-07-17",
         2024,
         7,
         "JULHO",
         17,
         "QUARTA-FEIRA",
         4,
         20240717
        ],
        [
         "2024-07-18",
         2024,
         7,
         "JULHO",
         18,
         "QUINTA-FEIRA",
         5,
         20240718
        ],
        [
         "2024-07-19",
         2024,
         7,
         "JULHO",
         19,
         "SEXTA-FEIRA",
         6,
         20240719
        ],
        [
         "2024-07-20",
         2024,
         7,
         "JULHO",
         20,
         "SABADO",
         7,
         20240720
        ],
        [
         "2024-07-21",
         2024,
         7,
         "JULHO",
         21,
         "DOMINGO",
         1,
         20240721
        ],
        [
         "2024-07-22",
         2024,
         7,
         "JULHO",
         22,
         "SEGUNDA-FEIRA",
         2,
         20240722
        ],
        [
         "2024-07-23",
         2024,
         7,
         "JULHO",
         23,
         "TERCA-FEIRA",
         3,
         20240723
        ],
        [
         "2024-07-24",
         2024,
         7,
         "JULHO",
         24,
         "QUARTA-FEIRA",
         4,
         20240724
        ],
        [
         "2024-07-25",
         2024,
         7,
         "JULHO",
         25,
         "QUINTA-FEIRA",
         5,
         20240725
        ],
        [
         "2024-07-26",
         2024,
         7,
         "JULHO",
         26,
         "SEXTA-FEIRA",
         6,
         20240726
        ],
        [
         "2024-07-27",
         2024,
         7,
         "JULHO",
         27,
         "SABADO",
         7,
         20240727
        ],
        [
         "2024-07-28",
         2024,
         7,
         "JULHO",
         28,
         "DOMINGO",
         1,
         20240728
        ],
        [
         "2024-07-29",
         2024,
         7,
         "JULHO",
         29,
         "SEGUNDA-FEIRA",
         2,
         20240729
        ],
        [
         "2024-07-30",
         2024,
         7,
         "JULHO",
         30,
         "TERCA-FEIRA",
         3,
         20240730
        ],
        [
         "2024-07-31",
         2024,
         7,
         "JULHO",
         31,
         "QUARTA-FEIRA",
         4,
         20240731
        ],
        [
         "2024-08-01",
         2024,
         8,
         "AGOSTO",
         1,
         "QUINTA-FEIRA",
         5,
         20240801
        ],
        [
         "2024-08-02",
         2024,
         8,
         "AGOSTO",
         2,
         "SEXTA-FEIRA",
         6,
         20240802
        ],
        [
         "2024-08-03",
         2024,
         8,
         "AGOSTO",
         3,
         "SABADO",
         7,
         20240803
        ],
        [
         "2024-08-04",
         2024,
         8,
         "AGOSTO",
         4,
         "DOMINGO",
         1,
         20240804
        ],
        [
         "2024-08-05",
         2024,
         8,
         "AGOSTO",
         5,
         "SEGUNDA-FEIRA",
         2,
         20240805
        ],
        [
         "2024-08-06",
         2024,
         8,
         "AGOSTO",
         6,
         "TERCA-FEIRA",
         3,
         20240806
        ],
        [
         "2024-08-07",
         2024,
         8,
         "AGOSTO",
         7,
         "QUARTA-FEIRA",
         4,
         20240807
        ],
        [
         "2024-08-08",
         2024,
         8,
         "AGOSTO",
         8,
         "QUINTA-FEIRA",
         5,
         20240808
        ],
        [
         "2024-08-09",
         2024,
         8,
         "AGOSTO",
         9,
         "SEXTA-FEIRA",
         6,
         20240809
        ],
        [
         "2024-08-10",
         2024,
         8,
         "AGOSTO",
         10,
         "SABADO",
         7,
         20240810
        ],
        [
         "2024-08-11",
         2024,
         8,
         "AGOSTO",
         11,
         "DOMINGO",
         1,
         20240811
        ],
        [
         "2024-08-12",
         2024,
         8,
         "AGOSTO",
         12,
         "SEGUNDA-FEIRA",
         2,
         20240812
        ],
        [
         "2024-08-13",
         2024,
         8,
         "AGOSTO",
         13,
         "TERCA-FEIRA",
         3,
         20240813
        ],
        [
         "2024-08-14",
         2024,
         8,
         "AGOSTO",
         14,
         "QUARTA-FEIRA",
         4,
         20240814
        ],
        [
         "2024-08-15",
         2024,
         8,
         "AGOSTO",
         15,
         "QUINTA-FEIRA",
         5,
         20240815
        ],
        [
         "2024-08-16",
         2024,
         8,
         "AGOSTO",
         16,
         "SEXTA-FEIRA",
         6,
         20240816
        ],
        [
         "2024-08-17",
         2024,
         8,
         "AGOSTO",
         17,
         "SABADO",
         7,
         20240817
        ],
        [
         "2024-08-18",
         2024,
         8,
         "AGOSTO",
         18,
         "DOMINGO",
         1,
         20240818
        ],
        [
         "2024-08-19",
         2024,
         8,
         "AGOSTO",
         19,
         "SEGUNDA-FEIRA",
         2,
         20240819
        ],
        [
         "2024-08-20",
         2024,
         8,
         "AGOSTO",
         20,
         "TERCA-FEIRA",
         3,
         20240820
        ],
        [
         "2024-08-21",
         2024,
         8,
         "AGOSTO",
         21,
         "QUARTA-FEIRA",
         4,
         20240821
        ],
        [
         "2024-08-22",
         2024,
         8,
         "AGOSTO",
         22,
         "QUINTA-FEIRA",
         5,
         20240822
        ],
        [
         "2024-08-23",
         2024,
         8,
         "AGOSTO",
         23,
         "SEXTA-FEIRA",
         6,
         20240823
        ],
        [
         "2024-08-24",
         2024,
         8,
         "AGOSTO",
         24,
         "SABADO",
         7,
         20240824
        ],
        [
         "2024-08-25",
         2024,
         8,
         "AGOSTO",
         25,
         "DOMINGO",
         1,
         20240825
        ],
        [
         "2024-08-26",
         2024,
         8,
         "AGOSTO",
         26,
         "SEGUNDA-FEIRA",
         2,
         20240826
        ],
        [
         "2024-08-27",
         2024,
         8,
         "AGOSTO",
         27,
         "TERCA-FEIRA",
         3,
         20240827
        ],
        [
         "2024-08-28",
         2024,
         8,
         "AGOSTO",
         28,
         "QUARTA-FEIRA",
         4,
         20240828
        ],
        [
         "2024-08-29",
         2024,
         8,
         "AGOSTO",
         29,
         "QUINTA-FEIRA",
         5,
         20240829
        ],
        [
         "2024-08-30",
         2024,
         8,
         "AGOSTO",
         30,
         "SEXTA-FEIRA",
         6,
         20240830
        ],
        [
         "2024-08-31",
         2024,
         8,
         "AGOSTO",
         31,
         "SABADO",
         7,
         20240831
        ],
        [
         "2024-09-01",
         2024,
         9,
         "SETEMBRO",
         1,
         "DOMINGO",
         1,
         20240901
        ],
        [
         "2024-09-02",
         2024,
         9,
         "SETEMBRO",
         2,
         "SEGUNDA-FEIRA",
         2,
         20240902
        ],
        [
         "2024-09-03",
         2024,
         9,
         "SETEMBRO",
         3,
         "TERCA-FEIRA",
         3,
         20240903
        ],
        [
         "2024-09-04",
         2024,
         9,
         "SETEMBRO",
         4,
         "QUARTA-FEIRA",
         4,
         20240904
        ],
        [
         "2024-09-05",
         2024,
         9,
         "SETEMBRO",
         5,
         "QUINTA-FEIRA",
         5,
         20240905
        ],
        [
         "2024-09-06",
         2024,
         9,
         "SETEMBRO",
         6,
         "SEXTA-FEIRA",
         6,
         20240906
        ],
        [
         "2024-09-07",
         2024,
         9,
         "SETEMBRO",
         7,
         "SABADO",
         7,
         20240907
        ],
        [
         "2024-09-08",
         2024,
         9,
         "SETEMBRO",
         8,
         "DOMINGO",
         1,
         20240908
        ],
        [
         "2024-09-09",
         2024,
         9,
         "SETEMBRO",
         9,
         "SEGUNDA-FEIRA",
         2,
         20240909
        ],
        [
         "2024-09-10",
         2024,
         9,
         "SETEMBRO",
         10,
         "TERCA-FEIRA",
         3,
         20240910
        ],
        [
         "2024-09-11",
         2024,
         9,
         "SETEMBRO",
         11,
         "QUARTA-FEIRA",
         4,
         20240911
        ],
        [
         "2024-09-12",
         2024,
         9,
         "SETEMBRO",
         12,
         "QUINTA-FEIRA",
         5,
         20240912
        ],
        [
         "2024-09-13",
         2024,
         9,
         "SETEMBRO",
         13,
         "SEXTA-FEIRA",
         6,
         20240913
        ],
        [
         "2024-09-14",
         2024,
         9,
         "SETEMBRO",
         14,
         "SABADO",
         7,
         20240914
        ],
        [
         "2024-09-15",
         2024,
         9,
         "SETEMBRO",
         15,
         "DOMINGO",
         1,
         20240915
        ],
        [
         "2024-09-16",
         2024,
         9,
         "SETEMBRO",
         16,
         "SEGUNDA-FEIRA",
         2,
         20240916
        ],
        [
         "2024-09-17",
         2024,
         9,
         "SETEMBRO",
         17,
         "TERCA-FEIRA",
         3,
         20240917
        ],
        [
         "2024-09-18",
         2024,
         9,
         "SETEMBRO",
         18,
         "QUARTA-FEIRA",
         4,
         20240918
        ],
        [
         "2024-09-19",
         2024,
         9,
         "SETEMBRO",
         19,
         "QUINTA-FEIRA",
         5,
         20240919
        ],
        [
         "2024-09-20",
         2024,
         9,
         "SETEMBRO",
         20,
         "SEXTA-FEIRA",
         6,
         20240920
        ],
        [
         "2024-09-21",
         2024,
         9,
         "SETEMBRO",
         21,
         "SABADO",
         7,
         20240921
        ],
        [
         "2024-09-22",
         2024,
         9,
         "SETEMBRO",
         22,
         "DOMINGO",
         1,
         20240922
        ],
        [
         "2024-09-23",
         2024,
         9,
         "SETEMBRO",
         23,
         "SEGUNDA-FEIRA",
         2,
         20240923
        ],
        [
         "2024-09-24",
         2024,
         9,
         "SETEMBRO",
         24,
         "TERCA-FEIRA",
         3,
         20240924
        ],
        [
         "2024-09-25",
         2024,
         9,
         "SETEMBRO",
         25,
         "QUARTA-FEIRA",
         4,
         20240925
        ],
        [
         "2024-09-26",
         2024,
         9,
         "SETEMBRO",
         26,
         "QUINTA-FEIRA",
         5,
         20240926
        ],
        [
         "2024-09-27",
         2024,
         9,
         "SETEMBRO",
         27,
         "SEXTA-FEIRA",
         6,
         20240927
        ],
        [
         "2024-09-28",
         2024,
         9,
         "SETEMBRO",
         28,
         "SABADO",
         7,
         20240928
        ],
        [
         "2024-09-29",
         2024,
         9,
         "SETEMBRO",
         29,
         "DOMINGO",
         1,
         20240929
        ],
        [
         "2024-09-30",
         2024,
         9,
         "SETEMBRO",
         30,
         "SEGUNDA-FEIRA",
         2,
         20240930
        ],
        [
         "2024-10-01",
         2024,
         10,
         "OUTUBRO",
         1,
         "TERCA-FEIRA",
         3,
         20241001
        ],
        [
         "2024-10-02",
         2024,
         10,
         "OUTUBRO",
         2,
         "QUARTA-FEIRA",
         4,
         20241002
        ],
        [
         "2024-10-03",
         2024,
         10,
         "OUTUBRO",
         3,
         "QUINTA-FEIRA",
         5,
         20241003
        ],
        [
         "2024-10-04",
         2024,
         10,
         "OUTUBRO",
         4,
         "SEXTA-FEIRA",
         6,
         20241004
        ],
        [
         "2024-10-05",
         2024,
         10,
         "OUTUBRO",
         5,
         "SABADO",
         7,
         20241005
        ],
        [
         "2024-10-06",
         2024,
         10,
         "OUTUBRO",
         6,
         "DOMINGO",
         1,
         20241006
        ],
        [
         "2024-10-07",
         2024,
         10,
         "OUTUBRO",
         7,
         "SEGUNDA-FEIRA",
         2,
         20241007
        ],
        [
         "2024-10-08",
         2024,
         10,
         "OUTUBRO",
         8,
         "TERCA-FEIRA",
         3,
         20241008
        ],
        [
         "2024-10-09",
         2024,
         10,
         "OUTUBRO",
         9,
         "QUARTA-FEIRA",
         4,
         20241009
        ],
        [
         "2024-10-10",
         2024,
         10,
         "OUTUBRO",
         10,
         "QUINTA-FEIRA",
         5,
         20241010
        ],
        [
         "2024-10-11",
         2024,
         10,
         "OUTUBRO",
         11,
         "SEXTA-FEIRA",
         6,
         20241011
        ],
        [
         "2024-10-12",
         2024,
         10,
         "OUTUBRO",
         12,
         "SABADO",
         7,
         20241012
        ],
        [
         "2024-10-13",
         2024,
         10,
         "OUTUBRO",
         13,
         "DOMINGO",
         1,
         20241013
        ],
        [
         "2024-10-14",
         2024,
         10,
         "OUTUBRO",
         14,
         "SEGUNDA-FEIRA",
         2,
         20241014
        ],
        [
         "2024-10-15",
         2024,
         10,
         "OUTUBRO",
         15,
         "TERCA-FEIRA",
         3,
         20241015
        ],
        [
         "2024-10-16",
         2024,
         10,
         "OUTUBRO",
         16,
         "QUARTA-FEIRA",
         4,
         20241016
        ],
        [
         "2024-10-17",
         2024,
         10,
         "OUTUBRO",
         17,
         "QUINTA-FEIRA",
         5,
         20241017
        ],
        [
         "2024-10-18",
         2024,
         10,
         "OUTUBRO",
         18,
         "SEXTA-FEIRA",
         6,
         20241018
        ],
        [
         "2024-10-19",
         2024,
         10,
         "OUTUBRO",
         19,
         "SABADO",
         7,
         20241019
        ],
        [
         "2024-10-20",
         2024,
         10,
         "OUTUBRO",
         20,
         "DOMINGO",
         1,
         20241020
        ],
        [
         "2024-10-21",
         2024,
         10,
         "OUTUBRO",
         21,
         "SEGUNDA-FEIRA",
         2,
         20241021
        ],
        [
         "2024-10-22",
         2024,
         10,
         "OUTUBRO",
         22,
         "TERCA-FEIRA",
         3,
         20241022
        ],
        [
         "2024-10-23",
         2024,
         10,
         "OUTUBRO",
         23,
         "QUARTA-FEIRA",
         4,
         20241023
        ],
        [
         "2024-10-24",
         2024,
         10,
         "OUTUBRO",
         24,
         "QUINTA-FEIRA",
         5,
         20241024
        ],
        [
         "2024-10-25",
         2024,
         10,
         "OUTUBRO",
         25,
         "SEXTA-FEIRA",
         6,
         20241025
        ],
        [
         "2024-10-26",
         2024,
         10,
         "OUTUBRO",
         26,
         "SABADO",
         7,
         20241026
        ],
        [
         "2024-10-27",
         2024,
         10,
         "OUTUBRO",
         27,
         "DOMINGO",
         1,
         20241027
        ],
        [
         "2024-10-28",
         2024,
         10,
         "OUTUBRO",
         28,
         "SEGUNDA-FEIRA",
         2,
         20241028
        ],
        [
         "2024-10-29",
         2024,
         10,
         "OUTUBRO",
         29,
         "TERCA-FEIRA",
         3,
         20241029
        ],
        [
         "2024-10-30",
         2024,
         10,
         "OUTUBRO",
         30,
         "QUARTA-FEIRA",
         4,
         20241030
        ],
        [
         "2024-10-31",
         2024,
         10,
         "OUTUBRO",
         31,
         "QUINTA-FEIRA",
         5,
         20241031
        ],
        [
         "2024-11-01",
         2024,
         11,
         "NOVEMBRO",
         1,
         "SEXTA-FEIRA",
         6,
         20241101
        ],
        [
         "2024-11-02",
         2024,
         11,
         "NOVEMBRO",
         2,
         "SABADO",
         7,
         20241102
        ],
        [
         "2024-11-03",
         2024,
         11,
         "NOVEMBRO",
         3,
         "DOMINGO",
         1,
         20241103
        ],
        [
         "2024-11-04",
         2024,
         11,
         "NOVEMBRO",
         4,
         "SEGUNDA-FEIRA",
         2,
         20241104
        ],
        [
         "2024-11-05",
         2024,
         11,
         "NOVEMBRO",
         5,
         "TERCA-FEIRA",
         3,
         20241105
        ],
        [
         "2024-11-06",
         2024,
         11,
         "NOVEMBRO",
         6,
         "QUARTA-FEIRA",
         4,
         20241106
        ],
        [
         "2024-11-07",
         2024,
         11,
         "NOVEMBRO",
         7,
         "QUINTA-FEIRA",
         5,
         20241107
        ],
        [
         "2024-11-08",
         2024,
         11,
         "NOVEMBRO",
         8,
         "SEXTA-FEIRA",
         6,
         20241108
        ],
        [
         "2024-11-09",
         2024,
         11,
         "NOVEMBRO",
         9,
         "SABADO",
         7,
         20241109
        ],
        [
         "2024-11-10",
         2024,
         11,
         "NOVEMBRO",
         10,
         "DOMINGO",
         1,
         20241110
        ],
        [
         "2024-11-11",
         2024,
         11,
         "NOVEMBRO",
         11,
         "SEGUNDA-FEIRA",
         2,
         20241111
        ],
        [
         "2024-11-12",
         2024,
         11,
         "NOVEMBRO",
         12,
         "TERCA-FEIRA",
         3,
         20241112
        ],
        [
         "2024-11-13",
         2024,
         11,
         "NOVEMBRO",
         13,
         "QUARTA-FEIRA",
         4,
         20241113
        ],
        [
         "2024-11-14",
         2024,
         11,
         "NOVEMBRO",
         14,
         "QUINTA-FEIRA",
         5,
         20241114
        ],
        [
         "2024-11-15",
         2024,
         11,
         "NOVEMBRO",
         15,
         "SEXTA-FEIRA",
         6,
         20241115
        ],
        [
         "2024-11-16",
         2024,
         11,
         "NOVEMBRO",
         16,
         "SABADO",
         7,
         20241116
        ],
        [
         "2024-11-17",
         2024,
         11,
         "NOVEMBRO",
         17,
         "DOMINGO",
         1,
         20241117
        ],
        [
         "2024-11-18",
         2024,
         11,
         "NOVEMBRO",
         18,
         "SEGUNDA-FEIRA",
         2,
         20241118
        ],
        [
         "2024-11-19",
         2024,
         11,
         "NOVEMBRO",
         19,
         "TERCA-FEIRA",
         3,
         20241119
        ],
        [
         "2024-11-20",
         2024,
         11,
         "NOVEMBRO",
         20,
         "QUARTA-FEIRA",
         4,
         20241120
        ],
        [
         "2024-11-21",
         2024,
         11,
         "NOVEMBRO",
         21,
         "QUINTA-FEIRA",
         5,
         20241121
        ],
        [
         "2024-11-22",
         2024,
         11,
         "NOVEMBRO",
         22,
         "SEXTA-FEIRA",
         6,
         20241122
        ],
        [
         "2024-11-23",
         2024,
         11,
         "NOVEMBRO",
         23,
         "SABADO",
         7,
         20241123
        ],
        [
         "2024-11-24",
         2024,
         11,
         "NOVEMBRO",
         24,
         "DOMINGO",
         1,
         20241124
        ],
        [
         "2024-11-25",
         2024,
         11,
         "NOVEMBRO",
         25,
         "SEGUNDA-FEIRA",
         2,
         20241125
        ],
        [
         "2024-11-26",
         2024,
         11,
         "NOVEMBRO",
         26,
         "TERCA-FEIRA",
         3,
         20241126
        ],
        [
         "2024-11-27",
         2024,
         11,
         "NOVEMBRO",
         27,
         "QUARTA-FEIRA",
         4,
         20241127
        ],
        [
         "2024-11-28",
         2024,
         11,
         "NOVEMBRO",
         28,
         "QUINTA-FEIRA",
         5,
         20241128
        ],
        [
         "2024-11-29",
         2024,
         11,
         "NOVEMBRO",
         29,
         "SEXTA-FEIRA",
         6,
         20241129
        ],
        [
         "2024-11-30",
         2024,
         11,
         "NOVEMBRO",
         30,
         "SABADO",
         7,
         20241130
        ],
        [
         "2024-12-01",
         2024,
         12,
         "DEZEMBRO",
         1,
         "DOMINGO",
         1,
         20241201
        ],
        [
         "2024-12-02",
         2024,
         12,
         "DEZEMBRO",
         2,
         "SEGUNDA-FEIRA",
         2,
         20241202
        ],
        [
         "2024-12-03",
         2024,
         12,
         "DEZEMBRO",
         3,
         "TERCA-FEIRA",
         3,
         20241203
        ],
        [
         "2024-12-04",
         2024,
         12,
         "DEZEMBRO",
         4,
         "QUARTA-FEIRA",
         4,
         20241204
        ],
        [
         "2024-12-05",
         2024,
         12,
         "DEZEMBRO",
         5,
         "QUINTA-FEIRA",
         5,
         20241205
        ],
        [
         "2024-12-06",
         2024,
         12,
         "DEZEMBRO",
         6,
         "SEXTA-FEIRA",
         6,
         20241206
        ],
        [
         "2024-12-07",
         2024,
         12,
         "DEZEMBRO",
         7,
         "SABADO",
         7,
         20241207
        ],
        [
         "2024-12-08",
         2024,
         12,
         "DEZEMBRO",
         8,
         "DOMINGO",
         1,
         20241208
        ],
        [
         "2024-12-09",
         2024,
         12,
         "DEZEMBRO",
         9,
         "SEGUNDA-FEIRA",
         2,
         20241209
        ],
        [
         "2024-12-10",
         2024,
         12,
         "DEZEMBRO",
         10,
         "TERCA-FEIRA",
         3,
         20241210
        ],
        [
         "2024-12-11",
         2024,
         12,
         "DEZEMBRO",
         11,
         "QUARTA-FEIRA",
         4,
         20241211
        ],
        [
         "2024-12-12",
         2024,
         12,
         "DEZEMBRO",
         12,
         "QUINTA-FEIRA",
         5,
         20241212
        ],
        [
         "2024-12-13",
         2024,
         12,
         "DEZEMBRO",
         13,
         "SEXTA-FEIRA",
         6,
         20241213
        ],
        [
         "2024-12-14",
         2024,
         12,
         "DEZEMBRO",
         14,
         "SABADO",
         7,
         20241214
        ],
        [
         "2024-12-15",
         2024,
         12,
         "DEZEMBRO",
         15,
         "DOMINGO",
         1,
         20241215
        ],
        [
         "2024-12-16",
         2024,
         12,
         "DEZEMBRO",
         16,
         "SEGUNDA-FEIRA",
         2,
         20241216
        ],
        [
         "2024-12-17",
         2024,
         12,
         "DEZEMBRO",
         17,
         "TERCA-FEIRA",
         3,
         20241217
        ],
        [
         "2024-12-18",
         2024,
         12,
         "DEZEMBRO",
         18,
         "QUARTA-FEIRA",
         4,
         20241218
        ],
        [
         "2024-12-19",
         2024,
         12,
         "DEZEMBRO",
         19,
         "QUINTA-FEIRA",
         5,
         20241219
        ],
        [
         "2024-12-20",
         2024,
         12,
         "DEZEMBRO",
         20,
         "SEXTA-FEIRA",
         6,
         20241220
        ],
        [
         "2024-12-21",
         2024,
         12,
         "DEZEMBRO",
         21,
         "SABADO",
         7,
         20241221
        ],
        [
         "2024-12-22",
         2024,
         12,
         "DEZEMBRO",
         22,
         "DOMINGO",
         1,
         20241222
        ],
        [
         "2024-12-23",
         2024,
         12,
         "DEZEMBRO",
         23,
         "SEGUNDA-FEIRA",
         2,
         20241223
        ],
        [
         "2024-12-24",
         2024,
         12,
         "DEZEMBRO",
         24,
         "TERCA-FEIRA",
         3,
         20241224
        ],
        [
         "2024-12-25",
         2024,
         12,
         "DEZEMBRO",
         25,
         "QUARTA-FEIRA",
         4,
         20241225
        ],
        [
         "2024-12-26",
         2024,
         12,
         "DEZEMBRO",
         26,
         "QUINTA-FEIRA",
         5,
         20241226
        ],
        [
         "2024-12-27",
         2024,
         12,
         "DEZEMBRO",
         27,
         "SEXTA-FEIRA",
         6,
         20241227
        ],
        [
         "2024-12-28",
         2024,
         12,
         "DEZEMBRO",
         28,
         "SABADO",
         7,
         20241228
        ],
        [
         "2024-12-29",
         2024,
         12,
         "DEZEMBRO",
         29,
         "DOMINGO",
         1,
         20241229
        ],
        [
         "2024-12-30",
         2024,
         12,
         "DEZEMBRO",
         30,
         "SEGUNDA-FEIRA",
         2,
         20241230
        ],
        [
         "2024-12-31",
         2024,
         12,
         "DEZEMBRO",
         31,
         "TERCA-FEIRA",
         3,
         20241231
        ],
        [
         "2025-01-01",
         2025,
         1,
         "JANEIRO",
         1,
         "QUARTA-FEIRA",
         4,
         20250101
        ],
        [
         "2025-01-02",
         2025,
         1,
         "JANEIRO",
         2,
         "QUINTA-FEIRA",
         5,
         20250102
        ],
        [
         "2025-01-03",
         2025,
         1,
         "JANEIRO",
         3,
         "SEXTA-FEIRA",
         6,
         20250103
        ],
        [
         "2025-01-04",
         2025,
         1,
         "JANEIRO",
         4,
         "SABADO",
         7,
         20250104
        ],
        [
         "2025-01-05",
         2025,
         1,
         "JANEIRO",
         5,
         "DOMINGO",
         1,
         20250105
        ],
        [
         "2025-01-06",
         2025,
         1,
         "JANEIRO",
         6,
         "SEGUNDA-FEIRA",
         2,
         20250106
        ],
        [
         "2025-01-07",
         2025,
         1,
         "JANEIRO",
         7,
         "TERCA-FEIRA",
         3,
         20250107
        ],
        [
         "2025-01-08",
         2025,
         1,
         "JANEIRO",
         8,
         "QUARTA-FEIRA",
         4,
         20250108
        ],
        [
         "2025-01-09",
         2025,
         1,
         "JANEIRO",
         9,
         "QUINTA-FEIRA",
         5,
         20250109
        ],
        [
         "2025-01-10",
         2025,
         1,
         "JANEIRO",
         10,
         "SEXTA-FEIRA",
         6,
         20250110
        ],
        [
         "2025-01-11",
         2025,
         1,
         "JANEIRO",
         11,
         "SABADO",
         7,
         20250111
        ],
        [
         "2025-01-12",
         2025,
         1,
         "JANEIRO",
         12,
         "DOMINGO",
         1,
         20250112
        ],
        [
         "2025-01-13",
         2025,
         1,
         "JANEIRO",
         13,
         "SEGUNDA-FEIRA",
         2,
         20250113
        ],
        [
         "2025-01-14",
         2025,
         1,
         "JANEIRO",
         14,
         "TERCA-FEIRA",
         3,
         20250114
        ],
        [
         "2025-01-15",
         2025,
         1,
         "JANEIRO",
         15,
         "QUARTA-FEIRA",
         4,
         20250115
        ],
        [
         "2025-01-16",
         2025,
         1,
         "JANEIRO",
         16,
         "QUINTA-FEIRA",
         5,
         20250116
        ],
        [
         "2025-01-17",
         2025,
         1,
         "JANEIRO",
         17,
         "SEXTA-FEIRA",
         6,
         20250117
        ],
        [
         "2025-01-18",
         2025,
         1,
         "JANEIRO",
         18,
         "SABADO",
         7,
         20250118
        ],
        [
         "2025-01-19",
         2025,
         1,
         "JANEIRO",
         19,
         "DOMINGO",
         1,
         20250119
        ],
        [
         "2025-01-20",
         2025,
         1,
         "JANEIRO",
         20,
         "SEGUNDA-FEIRA",
         2,
         20250120
        ],
        [
         "2025-01-21",
         2025,
         1,
         "JANEIRO",
         21,
         "TERCA-FEIRA",
         3,
         20250121
        ],
        [
         "2025-01-22",
         2025,
         1,
         "JANEIRO",
         22,
         "QUARTA-FEIRA",
         4,
         20250122
        ],
        [
         "2025-01-23",
         2025,
         1,
         "JANEIRO",
         23,
         "QUINTA-FEIRA",
         5,
         20250123
        ],
        [
         "2025-01-24",
         2025,
         1,
         "JANEIRO",
         24,
         "SEXTA-FEIRA",
         6,
         20250124
        ],
        [
         "2025-01-25",
         2025,
         1,
         "JANEIRO",
         25,
         "SABADO",
         7,
         20250125
        ],
        [
         "2025-01-26",
         2025,
         1,
         "JANEIRO",
         26,
         "DOMINGO",
         1,
         20250126
        ],
        [
         "2025-01-27",
         2025,
         1,
         "JANEIRO",
         27,
         "SEGUNDA-FEIRA",
         2,
         20250127
        ],
        [
         "2025-01-28",
         2025,
         1,
         "JANEIRO",
         28,
         "TERCA-FEIRA",
         3,
         20250128
        ],
        [
         "2025-01-29",
         2025,
         1,
         "JANEIRO",
         29,
         "QUARTA-FEIRA",
         4,
         20250129
        ],
        [
         "2025-01-30",
         2025,
         1,
         "JANEIRO",
         30,
         "QUINTA-FEIRA",
         5,
         20250130
        ],
        [
         "2025-01-31",
         2025,
         1,
         "JANEIRO",
         31,
         "SEXTA-FEIRA",
         6,
         20250131
        ],
        [
         "2025-02-01",
         2025,
         2,
         "FEVEREIRO",
         1,
         "SABADO",
         7,
         20250201
        ],
        [
         "2025-02-02",
         2025,
         2,
         "FEVEREIRO",
         2,
         "DOMINGO",
         1,
         20250202
        ],
        [
         "2025-02-03",
         2025,
         2,
         "FEVEREIRO",
         3,
         "SEGUNDA-FEIRA",
         2,
         20250203
        ],
        [
         "2025-02-04",
         2025,
         2,
         "FEVEREIRO",
         4,
         "TERCA-FEIRA",
         3,
         20250204
        ],
        [
         "2025-02-05",
         2025,
         2,
         "FEVEREIRO",
         5,
         "QUARTA-FEIRA",
         4,
         20250205
        ],
        [
         "2025-02-06",
         2025,
         2,
         "FEVEREIRO",
         6,
         "QUINTA-FEIRA",
         5,
         20250206
        ],
        [
         "2025-02-07",
         2025,
         2,
         "FEVEREIRO",
         7,
         "SEXTA-FEIRA",
         6,
         20250207
        ],
        [
         "2025-02-08",
         2025,
         2,
         "FEVEREIRO",
         8,
         "SABADO",
         7,
         20250208
        ],
        [
         "2025-02-09",
         2025,
         2,
         "FEVEREIRO",
         9,
         "DOMINGO",
         1,
         20250209
        ],
        [
         "2025-02-10",
         2025,
         2,
         "FEVEREIRO",
         10,
         "SEGUNDA-FEIRA",
         2,
         20250210
        ],
        [
         "2025-02-11",
         2025,
         2,
         "FEVEREIRO",
         11,
         "TERCA-FEIRA",
         3,
         20250211
        ],
        [
         "2025-02-12",
         2025,
         2,
         "FEVEREIRO",
         12,
         "QUARTA-FEIRA",
         4,
         20250212
        ],
        [
         "2025-02-13",
         2025,
         2,
         "FEVEREIRO",
         13,
         "QUINTA-FEIRA",
         5,
         20250213
        ],
        [
         "2025-02-14",
         2025,
         2,
         "FEVEREIRO",
         14,
         "SEXTA-FEIRA",
         6,
         20250214
        ],
        [
         "2025-02-15",
         2025,
         2,
         "FEVEREIRO",
         15,
         "SABADO",
         7,
         20250215
        ],
        [
         "2025-02-16",
         2025,
         2,
         "FEVEREIRO",
         16,
         "DOMINGO",
         1,
         20250216
        ],
        [
         "2025-02-17",
         2025,
         2,
         "FEVEREIRO",
         17,
         "SEGUNDA-FEIRA",
         2,
         20250217
        ],
        [
         "2025-02-18",
         2025,
         2,
         "FEVEREIRO",
         18,
         "TERCA-FEIRA",
         3,
         20250218
        ],
        [
         "2025-02-19",
         2025,
         2,
         "FEVEREIRO",
         19,
         "QUARTA-FEIRA",
         4,
         20250219
        ],
        [
         "2025-02-20",
         2025,
         2,
         "FEVEREIRO",
         20,
         "QUINTA-FEIRA",
         5,
         20250220
        ],
        [
         "2025-02-21",
         2025,
         2,
         "FEVEREIRO",
         21,
         "SEXTA-FEIRA",
         6,
         20250221
        ],
        [
         "2025-02-22",
         2025,
         2,
         "FEVEREIRO",
         22,
         "SABADO",
         7,
         20250222
        ],
        [
         "2025-02-23",
         2025,
         2,
         "FEVEREIRO",
         23,
         "DOMINGO",
         1,
         20250223
        ],
        [
         "2025-02-24",
         2025,
         2,
         "FEVEREIRO",
         24,
         "SEGUNDA-FEIRA",
         2,
         20250224
        ],
        [
         "2025-02-25",
         2025,
         2,
         "FEVEREIRO",
         25,
         "TERCA-FEIRA",
         3,
         20250225
        ],
        [
         "2025-02-26",
         2025,
         2,
         "FEVEREIRO",
         26,
         "QUARTA-FEIRA",
         4,
         20250226
        ],
        [
         "2025-02-27",
         2025,
         2,
         "FEVEREIRO",
         27,
         "QUINTA-FEIRA",
         5,
         20250227
        ],
        [
         "2025-02-28",
         2025,
         2,
         "FEVEREIRO",
         28,
         "SEXTA-FEIRA",
         6,
         20250228
        ],
        [
         "2025-03-01",
         2025,
         3,
         "MARCO",
         1,
         "SABADO",
         7,
         20250301
        ],
        [
         "2025-03-02",
         2025,
         3,
         "MARCO",
         2,
         "DOMINGO",
         1,
         20250302
        ],
        [
         "2025-03-03",
         2025,
         3,
         "MARCO",
         3,
         "SEGUNDA-FEIRA",
         2,
         20250303
        ],
        [
         "2025-03-04",
         2025,
         3,
         "MARCO",
         4,
         "TERCA-FEIRA",
         3,
         20250304
        ],
        [
         "2025-03-05",
         2025,
         3,
         "MARCO",
         5,
         "QUARTA-FEIRA",
         4,
         20250305
        ],
        [
         "2025-03-06",
         2025,
         3,
         "MARCO",
         6,
         "QUINTA-FEIRA",
         5,
         20250306
        ],
        [
         "2025-03-07",
         2025,
         3,
         "MARCO",
         7,
         "SEXTA-FEIRA",
         6,
         20250307
        ],
        [
         "2025-03-08",
         2025,
         3,
         "MARCO",
         8,
         "SABADO",
         7,
         20250308
        ],
        [
         "2025-03-09",
         2025,
         3,
         "MARCO",
         9,
         "DOMINGO",
         1,
         20250309
        ],
        [
         "2025-03-10",
         2025,
         3,
         "MARCO",
         10,
         "SEGUNDA-FEIRA",
         2,
         20250310
        ],
        [
         "2025-03-11",
         2025,
         3,
         "MARCO",
         11,
         "TERCA-FEIRA",
         3,
         20250311
        ],
        [
         "2025-03-12",
         2025,
         3,
         "MARCO",
         12,
         "QUARTA-FEIRA",
         4,
         20250312
        ],
        [
         "2025-03-13",
         2025,
         3,
         "MARCO",
         13,
         "QUINTA-FEIRA",
         5,
         20250313
        ],
        [
         "2025-03-14",
         2025,
         3,
         "MARCO",
         14,
         "SEXTA-FEIRA",
         6,
         20250314
        ],
        [
         "2025-03-15",
         2025,
         3,
         "MARCO",
         15,
         "SABADO",
         7,
         20250315
        ],
        [
         "2025-03-16",
         2025,
         3,
         "MARCO",
         16,
         "DOMINGO",
         1,
         20250316
        ],
        [
         "2025-03-17",
         2025,
         3,
         "MARCO",
         17,
         "SEGUNDA-FEIRA",
         2,
         20250317
        ],
        [
         "2025-03-18",
         2025,
         3,
         "MARCO",
         18,
         "TERCA-FEIRA",
         3,
         20250318
        ],
        [
         "2025-03-19",
         2025,
         3,
         "MARCO",
         19,
         "QUARTA-FEIRA",
         4,
         20250319
        ],
        [
         "2025-03-20",
         2025,
         3,
         "MARCO",
         20,
         "QUINTA-FEIRA",
         5,
         20250320
        ],
        [
         "2025-03-21",
         2025,
         3,
         "MARCO",
         21,
         "SEXTA-FEIRA",
         6,
         20250321
        ],
        [
         "2025-03-22",
         2025,
         3,
         "MARCO",
         22,
         "SABADO",
         7,
         20250322
        ],
        [
         "2025-03-23",
         2025,
         3,
         "MARCO",
         23,
         "DOMINGO",
         1,
         20250323
        ],
        [
         "2025-03-24",
         2025,
         3,
         "MARCO",
         24,
         "SEGUNDA-FEIRA",
         2,
         20250324
        ],
        [
         "2025-03-25",
         2025,
         3,
         "MARCO",
         25,
         "TERCA-FEIRA",
         3,
         20250325
        ],
        [
         "2025-03-26",
         2025,
         3,
         "MARCO",
         26,
         "QUARTA-FEIRA",
         4,
         20250326
        ],
        [
         "2025-03-27",
         2025,
         3,
         "MARCO",
         27,
         "QUINTA-FEIRA",
         5,
         20250327
        ],
        [
         "2025-03-28",
         2025,
         3,
         "MARCO",
         28,
         "SEXTA-FEIRA",
         6,
         20250328
        ],
        [
         "2025-03-29",
         2025,
         3,
         "MARCO",
         29,
         "SABADO",
         7,
         20250329
        ],
        [
         "2025-03-30",
         2025,
         3,
         "MARCO",
         30,
         "DOMINGO",
         1,
         20250330
        ],
        [
         "2025-03-31",
         2025,
         3,
         "MARCO",
         31,
         "SEGUNDA-FEIRA",
         2,
         20250331
        ],
        [
         "2025-04-01",
         2025,
         4,
         "ABRIL",
         1,
         "TERCA-FEIRA",
         3,
         20250401
        ],
        [
         "2025-04-02",
         2025,
         4,
         "ABRIL",
         2,
         "QUARTA-FEIRA",
         4,
         20250402
        ],
        [
         "2025-04-03",
         2025,
         4,
         "ABRIL",
         3,
         "QUINTA-FEIRA",
         5,
         20250403
        ],
        [
         "2025-04-04",
         2025,
         4,
         "ABRIL",
         4,
         "SEXTA-FEIRA",
         6,
         20250404
        ],
        [
         "2025-04-05",
         2025,
         4,
         "ABRIL",
         5,
         "SABADO",
         7,
         20250405
        ],
        [
         "2025-04-06",
         2025,
         4,
         "ABRIL",
         6,
         "DOMINGO",
         1,
         20250406
        ],
        [
         "2025-04-07",
         2025,
         4,
         "ABRIL",
         7,
         "SEGUNDA-FEIRA",
         2,
         20250407
        ],
        [
         "2025-04-08",
         2025,
         4,
         "ABRIL",
         8,
         "TERCA-FEIRA",
         3,
         20250408
        ],
        [
         "2025-04-09",
         2025,
         4,
         "ABRIL",
         9,
         "QUARTA-FEIRA",
         4,
         20250409
        ],
        [
         "2025-04-10",
         2025,
         4,
         "ABRIL",
         10,
         "QUINTA-FEIRA",
         5,
         20250410
        ],
        [
         "2025-04-11",
         2025,
         4,
         "ABRIL",
         11,
         "SEXTA-FEIRA",
         6,
         20250411
        ],
        [
         "2025-04-12",
         2025,
         4,
         "ABRIL",
         12,
         "SABADO",
         7,
         20250412
        ],
        [
         "2025-04-13",
         2025,
         4,
         "ABRIL",
         13,
         "DOMINGO",
         1,
         20250413
        ],
        [
         "2025-04-14",
         2025,
         4,
         "ABRIL",
         14,
         "SEGUNDA-FEIRA",
         2,
         20250414
        ],
        [
         "2025-04-15",
         2025,
         4,
         "ABRIL",
         15,
         "TERCA-FEIRA",
         3,
         20250415
        ],
        [
         "2025-04-16",
         2025,
         4,
         "ABRIL",
         16,
         "QUARTA-FEIRA",
         4,
         20250416
        ],
        [
         "2025-04-17",
         2025,
         4,
         "ABRIL",
         17,
         "QUINTA-FEIRA",
         5,
         20250417
        ],
        [
         "2025-04-18",
         2025,
         4,
         "ABRIL",
         18,
         "SEXTA-FEIRA",
         6,
         20250418
        ],
        [
         "2025-04-19",
         2025,
         4,
         "ABRIL",
         19,
         "SABADO",
         7,
         20250419
        ],
        [
         "2025-04-20",
         2025,
         4,
         "ABRIL",
         20,
         "DOMINGO",
         1,
         20250420
        ],
        [
         "2025-04-21",
         2025,
         4,
         "ABRIL",
         21,
         "SEGUNDA-FEIRA",
         2,
         20250421
        ],
        [
         "2025-04-22",
         2025,
         4,
         "ABRIL",
         22,
         "TERCA-FEIRA",
         3,
         20250422
        ],
        [
         "2025-04-23",
         2025,
         4,
         "ABRIL",
         23,
         "QUARTA-FEIRA",
         4,
         20250423
        ],
        [
         "2025-04-24",
         2025,
         4,
         "ABRIL",
         24,
         "QUINTA-FEIRA",
         5,
         20250424
        ],
        [
         "2025-04-25",
         2025,
         4,
         "ABRIL",
         25,
         "SEXTA-FEIRA",
         6,
         20250425
        ],
        [
         "2025-04-26",
         2025,
         4,
         "ABRIL",
         26,
         "SABADO",
         7,
         20250426
        ],
        [
         "2025-04-27",
         2025,
         4,
         "ABRIL",
         27,
         "DOMINGO",
         1,
         20250427
        ],
        [
         "2025-04-28",
         2025,
         4,
         "ABRIL",
         28,
         "SEGUNDA-FEIRA",
         2,
         20250428
        ],
        [
         "2025-04-29",
         2025,
         4,
         "ABRIL",
         29,
         "TERCA-FEIRA",
         3,
         20250429
        ],
        [
         "2025-04-30",
         2025,
         4,
         "ABRIL",
         30,
         "QUARTA-FEIRA",
         4,
         20250430
        ],
        [
         "2025-05-01",
         2025,
         5,
         "MAIO",
         1,
         "QUINTA-FEIRA",
         5,
         20250501
        ],
        [
         "2025-05-02",
         2025,
         5,
         "MAIO",
         2,
         "SEXTA-FEIRA",
         6,
         20250502
        ],
        [
         "2025-05-03",
         2025,
         5,
         "MAIO",
         3,
         "SABADO",
         7,
         20250503
        ],
        [
         "2025-05-04",
         2025,
         5,
         "MAIO",
         4,
         "DOMINGO",
         1,
         20250504
        ],
        [
         "2025-05-05",
         2025,
         5,
         "MAIO",
         5,
         "SEGUNDA-FEIRA",
         2,
         20250505
        ],
        [
         "2025-05-06",
         2025,
         5,
         "MAIO",
         6,
         "TERCA-FEIRA",
         3,
         20250506
        ],
        [
         "2025-05-07",
         2025,
         5,
         "MAIO",
         7,
         "QUARTA-FEIRA",
         4,
         20250507
        ],
        [
         "2025-05-08",
         2025,
         5,
         "MAIO",
         8,
         "QUINTA-FEIRA",
         5,
         20250508
        ],
        [
         "2025-05-09",
         2025,
         5,
         "MAIO",
         9,
         "SEXTA-FEIRA",
         6,
         20250509
        ],
        [
         "2025-05-10",
         2025,
         5,
         "MAIO",
         10,
         "SABADO",
         7,
         20250510
        ],
        [
         "2025-05-11",
         2025,
         5,
         "MAIO",
         11,
         "DOMINGO",
         1,
         20250511
        ],
        [
         "2025-05-12",
         2025,
         5,
         "MAIO",
         12,
         "SEGUNDA-FEIRA",
         2,
         20250512
        ],
        [
         "2025-05-13",
         2025,
         5,
         "MAIO",
         13,
         "TERCA-FEIRA",
         3,
         20250513
        ],
        [
         "2025-05-14",
         2025,
         5,
         "MAIO",
         14,
         "QUARTA-FEIRA",
         4,
         20250514
        ],
        [
         "2025-05-15",
         2025,
         5,
         "MAIO",
         15,
         "QUINTA-FEIRA",
         5,
         20250515
        ],
        [
         "2025-05-16",
         2025,
         5,
         "MAIO",
         16,
         "SEXTA-FEIRA",
         6,
         20250516
        ],
        [
         "2025-05-17",
         2025,
         5,
         "MAIO",
         17,
         "SABADO",
         7,
         20250517
        ],
        [
         "2025-05-18",
         2025,
         5,
         "MAIO",
         18,
         "DOMINGO",
         1,
         20250518
        ],
        [
         "2025-05-19",
         2025,
         5,
         "MAIO",
         19,
         "SEGUNDA-FEIRA",
         2,
         20250519
        ],
        [
         "2025-05-20",
         2025,
         5,
         "MAIO",
         20,
         "TERCA-FEIRA",
         3,
         20250520
        ],
        [
         "2025-05-21",
         2025,
         5,
         "MAIO",
         21,
         "QUARTA-FEIRA",
         4,
         20250521
        ],
        [
         "2025-05-22",
         2025,
         5,
         "MAIO",
         22,
         "QUINTA-FEIRA",
         5,
         20250522
        ],
        [
         "2025-05-23",
         2025,
         5,
         "MAIO",
         23,
         "SEXTA-FEIRA",
         6,
         20250523
        ],
        [
         "2025-05-24",
         2025,
         5,
         "MAIO",
         24,
         "SABADO",
         7,
         20250524
        ],
        [
         "2025-05-25",
         2025,
         5,
         "MAIO",
         25,
         "DOMINGO",
         1,
         20250525
        ],
        [
         "2025-05-26",
         2025,
         5,
         "MAIO",
         26,
         "SEGUNDA-FEIRA",
         2,
         20250526
        ],
        [
         "2025-05-27",
         2025,
         5,
         "MAIO",
         27,
         "TERCA-FEIRA",
         3,
         20250527
        ],
        [
         "2025-05-28",
         2025,
         5,
         "MAIO",
         28,
         "QUARTA-FEIRA",
         4,
         20250528
        ],
        [
         "2025-05-29",
         2025,
         5,
         "MAIO",
         29,
         "QUINTA-FEIRA",
         5,
         20250529
        ],
        [
         "2025-05-30",
         2025,
         5,
         "MAIO",
         30,
         "SEXTA-FEIRA",
         6,
         20250530
        ],
        [
         "2025-05-31",
         2025,
         5,
         "MAIO",
         31,
         "SABADO",
         7,
         20250531
        ],
        [
         "2025-06-01",
         2025,
         6,
         "JUNHO",
         1,
         "DOMINGO",
         1,
         20250601
        ],
        [
         "2025-06-02",
         2025,
         6,
         "JUNHO",
         2,
         "SEGUNDA-FEIRA",
         2,
         20250602
        ],
        [
         "2025-06-03",
         2025,
         6,
         "JUNHO",
         3,
         "TERCA-FEIRA",
         3,
         20250603
        ],
        [
         "2025-06-04",
         2025,
         6,
         "JUNHO",
         4,
         "QUARTA-FEIRA",
         4,
         20250604
        ],
        [
         "2025-06-05",
         2025,
         6,
         "JUNHO",
         5,
         "QUINTA-FEIRA",
         5,
         20250605
        ],
        [
         "2025-06-06",
         2025,
         6,
         "JUNHO",
         6,
         "SEXTA-FEIRA",
         6,
         20250606
        ],
        [
         "2025-06-07",
         2025,
         6,
         "JUNHO",
         7,
         "SABADO",
         7,
         20250607
        ],
        [
         "2025-06-08",
         2025,
         6,
         "JUNHO",
         8,
         "DOMINGO",
         1,
         20250608
        ],
        [
         "2025-06-09",
         2025,
         6,
         "JUNHO",
         9,
         "SEGUNDA-FEIRA",
         2,
         20250609
        ],
        [
         "2025-06-10",
         2025,
         6,
         "JUNHO",
         10,
         "TERCA-FEIRA",
         3,
         20250610
        ],
        [
         "2025-06-11",
         2025,
         6,
         "JUNHO",
         11,
         "QUARTA-FEIRA",
         4,
         20250611
        ],
        [
         "2025-06-12",
         2025,
         6,
         "JUNHO",
         12,
         "QUINTA-FEIRA",
         5,
         20250612
        ],
        [
         "2025-06-13",
         2025,
         6,
         "JUNHO",
         13,
         "SEXTA-FEIRA",
         6,
         20250613
        ],
        [
         "2025-06-14",
         2025,
         6,
         "JUNHO",
         14,
         "SABADO",
         7,
         20250614
        ],
        [
         "2025-06-15",
         2025,
         6,
         "JUNHO",
         15,
         "DOMINGO",
         1,
         20250615
        ],
        [
         "2025-06-16",
         2025,
         6,
         "JUNHO",
         16,
         "SEGUNDA-FEIRA",
         2,
         20250616
        ],
        [
         "2025-06-17",
         2025,
         6,
         "JUNHO",
         17,
         "TERCA-FEIRA",
         3,
         20250617
        ],
        [
         "2025-06-18",
         2025,
         6,
         "JUNHO",
         18,
         "QUARTA-FEIRA",
         4,
         20250618
        ],
        [
         "2025-06-19",
         2025,
         6,
         "JUNHO",
         19,
         "QUINTA-FEIRA",
         5,
         20250619
        ],
        [
         "2025-06-20",
         2025,
         6,
         "JUNHO",
         20,
         "SEXTA-FEIRA",
         6,
         20250620
        ],
        [
         "2025-06-21",
         2025,
         6,
         "JUNHO",
         21,
         "SABADO",
         7,
         20250621
        ],
        [
         "2025-06-22",
         2025,
         6,
         "JUNHO",
         22,
         "DOMINGO",
         1,
         20250622
        ],
        [
         "2025-06-23",
         2025,
         6,
         "JUNHO",
         23,
         "SEGUNDA-FEIRA",
         2,
         20250623
        ],
        [
         "2025-06-24",
         2025,
         6,
         "JUNHO",
         24,
         "TERCA-FEIRA",
         3,
         20250624
        ],
        [
         "2025-06-25",
         2025,
         6,
         "JUNHO",
         25,
         "QUARTA-FEIRA",
         4,
         20250625
        ],
        [
         "2025-06-26",
         2025,
         6,
         "JUNHO",
         26,
         "QUINTA-FEIRA",
         5,
         20250626
        ],
        [
         "2025-06-27",
         2025,
         6,
         "JUNHO",
         27,
         "SEXTA-FEIRA",
         6,
         20250627
        ],
        [
         "2025-06-28",
         2025,
         6,
         "JUNHO",
         28,
         "SABADO",
         7,
         20250628
        ],
        [
         "2025-06-29",
         2025,
         6,
         "JUNHO",
         29,
         "DOMINGO",
         1,
         20250629
        ],
        [
         "2025-06-30",
         2025,
         6,
         "JUNHO",
         30,
         "SEGUNDA-FEIRA",
         2,
         20250630
        ],
        [
         "2025-07-01",
         2025,
         7,
         "JULHO",
         1,
         "TERCA-FEIRA",
         3,
         20250701
        ],
        [
         "2025-07-02",
         2025,
         7,
         "JULHO",
         2,
         "QUARTA-FEIRA",
         4,
         20250702
        ],
        [
         "2025-07-03",
         2025,
         7,
         "JULHO",
         3,
         "QUINTA-FEIRA",
         5,
         20250703
        ],
        [
         "2025-07-04",
         2025,
         7,
         "JULHO",
         4,
         "SEXTA-FEIRA",
         6,
         20250704
        ],
        [
         "2025-07-05",
         2025,
         7,
         "JULHO",
         5,
         "SABADO",
         7,
         20250705
        ],
        [
         "2025-07-06",
         2025,
         7,
         "JULHO",
         6,
         "DOMINGO",
         1,
         20250706
        ],
        [
         "2025-07-07",
         2025,
         7,
         "JULHO",
         7,
         "SEGUNDA-FEIRA",
         2,
         20250707
        ],
        [
         "2025-07-08",
         2025,
         7,
         "JULHO",
         8,
         "TERCA-FEIRA",
         3,
         20250708
        ],
        [
         "2025-07-09",
         2025,
         7,
         "JULHO",
         9,
         "QUARTA-FEIRA",
         4,
         20250709
        ],
        [
         "2025-07-10",
         2025,
         7,
         "JULHO",
         10,
         "QUINTA-FEIRA",
         5,
         20250710
        ],
        [
         "2025-07-11",
         2025,
         7,
         "JULHO",
         11,
         "SEXTA-FEIRA",
         6,
         20250711
        ],
        [
         "2025-07-12",
         2025,
         7,
         "JULHO",
         12,
         "SABADO",
         7,
         20250712
        ],
        [
         "2025-07-13",
         2025,
         7,
         "JULHO",
         13,
         "DOMINGO",
         1,
         20250713
        ],
        [
         "2025-07-14",
         2025,
         7,
         "JULHO",
         14,
         "SEGUNDA-FEIRA",
         2,
         20250714
        ],
        [
         "2025-07-15",
         2025,
         7,
         "JULHO",
         15,
         "TERCA-FEIRA",
         3,
         20250715
        ],
        [
         "2025-07-16",
         2025,
         7,
         "JULHO",
         16,
         "QUARTA-FEIRA",
         4,
         20250716
        ],
        [
         "2025-07-17",
         2025,
         7,
         "JULHO",
         17,
         "QUINTA-FEIRA",
         5,
         20250717
        ],
        [
         "2025-07-18",
         2025,
         7,
         "JULHO",
         18,
         "SEXTA-FEIRA",
         6,
         20250718
        ],
        [
         "2025-07-19",
         2025,
         7,
         "JULHO",
         19,
         "SABADO",
         7,
         20250719
        ],
        [
         "2025-07-20",
         2025,
         7,
         "JULHO",
         20,
         "DOMINGO",
         1,
         20250720
        ],
        [
         "2025-07-21",
         2025,
         7,
         "JULHO",
         21,
         "SEGUNDA-FEIRA",
         2,
         20250721
        ],
        [
         "2025-07-22",
         2025,
         7,
         "JULHO",
         22,
         "TERCA-FEIRA",
         3,
         20250722
        ],
        [
         "2025-07-23",
         2025,
         7,
         "JULHO",
         23,
         "QUARTA-FEIRA",
         4,
         20250723
        ],
        [
         "2025-07-24",
         2025,
         7,
         "JULHO",
         24,
         "QUINTA-FEIRA",
         5,
         20250724
        ],
        [
         "2025-07-25",
         2025,
         7,
         "JULHO",
         25,
         "SEXTA-FEIRA",
         6,
         20250725
        ],
        [
         "2025-07-26",
         2025,
         7,
         "JULHO",
         26,
         "SABADO",
         7,
         20250726
        ],
        [
         "2025-07-27",
         2025,
         7,
         "JULHO",
         27,
         "DOMINGO",
         1,
         20250727
        ],
        [
         "2025-07-28",
         2025,
         7,
         "JULHO",
         28,
         "SEGUNDA-FEIRA",
         2,
         20250728
        ],
        [
         "2025-07-29",
         2025,
         7,
         "JULHO",
         29,
         "TERCA-FEIRA",
         3,
         20250729
        ],
        [
         "2025-07-30",
         2025,
         7,
         "JULHO",
         30,
         "QUARTA-FEIRA",
         4,
         20250730
        ],
        [
         "2025-07-31",
         2025,
         7,
         "JULHO",
         31,
         "QUINTA-FEIRA",
         5,
         20250731
        ],
        [
         "2025-08-01",
         2025,
         8,
         "AGOSTO",
         1,
         "SEXTA-FEIRA",
         6,
         20250801
        ],
        [
         "2025-08-02",
         2025,
         8,
         "AGOSTO",
         2,
         "SABADO",
         7,
         20250802
        ],
        [
         "2025-08-03",
         2025,
         8,
         "AGOSTO",
         3,
         "DOMINGO",
         1,
         20250803
        ],
        [
         "2025-08-04",
         2025,
         8,
         "AGOSTO",
         4,
         "SEGUNDA-FEIRA",
         2,
         20250804
        ],
        [
         "2025-08-05",
         2025,
         8,
         "AGOSTO",
         5,
         "TERCA-FEIRA",
         3,
         20250805
        ],
        [
         "2025-08-06",
         2025,
         8,
         "AGOSTO",
         6,
         "QUARTA-FEIRA",
         4,
         20250806
        ],
        [
         "2025-08-07",
         2025,
         8,
         "AGOSTO",
         7,
         "QUINTA-FEIRA",
         5,
         20250807
        ],
        [
         "2025-08-08",
         2025,
         8,
         "AGOSTO",
         8,
         "SEXTA-FEIRA",
         6,
         20250808
        ],
        [
         "2025-08-09",
         2025,
         8,
         "AGOSTO",
         9,
         "SABADO",
         7,
         20250809
        ],
        [
         "2025-08-10",
         2025,
         8,
         "AGOSTO",
         10,
         "DOMINGO",
         1,
         20250810
        ],
        [
         "2025-08-11",
         2025,
         8,
         "AGOSTO",
         11,
         "SEGUNDA-FEIRA",
         2,
         20250811
        ],
        [
         "2025-08-12",
         2025,
         8,
         "AGOSTO",
         12,
         "TERCA-FEIRA",
         3,
         20250812
        ],
        [
         "2025-08-13",
         2025,
         8,
         "AGOSTO",
         13,
         "QUARTA-FEIRA",
         4,
         20250813
        ],
        [
         "2025-08-14",
         2025,
         8,
         "AGOSTO",
         14,
         "QUINTA-FEIRA",
         5,
         20250814
        ],
        [
         "2025-08-15",
         2025,
         8,
         "AGOSTO",
         15,
         "SEXTA-FEIRA",
         6,
         20250815
        ],
        [
         "2025-08-16",
         2025,
         8,
         "AGOSTO",
         16,
         "SABADO",
         7,
         20250816
        ],
        [
         "2025-08-17",
         2025,
         8,
         "AGOSTO",
         17,
         "DOMINGO",
         1,
         20250817
        ],
        [
         "2025-08-18",
         2025,
         8,
         "AGOSTO",
         18,
         "SEGUNDA-FEIRA",
         2,
         20250818
        ],
        [
         "2025-08-19",
         2025,
         8,
         "AGOSTO",
         19,
         "TERCA-FEIRA",
         3,
         20250819
        ],
        [
         "2025-08-20",
         2025,
         8,
         "AGOSTO",
         20,
         "QUARTA-FEIRA",
         4,
         20250820
        ],
        [
         "2025-08-21",
         2025,
         8,
         "AGOSTO",
         21,
         "QUINTA-FEIRA",
         5,
         20250821
        ],
        [
         "2025-08-22",
         2025,
         8,
         "AGOSTO",
         22,
         "SEXTA-FEIRA",
         6,
         20250822
        ],
        [
         "2025-08-23",
         2025,
         8,
         "AGOSTO",
         23,
         "SABADO",
         7,
         20250823
        ],
        [
         "2025-08-24",
         2025,
         8,
         "AGOSTO",
         24,
         "DOMINGO",
         1,
         20250824
        ],
        [
         "2025-08-25",
         2025,
         8,
         "AGOSTO",
         25,
         "SEGUNDA-FEIRA",
         2,
         20250825
        ],
        [
         "2025-08-26",
         2025,
         8,
         "AGOSTO",
         26,
         "TERCA-FEIRA",
         3,
         20250826
        ],
        [
         "2025-08-27",
         2025,
         8,
         "AGOSTO",
         27,
         "QUARTA-FEIRA",
         4,
         20250827
        ],
        [
         "2025-08-28",
         2025,
         8,
         "AGOSTO",
         28,
         "QUINTA-FEIRA",
         5,
         20250828
        ],
        [
         "2025-08-29",
         2025,
         8,
         "AGOSTO",
         29,
         "SEXTA-FEIRA",
         6,
         20250829
        ],
        [
         "2025-08-30",
         2025,
         8,
         "AGOSTO",
         30,
         "SABADO",
         7,
         20250830
        ],
        [
         "2025-08-31",
         2025,
         8,
         "AGOSTO",
         31,
         "DOMINGO",
         1,
         20250831
        ],
        [
         "2025-09-01",
         2025,
         9,
         "SETEMBRO",
         1,
         "SEGUNDA-FEIRA",
         2,
         20250901
        ],
        [
         "2025-09-02",
         2025,
         9,
         "SETEMBRO",
         2,
         "TERCA-FEIRA",
         3,
         20250902
        ],
        [
         "2025-09-03",
         2025,
         9,
         "SETEMBRO",
         3,
         "QUARTA-FEIRA",
         4,
         20250903
        ],
        [
         "2025-09-04",
         2025,
         9,
         "SETEMBRO",
         4,
         "QUINTA-FEIRA",
         5,
         20250904
        ],
        [
         "2025-09-05",
         2025,
         9,
         "SETEMBRO",
         5,
         "SEXTA-FEIRA",
         6,
         20250905
        ],
        [
         "2025-09-06",
         2025,
         9,
         "SETEMBRO",
         6,
         "SABADO",
         7,
         20250906
        ],
        [
         "2025-09-07",
         2025,
         9,
         "SETEMBRO",
         7,
         "DOMINGO",
         1,
         20250907
        ],
        [
         "2025-09-08",
         2025,
         9,
         "SETEMBRO",
         8,
         "SEGUNDA-FEIRA",
         2,
         20250908
        ],
        [
         "2025-09-09",
         2025,
         9,
         "SETEMBRO",
         9,
         "TERCA-FEIRA",
         3,
         20250909
        ],
        [
         "2025-09-10",
         2025,
         9,
         "SETEMBRO",
         10,
         "QUARTA-FEIRA",
         4,
         20250910
        ],
        [
         "2025-09-11",
         2025,
         9,
         "SETEMBRO",
         11,
         "QUINTA-FEIRA",
         5,
         20250911
        ],
        [
         "2025-09-12",
         2025,
         9,
         "SETEMBRO",
         12,
         "SEXTA-FEIRA",
         6,
         20250912
        ],
        [
         "2025-09-13",
         2025,
         9,
         "SETEMBRO",
         13,
         "SABADO",
         7,
         20250913
        ],
        [
         "2025-09-14",
         2025,
         9,
         "SETEMBRO",
         14,
         "DOMINGO",
         1,
         20250914
        ],
        [
         "2025-09-15",
         2025,
         9,
         "SETEMBRO",
         15,
         "SEGUNDA-FEIRA",
         2,
         20250915
        ],
        [
         "2025-09-16",
         2025,
         9,
         "SETEMBRO",
         16,
         "TERCA-FEIRA",
         3,
         20250916
        ],
        [
         "2025-09-17",
         2025,
         9,
         "SETEMBRO",
         17,
         "QUARTA-FEIRA",
         4,
         20250917
        ],
        [
         "2025-09-18",
         2025,
         9,
         "SETEMBRO",
         18,
         "QUINTA-FEIRA",
         5,
         20250918
        ],
        [
         "2025-09-19",
         2025,
         9,
         "SETEMBRO",
         19,
         "SEXTA-FEIRA",
         6,
         20250919
        ],
        [
         "2025-09-20",
         2025,
         9,
         "SETEMBRO",
         20,
         "SABADO",
         7,
         20250920
        ],
        [
         "2025-09-21",
         2025,
         9,
         "SETEMBRO",
         21,
         "DOMINGO",
         1,
         20250921
        ],
        [
         "2025-09-22",
         2025,
         9,
         "SETEMBRO",
         22,
         "SEGUNDA-FEIRA",
         2,
         20250922
        ],
        [
         "2025-09-23",
         2025,
         9,
         "SETEMBRO",
         23,
         "TERCA-FEIRA",
         3,
         20250923
        ],
        [
         "2025-09-24",
         2025,
         9,
         "SETEMBRO",
         24,
         "QUARTA-FEIRA",
         4,
         20250924
        ],
        [
         "2025-09-25",
         2025,
         9,
         "SETEMBRO",
         25,
         "QUINTA-FEIRA",
         5,
         20250925
        ],
        [
         "2025-09-26",
         2025,
         9,
         "SETEMBRO",
         26,
         "SEXTA-FEIRA",
         6,
         20250926
        ],
        [
         "2025-09-27",
         2025,
         9,
         "SETEMBRO",
         27,
         "SABADO",
         7,
         20250927
        ],
        [
         "2025-09-28",
         2025,
         9,
         "SETEMBRO",
         28,
         "DOMINGO",
         1,
         20250928
        ],
        [
         "2025-09-29",
         2025,
         9,
         "SETEMBRO",
         29,
         "SEGUNDA-FEIRA",
         2,
         20250929
        ],
        [
         "2025-09-30",
         2025,
         9,
         "SETEMBRO",
         30,
         "TERCA-FEIRA",
         3,
         20250930
        ],
        [
         "2025-10-01",
         2025,
         10,
         "OUTUBRO",
         1,
         "QUARTA-FEIRA",
         4,
         20251001
        ],
        [
         "2025-10-02",
         2025,
         10,
         "OUTUBRO",
         2,
         "QUINTA-FEIRA",
         5,
         20251002
        ],
        [
         "2025-10-03",
         2025,
         10,
         "OUTUBRO",
         3,
         "SEXTA-FEIRA",
         6,
         20251003
        ],
        [
         "2025-10-04",
         2025,
         10,
         "OUTUBRO",
         4,
         "SABADO",
         7,
         20251004
        ],
        [
         "2025-10-05",
         2025,
         10,
         "OUTUBRO",
         5,
         "DOMINGO",
         1,
         20251005
        ],
        [
         "2025-10-06",
         2025,
         10,
         "OUTUBRO",
         6,
         "SEGUNDA-FEIRA",
         2,
         20251006
        ],
        [
         "2025-10-07",
         2025,
         10,
         "OUTUBRO",
         7,
         "TERCA-FEIRA",
         3,
         20251007
        ],
        [
         "2025-10-08",
         2025,
         10,
         "OUTUBRO",
         8,
         "QUARTA-FEIRA",
         4,
         20251008
        ],
        [
         "2025-10-09",
         2025,
         10,
         "OUTUBRO",
         9,
         "QUINTA-FEIRA",
         5,
         20251009
        ],
        [
         "2025-10-10",
         2025,
         10,
         "OUTUBRO",
         10,
         "SEXTA-FEIRA",
         6,
         20251010
        ],
        [
         "2025-10-11",
         2025,
         10,
         "OUTUBRO",
         11,
         "SABADO",
         7,
         20251011
        ],
        [
         "2025-10-12",
         2025,
         10,
         "OUTUBRO",
         12,
         "DOMINGO",
         1,
         20251012
        ],
        [
         "2025-10-13",
         2025,
         10,
         "OUTUBRO",
         13,
         "SEGUNDA-FEIRA",
         2,
         20251013
        ],
        [
         "2025-10-14",
         2025,
         10,
         "OUTUBRO",
         14,
         "TERCA-FEIRA",
         3,
         20251014
        ],
        [
         "2025-10-15",
         2025,
         10,
         "OUTUBRO",
         15,
         "QUARTA-FEIRA",
         4,
         20251015
        ],
        [
         "2025-10-16",
         2025,
         10,
         "OUTUBRO",
         16,
         "QUINTA-FEIRA",
         5,
         20251016
        ],
        [
         "2025-10-17",
         2025,
         10,
         "OUTUBRO",
         17,
         "SEXTA-FEIRA",
         6,
         20251017
        ],
        [
         "2025-10-18",
         2025,
         10,
         "OUTUBRO",
         18,
         "SABADO",
         7,
         20251018
        ],
        [
         "2025-10-19",
         2025,
         10,
         "OUTUBRO",
         19,
         "DOMINGO",
         1,
         20251019
        ],
        [
         "2025-10-20",
         2025,
         10,
         "OUTUBRO",
         20,
         "SEGUNDA-FEIRA",
         2,
         20251020
        ],
        [
         "2025-10-21",
         2025,
         10,
         "OUTUBRO",
         21,
         "TERCA-FEIRA",
         3,
         20251021
        ],
        [
         "2025-10-22",
         2025,
         10,
         "OUTUBRO",
         22,
         "QUARTA-FEIRA",
         4,
         20251022
        ],
        [
         "2025-10-23",
         2025,
         10,
         "OUTUBRO",
         23,
         "QUINTA-FEIRA",
         5,
         20251023
        ],
        [
         "2025-10-24",
         2025,
         10,
         "OUTUBRO",
         24,
         "SEXTA-FEIRA",
         6,
         20251024
        ],
        [
         "2025-10-25",
         2025,
         10,
         "OUTUBRO",
         25,
         "SABADO",
         7,
         20251025
        ],
        [
         "2025-10-26",
         2025,
         10,
         "OUTUBRO",
         26,
         "DOMINGO",
         1,
         20251026
        ],
        [
         "2025-10-27",
         2025,
         10,
         "OUTUBRO",
         27,
         "SEGUNDA-FEIRA",
         2,
         20251027
        ],
        [
         "2025-10-28",
         2025,
         10,
         "OUTUBRO",
         28,
         "TERCA-FEIRA",
         3,
         20251028
        ],
        [
         "2025-10-29",
         2025,
         10,
         "OUTUBRO",
         29,
         "QUARTA-FEIRA",
         4,
         20251029
        ],
        [
         "2025-10-30",
         2025,
         10,
         "OUTUBRO",
         30,
         "QUINTA-FEIRA",
         5,
         20251030
        ],
        [
         "2025-10-31",
         2025,
         10,
         "OUTUBRO",
         31,
         "SEXTA-FEIRA",
         6,
         20251031
        ],
        [
         "2025-11-01",
         2025,
         11,
         "NOVEMBRO",
         1,
         "SABADO",
         7,
         20251101
        ],
        [
         "2025-11-02",
         2025,
         11,
         "NOVEMBRO",
         2,
         "DOMINGO",
         1,
         20251102
        ],
        [
         "2025-11-03",
         2025,
         11,
         "NOVEMBRO",
         3,
         "SEGUNDA-FEIRA",
         2,
         20251103
        ],
        [
         "2025-11-04",
         2025,
         11,
         "NOVEMBRO",
         4,
         "TERCA-FEIRA",
         3,
         20251104
        ],
        [
         "2025-11-05",
         2025,
         11,
         "NOVEMBRO",
         5,
         "QUARTA-FEIRA",
         4,
         20251105
        ],
        [
         "2025-11-06",
         2025,
         11,
         "NOVEMBRO",
         6,
         "QUINTA-FEIRA",
         5,
         20251106
        ],
        [
         "2025-11-07",
         2025,
         11,
         "NOVEMBRO",
         7,
         "SEXTA-FEIRA",
         6,
         20251107
        ],
        [
         "2025-11-08",
         2025,
         11,
         "NOVEMBRO",
         8,
         "SABADO",
         7,
         20251108
        ],
        [
         "2025-11-09",
         2025,
         11,
         "NOVEMBRO",
         9,
         "DOMINGO",
         1,
         20251109
        ],
        [
         "2025-11-10",
         2025,
         11,
         "NOVEMBRO",
         10,
         "SEGUNDA-FEIRA",
         2,
         20251110
        ],
        [
         "2025-11-11",
         2025,
         11,
         "NOVEMBRO",
         11,
         "TERCA-FEIRA",
         3,
         20251111
        ],
        [
         "2025-11-12",
         2025,
         11,
         "NOVEMBRO",
         12,
         "QUARTA-FEIRA",
         4,
         20251112
        ],
        [
         "2025-11-13",
         2025,
         11,
         "NOVEMBRO",
         13,
         "QUINTA-FEIRA",
         5,
         20251113
        ],
        [
         "2025-11-14",
         2025,
         11,
         "NOVEMBRO",
         14,
         "SEXTA-FEIRA",
         6,
         20251114
        ],
        [
         "2025-11-15",
         2025,
         11,
         "NOVEMBRO",
         15,
         "SABADO",
         7,
         20251115
        ],
        [
         "2025-11-16",
         2025,
         11,
         "NOVEMBRO",
         16,
         "DOMINGO",
         1,
         20251116
        ],
        [
         "2025-11-17",
         2025,
         11,
         "NOVEMBRO",
         17,
         "SEGUNDA-FEIRA",
         2,
         20251117
        ],
        [
         "2025-11-18",
         2025,
         11,
         "NOVEMBRO",
         18,
         "TERCA-FEIRA",
         3,
         20251118
        ],
        [
         "2025-11-19",
         2025,
         11,
         "NOVEMBRO",
         19,
         "QUARTA-FEIRA",
         4,
         20251119
        ],
        [
         "2025-11-20",
         2025,
         11,
         "NOVEMBRO",
         20,
         "QUINTA-FEIRA",
         5,
         20251120
        ],
        [
         "2025-11-21",
         2025,
         11,
         "NOVEMBRO",
         21,
         "SEXTA-FEIRA",
         6,
         20251121
        ],
        [
         "2025-11-22",
         2025,
         11,
         "NOVEMBRO",
         22,
         "SABADO",
         7,
         20251122
        ],
        [
         "2025-11-23",
         2025,
         11,
         "NOVEMBRO",
         23,
         "DOMINGO",
         1,
         20251123
        ],
        [
         "2025-11-24",
         2025,
         11,
         "NOVEMBRO",
         24,
         "SEGUNDA-FEIRA",
         2,
         20251124
        ],
        [
         "2025-11-25",
         2025,
         11,
         "NOVEMBRO",
         25,
         "TERCA-FEIRA",
         3,
         20251125
        ],
        [
         "2025-11-26",
         2025,
         11,
         "NOVEMBRO",
         26,
         "QUARTA-FEIRA",
         4,
         20251126
        ],
        [
         "2025-11-27",
         2025,
         11,
         "NOVEMBRO",
         27,
         "QUINTA-FEIRA",
         5,
         20251127
        ],
        [
         "2025-11-28",
         2025,
         11,
         "NOVEMBRO",
         28,
         "SEXTA-FEIRA",
         6,
         20251128
        ],
        [
         "2025-11-29",
         2025,
         11,
         "NOVEMBRO",
         29,
         "SABADO",
         7,
         20251129
        ],
        [
         "2025-11-30",
         2025,
         11,
         "NOVEMBRO",
         30,
         "DOMINGO",
         1,
         20251130
        ],
        [
         "2025-12-01",
         2025,
         12,
         "DEZEMBRO",
         1,
         "SEGUNDA-FEIRA",
         2,
         20251201
        ],
        [
         "2025-12-02",
         2025,
         12,
         "DEZEMBRO",
         2,
         "TERCA-FEIRA",
         3,
         20251202
        ],
        [
         "2025-12-03",
         2025,
         12,
         "DEZEMBRO",
         3,
         "QUARTA-FEIRA",
         4,
         20251203
        ],
        [
         "2025-12-04",
         2025,
         12,
         "DEZEMBRO",
         4,
         "QUINTA-FEIRA",
         5,
         20251204
        ],
        [
         "2025-12-05",
         2025,
         12,
         "DEZEMBRO",
         5,
         "SEXTA-FEIRA",
         6,
         20251205
        ],
        [
         "2025-12-06",
         2025,
         12,
         "DEZEMBRO",
         6,
         "SABADO",
         7,
         20251206
        ],
        [
         "2025-12-07",
         2025,
         12,
         "DEZEMBRO",
         7,
         "DOMINGO",
         1,
         20251207
        ],
        [
         "2025-12-08",
         2025,
         12,
         "DEZEMBRO",
         8,
         "SEGUNDA-FEIRA",
         2,
         20251208
        ],
        [
         "2025-12-09",
         2025,
         12,
         "DEZEMBRO",
         9,
         "TERCA-FEIRA",
         3,
         20251209
        ],
        [
         "2025-12-10",
         2025,
         12,
         "DEZEMBRO",
         10,
         "QUARTA-FEIRA",
         4,
         20251210
        ],
        [
         "2025-12-11",
         2025,
         12,
         "DEZEMBRO",
         11,
         "QUINTA-FEIRA",
         5,
         20251211
        ],
        [
         "2025-12-12",
         2025,
         12,
         "DEZEMBRO",
         12,
         "SEXTA-FEIRA",
         6,
         20251212
        ],
        [
         "2025-12-13",
         2025,
         12,
         "DEZEMBRO",
         13,
         "SABADO",
         7,
         20251213
        ],
        [
         "2025-12-14",
         2025,
         12,
         "DEZEMBRO",
         14,
         "DOMINGO",
         1,
         20251214
        ],
        [
         "2025-12-15",
         2025,
         12,
         "DEZEMBRO",
         15,
         "SEGUNDA-FEIRA",
         2,
         20251215
        ],
        [
         "2025-12-16",
         2025,
         12,
         "DEZEMBRO",
         16,
         "TERCA-FEIRA",
         3,
         20251216
        ],
        [
         "2025-12-17",
         2025,
         12,
         "DEZEMBRO",
         17,
         "QUARTA-FEIRA",
         4,
         20251217
        ],
        [
         "2025-12-18",
         2025,
         12,
         "DEZEMBRO",
         18,
         "QUINTA-FEIRA",
         5,
         20251218
        ],
        [
         "2025-12-19",
         2025,
         12,
         "DEZEMBRO",
         19,
         "SEXTA-FEIRA",
         6,
         20251219
        ],
        [
         "2025-12-20",
         2025,
         12,
         "DEZEMBRO",
         20,
         "SABADO",
         7,
         20251220
        ],
        [
         "2025-12-21",
         2025,
         12,
         "DEZEMBRO",
         21,
         "DOMINGO",
         1,
         20251221
        ],
        [
         "2025-12-22",
         2025,
         12,
         "DEZEMBRO",
         22,
         "SEGUNDA-FEIRA",
         2,
         20251222
        ],
        [
         "2025-12-23",
         2025,
         12,
         "DEZEMBRO",
         23,
         "TERCA-FEIRA",
         3,
         20251223
        ],
        [
         "2025-12-24",
         2025,
         12,
         "DEZEMBRO",
         24,
         "QUARTA-FEIRA",
         4,
         20251224
        ],
        [
         "2025-12-25",
         2025,
         12,
         "DEZEMBRO",
         25,
         "QUINTA-FEIRA",
         5,
         20251225
        ],
        [
         "2025-12-26",
         2025,
         12,
         "DEZEMBRO",
         26,
         "SEXTA-FEIRA",
         6,
         20251226
        ],
        [
         "2025-12-27",
         2025,
         12,
         "DEZEMBRO",
         27,
         "SABADO",
         7,
         20251227
        ],
        [
         "2025-12-28",
         2025,
         12,
         "DEZEMBRO",
         28,
         "DOMINGO",
         1,
         20251228
        ],
        [
         "2025-12-29",
         2025,
         12,
         "DEZEMBRO",
         29,
         "SEGUNDA-FEIRA",
         2,
         20251229
        ],
        [
         "2025-12-30",
         2025,
         12,
         "DEZEMBRO",
         30,
         "TERCA-FEIRA",
         3,
         20251230
        ],
        [
         "2025-12-31",
         2025,
         12,
         "DEZEMBRO",
         31,
         "QUARTA-FEIRA",
         4,
         20251231
        ]
       ],
       "datasetInfos": [],
       "dbfsResultPath": null,
       "isJsonSchema": true,
       "metadata": {},
       "overflow": false,
       "plotOptions": {
        "customPlotOptions": {},
        "displayType": "table",
        "pivotAggregation": null,
        "pivotColumns": null,
        "xColumns": null,
        "yColumns": null
       },
       "removedWidgets": [],
       "schema": [
        {
         "metadata": "{}",
         "name": "Data",
         "type": "\"date\""
        },
        {
         "metadata": "{}",
         "name": "Ano",
         "type": "\"integer\""
        },
        {
         "metadata": "{}",
         "name": "Mes",
         "type": "\"integer\""
        },
        {
         "metadata": "{}",
         "name": "NomeMes",
         "type": "\"string\""
        },
        {
         "metadata": "{}",
         "name": "Dia",
         "type": "\"integer\""
        },
        {
         "metadata": "{}",
         "name": "NomeDiaSemana",
         "type": "\"string\""
        },
        {
         "metadata": "{}",
         "name": "NumeroDiaSemana",
         "type": "\"integer\""
        },
        {
         "metadata": "{}",
         "name": "ID",
         "type": "\"integer\""
        }
       ],
       "type": "table"
      }
     },
     "output_type": "display_data"
    }
   ],
   "source": [
    "from pyspark.sql.functions import expr, date_format, year, month, dayofmonth, dayofweek, when, col\n",
    "\n",
    "data_inicial = \"2022-01-01\"\n",
    "data_final = \"2025-12-31\"\n",
    "\n",
    "num_dias = spark.sql(f\"SELECT datediff('{data_final}', '{data_inicial}')\").collect()[0][0]\n",
    "\n",
    "df_calendario = spark.range(0, num_dias + 1) \\\n",
    "    .selectExpr(f\"date_add(to_date('{data_inicial}'), CAST(id AS INT)) AS Data\")\n",
    "\n",
    "# Criar colunas nome mês e dia da semana com when (case when)\n",
    "df_tempo = df_calendario.select(\n",
    "    col(\"Data\"),\n",
    "    year(\"Data\").alias(\"Ano\"),\n",
    "    month(\"Data\").alias(\"Mes\"),\n",
    "    when(month(\"Data\") == 1, \"JANEIRO\")\n",
    "    .when(month(\"Data\") == 2, \"FEVEREIRO\")\n",
    "    .when(month(\"Data\") == 3, \"MARCO\")\n",
    "    .when(month(\"Data\") == 4, \"ABRIL\")\n",
    "    .when(month(\"Data\") == 5, \"MAIO\")\n",
    "    .when(month(\"Data\") == 6, \"JUNHO\")\n",
    "    .when(month(\"Data\") == 7, \"JULHO\")\n",
    "    .when(month(\"Data\") == 8, \"AGOSTO\")\n",
    "    .when(month(\"Data\") == 9, \"SETEMBRO\")\n",
    "    .when(month(\"Data\") == 10, \"OUTUBRO\")\n",
    "    .when(month(\"Data\") == 11, \"NOVEMBRO\")\n",
    "    .when(month(\"Data\") == 12, \"DEZEMBRO\")\n",
    "    .alias(\"NomeMes\"),\n",
    "    dayofmonth(\"Data\").alias(\"Dia\"),\n",
    "    when(dayofweek(\"Data\") == 1, \"DOMINGO\")\n",
    "    .when(dayofweek(\"Data\") == 2, \"SEGUNDA-FEIRA\")\n",
    "    .when(dayofweek(\"Data\") == 3, \"TERCA-FEIRA\")\n",
    "    .when(dayofweek(\"Data\") == 4, \"QUARTA-FEIRA\")\n",
    "    .when(dayofweek(\"Data\") == 5, \"QUINTA-FEIRA\")\n",
    "    .when(dayofweek(\"Data\") == 6, \"SEXTA-FEIRA\")\n",
    "    .when(dayofweek(\"Data\") == 7, \"SABADO\")\n",
    "    .alias(\"NomeDiaSemana\"),\n",
    "    dayofweek(\"Data\").alias(\"NumeroDiaSemana\"),\n",
    "    date_format(\"Data\", \"yyyyMMdd\").cast(\"int\").alias(\"ID\")\n",
    ")\n",
    "\n",
    "df_tempo.display()\n",
    "\n",
    "df_tempo.write.mode(\"overwrite\")\\\n",
    "    .option(\"path\", f\"/mnt/{storageAccountName}/gold/ecommerce/dim_tempo\")\\\n",
    "    .saveAsTable(\"dim_tempo\")\n"
   ]
  },
  {
   "cell_type": "code",
   "execution_count": 0,
   "metadata": {
    "application/vnd.databricks.v1+cell": {
     "cellMetadata": {
      "byteLimit": 2048000,
      "implicitDf": true,
      "rowLimit": 10000
     },
     "inputWidgets": {},
     "nuid": "2206caf7-7087-49be-a511-c5ad937e6084",
     "showTitle": false,
     "tableResultSettingsMap": {},
     "title": ""
    }
   },
   "outputs": [
    {
     "output_type": "display_data",
     "data": {
      "text/html": [
       "<style scoped>\n",
       "  .table-result-container {\n",
       "    max-height: 300px;\n",
       "    overflow: auto;\n",
       "  }\n",
       "  table, th, td {\n",
       "    border: 1px solid black;\n",
       "    border-collapse: collapse;\n",
       "  }\n",
       "  th, td {\n",
       "    padding: 5px;\n",
       "  }\n",
       "  th {\n",
       "    text-align: left;\n",
       "  }\n",
       "</style><div class='table-result-container'><table class='table-result'><thead style='background-color: white'><tr></tr></thead><tbody></tbody></table></div>"
      ]
     },
     "metadata": {
      "application/vnd.databricks.v1+output": {
       "addedWidgets": {},
       "aggData": [],
       "aggError": "",
       "aggOverflow": false,
       "aggSchema": [],
       "aggSeriesLimitReached": false,
       "aggType": "",
       "arguments": {},
       "columnCustomDisplayInfos": {},
       "data": [],
       "datasetInfos": [],
       "dbfsResultPath": null,
       "isJsonSchema": true,
       "metadata": {},
       "overflow": false,
       "plotOptions": {
        "customPlotOptions": {},
        "displayType": "table",
        "pivotAggregation": null,
        "pivotColumns": null,
        "xColumns": null,
        "yColumns": null
       },
       "removedWidgets": [],
       "schema": [],
       "type": "table"
      }
     },
     "output_type": "display_data"
    }
   ],
   "source": [
    "%sql\n",
    "drop table if exists dim_entregas"
   ]
  },
  {
   "cell_type": "code",
   "execution_count": 0,
   "metadata": {
    "application/vnd.databricks.v1+cell": {
     "cellMetadata": {
      "byteLimit": 2048000,
      "implicitDf": true,
      "rowLimit": 10000
     },
     "inputWidgets": {},
     "nuid": "d454e6d6-85e9-4513-a760-476c92abef62",
     "showTitle": false,
     "tableResultSettingsMap": {},
     "title": ""
    }
   },
   "outputs": [
    {
     "output_type": "display_data",
     "data": {
      "text/html": [
       "<style scoped>\n",
       "  .table-result-container {\n",
       "    max-height: 300px;\n",
       "    overflow: auto;\n",
       "  }\n",
       "  table, th, td {\n",
       "    border: 1px solid black;\n",
       "    border-collapse: collapse;\n",
       "  }\n",
       "  th, td {\n",
       "    padding: 5px;\n",
       "  }\n",
       "  th {\n",
       "    text-align: left;\n",
       "  }\n",
       "</style><div class='table-result-container'><table class='table-result'><thead style='background-color: white'><tr></tr></thead><tbody></tbody></table></div>"
      ]
     },
     "metadata": {
      "application/vnd.databricks.v1+output": {
       "addedWidgets": {},
       "aggData": [],
       "aggError": "",
       "aggOverflow": false,
       "aggSchema": [],
       "aggSeriesLimitReached": false,
       "aggType": "",
       "arguments": {},
       "columnCustomDisplayInfos": {},
       "data": [],
       "datasetInfos": [],
       "dbfsResultPath": null,
       "isJsonSchema": true,
       "metadata": {},
       "overflow": false,
       "plotOptions": {
        "customPlotOptions": {},
        "displayType": "table",
        "pivotAggregation": null,
        "pivotColumns": null,
        "xColumns": null,
        "yColumns": null
       },
       "removedWidgets": [],
       "schema": [],
       "type": "table"
      }
     },
     "output_type": "display_data"
    }
   ],
   "source": [
    "%sql\n",
    "CREATE TABLE IF NOT EXISTS dim_entregas (\n",
    "  ID BIGINT GENERATED ALWAYS AS IDENTITY,  -- Chave substituta (SK)\n",
    "  CODIGO_ENTREGA INT,                       -- Chave natural (caso exista)\n",
    "  TRANSPORTADORA STRING,\n",
    "  STATUS STRING,\n",
    "  DATA_ENVIO TIMESTAMP,\n",
    "  DATA_ENTREGA TIMESTAMP\n",
    ")\n",
    "USING delta\n",
    "LOCATION '/mnt/datalake922b9abd80170b5b/gold/ecommerce/dim_entregas';\n"
   ]
  },
  {
   "cell_type": "code",
   "execution_count": 0,
   "metadata": {
    "application/vnd.databricks.v1+cell": {
     "cellMetadata": {
      "byteLimit": 2048000,
      "rowLimit": 10000
     },
     "inputWidgets": {},
     "nuid": "28fc65fe-e315-4bdc-98a5-b6f7a807554f",
     "showTitle": false,
     "tableResultSettingsMap": {},
     "title": ""
    }
   },
   "outputs": [
    {
     "output_type": "display_data",
     "data": {
      "text/html": [
       "<style scoped>\n",
       "  .ansiout {\n",
       "    display: block;\n",
       "    unicode-bidi: embed;\n",
       "    white-space: pre-wrap;\n",
       "    word-wrap: break-word;\n",
       "    word-break: break-all;\n",
       "    font-family: \"Menlo\", \"Monaco\", \"Consolas\", \"Ubuntu Mono\", \"Source Code Pro\", monospace;\n",
       "    font-size: 13px;\n",
       "    color: #555;\n",
       "    margin-left: 4px;\n",
       "    line-height: 19px;\n",
       "  }\n",
       "</style>\n",
       "<div class=\"ansiout\"></div>"
      ]
     },
     "metadata": {
      "application/vnd.databricks.v1+output": {
       "addedWidgets": {},
       "arguments": {},
       "data": "<div class=\"ansiout\"></div>",
       "datasetInfos": [],
       "metadata": {},
       "removedWidgets": [],
       "type": "html"
      }
     },
     "output_type": "display_data"
    }
   ],
   "source": [
    "df_entregas.createOrReplaceTempView(\"silver_entregas\")\n",
    "df_transportadoras.createOrReplaceTempView(\"silver_transportadoras\")\n"
   ]
  },
  {
   "cell_type": "code",
   "execution_count": 0,
   "metadata": {
    "application/vnd.databricks.v1+cell": {
     "cellMetadata": {
      "byteLimit": 2048000,
      "implicitDf": true,
      "rowLimit": 10000
     },
     "inputWidgets": {},
     "nuid": "64c28d15-414d-4ea3-a766-6e22c44cfbf0",
     "showTitle": false,
     "tableResultSettingsMap": {},
     "title": ""
    }
   },
   "outputs": [
    {
     "output_type": "display_data",
     "data": {
      "text/html": [
       "<style scoped>\n",
       "  .table-result-container {\n",
       "    max-height: 300px;\n",
       "    overflow: auto;\n",
       "  }\n",
       "  table, th, td {\n",
       "    border: 1px solid black;\n",
       "    border-collapse: collapse;\n",
       "  }\n",
       "  th, td {\n",
       "    padding: 5px;\n",
       "  }\n",
       "  th {\n",
       "    text-align: left;\n",
       "  }\n",
       "</style><div class='table-result-container'><table class='table-result'><thead style='background-color: white'><tr><th>num_affected_rows</th><th>num_updated_rows</th><th>num_deleted_rows</th><th>num_inserted_rows</th></tr></thead><tbody><tr><td>25001</td><td>0</td><td>0</td><td>25001</td></tr></tbody></table></div>"
      ]
     },
     "metadata": {
      "application/vnd.databricks.v1+output": {
       "addedWidgets": {},
       "aggData": [],
       "aggError": "",
       "aggOverflow": false,
       "aggSchema": [],
       "aggSeriesLimitReached": false,
       "aggType": "",
       "arguments": {},
       "columnCustomDisplayInfos": {},
       "data": [
        [
         25001,
         0,
         0,
         25001
        ]
       ],
       "datasetInfos": [],
       "dbfsResultPath": null,
       "isJsonSchema": true,
       "metadata": {},
       "overflow": false,
       "plotOptions": {
        "customPlotOptions": {},
        "displayType": "table",
        "pivotAggregation": null,
        "pivotColumns": null,
        "xColumns": null,
        "yColumns": null
       },
       "removedWidgets": [],
       "schema": [
        {
         "metadata": "{}",
         "name": "num_affected_rows",
         "type": "\"long\""
        },
        {
         "metadata": "{}",
         "name": "num_updated_rows",
         "type": "\"long\""
        },
        {
         "metadata": "{}",
         "name": "num_deleted_rows",
         "type": "\"long\""
        },
        {
         "metadata": "{}",
         "name": "num_inserted_rows",
         "type": "\"long\""
        }
       ],
       "type": "table"
      }
     },
     "output_type": "display_data"
    }
   ],
   "source": [
    "%sql\n",
    "-- Criar ou substituir a TEMP VIEW com os dados de origem\n",
    "CREATE OR REPLACE TEMP VIEW dim_entregas_temp AS\n",
    "SELECT\n",
    "    e.CODIGO AS CODIGO_ENTREGA,\n",
    "    t.NOME AS TRANSPORTADORA,\n",
    "    e.STATUS,\n",
    "    e.DATA_ENVIO,\n",
    "    e.DATA_ENTREGA\n",
    "FROM silver_entregas e\n",
    "LEFT JOIN silver_transportadoras t ON e.CODIGO_TRANSPORTADORA = t.CODIGO;\n",
    "\n",
    "-- Executar o MERGE na tabela de dimensão\n",
    "MERGE INTO dim_entregas AS target\n",
    "USING dim_entregas_temp AS source\n",
    "ON target.CODIGO_ENTREGA = source.CODIGO_ENTREGA\n",
    "WHEN MATCHED THEN\n",
    "  UPDATE SET\n",
    "    target.TRANSPORTADORA = source.TRANSPORTADORA,\n",
    "    target.STATUS = source.STATUS,\n",
    "    target.DATA_ENVIO = source.DATA_ENVIO,\n",
    "    target.DATA_ENTREGA = source.DATA_ENTREGA\n",
    "WHEN NOT MATCHED THEN\n",
    "  INSERT (CODIGO_ENTREGA, TRANSPORTADORA, STATUS, DATA_ENVIO, DATA_ENTREGA)\n",
    "  VALUES (source.CODIGO_ENTREGA, source.TRANSPORTADORA, source.STATUS, source.DATA_ENVIO, source.DATA_ENTREGA);\n"
   ]
  },
  {
   "cell_type": "code",
   "execution_count": 0,
   "metadata": {
    "application/vnd.databricks.v1+cell": {
     "cellMetadata": {
      "byteLimit": 2048000,
      "implicitDf": true,
      "rowLimit": 10000
     },
     "inputWidgets": {},
     "nuid": "33e1c138-6b5e-4c3d-b67f-7bfaaf655468",
     "showTitle": false,
     "tableResultSettingsMap": {},
     "title": ""
    }
   },
   "outputs": [
    {
     "output_type": "display_data",
     "data": {
      "text/html": [
       "<style scoped>\n",
       "  .table-result-container {\n",
       "    max-height: 300px;\n",
       "    overflow: auto;\n",
       "  }\n",
       "  table, th, td {\n",
       "    border: 1px solid black;\n",
       "    border-collapse: collapse;\n",
       "  }\n",
       "  th, td {\n",
       "    padding: 5px;\n",
       "  }\n",
       "  th {\n",
       "    text-align: left;\n",
       "  }\n",
       "</style><div class='table-result-container'><table class='table-result'><thead style='background-color: white'><tr></tr></thead><tbody></tbody></table></div>"
      ]
     },
     "metadata": {
      "application/vnd.databricks.v1+output": {
       "addedWidgets": {},
       "aggData": [],
       "aggError": "",
       "aggOverflow": false,
       "aggSchema": [],
       "aggSeriesLimitReached": false,
       "aggType": "",
       "arguments": {},
       "columnCustomDisplayInfos": {},
       "data": [],
       "datasetInfos": [],
       "dbfsResultPath": null,
       "isJsonSchema": true,
       "metadata": {},
       "overflow": false,
       "plotOptions": {
        "customPlotOptions": {},
        "displayType": "table",
        "pivotAggregation": null,
        "pivotColumns": null,
        "xColumns": null,
        "yColumns": null
       },
       "removedWidgets": [],
       "schema": [],
       "type": "table"
      }
     },
     "output_type": "display_data"
    }
   ],
   "source": [
    "%sql\n",
    "drop table if exists fato_vendas"
   ]
  },
  {
   "cell_type": "code",
   "execution_count": 0,
   "metadata": {
    "application/vnd.databricks.v1+cell": {
     "cellMetadata": {
      "byteLimit": 2048000,
      "implicitDf": true,
      "rowLimit": 10000
     },
     "inputWidgets": {},
     "nuid": "14b8c927-1edd-4735-8b04-6b740c99c964",
     "showTitle": false,
     "tableResultSettingsMap": {},
     "title": ""
    }
   },
   "outputs": [
    {
     "output_type": "display_data",
     "data": {
      "text/html": [
       "<style scoped>\n",
       "  .table-result-container {\n",
       "    max-height: 300px;\n",
       "    overflow: auto;\n",
       "  }\n",
       "  table, th, td {\n",
       "    border: 1px solid black;\n",
       "    border-collapse: collapse;\n",
       "  }\n",
       "  th, td {\n",
       "    padding: 5px;\n",
       "  }\n",
       "  th {\n",
       "    text-align: left;\n",
       "  }\n",
       "</style><div class='table-result-container'><table class='table-result'><thead style='background-color: white'><tr></tr></thead><tbody></tbody></table></div>"
      ]
     },
     "metadata": {
      "application/vnd.databricks.v1+output": {
       "addedWidgets": {},
       "aggData": [],
       "aggError": "",
       "aggOverflow": false,
       "aggSchema": [],
       "aggSeriesLimitReached": false,
       "aggType": "",
       "arguments": {},
       "columnCustomDisplayInfos": {},
       "data": [],
       "datasetInfos": [],
       "dbfsResultPath": null,
       "isJsonSchema": true,
       "metadata": {},
       "overflow": false,
       "plotOptions": {
        "customPlotOptions": {},
        "displayType": "table",
        "pivotAggregation": null,
        "pivotColumns": null,
        "xColumns": null,
        "yColumns": null
       },
       "removedWidgets": [],
       "schema": [],
       "type": "table"
      }
     },
     "output_type": "display_data"
    }
   ],
   "source": [
    "%sql\n",
    "CREATE TABLE IF NOT EXISTS fato_vendas (\n",
    "  ID BIGINT GENERATED ALWAYS AS IDENTITY,  -- SK automática\n",
    "  CLIENTE_SK INT,\n",
    "  PRODUTO_SK INT,\n",
    "  VENDEDOR_SK INT,\n",
    "  TEMPO_SK INT,\n",
    "  FORMA_PAGAMENTO_SK INT,\n",
    "  ENTREGA_SK INT,\n",
    "  QUANTIDADE INT,\n",
    "  PRECO_UNITARIO DECIMAL(10,2),\n",
    "  VALOR_TOTAL DECIMAL(12,2),\n",
    "  TEMPO_ENTREGA_DIAS INT,\n",
    "  NOTA_AVALIACAO INT\n",
    ")\n",
    "USING delta\n",
    "LOCATION '/mnt/datalake922b9abd80170b5b/gold/ecommerce/fato_vendas';\n"
   ]
  },
  {
   "cell_type": "code",
   "execution_count": 0,
   "metadata": {
    "application/vnd.databricks.v1+cell": {
     "cellMetadata": {
      "byteLimit": 2048000,
      "rowLimit": 10000
     },
     "inputWidgets": {},
     "nuid": "7bf98d56-8b84-409d-bed5-0b3bcae41c18",
     "showTitle": false,
     "tableResultSettingsMap": {},
     "title": ""
    }
   },
   "outputs": [
    {
     "output_type": "display_data",
     "data": {
      "text/html": [
       "<style scoped>\n",
       "  .ansiout {\n",
       "    display: block;\n",
       "    unicode-bidi: embed;\n",
       "    white-space: pre-wrap;\n",
       "    word-wrap: break-word;\n",
       "    word-break: break-all;\n",
       "    font-family: \"Menlo\", \"Monaco\", \"Consolas\", \"Ubuntu Mono\", \"Source Code Pro\", monospace;\n",
       "    font-size: 13px;\n",
       "    color: #555;\n",
       "    margin-left: 4px;\n",
       "    line-height: 19px;\n",
       "  }\n",
       "</style>\n",
       "<div class=\"ansiout\"></div>"
      ]
     },
     "metadata": {
      "application/vnd.databricks.v1+output": {
       "addedWidgets": {},
       "arguments": {},
       "data": "<div class=\"ansiout\"></div>",
       "datasetInfos": [],
       "metadata": {},
       "removedWidgets": [],
       "type": "html"
      }
     },
     "output_type": "display_data"
    }
   ],
   "source": [
    "df_pedidos.createOrReplaceTempView(\"pedidos\")\n",
    "df_itens_pedidos.createOrReplaceTempView(\"itens_pedidos\")\n",
    "df_pagamentos.createOrReplaceTempView(\"pagamentos\")\n",
    "df_avaliacoes.createOrReplaceTempView(\"avaliacoes\")\n",
    "df_produtos.createOrReplaceTempView(\"produtos\")\n"
   ]
  },
  {
   "cell_type": "code",
   "execution_count": 0,
   "metadata": {
    "application/vnd.databricks.v1+cell": {
     "cellMetadata": {
      "byteLimit": 2048000,
      "rowLimit": 10000
     },
     "inputWidgets": {},
     "nuid": "50e2880f-22bf-43d0-a16d-5dcbb3158544",
     "showTitle": false,
     "tableResultSettingsMap": {},
     "title": ""
    }
   },
   "outputs": [
    {
     "output_type": "display_data",
     "data": {
      "text/html": [
       "<style scoped>\n",
       "  .ansiout {\n",
       "    display: block;\n",
       "    unicode-bidi: embed;\n",
       "    white-space: pre-wrap;\n",
       "    word-wrap: break-word;\n",
       "    word-break: break-all;\n",
       "    font-family: \"Menlo\", \"Monaco\", \"Consolas\", \"Ubuntu Mono\", \"Source Code Pro\", monospace;\n",
       "    font-size: 13px;\n",
       "    color: #555;\n",
       "    margin-left: 4px;\n",
       "    line-height: 19px;\n",
       "  }\n",
       "</style>\n",
       "<div class=\"ansiout\"></div>"
      ]
     },
     "metadata": {
      "application/vnd.databricks.v1+output": {
       "addedWidgets": {},
       "arguments": {},
       "data": "<div class=\"ansiout\"></div>",
       "datasetInfos": [],
       "metadata": {},
       "removedWidgets": [],
       "type": "html"
      }
     },
     "output_type": "display_data"
    }
   ],
   "source": [
    "spark.read.format(\"delta\").load(\"/mnt/datalake922b9abd80170b5b/gold/ecommerce/dim_clientes\").createOrReplaceTempView(\"dim_clientes\")\n",
    "spark.read.format(\"delta\").load(\"/mnt/datalake922b9abd80170b5b/gold/ecommerce/dim_produtos\").createOrReplaceTempView(\"dim_produtos\")\n",
    "spark.read.format(\"delta\").load(\"/mnt/datalake922b9abd80170b5b/gold/ecommerce/dim_vendedores\").createOrReplaceTempView(\"dim_vendedores\")\n",
    "spark.read.format(\"delta\").load(\"/mnt/datalake922b9abd80170b5b/gold/ecommerce/dim_tempo\").createOrReplaceTempView(\"dim_tempo\")\n",
    "spark.read.format(\"delta\").load(\"/mnt/datalake922b9abd80170b5b/gold/ecommerce/dim_formas_pagamento\").createOrReplaceTempView(\"dim_formas_pagamento\")\n",
    "spark.read.format(\"delta\").load(\"/mnt/datalake922b9abd80170b5b/gold/ecommerce/dim_entregas\").createOrReplaceTempView(\"dim_entregas\")\n"
   ]
  },
  {
   "cell_type": "code",
   "execution_count": 0,
   "metadata": {
    "application/vnd.databricks.v1+cell": {
     "cellMetadata": {
      "byteLimit": 2048000,
      "implicitDf": true,
      "rowLimit": 10000
     },
     "inputWidgets": {},
     "nuid": "63ab3bd3-04a1-4c5c-a9d7-ae6d7c6e095b",
     "showTitle": false,
     "tableResultSettingsMap": {},
     "title": ""
    }
   },
   "outputs": [
    {
     "output_type": "display_data",
     "data": {
      "text/html": [
       "<style scoped>\n",
       "  .table-result-container {\n",
       "    max-height: 300px;\n",
       "    overflow: auto;\n",
       "  }\n",
       "  table, th, td {\n",
       "    border: 1px solid black;\n",
       "    border-collapse: collapse;\n",
       "  }\n",
       "  th, td {\n",
       "    padding: 5px;\n",
       "  }\n",
       "  th {\n",
       "    text-align: left;\n",
       "  }\n",
       "</style><div class='table-result-container'><table class='table-result'><thead style='background-color: white'><tr><th>num_affected_rows</th><th>num_updated_rows</th><th>num_deleted_rows</th><th>num_inserted_rows</th></tr></thead><tbody><tr><td>114115</td><td>0</td><td>0</td><td>114115</td></tr></tbody></table></div>"
      ]
     },
     "metadata": {
      "application/vnd.databricks.v1+output": {
       "addedWidgets": {},
       "aggData": [],
       "aggError": "",
       "aggOverflow": false,
       "aggSchema": [],
       "aggSeriesLimitReached": false,
       "aggType": "",
       "arguments": {},
       "columnCustomDisplayInfos": {},
       "data": [
        [
         114115,
         0,
         0,
         114115
        ]
       ],
       "datasetInfos": [],
       "dbfsResultPath": null,
       "isJsonSchema": true,
       "metadata": {},
       "overflow": false,
       "plotOptions": {
        "customPlotOptions": {},
        "displayType": "table",
        "pivotAggregation": null,
        "pivotColumns": null,
        "xColumns": null,
        "yColumns": null
       },
       "removedWidgets": [],
       "schema": [
        {
         "metadata": "{}",
         "name": "num_affected_rows",
         "type": "\"long\""
        },
        {
         "metadata": "{}",
         "name": "num_updated_rows",
         "type": "\"long\""
        },
        {
         "metadata": "{}",
         "name": "num_deleted_rows",
         "type": "\"long\""
        },
        {
         "metadata": "{}",
         "name": "num_inserted_rows",
         "type": "\"long\""
        }
       ],
       "type": "table"
      }
     },
     "output_type": "display_data"
    }
   ],
   "source": [
    "%sql\n",
    "MERGE INTO fato_vendas AS target\n",
    "USING (\n",
    "  SELECT\n",
    "    dc.ID AS CLIENTE_SK,\n",
    "    dp.ID AS PRODUTO_SK,\n",
    "    dv.ID AS VENDEDOR_SK,\n",
    "    dt.ID AS TEMPO_SK,\n",
    "    dfp.ID AS FORMA_PAGAMENTO_SK,\n",
    "    de.ID AS ENTREGA_SK,\n",
    "    ip.QUANTIDADE,\n",
    "    ip.PRECO_UNITARIO,\n",
    "    ip.QUANTIDADE * ip.PRECO_UNITARIO AS VALOR_TOTAL,\n",
    "    DATEDIFF(de.DATA_ENTREGA, de.DATA_ENVIO) AS TEMPO_ENTREGA_DIAS,\n",
    "    av.NOTA AS NOTA_AVALIACAO\n",
    "  FROM pedidos p\n",
    "  INNER JOIN itens_pedidos ip ON ip.CODIGO_PEDIDO = p.CODIGO\n",
    "  INNER JOIN dim_clientes dc ON dc.CODIGO_CLIENTE = p.CODIGO_CLIENTE\n",
    "  INNER JOIN dim_produtos dp ON dp.CODIGO_PRODUTO = ip.CODIGO_PRODUTO\n",
    "  INNER JOIN produtos pr ON pr.CODIGO = ip.CODIGO_PRODUTO\n",
    "  INNER JOIN dim_vendedores dv ON dv.CODIGO_VENDEDOR = pr.CODIGO_VENDEDOR\n",
    "  INNER JOIN dim_tempo dt ON dt.Data = CAST(p.DATA_PEDCODIGOO AS DATE)\n",
    "  LEFT JOIN pagamentos pg ON pg.CODIGO_PEDIDO = p.CODIGO\n",
    "  LEFT JOIN dim_formas_pagamento dfp ON dfp.CODIGO_FORMA = pg.CODIGO\n",
    "  LEFT JOIN dim_entregas de ON de.CODIGO_ENTREGA = p.CODIGO_ENDERECO_ENTREGA\n",
    "  LEFT JOIN (\n",
    "    SELECT *,\n",
    "           ROW_NUMBER() OVER (PARTITION BY CODIGO_PRODUTO, CODIGO_CLIENTE ORDER BY DATA_AVALIACAO DESC) AS rn\n",
    "    FROM avaliacoes\n",
    "  ) av ON av.CODIGO_PRODUTO = ip.CODIGO_PRODUTO\n",
    "       AND av.CODIGO_CLIENTE = p.CODIGO_CLIENTE\n",
    "       AND av.rn = 1\n",
    ") AS source\n",
    "ON \n",
    "  target.CLIENTE_SK = source.CLIENTE_SK\n",
    "  AND target.PRODUTO_SK = source.PRODUTO_SK\n",
    "  AND target.VENDEDOR_SK = source.VENDEDOR_SK\n",
    "  AND target.TEMPO_SK = source.TEMPO_SK\n",
    "  AND target.FORMA_PAGAMENTO_SK = source.FORMA_PAGAMENTO_SK\n",
    "  AND target.ENTREGA_SK = source.ENTREGA_SK\n",
    "  AND target.QUANTIDADE = source.QUANTIDADE\n",
    "  AND target.PRECO_UNITARIO = source.PRECO_UNITARIO\n",
    "WHEN NOT MATCHED THEN\n",
    "INSERT (\n",
    "  CLIENTE_SK,\n",
    "  PRODUTO_SK,\n",
    "  VENDEDOR_SK,\n",
    "  TEMPO_SK,\n",
    "  FORMA_PAGAMENTO_SK,\n",
    "  ENTREGA_SK,\n",
    "  QUANTIDADE,\n",
    "  PRECO_UNITARIO,\n",
    "  VALOR_TOTAL,\n",
    "  TEMPO_ENTREGA_DIAS,\n",
    "  NOTA_AVALIACAO\n",
    ")\n",
    "VALUES (\n",
    "  source.CLIENTE_SK,\n",
    "  source.PRODUTO_SK,\n",
    "  source.VENDEDOR_SK,\n",
    "  source.TEMPO_SK,\n",
    "  source.FORMA_PAGAMENTO_SK,\n",
    "  source.ENTREGA_SK,\n",
    "  source.QUANTIDADE,\n",
    "  source.PRECO_UNITARIO,\n",
    "  source.VALOR_TOTAL,\n",
    "  source.TEMPO_ENTREGA_DIAS,\n",
    "  source.NOTA_AVALIACAO\n",
    ");\n"
   ]
  },
  {
   "cell_type": "code",
   "execution_count": 0,
   "metadata": {
    "application/vnd.databricks.v1+cell": {
     "cellMetadata": {
      "byteLimit": 2048000,
      "implicitDf": true,
      "rowLimit": 10000
     },
     "inputWidgets": {},
     "nuid": "11f01a6a-7010-4d6b-ba0e-1c344d363b19",
     "showTitle": false,
     "tableResultSettingsMap": {},
     "title": ""
    }
   },
   "outputs": [
    {
     "output_type": "display_data",
     "data": {
      "text/html": [
       "<style scoped>\n",
       "  .table-result-container {\n",
       "    max-height: 300px;\n",
       "    overflow: auto;\n",
       "  }\n",
       "  table, th, td {\n",
       "    border: 1px solid black;\n",
       "    border-collapse: collapse;\n",
       "  }\n",
       "  th, td {\n",
       "    padding: 5px;\n",
       "  }\n",
       "  th {\n",
       "    text-align: left;\n",
       "  }\n",
       "</style><div class='table-result-container'><table class='table-result'><thead style='background-color: white'><tr><th>CLIENTE_SK</th><th>PRODUTO_SK</th><th>VENDEDOR_SK</th><th>TEMPO_SK</th><th>FORMA_PAGAMENTO_SK</th><th>ENTREGA_SK</th><th>QUANTIDADE</th><th>PRECO_UNITARIO</th><th>VALOR_TOTAL</th><th>TEMPO_ENTREGA_DIAS</th><th>NOTA_AVALIACAO</th></tr></thead><tbody><tr><td>5108</td><td>698</td><td>834</td><td>20221011</td><td>10</td><td>6872</td><td>5</td><td>318.84</td><td>1594.1999999999998</td><td>0</td><td>null</td></tr><tr><td>5107</td><td>698</td><td>834</td><td>20221011</td><td>10</td><td>6872</td><td>5</td><td>318.84</td><td>1594.1999999999998</td><td>0</td><td>null</td></tr><tr><td>5106</td><td>698</td><td>834</td><td>20221011</td><td>10</td><td>6872</td><td>5</td><td>318.84</td><td>1594.1999999999998</td><td>0</td><td>null</td></tr><tr><td>5105</td><td>698</td><td>834</td><td>20221011</td><td>10</td><td>6872</td><td>5</td><td>318.84</td><td>1594.1999999999998</td><td>0</td><td>null</td></tr><tr><td>7419</td><td>29518</td><td>591</td><td>20240713</td><td>5</td><td>5999</td><td>2</td><td>701.85</td><td>1403.7</td><td>5</td><td>null</td></tr><tr><td>7418</td><td>29518</td><td>591</td><td>20240713</td><td>5</td><td>5999</td><td>2</td><td>701.85</td><td>1403.7</td><td>5</td><td>null</td></tr><tr><td>7417</td><td>29518</td><td>591</td><td>20240713</td><td>5</td><td>5999</td><td>2</td><td>701.85</td><td>1403.7</td><td>5</td><td>null</td></tr><tr><td>7416</td><td>29518</td><td>591</td><td>20240713</td><td>5</td><td>5999</td><td>2</td><td>701.85</td><td>1403.7</td><td>5</td><td>null</td></tr><tr><td>5080</td><td>7319</td><td>439</td><td>20221116</td><td>3</td><td>6468</td><td>2</td><td>453.76</td><td>907.52</td><td>5</td><td>null</td></tr><tr><td>7419</td><td>3157</td><td>139</td><td>20240713</td><td>5</td><td>5999</td><td>2</td><td>530.49</td><td>1060.98</td><td>5</td><td>null</td></tr><tr><td>7418</td><td>3157</td><td>139</td><td>20240713</td><td>5</td><td>5999</td><td>2</td><td>530.49</td><td>1060.98</td><td>5</td><td>null</td></tr><tr><td>7417</td><td>3157</td><td>139</td><td>20240713</td><td>5</td><td>5999</td><td>2</td><td>530.49</td><td>1060.98</td><td>5</td><td>null</td></tr><tr><td>7416</td><td>3157</td><td>139</td><td>20240713</td><td>5</td><td>5999</td><td>2</td><td>530.49</td><td>1060.98</td><td>5</td><td>null</td></tr><tr><td>1056</td><td>2703</td><td>403</td><td>20250121</td><td>6</td><td>4162</td><td>3</td><td>493.38</td><td>1480.1399999999999</td><td>8</td><td>null</td></tr><tr><td>1055</td><td>2703</td><td>403</td><td>20250121</td><td>6</td><td>4162</td><td>3</td><td>493.38</td><td>1480.1399999999999</td><td>8</td><td>null</td></tr><tr><td>1206</td><td>11342</td><td>644</td><td>20240408</td><td>11</td><td>1461</td><td>1</td><td>874.41</td><td>874.41</td><td>8</td><td>null</td></tr><tr><td>5108</td><td>26184</td><td>89</td><td>20221011</td><td>10</td><td>6872</td><td>5</td><td>375.57</td><td>1877.85</td><td>0</td><td>null</td></tr><tr><td>5107</td><td>26184</td><td>89</td><td>20221011</td><td>10</td><td>6872</td><td>5</td><td>375.57</td><td>1877.85</td><td>0</td><td>null</td></tr><tr><td>5106</td><td>26184</td><td>89</td><td>20221011</td><td>10</td><td>6872</td><td>5</td><td>375.57</td><td>1877.85</td><td>0</td><td>null</td></tr><tr><td>5105</td><td>26184</td><td>89</td><td>20221011</td><td>10</td><td>6872</td><td>5</td><td>375.57</td><td>1877.85</td><td>0</td><td>null</td></tr><tr><td>4136</td><td>17214</td><td>623</td><td>20220812</td><td>8</td><td>9445</td><td>1</td><td>100.92</td><td>100.92</td><td>21</td><td>null</td></tr><tr><td>4135</td><td>17214</td><td>623</td><td>20220812</td><td>8</td><td>9445</td><td>1</td><td>100.92</td><td>100.92</td><td>21</td><td>null</td></tr><tr><td>4134</td><td>17214</td><td>623</td><td>20220812</td><td>8</td><td>9445</td><td>1</td><td>100.92</td><td>100.92</td><td>21</td><td>null</td></tr><tr><td>6080</td><td>28317</td><td>893</td><td>20250111</td><td>2</td><td>7454</td><td>3</td><td>499.88</td><td>1499.6399999999999</td><td>3</td><td>null</td></tr><tr><td>6079</td><td>28317</td><td>893</td><td>20250111</td><td>2</td><td>7454</td><td>3</td><td>499.88</td><td>1499.6399999999999</td><td>3</td><td>null</td></tr><tr><td>5108</td><td>23791</td><td>374</td><td>20221011</td><td>10</td><td>6872</td><td>3</td><td>45.60</td><td>136.8</td><td>0</td><td>null</td></tr><tr><td>5107</td><td>23791</td><td>374</td><td>20221011</td><td>10</td><td>6872</td><td>3</td><td>45.60</td><td>136.8</td><td>0</td><td>null</td></tr><tr><td>5106</td><td>23791</td><td>374</td><td>20221011</td><td>10</td><td>6872</td><td>3</td><td>45.60</td><td>136.8</td><td>0</td><td>null</td></tr><tr><td>5105</td><td>23791</td><td>374</td><td>20221011</td><td>10</td><td>6872</td><td>3</td><td>45.60</td><td>136.8</td><td>0</td><td>null</td></tr><tr><td>1056</td><td>14250</td><td>57</td><td>20250121</td><td>6</td><td>4162</td><td>4</td><td>748.77</td><td>2995.08</td><td>8</td><td>null</td></tr><tr><td>1055</td><td>14250</td><td>57</td><td>20250121</td><td>6</td><td>4162</td><td>4</td><td>748.77</td><td>2995.08</td><td>8</td><td>null</td></tr><tr><td>5080</td><td>5137</td><td>409</td><td>20221116</td><td>3</td><td>6468</td><td>5</td><td>606.33</td><td>3031.65</td><td>5</td><td>null</td></tr><tr><td>5108</td><td>11931</td><td>251</td><td>20221011</td><td>10</td><td>6872</td><td>1</td><td>497.03</td><td>497.03</td><td>0</td><td>null</td></tr><tr><td>5107</td><td>11931</td><td>251</td><td>20221011</td><td>10</td><td>6872</td><td>1</td><td>497.03</td><td>497.03</td><td>0</td><td>null</td></tr><tr><td>5106</td><td>11931</td><td>251</td><td>20221011</td><td>10</td><td>6872</td><td>1</td><td>497.03</td><td>497.03</td><td>0</td><td>null</td></tr><tr><td>5105</td><td>11931</td><td>251</td><td>20221011</td><td>10</td><td>6872</td><td>1</td><td>497.03</td><td>497.03</td><td>0</td><td>null</td></tr><tr><td>4136</td><td>15056</td><td>120</td><td>20220812</td><td>8</td><td>9445</td><td>1</td><td>582.87</td><td>582.87</td><td>21</td><td>null</td></tr><tr><td>4135</td><td>15056</td><td>120</td><td>20220812</td><td>8</td><td>9445</td><td>1</td><td>582.87</td><td>582.87</td><td>21</td><td>null</td></tr><tr><td>4134</td><td>15056</td><td>120</td><td>20220812</td><td>8</td><td>9445</td><td>1</td><td>582.87</td><td>582.87</td><td>21</td><td>null</td></tr><tr><td>7419</td><td>9617</td><td>61</td><td>20240713</td><td>5</td><td>5999</td><td>5</td><td>877.65</td><td>4388.25</td><td>5</td><td>null</td></tr><tr><td>7418</td><td>9617</td><td>61</td><td>20240713</td><td>5</td><td>5999</td><td>5</td><td>877.65</td><td>4388.25</td><td>5</td><td>null</td></tr><tr><td>7417</td><td>9617</td><td>61</td><td>20240713</td><td>5</td><td>5999</td><td>5</td><td>877.65</td><td>4388.25</td><td>5</td><td>null</td></tr><tr><td>7416</td><td>9617</td><td>61</td><td>20240713</td><td>5</td><td>5999</td><td>5</td><td>877.65</td><td>4388.25</td><td>5</td><td>null</td></tr><tr><td>7419</td><td>8588</td><td>365</td><td>20240713</td><td>5</td><td>5999</td><td>1</td><td>399.57</td><td>399.57</td><td>5</td><td>null</td></tr><tr><td>7418</td><td>8588</td><td>365</td><td>20240713</td><td>5</td><td>5999</td><td>1</td><td>399.57</td><td>399.57</td><td>5</td><td>null</td></tr><tr><td>7417</td><td>8588</td><td>365</td><td>20240713</td><td>5</td><td>5999</td><td>1</td><td>399.57</td><td>399.57</td><td>5</td><td>null</td></tr><tr><td>7416</td><td>8588</td><td>365</td><td>20240713</td><td>5</td><td>5999</td><td>1</td><td>399.57</td><td>399.57</td><td>5</td><td>null</td></tr><tr><td>5648</td><td>17077</td><td>462</td><td>20220731</td><td>7</td><td>331</td><td>5</td><td>522.76</td><td>2613.8</td><td>27</td><td>null</td></tr><tr><td>5647</td><td>17077</td><td>462</td><td>20220731</td><td>7</td><td>331</td><td>5</td><td>522.76</td><td>2613.8</td><td>27</td><td>null</td></tr><tr><td>5108</td><td>1983</td><td>516</td><td>20221011</td><td>10</td><td>6872</td><td>3</td><td>194.51</td><td>583.53</td><td>0</td><td>null</td></tr><tr><td>5107</td><td>1983</td><td>516</td><td>20221011</td><td>10</td><td>6872</td><td>3</td><td>194.51</td><td>583.53</td><td>0</td><td>null</td></tr><tr><td>5106</td><td>1983</td><td>516</td><td>20221011</td><td>10</td><td>6872</td><td>3</td><td>194.51</td><td>583.53</td><td>0</td><td>null</td></tr><tr><td>5105</td><td>1983</td><td>516</td><td>20221011</td><td>10</td><td>6872</td><td>3</td><td>194.51</td><td>583.53</td><td>0</td><td>null</td></tr><tr><td>1206</td><td>25346</td><td>297</td><td>20240408</td><td>11</td><td>1461</td><td>1</td><td>783.09</td><td>783.09</td><td>8</td><td>null</td></tr><tr><td>7419</td><td>8243</td><td>298</td><td>20240713</td><td>5</td><td>5999</td><td>1</td><td>905.14</td><td>905.14</td><td>5</td><td>null</td></tr><tr><td>7418</td><td>8243</td><td>298</td><td>20240713</td><td>5</td><td>5999</td><td>1</td><td>905.14</td><td>905.14</td><td>5</td><td>null</td></tr><tr><td>7417</td><td>8243</td><td>298</td><td>20240713</td><td>5</td><td>5999</td><td>1</td><td>905.14</td><td>905.14</td><td>5</td><td>null</td></tr><tr><td>7416</td><td>8243</td><td>298</td><td>20240713</td><td>5</td><td>5999</td><td>1</td><td>905.14</td><td>905.14</td><td>5</td><td>null</td></tr><tr><td>1206</td><td>12240</td><td>719</td><td>20240408</td><td>11</td><td>1461</td><td>1</td><td>579.83</td><td>579.83</td><td>8</td><td>null</td></tr><tr><td>2499</td><td>9926</td><td>728</td><td>20250613</td><td>4</td><td>2290</td><td>1</td><td>803.17</td><td>803.17</td><td>22</td><td>null</td></tr><tr><td>1056</td><td>13593</td><td>683</td><td>20250121</td><td>6</td><td>4162</td><td>2</td><td>722.56</td><td>1445.12</td><td>8</td><td>null</td></tr><tr><td>1055</td><td>13593</td><td>683</td><td>20250121</td><td>6</td><td>4162</td><td>2</td><td>722.56</td><td>1445.12</td><td>8</td><td>null</td></tr></tbody></table></div>"
      ]
     },
     "metadata": {
      "application/vnd.databricks.v1+output": {
       "addedWidgets": {},
       "aggData": [],
       "aggError": "",
       "aggOverflow": false,
       "aggSchema": [],
       "aggSeriesLimitReached": false,
       "aggType": "",
       "arguments": {},
       "columnCustomDisplayInfos": {},
       "data": [
        [
         5108,
         698,
         834,
         20221011,
         10,
         6872,
         "5",
         "318.84",
         1594.1999999999998,
         0,
         null
        ],
        [
         5107,
         698,
         834,
         20221011,
         10,
         6872,
         "5",
         "318.84",
         1594.1999999999998,
         0,
         null
        ],
        [
         5106,
         698,
         834,
         20221011,
         10,
         6872,
         "5",
         "318.84",
         1594.1999999999998,
         0,
         null
        ],
        [
         5105,
         698,
         834,
         20221011,
         10,
         6872,
         "5",
         "318.84",
         1594.1999999999998,
         0,
         null
        ],
        [
         7419,
         29518,
         591,
         20240713,
         5,
         5999,
         "2",
         "701.85",
         1403.7,
         5,
         null
        ],
        [
         7418,
         29518,
         591,
         20240713,
         5,
         5999,
         "2",
         "701.85",
         1403.7,
         5,
         null
        ],
        [
         7417,
         29518,
         591,
         20240713,
         5,
         5999,
         "2",
         "701.85",
         1403.7,
         5,
         null
        ],
        [
         7416,
         29518,
         591,
         20240713,
         5,
         5999,
         "2",
         "701.85",
         1403.7,
         5,
         null
        ],
        [
         5080,
         7319,
         439,
         20221116,
         3,
         6468,
         "2",
         "453.76",
         907.52,
         5,
         null
        ],
        [
         7419,
         3157,
         139,
         20240713,
         5,
         5999,
         "2",
         "530.49",
         1060.98,
         5,
         null
        ],
        [
         7418,
         3157,
         139,
         20240713,
         5,
         5999,
         "2",
         "530.49",
         1060.98,
         5,
         null
        ],
        [
         7417,
         3157,
         139,
         20240713,
         5,
         5999,
         "2",
         "530.49",
         1060.98,
         5,
         null
        ],
        [
         7416,
         3157,
         139,
         20240713,
         5,
         5999,
         "2",
         "530.49",
         1060.98,
         5,
         null
        ],
        [
         1056,
         2703,
         403,
         20250121,
         6,
         4162,
         "3",
         "493.38",
         1480.1399999999999,
         8,
         null
        ],
        [
         1055,
         2703,
         403,
         20250121,
         6,
         4162,
         "3",
         "493.38",
         1480.1399999999999,
         8,
         null
        ],
        [
         1206,
         11342,
         644,
         20240408,
         11,
         1461,
         "1",
         "874.41",
         874.41,
         8,
         null
        ],
        [
         5108,
         26184,
         89,
         20221011,
         10,
         6872,
         "5",
         "375.57",
         1877.85,
         0,
         null
        ],
        [
         5107,
         26184,
         89,
         20221011,
         10,
         6872,
         "5",
         "375.57",
         1877.85,
         0,
         null
        ],
        [
         5106,
         26184,
         89,
         20221011,
         10,
         6872,
         "5",
         "375.57",
         1877.85,
         0,
         null
        ],
        [
         5105,
         26184,
         89,
         20221011,
         10,
         6872,
         "5",
         "375.57",
         1877.85,
         0,
         null
        ],
        [
         4136,
         17214,
         623,
         20220812,
         8,
         9445,
         "1",
         "100.92",
         100.92,
         21,
         null
        ],
        [
         4135,
         17214,
         623,
         20220812,
         8,
         9445,
         "1",
         "100.92",
         100.92,
         21,
         null
        ],
        [
         4134,
         17214,
         623,
         20220812,
         8,
         9445,
         "1",
         "100.92",
         100.92,
         21,
         null
        ],
        [
         6080,
         28317,
         893,
         20250111,
         2,
         7454,
         "3",
         "499.88",
         1499.6399999999999,
         3,
         null
        ],
        [
         6079,
         28317,
         893,
         20250111,
         2,
         7454,
         "3",
         "499.88",
         1499.6399999999999,
         3,
         null
        ],
        [
         5108,
         23791,
         374,
         20221011,
         10,
         6872,
         "3",
         "45.60",
         136.8,
         0,
         null
        ],
        [
         5107,
         23791,
         374,
         20221011,
         10,
         6872,
         "3",
         "45.60",
         136.8,
         0,
         null
        ],
        [
         5106,
         23791,
         374,
         20221011,
         10,
         6872,
         "3",
         "45.60",
         136.8,
         0,
         null
        ],
        [
         5105,
         23791,
         374,
         20221011,
         10,
         6872,
         "3",
         "45.60",
         136.8,
         0,
         null
        ],
        [
         1056,
         14250,
         57,
         20250121,
         6,
         4162,
         "4",
         "748.77",
         2995.08,
         8,
         null
        ],
        [
         1055,
         14250,
         57,
         20250121,
         6,
         4162,
         "4",
         "748.77",
         2995.08,
         8,
         null
        ],
        [
         5080,
         5137,
         409,
         20221116,
         3,
         6468,
         "5",
         "606.33",
         3031.65,
         5,
         null
        ],
        [
         5108,
         11931,
         251,
         20221011,
         10,
         6872,
         "1",
         "497.03",
         497.03,
         0,
         null
        ],
        [
         5107,
         11931,
         251,
         20221011,
         10,
         6872,
         "1",
         "497.03",
         497.03,
         0,
         null
        ],
        [
         5106,
         11931,
         251,
         20221011,
         10,
         6872,
         "1",
         "497.03",
         497.03,
         0,
         null
        ],
        [
         5105,
         11931,
         251,
         20221011,
         10,
         6872,
         "1",
         "497.03",
         497.03,
         0,
         null
        ],
        [
         4136,
         15056,
         120,
         20220812,
         8,
         9445,
         "1",
         "582.87",
         582.87,
         21,
         null
        ],
        [
         4135,
         15056,
         120,
         20220812,
         8,
         9445,
         "1",
         "582.87",
         582.87,
         21,
         null
        ],
        [
         4134,
         15056,
         120,
         20220812,
         8,
         9445,
         "1",
         "582.87",
         582.87,
         21,
         null
        ],
        [
         7419,
         9617,
         61,
         20240713,
         5,
         5999,
         "5",
         "877.65",
         4388.25,
         5,
         null
        ],
        [
         7418,
         9617,
         61,
         20240713,
         5,
         5999,
         "5",
         "877.65",
         4388.25,
         5,
         null
        ],
        [
         7417,
         9617,
         61,
         20240713,
         5,
         5999,
         "5",
         "877.65",
         4388.25,
         5,
         null
        ],
        [
         7416,
         9617,
         61,
         20240713,
         5,
         5999,
         "5",
         "877.65",
         4388.25,
         5,
         null
        ],
        [
         7419,
         8588,
         365,
         20240713,
         5,
         5999,
         "1",
         "399.57",
         399.57,
         5,
         null
        ],
        [
         7418,
         8588,
         365,
         20240713,
         5,
         5999,
         "1",
         "399.57",
         399.57,
         5,
         null
        ],
        [
         7417,
         8588,
         365,
         20240713,
         5,
         5999,
         "1",
         "399.57",
         399.57,
         5,
         null
        ],
        [
         7416,
         8588,
         365,
         20240713,
         5,
         5999,
         "1",
         "399.57",
         399.57,
         5,
         null
        ],
        [
         5648,
         17077,
         462,
         20220731,
         7,
         331,
         "5",
         "522.76",
         2613.8,
         27,
         null
        ],
        [
         5647,
         17077,
         462,
         20220731,
         7,
         331,
         "5",
         "522.76",
         2613.8,
         27,
         null
        ],
        [
         5108,
         1983,
         516,
         20221011,
         10,
         6872,
         "3",
         "194.51",
         583.53,
         0,
         null
        ],
        [
         5107,
         1983,
         516,
         20221011,
         10,
         6872,
         "3",
         "194.51",
         583.53,
         0,
         null
        ],
        [
         5106,
         1983,
         516,
         20221011,
         10,
         6872,
         "3",
         "194.51",
         583.53,
         0,
         null
        ],
        [
         5105,
         1983,
         516,
         20221011,
         10,
         6872,
         "3",
         "194.51",
         583.53,
         0,
         null
        ],
        [
         1206,
         25346,
         297,
         20240408,
         11,
         1461,
         "1",
         "783.09",
         783.09,
         8,
         null
        ],
        [
         7419,
         8243,
         298,
         20240713,
         5,
         5999,
         "1",
         "905.14",
         905.14,
         5,
         null
        ],
        [
         7418,
         8243,
         298,
         20240713,
         5,
         5999,
         "1",
         "905.14",
         905.14,
         5,
         null
        ],
        [
         7417,
         8243,
         298,
         20240713,
         5,
         5999,
         "1",
         "905.14",
         905.14,
         5,
         null
        ],
        [
         7416,
         8243,
         298,
         20240713,
         5,
         5999,
         "1",
         "905.14",
         905.14,
         5,
         null
        ],
        [
         1206,
         12240,
         719,
         20240408,
         11,
         1461,
         "1",
         "579.83",
         579.83,
         8,
         null
        ],
        [
         2499,
         9926,
         728,
         20250613,
         4,
         2290,
         "1",
         "803.17",
         803.17,
         22,
         null
        ],
        [
         1056,
         13593,
         683,
         20250121,
         6,
         4162,
         "2",
         "722.56",
         1445.12,
         8,
         null
        ],
        [
         1055,
         13593,
         683,
         20250121,
         6,
         4162,
         "2",
         "722.56",
         1445.12,
         8,
         null
        ]
       ],
       "datasetInfos": [],
       "dbfsResultPath": null,
       "isJsonSchema": true,
       "metadata": {},
       "overflow": false,
       "plotOptions": {
        "customPlotOptions": {},
        "displayType": "table",
        "pivotAggregation": null,
        "pivotColumns": null,
        "xColumns": null,
        "yColumns": null
       },
       "removedWidgets": [],
       "schema": [
        {
         "metadata": "{}",
         "name": "CLIENTE_SK",
         "type": "\"long\""
        },
        {
         "metadata": "{}",
         "name": "PRODUTO_SK",
         "type": "\"long\""
        },
        {
         "metadata": "{}",
         "name": "VENDEDOR_SK",
         "type": "\"long\""
        },
        {
         "metadata": "{}",
         "name": "TEMPO_SK",
         "type": "\"integer\""
        },
        {
         "metadata": "{}",
         "name": "FORMA_PAGAMENTO_SK",
         "type": "\"long\""
        },
        {
         "metadata": "{}",
         "name": "ENTREGA_SK",
         "type": "\"long\""
        },
        {
         "metadata": "{}",
         "name": "QUANTIDADE",
         "type": "\"string\""
        },
        {
         "metadata": "{}",
         "name": "PRECO_UNITARIO",
         "type": "\"string\""
        },
        {
         "metadata": "{}",
         "name": "VALOR_TOTAL",
         "type": "\"double\""
        },
        {
         "metadata": "{}",
         "name": "TEMPO_ENTREGA_DIAS",
         "type": "\"integer\""
        },
        {
         "metadata": "{}",
         "name": "NOTA_AVALIACAO",
         "type": "\"string\""
        }
       ],
       "type": "table"
      }
     },
     "output_type": "display_data"
    }
   ],
   "source": [
    "%sql\n",
    "SELECT\n",
    "  dc.ID AS CLIENTE_SK,\n",
    "  dp.ID AS PRODUTO_SK,\n",
    "  dv.ID AS VENDEDOR_SK,\n",
    "  dt.ID AS TEMPO_SK,\n",
    "  dfp.ID AS FORMA_PAGAMENTO_SK,\n",
    "  de.ID AS ENTREGA_SK,\n",
    "  ip.QUANTIDADE,\n",
    "  ip.PRECO_UNITARIO,\n",
    "  ip.QUANTIDADE * ip.PRECO_UNITARIO AS VALOR_TOTAL,\n",
    "  DATEDIFF(de.DATA_ENTREGA, de.DATA_ENVIO) AS TEMPO_ENTREGA_DIAS,\n",
    "  av.NOTA AS NOTA_AVALIACAO\n",
    "FROM pedidos p\n",
    "INNER JOIN itens_pedidos ip ON ip.CODIGO_PEDIDO = p.CODIGO\n",
    "INNER JOIN dim_clientes dc ON dc.CODIGO_CLIENTE = p.CODIGO_CLIENTE\n",
    "INNER JOIN dim_produtos dp ON dp.CODIGO_PRODUTO = ip.CODIGO_PRODUTO\n",
    "INNER JOIN produtos pr ON pr.CODIGO = ip.CODIGO_PRODUTO\n",
    "INNER JOIN dim_vendedores dv ON dv.CODIGO_VENDEDOR = pr.CODIGO_VENDEDOR\n",
    "INNER JOIN dim_tempo dt ON dt.Data = CAST(p.DATA_PEDCODIGOO AS DATE)\n",
    "INNER JOIN pagamentos pg ON pg.CODIGO_PEDIDO = p.CODIGO\n",
    "INNER JOIN dim_formas_pagamento dfp ON dfp.CODIGO_FORMA = pg.CODIGO\n",
    "LEFT JOIN dim_entregas de ON de.CODIGO_ENTREGA = p.CODIGO_ENDERECO_ENTREGA\n",
    "LEFT JOIN (\n",
    "  SELECT *,\n",
    "    ROW_NUMBER() OVER (PARTITION BY CODIGO_PRODUTO, CODIGO_CLIENTE ORDER BY DATA_AVALIACAO DESC) AS rn\n",
    "  FROM avaliacoes\n",
    ") av ON av.CODIGO_PRODUTO = ip.CODIGO_PRODUTO\n",
    "     AND av.CODIGO_CLIENTE = p.CODIGO_CLIENTE\n",
    "     AND av.rn = 1\n"
   ]
  },
  {
   "cell_type": "code",
   "execution_count": 0,
   "metadata": {
    "application/vnd.databricks.v1+cell": {
     "cellMetadata": {
      "byteLimit": 2048000,
      "implicitDf": true,
      "rowLimit": 10000
     },
     "inputWidgets": {},
     "nuid": "690fac8d-089b-4681-9619-c84e57f54e32",
     "showTitle": false,
     "tableResultSettingsMap": {},
     "title": ""
    }
   },
   "outputs": [
    {
     "output_type": "display_data",
     "data": {
      "text/html": [
       "<style scoped>\n",
       "  .table-result-container {\n",
       "    max-height: 300px;\n",
       "    overflow: auto;\n",
       "  }\n",
       "  table, th, td {\n",
       "    border: 1px solid black;\n",
       "    border-collapse: collapse;\n",
       "  }\n",
       "  th, td {\n",
       "    padding: 5px;\n",
       "  }\n",
       "  th {\n",
       "    text-align: left;\n",
       "  }\n",
       "</style><div class='table-result-container'><table class='table-result'><thead style='background-color: white'><tr><th>count(1)</th></tr></thead><tbody><tr><td>3330</td></tr></tbody></table></div>"
      ]
     },
     "metadata": {
      "application/vnd.databricks.v1+output": {
       "addedWidgets": {},
       "aggData": [],
       "aggError": "",
       "aggOverflow": false,
       "aggSchema": [],
       "aggSeriesLimitReached": false,
       "aggType": "",
       "arguments": {},
       "columnCustomDisplayInfos": {},
       "data": [
        [
         3330
        ]
       ],
       "datasetInfos": [],
       "dbfsResultPath": null,
       "isJsonSchema": true,
       "metadata": {},
       "overflow": false,
       "plotOptions": {
        "customPlotOptions": {},
        "displayType": "table",
        "pivotAggregation": null,
        "pivotColumns": null,
        "xColumns": null,
        "yColumns": null
       },
       "removedWidgets": [],
       "schema": [
        {
         "metadata": "{\"__autoGeneratedAlias\":\"true\"}",
         "name": "count(1)",
         "type": "\"long\""
        }
       ],
       "type": "table"
      }
     },
     "output_type": "display_data"
    }
   ],
   "source": [
    "%sql\n",
    "SELECT COUNT(*) \n",
    "FROM pedidos p\n",
    "LEFT JOIN pagamentos pg ON pg.CODIGO_PEDIDO = p.CODIGO\n",
    "WHERE pg.CODIGO_PEDIDO IS NULL;\n",
    "\n",
    "\n",
    "\n",
    "\n",
    "\n",
    "\n"
   ]
  }
 ],
 "metadata": {
  "application/vnd.databricks.v1+notebook": {
   "computePreferences": null,
   "dashboards": [],
   "environmentMetadata": null,
   "inputWidgetPreferences": null,
   "language": "python",
   "notebookMetadata": {
    "mostRecentlyExecutedCommandWithImplicitDF": {
     "commandId": 4784841283985475,
     "dataframes": [
      "_sqldf"
     ]
    },
    "pythonIndentUnit": 4
   },
   "notebookName": "notebook_gold",
   "widgets": {}
  },
  "language_info": {
   "name": "python"
  }
 },
 "nbformat": 4,
 "nbformat_minor": 0
}