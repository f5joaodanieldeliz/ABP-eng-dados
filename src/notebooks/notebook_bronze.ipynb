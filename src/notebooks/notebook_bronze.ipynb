{
 "cells": [
  {
   "cell_type": "code",
   "execution_count": 0,
   "metadata": {
    "application/vnd.databricks.v1+cell": {
     "cellMetadata": {},
     "inputWidgets": {},
     "nuid": "0c5ef559-81a9-491f-84b6-316094694755",
     "showTitle": false,
     "tableResultSettingsMap": {},
     "title": ""
    }
   },
   "outputs": [],
   "source": [
    "storageAccountName = \"\"\n",
    "storageAccountAccessKey = \"\"\n",
    "sasToken = \"\"\n",
    "def mount_adls(blobContainerName):\n",
    "    try:\n",
    "      dbutils.fs.mount(\n",
    "        source = \"wasbs://{}@{}.blob.core.windows.net\".format(blobContainerName, storageAccountName),\n",
    "        mount_point = f\"/mnt/{storageAccountName}/{blobContainerName}\",\n",
    "        #extra_configs = {'fs.azure.account.key.' + storageAccountName + '.blob.core.windows.net': storageAccountAccessKey}\n",
    "        extra_configs = {'fs.azure.sas.' + blobContainerName + '.' + storageAccountName + '.blob.core.windows.net': sasToken}\n",
    "      )\n",
    "      print(\"OK!\")\n",
    "    except Exception as e:\n",
    "      print(\"Falha\", e)"
   ]
  },
  {
   "cell_type": "code",
   "execution_count": 0,
   "metadata": {
    "application/vnd.databricks.v1+cell": {
     "cellMetadata": {
      "byteLimit": 2048000,
      "rowLimit": 10000
     },
     "inputWidgets": {},
     "nuid": "c2bea950-5918-46f5-a6a1-b0bcb0dfd338",
     "showTitle": false,
     "tableResultSettingsMap": {},
     "title": ""
    }
   },
   "outputs": [],
   "source": [
    "#dbutils.fs.unmount('/mnt/datalakec47b4098c7f22fbc/landing-zone')\n",
    "#dbutils.fs.unmount('/mnt/datalakec47b4098c7f22fbc/bronze')\n",
    "#dbutils.fs.unmount('/mnt/datalakec47b4098c7f22fbc/silver')\n",
    "#dbutils.fs.unmount('/mnt/datalakec47b4098c7f22fbc/gold')\n",
    "'''\n",
    "containers = [\"landing-zone\", \"bronze\", \"silver\", \"gold\"]\n",
    "\n",
    "for container in containers:\n",
    "    try:\n",
    "        dbutils.fs.unmount(f\"/mnt/{storageAccountName}/{container}\")\n",
    "        print(f\"{container} desmontado com sucesso.\")\n",
    "    except Exception as e:\n",
    "        print(f\"Falha ao desmontar {container}:\", e)\n",
    "'''"
   ]
  },
  {
   "cell_type": "code",
   "execution_count": 0,
   "metadata": {
    "application/vnd.databricks.v1+cell": {
     "cellMetadata": {
      "byteLimit": 2048000,
      "rowLimit": 10000
     },
     "inputWidgets": {},
     "nuid": "8d62fdfc-2dc8-4465-98fd-834ac8ae9404",
     "showTitle": false,
     "tableResultSettingsMap": {},
     "title": ""
    }
   },
   "outputs": [],
   "source": [
    "mount_adls('landing-zone')\n",
    "mount_adls('bronze')\n",
    "mount_adls('silver')\n",
    "mount_adls('gold')"
   ]
  },
  {
   "cell_type": "code",
   "execution_count": 0,
   "metadata": {
    "application/vnd.databricks.v1+cell": {
     "cellMetadata": {
      "byteLimit": 2048000,
      "rowLimit": 10000
     },
     "inputWidgets": {},
     "nuid": "37774595-e2cd-4ba0-92aa-4a6f239c0e7b",
     "showTitle": false,
     "tableResultSettingsMap": {},
     "title": ""
    }
   },
   "outputs": [],
   "source": [
    "# Vendedores\n",
    "df_vendedores_raw = spark.read.option(\"header\", \"false\").csv(f\"/mnt/{storageAccountName}/landing-zone/ecommerce/vendedores.csv\")\n",
    "colunas_vendedores = [\"id\", \"nome\", \"email\", \"telefone\", \"data_cadastro\"]\n",
    "df_vendedores = df_vendedores_raw.toDF(*colunas_vendedores)\n",
    "\n",
    "# Clientes\n",
    "df_clientes_raw = spark.read.option(\"header\", \"false\").csv(f\"/mnt/{storageAccountName}/landing-zone/ecommerce/clientes.csv\")\n",
    "colunas_clientes = [\"id\", \"nome\", \"email\", \"telefone\", \"data_cadastro\"]\n",
    "df_clientes = df_clientes_raw.toDF(*colunas_clientes)\n",
    "\n",
    "# Categorias\n",
    "df_categorias_raw = spark.read.option(\"header\", \"false\").csv(f\"/mnt/{storageAccountName}/landing-zone/ecommerce/categorias.csv\")\n",
    "colunas_categorias = [\"id\", \"nome\", \"descricao\"]\n",
    "df_categorias = df_categorias_raw.toDF(*colunas_categorias)\n",
    "\n",
    "# Estoque\n",
    "df_estoque_raw = spark.read.option(\"header\", \"false\").csv(f\"/mnt/{storageAccountName}/landing-zone/ecommerce/estoque.csv\")\n",
    "colunas_estoque = [\"id\", \"produto_id\", \"quantidade\"]\n",
    "df_estoque = df_estoque_raw.toDF(*colunas_estoque)\n",
    "\n",
    "# Pagamentos\n",
    "df_pagamentos_raw = spark.read.option(\"header\", \"false\").csv(f\"/mnt/{storageAccountName}/landing-zone/ecommerce/pagamentos.csv\")\n",
    "colunas_pagamentos = [\"id\", \"pedido_id\", \"forma_pagamento_id\", \"valor_pago\", \"data_pagamento\", \"status\"]\n",
    "df_pagamentos = df_pagamentos_raw.toDF(*colunas_pagamentos)\n",
    "\n",
    "# Entregas\n",
    "df_entregas_raw = spark.read.option(\"header\", \"false\").csv(f\"/mnt/{storageAccountName}/landing-zone/ecommerce/entregas.csv\")\n",
    "colunas_entregas = [\"id\", \"pedido_id\", \"transportadora_id\", \"data_envio\", \"data_entrega\", \"status\"]\n",
    "df_entregas = df_entregas_raw.toDF(*colunas_entregas)\n",
    "\n",
    "# Avaliacoes\n",
    "df_avaliacoes_raw = spark.read.option(\"header\", \"false\").csv(f\"/mnt/{storageAccountName}/landing-zone/ecommerce/avaliacoes.csv\")\n",
    "colunas_avaliacoes = [\"id\", \"cliente_id\", \"produto_id\", \"nota\", \"comentario\", \"data_avaliacao\"]\n",
    "df_avaliacoes = df_avaliacoes_raw.toDF(*colunas_avaliacoes)\n",
    "\n",
    "# Pedidos\n",
    "df_pedidos_raw = spark.read.option(\"header\", \"false\").csv(f\"/mnt/{storageAccountName}/landing-zone/ecommerce/pedidos.csv\")\n",
    "colunas_pedidos = [\"id\", \"cliente_id\", \"endereco_entrega_id\", \"data_pedido\", \"status\", \"total\"]\n",
    "df_pedidos = df_pedidos_raw.toDF(*colunas_pedidos)\n",
    "\n",
    "# Enderecos_cliente\n",
    "df_enderecos_cliente_raw = spark.read.option(\"header\", \"false\").csv(f\"/mnt/{storageAccountName}/landing-zone/ecommerce/enderecos_cliente.csv\")\n",
    "colunas_enderecos_cliente = [\"id\", \"cliente_id\", \"logradouro\", \"numero\", \"complemento\", \"bairro\", \"cidade\", \"estado\", \"cep\"]\n",
    "df_enderecos_cliente = df_enderecos_cliente_raw.toDF(*colunas_enderecos_cliente)\n",
    "\n",
    "# Transportadoras\n",
    "df_transportadoras_raw = spark.read.option(\"header\", \"false\").csv(f\"/mnt/{storageAccountName}/landing-zone/ecommerce/transportadoras.csv\")\n",
    "colunas_transportadoras = [\"id\", \"nome\", \"telefone\", \"email\"]\n",
    "df_transportadoras = df_transportadoras_raw.toDF(*colunas_transportadoras)\n",
    "\n",
    "# Formas_pagamento\n",
    "df_formas_pagamento_raw = spark.read.option(\"header\", \"false\").csv(f\"/mnt/{storageAccountName}/landing-zone/ecommerce/formas_pagamento.csv\")\n",
    "colunas_formas_pagamento = [\"id\", \"descricao\"]\n",
    "df_formas_pagamento = df_formas_pagamento_raw.toDF(*colunas_formas_pagamento)\n",
    "\n",
    "# Itens_pedido\n",
    "df_itens_pedido_raw = spark.read.option(\"header\", \"false\").csv(f\"/mnt/{storageAccountName}/landing-zone/ecommerce/itens_pedido.csv\")\n",
    "colunas_itens_pedido = [\"id\", \"pedido_id\", \"produto_id\", \"quantidade\", \"preco_unitario\"]\n",
    "df_itens_pedido = df_itens_pedido_raw.toDF(*colunas_itens_pedido)\n",
    "\n",
    "# Produtos\n",
    "df_produtos_raw = spark.read.option(\"header\", \"false\").csv(f\"/mnt/{storageAccountName}/landing-zone/ecommerce/produtos.csv\")\n",
    "colunas_produtos = [\"id\", \"vendedor_id\", \"categoria_id\", \"nome\", \"descricao\", \"preco\", \"data_cadastro\"]\n",
    "df_produtos = df_produtos_raw.toDF(*colunas_produtos)\n"
   ]
  },
  {
   "cell_type": "code",
   "execution_count": 0,
   "metadata": {
    "application/vnd.databricks.v1+cell": {
     "cellMetadata": {
      "byteLimit": 2048000,
      "rowLimit": 10000
     },
     "inputWidgets": {},
     "nuid": "f278962e-c91a-4900-ba19-27d9b9e08947",
     "showTitle": false,
     "tableResultSettingsMap": {},
     "title": ""
    }
   },
   "outputs": [],
   "source": [
    "from pyspark.sql.functions import current_timestamp, lit\n",
    "\n",
    "df_vendedores        = df_vendedores.withColumn(\"data_hora_bronze\", current_timestamp()).withColumn(\"nome_arquivo\", lit(\"vendedores.csv\"))\n",
    "df_clientes          = df_clientes.withColumn(\"data_hora_bronze\", current_timestamp()).withColumn(\"nome_arquivo\", lit(\"clientes.csv\"))\n",
    "df_categorias        = df_categorias.withColumn(\"data_hora_bronze\", current_timestamp()).withColumn(\"nome_arquivo\", lit(\"categorias.csv\"))\n",
    "df_estoque           = df_estoque.withColumn(\"data_hora_bronze\", current_timestamp()).withColumn(\"nome_arquivo\", lit(\"estoque.csv\"))\n",
    "df_pagamentos        = df_pagamentos.withColumn(\"data_hora_bronze\", current_timestamp()).withColumn(\"nome_arquivo\", lit(\"pagamentos.csv\"))\n",
    "df_entregas          = df_entregas.withColumn(\"data_hora_bronze\", current_timestamp()).withColumn(\"nome_arquivo\", lit(\"entregas.csv\"))\n",
    "df_avaliacoes        = df_avaliacoes.withColumn(\"data_hora_bronze\", current_timestamp()).withColumn(\"nome_arquivo\", lit(\"avaliacoes.csv\"))\n",
    "df_formas_pagamento  = df_formas_pagamento.withColumn(\"data_hora_bronze\", current_timestamp()).withColumn(\"nome_arquivo\", lit(\"formas_pagamento.csv\"))\n",
    "df_transportadoras   = df_transportadoras.withColumn(\"data_hora_bronze\", current_timestamp()).withColumn(\"nome_arquivo\", lit(\"transportadoras.csv\"))\n",
    "df_pedidos           = df_pedidos.withColumn(\"data_hora_bronze\", current_timestamp()).withColumn(\"nome_arquivo\", lit(\"pedidos.csv\"))\n",
    "df_enderecos_cliente = df_enderecos_cliente.withColumn(\"data_hora_bronze\", current_timestamp()).withColumn(\"nome_arquivo\", lit(\"enderecos_cliente.csv\"))\n",
    "df_itens_pedido      = df_itens_pedido.withColumn(\"data_hora_bronze\", current_timestamp()).withColumn(\"nome_arquivo\", lit(\"itens_pedido.csv\"))\n",
    "df_produtos          = df_produtos.withColumn(\"data_hora_bronze\", current_timestamp()).withColumn(\"nome_arquivo\", lit(\"produtos.csv\"))\n"
   ]
  },
  {
   "cell_type": "code",
   "execution_count": 0,
   "metadata": {
    "application/vnd.databricks.v1+cell": {
     "cellMetadata": {
      "byteLimit": 2048000,
      "rowLimit": 10000
     },
     "inputWidgets": {},
     "nuid": "bb02cf44-9572-4ee1-8830-c3671012ec49",
     "showTitle": false,
     "tableResultSettingsMap": {},
     "title": ""
    }
   },
   "outputs": [],
   "source": [
    "def sanitize_columns(df):\n",
    "    for col_name in df.columns:\n",
    "        new_name = (\n",
    "            col_name.strip()\n",
    "            .lower()\n",
    "            .replace(\" \", \"_\")\n",
    "            .replace(\"(\", \"\")\n",
    "            .replace(\")\", \"\")\n",
    "            .replace(\"-\", \"_\")\n",
    "            .replace(\",\", \"\")\n",
    "            .replace(\";\", \"\")\n",
    "            .replace(\"{\", \"\")\n",
    "            .replace(\"}\", \"\")\n",
    "            .replace(\"=\", \"\")\n",
    "            .replace(\"\\n\", \"\")\n",
    "            .replace(\"\\t\", \"\")\n",
    "        )\n",
    "        df = df.withColumnRenamed(col_name, new_name)\n",
    "    return df\n",
    "dfs = [\n",
    "    (df_vendedores, \"vendedores\"),\n",
    "    (df_clientes, \"clientes\"),\n",
    "    (df_categorias, \"categorias\"),\n",
    "    (df_estoque, \"estoque\"),\n",
    "    (df_pagamentos, \"pagamentos\"),\n",
    "    (df_entregas, \"entregas\"),\n",
    "    (df_avaliacoes, \"avaliacoes\"),\n",
    "    (df_formas_pagamento, \"formas_pagamento\"),\n",
    "    (df_transportadoras, \"transportadoras\"),\n",
    "    (df_pedidos, \"pedidos\"),\n",
    "    (df_enderecos_cliente, \"enderecos_cliente\"),\n",
    "    (df_itens_pedido, \"itens_pedido\"),\n",
    "    (df_produtos, \"produtos\"),\n",
    "]\n",
    "\n",
    "for df, name in dfs:\n",
    "    df_sanitized = sanitize_columns(df)\n",
    "    path = f\"/mnt/{storageAccountName}/bronze/ecommerce/{name}\"\n",
    "    df_sanitized.write.format(\"delta\").save(path)\n"
   ]
  }
 ],
 "metadata": {
  "application/vnd.databricks.v1+notebook": {
   "computePreferences": null,
   "dashboards": [],
   "environmentMetadata": null,
   "inputWidgetPreferences": null,
   "language": "python",
   "notebookMetadata": {
    "mostRecentlyExecutedCommandWithImplicitDF": {
     "commandId": 3210653005600686,
     "dataframes": [
      "_sqldf"
     ]
    },
    "pythonIndentUnit": 4
   },
   "notebookName": "notebook_bronze_prod",
   "widgets": {}
  },
  "language_info": {
   "name": "python"
  }
 },
 "nbformat": 4,
 "nbformat_minor": 0
}
